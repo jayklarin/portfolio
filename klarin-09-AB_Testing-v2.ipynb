{
 "cells": [
  {
   "cell_type": "markdown",
   "id": "eb615f95",
   "metadata": {},
   "source": [
    "<div style=\"border:solid green 2px; padding: 20px\"> <h1 style=\"color:green; margin-bottom:20px\">Reviewer's comment v1</h1>\n",
    "\n",
    "Hello Jay, my name is Dmitrii. Happy to review your project! 🙌\n",
    "\n",
    "You can find my comments under the heading **«Review»**. I will categorize my comments in green, blue or red boxes like this:\n",
    "\n",
    "<div class=\"alert alert-success\">\n",
    "    <b>Success:</b> if everything is done successfully\n",
    "</div>\n",
    "<div class=\"alert alert-warning\">\n",
    "    <b>Remarks:</b> if I can give some recommendations or ways to improve the project\n",
    "</div>\n",
    "<div class=\"alert alert-danger\">\n",
    "    <b>Needs fixing:</b> if the block requires some corrections. Work can't be accepted with the red comments\n",
    "</div>\n",
    "\n",
    "Please don't remove my comments :) If you have any questions don't hesitate to respond to my comments in a different section. \n",
    "<div class=\"alert alert-info\"> <b>Student comments:</b> For example like this</div>    \n"
   ]
  },
  {
   "cell_type": "markdown",
   "id": "b1a10d8e",
   "metadata": {},
   "source": [
    "<div style=\"border:solid green 2px; padding: 20px\">\n",
    "<b>Reviewer's comment v1:</b>\n",
    "    \n",
    "<b>Overall Feedback</b> \n",
    "    \n",
    "- Overall you did a great job! I can see that a lot of effort and I really like your reasoning and detailed conclusions on each step. Your project already looks really good and you accomplished impressive results.\n",
    "- However, there are some comments/areas left to fix that will help you to make your project even better:\n",
    "    - Formulate hypotheses (null/alternative) for each question.\n",
    "    - Fix local path to the file. \n",
    "    - Add difference graph for the cumulative conversion rates.\n",
    "\n",
    "And of course, if you have any questions along the way, remember that you can always reach out to your tutor for any clarification.\n",
    "\n",
    "I will wait for you to send me a new version of the project :)\n",
    "  \n",
    "</div>"
   ]
  },
  {
   "cell_type": "markdown",
   "id": "073e89bf",
   "metadata": {},
   "source": [
    "<div style=\"border:solid green 2px; padding: 20px\">\n",
    "<b>Reviewer's comment v2:</b>\n",
    "    \n",
    "<b>Overall Feedback</b> \n",
    "    \n",
    "- Hello Jay!  Thank you for making corrections and improvements in your project.\n",
    "- Now no critical issues left, so your project has been accepted! \n",
    "- To learn further about A/B testing, I can recommend the following articles:\n",
    "  - https://towardsdatascience.com/a-collection-of-a-b-testing-learning-resources-newbie-to-master-6bab1e0d7845 or this cool book \"Trustworthy Online Controlled Experiments: A Practical Guide to A/B Testing\"\n",
    "\n",
    "Please keep up the great work and good luck on the next project! \n",
    "  \n",
    "</div>"
   ]
  },
  {
   "cell_type": "markdown",
   "id": "85ffbed7",
   "metadata": {},
   "source": [
    "<div class=\"alert alert-warning\">\n",
    "<b>Reviewer's comment v1:</b>\n",
    "    \n",
    "It would be great to add information about project and tasks. It gives an overview of what you are going to achieve in this project.\n",
    "</div>"
   ]
  },
  {
   "cell_type": "markdown",
   "id": "df0c5887",
   "metadata": {},
   "source": [
    "<div style=\"border:solid black 8px; padding: 20px\">\n",
    "<h1>Introduction</h1>\n",
    "<h3> We, along with the \n",
    "    marketing department, have compiled a list of hypotheses that may help boost revenue.</h3>\n",
    "<h3> Let's prioritize these hypotheses, launch an A/B test, and analyze the results!</h3>\n",
    "</div>"
   ]
  },
  {
   "cell_type": "code",
   "execution_count": 1,
   "id": "dfcb5fd9",
   "metadata": {},
   "outputs": [],
   "source": [
    "import pandas as pd\n",
    "import numpy as np\n",
    "import matplotlib.pyplot as plt\n",
    "import seaborn as sns\n",
    "import scipy.stats as stats"
   ]
  },
  {
   "cell_type": "markdown",
   "id": "ae3253a7",
   "metadata": {},
   "source": [
    "<div style=\"border:solid purple 8px; padding: 20px\">\n",
    "<h1>Part 1 - Prioritizing Hypotheses</h1>\n",
    "<h2>Data for Part 1</h2>\n",
    "\n",
    "<h3>The file hypotheses_us.csv contains nine hypotheses on boosting an online store's revenue with Reach, Impact, Confidence, and Effort specified for each.</h3>\n",
    "\n",
    "**/datasets/hypotheses_us.csv**\n",
    "\n",
    "- **Hypotheses** — brief descriptions of the hypotheses\n",
    "    \n",
    "- **Reach** — user reach, on a scale of one to ten\n",
    "    \n",
    "- **Impact** — impact on users, on a scale of one to ten\n",
    "    \n",
    "- **Confidence** — confidence in the hypothesis, on a scale of one to ten\n",
    "    \n",
    "- **Effort** — the resources required to test a hypothesis, on a scale of one to ten. The higher the Effort value, the more resource-intensive the test.\n",
    "</div>"
   ]
  },
  {
   "cell_type": "code",
   "execution_count": 2,
   "id": "65adfc1f",
   "metadata": {},
   "outputs": [
    {
     "data": {
      "text/html": [
       "<div>\n",
       "<style scoped>\n",
       "    .dataframe tbody tr th:only-of-type {\n",
       "        vertical-align: middle;\n",
       "    }\n",
       "\n",
       "    .dataframe tbody tr th {\n",
       "        vertical-align: top;\n",
       "    }\n",
       "\n",
       "    .dataframe thead th {\n",
       "        text-align: right;\n",
       "    }\n",
       "</style>\n",
       "<table border=\"1\" class=\"dataframe\">\n",
       "  <thead>\n",
       "    <tr style=\"text-align: right;\">\n",
       "      <th></th>\n",
       "      <th>hypothesis</th>\n",
       "      <th>reach</th>\n",
       "      <th>impact</th>\n",
       "      <th>confidence</th>\n",
       "      <th>effort</th>\n",
       "    </tr>\n",
       "  </thead>\n",
       "  <tbody>\n",
       "    <tr>\n",
       "      <th>0</th>\n",
       "      <td>Add two new channels for attracting traffic. This will bring 30% more users</td>\n",
       "      <td>3</td>\n",
       "      <td>10</td>\n",
       "      <td>8</td>\n",
       "      <td>6</td>\n",
       "    </tr>\n",
       "    <tr>\n",
       "      <th>1</th>\n",
       "      <td>Launch your own delivery service. This will shorten delivery time</td>\n",
       "      <td>2</td>\n",
       "      <td>5</td>\n",
       "      <td>4</td>\n",
       "      <td>10</td>\n",
       "    </tr>\n",
       "    <tr>\n",
       "      <th>2</th>\n",
       "      <td>Add product recommendation blocks to the store's site. This will increase conversion and average purchase size</td>\n",
       "      <td>8</td>\n",
       "      <td>3</td>\n",
       "      <td>7</td>\n",
       "      <td>3</td>\n",
       "    </tr>\n",
       "    <tr>\n",
       "      <th>3</th>\n",
       "      <td>Change the category structure. This will increase conversion since users will find the products they want more quickly</td>\n",
       "      <td>8</td>\n",
       "      <td>3</td>\n",
       "      <td>3</td>\n",
       "      <td>8</td>\n",
       "    </tr>\n",
       "    <tr>\n",
       "      <th>4</th>\n",
       "      <td>Change the background color on the main page. This will increase user engagement</td>\n",
       "      <td>3</td>\n",
       "      <td>1</td>\n",
       "      <td>1</td>\n",
       "      <td>1</td>\n",
       "    </tr>\n",
       "    <tr>\n",
       "      <th>5</th>\n",
       "      <td>Add a customer review page. This will increase the number of orders</td>\n",
       "      <td>3</td>\n",
       "      <td>2</td>\n",
       "      <td>2</td>\n",
       "      <td>3</td>\n",
       "    </tr>\n",
       "    <tr>\n",
       "      <th>6</th>\n",
       "      <td>Show banners with current offers and sales on the main page. This will boost conversion</td>\n",
       "      <td>5</td>\n",
       "      <td>3</td>\n",
       "      <td>8</td>\n",
       "      <td>3</td>\n",
       "    </tr>\n",
       "    <tr>\n",
       "      <th>7</th>\n",
       "      <td>Add a subscription form to all the main pages. This will help you compile a mailing list</td>\n",
       "      <td>10</td>\n",
       "      <td>7</td>\n",
       "      <td>8</td>\n",
       "      <td>5</td>\n",
       "    </tr>\n",
       "    <tr>\n",
       "      <th>8</th>\n",
       "      <td>Launch a promotion that gives users discounts on their birthdays</td>\n",
       "      <td>1</td>\n",
       "      <td>9</td>\n",
       "      <td>9</td>\n",
       "      <td>5</td>\n",
       "    </tr>\n",
       "  </tbody>\n",
       "</table>\n",
       "</div>"
      ],
      "text/plain": [
       "                                                                                                               hypothesis  \\\n",
       "0                                             Add two new channels for attracting traffic. This will bring 30% more users   \n",
       "1                                                       Launch your own delivery service. This will shorten delivery time   \n",
       "2          Add product recommendation blocks to the store's site. This will increase conversion and average purchase size   \n",
       "3  Change the category structure. This will increase conversion since users will find the products they want more quickly   \n",
       "4                                        Change the background color on the main page. This will increase user engagement   \n",
       "5                                                     Add a customer review page. This will increase the number of orders   \n",
       "6                                 Show banners with current offers and sales on the main page. This will boost conversion   \n",
       "7                                Add a subscription form to all the main pages. This will help you compile a mailing list   \n",
       "8                                                        Launch a promotion that gives users discounts on their birthdays   \n",
       "\n",
       "   reach  impact  confidence  effort  \n",
       "0      3      10           8       6  \n",
       "1      2       5           4      10  \n",
       "2      8       3           7       3  \n",
       "3      8       3           3       8  \n",
       "4      3       1           1       1  \n",
       "5      3       2           2       3  \n",
       "6      5       3           8       3  \n",
       "7     10       7           8       5  \n",
       "8      1       9           9       5  "
      ]
     },
     "execution_count": 2,
     "metadata": {},
     "output_type": "execute_result"
    }
   ],
   "source": [
    "try:\n",
    "    hypotheses = pd.read_csv('hypotheses_us.csv',sep=\";\")\n",
    "except:\n",
    "    hypotheses = pd.read_csv('/datasets/hypotheses_us.csv',sep=\";\") \n",
    "hypotheses= hypotheses.rename(columns=str.lower)\n",
    "pd.options.display.max_colwidth = 210\n",
    "hypotheses"
   ]
  },
  {
   "cell_type": "markdown",
   "id": "a18dd7bd",
   "metadata": {},
   "source": [
    "<div style=\"border:solid purple 8px; padding: 20px\">\n",
    "<h2>Part 1a</h2> \n",
    "    <h3>Apply the ICE framework to prioritize hypotheses. </h3>\n",
    "        \n",
    "<h3>Sort them in descending order of priority.</h3>\n",
    "</div>"
   ]
  },
  {
   "cell_type": "code",
   "execution_count": 3,
   "id": "512dc286",
   "metadata": {},
   "outputs": [
    {
     "data": {
      "text/html": [
       "<div>\n",
       "<style scoped>\n",
       "    .dataframe tbody tr th:only-of-type {\n",
       "        vertical-align: middle;\n",
       "    }\n",
       "\n",
       "    .dataframe tbody tr th {\n",
       "        vertical-align: top;\n",
       "    }\n",
       "\n",
       "    .dataframe thead th {\n",
       "        text-align: right;\n",
       "    }\n",
       "</style>\n",
       "<table border=\"1\" class=\"dataframe\">\n",
       "  <thead>\n",
       "    <tr style=\"text-align: right;\">\n",
       "      <th></th>\n",
       "      <th>hypothesis</th>\n",
       "      <th>ICE</th>\n",
       "    </tr>\n",
       "  </thead>\n",
       "  <tbody>\n",
       "    <tr>\n",
       "      <th>8</th>\n",
       "      <td>Launch a promotion that gives users discounts on their birthdays</td>\n",
       "      <td>16.200000</td>\n",
       "    </tr>\n",
       "    <tr>\n",
       "      <th>0</th>\n",
       "      <td>Add two new channels for attracting traffic. This will bring 30% more users</td>\n",
       "      <td>13.333333</td>\n",
       "    </tr>\n",
       "    <tr>\n",
       "      <th>7</th>\n",
       "      <td>Add a subscription form to all the main pages. This will help you compile a mailing list</td>\n",
       "      <td>11.200000</td>\n",
       "    </tr>\n",
       "    <tr>\n",
       "      <th>6</th>\n",
       "      <td>Show banners with current offers and sales on the main page. This will boost conversion</td>\n",
       "      <td>8.000000</td>\n",
       "    </tr>\n",
       "    <tr>\n",
       "      <th>2</th>\n",
       "      <td>Add product recommendation blocks to the store's site. This will increase conversion and average purchase size</td>\n",
       "      <td>7.000000</td>\n",
       "    </tr>\n",
       "    <tr>\n",
       "      <th>1</th>\n",
       "      <td>Launch your own delivery service. This will shorten delivery time</td>\n",
       "      <td>2.000000</td>\n",
       "    </tr>\n",
       "    <tr>\n",
       "      <th>5</th>\n",
       "      <td>Add a customer review page. This will increase the number of orders</td>\n",
       "      <td>1.333333</td>\n",
       "    </tr>\n",
       "    <tr>\n",
       "      <th>3</th>\n",
       "      <td>Change the category structure. This will increase conversion since users will find the products they want more quickly</td>\n",
       "      <td>1.125000</td>\n",
       "    </tr>\n",
       "    <tr>\n",
       "      <th>4</th>\n",
       "      <td>Change the background color on the main page. This will increase user engagement</td>\n",
       "      <td>1.000000</td>\n",
       "    </tr>\n",
       "  </tbody>\n",
       "</table>\n",
       "</div>"
      ],
      "text/plain": [
       "                                                                                                               hypothesis  \\\n",
       "8                                                        Launch a promotion that gives users discounts on their birthdays   \n",
       "0                                             Add two new channels for attracting traffic. This will bring 30% more users   \n",
       "7                                Add a subscription form to all the main pages. This will help you compile a mailing list   \n",
       "6                                 Show banners with current offers and sales on the main page. This will boost conversion   \n",
       "2          Add product recommendation blocks to the store's site. This will increase conversion and average purchase size   \n",
       "1                                                       Launch your own delivery service. This will shorten delivery time   \n",
       "5                                                     Add a customer review page. This will increase the number of orders   \n",
       "3  Change the category structure. This will increase conversion since users will find the products they want more quickly   \n",
       "4                                        Change the background color on the main page. This will increase user engagement   \n",
       "\n",
       "         ICE  \n",
       "8  16.200000  \n",
       "0  13.333333  \n",
       "7  11.200000  \n",
       "6   8.000000  \n",
       "2   7.000000  \n",
       "1   2.000000  \n",
       "5   1.333333  \n",
       "3   1.125000  \n",
       "4   1.000000  "
      ]
     },
     "execution_count": 3,
     "metadata": {},
     "output_type": "execute_result"
    }
   ],
   "source": [
    "hypotheses['ICE'] = (hypotheses['impact'] * hypotheses['confidence']) / hypotheses['effort']\n",
    "ICE_hypotheses=hypotheses[['hypothesis','ICE']].sort_values(by='ICE', ascending=False)\n",
    "ICE_hypotheses"
   ]
  },
  {
   "cell_type": "markdown",
   "id": "1e09e1a0",
   "metadata": {},
   "source": [
    "<div class=\"alert alert-block alert-warning\">\n",
    "<b>Reviewer's comment v1:</b>\n",
    "    \n",
    "You can add the following code to show all data in the table above: \n",
    "    \n",
    "    pd.options.display.max_colwidth = 210"
   ]
  },
  {
   "cell_type": "markdown",
   "id": "c341ba7b",
   "metadata": {},
   "source": [
    "<div class=\"alert alert-info\"> <b>Student comments:</b> \n",
    "    \n",
    "Thanks!</div>    \n"
   ]
  },
  {
   "cell_type": "markdown",
   "id": "978121ec",
   "metadata": {},
   "source": [
    "<div style=\"border:solid purple 8px; padding: 20px\">\n",
    "<h2>Part 1b</h2> \n",
    "    <h3>Apply the RICE framework to prioritize hypotheses. </h3>\n",
    "        \n",
    "<h3>Sort them in descending order of priority.</h3>\n",
    "</div>"
   ]
  },
  {
   "cell_type": "code",
   "execution_count": 4,
   "id": "f0bddab0",
   "metadata": {},
   "outputs": [
    {
     "data": {
      "text/html": [
       "<div>\n",
       "<style scoped>\n",
       "    .dataframe tbody tr th:only-of-type {\n",
       "        vertical-align: middle;\n",
       "    }\n",
       "\n",
       "    .dataframe tbody tr th {\n",
       "        vertical-align: top;\n",
       "    }\n",
       "\n",
       "    .dataframe thead th {\n",
       "        text-align: right;\n",
       "    }\n",
       "</style>\n",
       "<table border=\"1\" class=\"dataframe\">\n",
       "  <thead>\n",
       "    <tr style=\"text-align: right;\">\n",
       "      <th></th>\n",
       "      <th>hypothesis</th>\n",
       "      <th>RICE</th>\n",
       "    </tr>\n",
       "  </thead>\n",
       "  <tbody>\n",
       "    <tr>\n",
       "      <th>7</th>\n",
       "      <td>Add a subscription form to all the main pages. This will help you compile a mailing list</td>\n",
       "      <td>112.0</td>\n",
       "    </tr>\n",
       "    <tr>\n",
       "      <th>2</th>\n",
       "      <td>Add product recommendation blocks to the store's site. This will increase conversion and average purchase size</td>\n",
       "      <td>56.0</td>\n",
       "    </tr>\n",
       "    <tr>\n",
       "      <th>0</th>\n",
       "      <td>Add two new channels for attracting traffic. This will bring 30% more users</td>\n",
       "      <td>40.0</td>\n",
       "    </tr>\n",
       "    <tr>\n",
       "      <th>6</th>\n",
       "      <td>Show banners with current offers and sales on the main page. This will boost conversion</td>\n",
       "      <td>40.0</td>\n",
       "    </tr>\n",
       "    <tr>\n",
       "      <th>8</th>\n",
       "      <td>Launch a promotion that gives users discounts on their birthdays</td>\n",
       "      <td>16.2</td>\n",
       "    </tr>\n",
       "    <tr>\n",
       "      <th>3</th>\n",
       "      <td>Change the category structure. This will increase conversion since users will find the products they want more quickly</td>\n",
       "      <td>9.0</td>\n",
       "    </tr>\n",
       "    <tr>\n",
       "      <th>1</th>\n",
       "      <td>Launch your own delivery service. This will shorten delivery time</td>\n",
       "      <td>4.0</td>\n",
       "    </tr>\n",
       "    <tr>\n",
       "      <th>5</th>\n",
       "      <td>Add a customer review page. This will increase the number of orders</td>\n",
       "      <td>4.0</td>\n",
       "    </tr>\n",
       "    <tr>\n",
       "      <th>4</th>\n",
       "      <td>Change the background color on the main page. This will increase user engagement</td>\n",
       "      <td>3.0</td>\n",
       "    </tr>\n",
       "  </tbody>\n",
       "</table>\n",
       "</div>"
      ],
      "text/plain": [
       "                                                                                                               hypothesis  \\\n",
       "7                                Add a subscription form to all the main pages. This will help you compile a mailing list   \n",
       "2          Add product recommendation blocks to the store's site. This will increase conversion and average purchase size   \n",
       "0                                             Add two new channels for attracting traffic. This will bring 30% more users   \n",
       "6                                 Show banners with current offers and sales on the main page. This will boost conversion   \n",
       "8                                                        Launch a promotion that gives users discounts on their birthdays   \n",
       "3  Change the category structure. This will increase conversion since users will find the products they want more quickly   \n",
       "1                                                       Launch your own delivery service. This will shorten delivery time   \n",
       "5                                                     Add a customer review page. This will increase the number of orders   \n",
       "4                                        Change the background color on the main page. This will increase user engagement   \n",
       "\n",
       "    RICE  \n",
       "7  112.0  \n",
       "2   56.0  \n",
       "0   40.0  \n",
       "6   40.0  \n",
       "8   16.2  \n",
       "3    9.0  \n",
       "1    4.0  \n",
       "5    4.0  \n",
       "4    3.0  "
      ]
     },
     "execution_count": 4,
     "metadata": {},
     "output_type": "execute_result"
    }
   ],
   "source": [
    "hypotheses['RICE']= (hypotheses['reach'] * hypotheses['impact'] * hypotheses['confidence']) / hypotheses['effort']\n",
    "RICE_hypotheses=hypotheses[['hypothesis','RICE']].sort_values(by='RICE', ascending=False)\n",
    "RICE_hypotheses"
   ]
  },
  {
   "cell_type": "markdown",
   "id": "01299015",
   "metadata": {},
   "source": [
    "<div style=\"border:solid purple 8px; padding: 20px\">\n",
    "<h2>Part 1c</h2> \n",
    "    <h3>Show how the prioritization of hypotheses changes when you use RICE instead of ICE. Provide an explanation for the changes. </h3>\n",
    "</div>\n",
    "<div style=\"border:solid green 8px; padding: 20px\">\n",
    "    <h2>Part 1c Conclusion</h2>\n",
    "    <h3>The hypotheses with with more reach scored higher on RICE than on ICE.</h3> \n",
    "    <h3>RICE adds the dimension of reach when calculating priority.  Impact, confidence and REACH are positively correlated with RICE; effort is negatively correlated.</h3>\n",
    "    <h3>ICE lacks the dimension of reach wnen calculating priority.  Impact and confidence are positively correlated with ICE, effort is negatively correlated, and reach is not a factor with ICE.</h3>\n",
    "</div>"
   ]
  },
  {
   "cell_type": "markdown",
   "id": "885e728a",
   "metadata": {},
   "source": [
    "<div class=\"alert alert-block alert-success\">\n",
    "<b>Reviewer's comment v1:</b>\n",
    "    \n",
    "Everything is correct here. You correctly applied both `ICE` & `RICE` frameworks. And based on the results, it is clear now what is the impact of the reach factor on overall value.\n",
    "    \n",
    "Additionally, you can use an interactive scatter plot (using plotly for example) to map all numbers per hypothesis to compare them."
   ]
  },
  {
   "cell_type": "code",
   "execution_count": 5,
   "id": "4e2eeeb6",
   "metadata": {},
   "outputs": [],
   "source": [
    "# Use an interactive scatter plot (using plotly for example)\n",
    "# to map all numbers per hypothesis to compare them.\n",
    "\n",
    "# plt..."
   ]
  },
  {
   "cell_type": "markdown",
   "id": "220519dd",
   "metadata": {},
   "source": [
    "<div style=\"border:solid magenta 8px; padding: 20px\">\n",
    "<h1>Part 2 - AB Test Analysis</h1>\n",
    "<h2>Data for Part 2</h2>\n",
    "<h3>The file hypotheses_us.csv contains nine hypotheses on boosting an online store's revenue with Reach, Impact, Confidence, and Effort specified for each.</h3>\n",
    "    \n",
    "**/datasets/orders_us.csv**\n",
    "    - **transactionId** — order identifier\n",
    "    \n",
    "    - **visitorId** — identifier of the user who placed the order\n",
    "    \n",
    "    - **date** — of the order\n",
    "    \n",
    "    - **revenue** — from the order\n",
    "    \n",
    "    - **group** — the A/B test group that the user belongs to\n",
    "\n",
    "**/datasets/visits_us.csv**\n",
    "    \n",
    "    - **date** — date\n",
    "    - **group** — A/B test group\n",
    "    - **visits** — the number of visits on the date specified in the A/B test group specified\n",
    "\n",
    "<h3>We carried out an A/B test and got the results described in the files orders_us.csv and visits_us.csv.</h3>\n",
    "<h3>Analyze the A/B test:</h3>\n",
    "</div>"
   ]
  },
  {
   "cell_type": "code",
   "execution_count": 6,
   "id": "e10d4aee",
   "metadata": {},
   "outputs": [
    {
     "name": "stdout",
     "output_type": "stream",
     "text": [
      "      transactionid   visitorid       date  revenue group\n",
      "166      2830055340  2303470071 2019-08-22     10.7     A\n",
      "1069     2375657872  3476822370 2019-08-12     35.7     A\n",
      "\n",
      "         date group  visits\n",
      "32 2019-08-02     B     581\n",
      "61 2019-08-31     B     718\n"
     ]
    }
   ],
   "source": [
    "try:\n",
    "    orders = pd.read_csv('orders_us.csv',sep=\",\")\n",
    "    visits = pd.read_csv('visits_us.csv',sep=\",\")\n",
    "except:\n",
    "    orders = pd.read_csv('/datasets/orders_us.csv',sep=\",\") \n",
    "    visits = pd.read_csv('/datasets/visits_us.csv',sep=\",\")\n",
    "orders= orders.rename(columns=str.lower)\n",
    "visits= visits.rename(columns=str.lower)\n",
    "orders['date']=pd.to_datetime(orders['date'],dayfirst=True)\n",
    "visits['date']=pd.to_datetime(visits['date'],dayfirst=True)\n",
    "print(orders.sample(2))\n",
    "print()\n",
    "print(visits.sample(2))"
   ]
  },
  {
   "cell_type": "markdown",
   "id": "2add8da8",
   "metadata": {},
   "source": [
    "<div class=\"alert alert-block alert-danger\">\n",
    "<b>Reviewer's comment v1:</b>\n",
    "    \n",
    "Unfortunately, here you have a local path to the data. Can you please update that? \n",
    "    \n",
    "Also, I can recommend you to always run your project once again on the customer's servers before submitting your work to avoid possible errors. You can do that using: Kernel -> Restart & run all."
   ]
  },
  {
   "cell_type": "markdown",
   "id": "f8ba2773",
   "metadata": {},
   "source": [
    "<div class=\"alert alert-info\">\n",
    "<b>Student comments:</b> \n",
    "    \n",
    "Thanks! Done!</div>    "
   ]
  },
  {
   "cell_type": "markdown",
   "id": "fb252ab6",
   "metadata": {},
   "source": [
    "<div class=\"alert alert-success\">\n",
    "<b>Reviewer's comment v2:</b>\n",
    "    \n",
    "Thanks for updating that. Now everything works perfectly fine. "
   ]
  },
  {
   "cell_type": "markdown",
   "id": "46d5e625",
   "metadata": {},
   "source": [
    "<div style=\"border:solid magenta 8px; padding: 20px\">\n",
    "<h3>Create Groups for Part 2</h3>\n",
    "</div>"
   ]
  },
  {
   "cell_type": "code",
   "execution_count": 7,
   "id": "6990de4f",
   "metadata": {},
   "outputs": [],
   "source": [
    "orders_a = orders[orders['group']=='A']\n",
    "orders_b = orders[orders['group']=='B']\n",
    "\n",
    "visits_a = visits[visits['group']=='A']\n",
    "visits_b = visits[visits['group']=='B']"
   ]
  },
  {
   "cell_type": "markdown",
   "id": "5a133abd",
   "metadata": {},
   "source": [
    "<div style=\"border:solid magenta 8px; padding: 20px\">\n",
    "<h2>Part 2a</h2>\n",
    "    <h3>Graph cumulative revenue by group. Make conclusions and conjectures.</h3>\n",
    "</div>"
   ]
  },
  {
   "cell_type": "code",
   "execution_count": 8,
   "id": "57b4c4c0",
   "metadata": {},
   "outputs": [
    {
     "data": {
      "text/plain": [
       "<matplotlib.legend.Legend at 0x7fb0614b7e80>"
      ]
     },
     "execution_count": 8,
     "metadata": {},
     "output_type": "execute_result"
    },
    {
     "data": {
      "image/png": "[encoded data removed]",
      "text/plain": [
       "<Figure size 1080x432 with 1 Axes>"
      ]
     },
     "metadata": {
      "needs_background": "light"
     },
     "output_type": "display_data"
    }
   ],
   "source": [
    "revenue_a = orders_a.groupby(orders_a['date'])['revenue'].sum().reset_index()\n",
    "revenue_b = orders_b.groupby(orders_b['date'])['revenue'].sum().reset_index()\n",
    "revenue_a['cumul_rev']=revenue_a['revenue'].cumsum()\n",
    "revenue_b['cumul_rev']=revenue_b['revenue'].cumsum()\n",
    "\n",
    "plt.rcParams[\"figure.figsize\"] = (15,6)\n",
    "plt.plot(revenue_a['date'], revenue_a['cumul_rev'], label='Group A Revenue')\n",
    "plt.plot(revenue_b['date'], revenue_b['cumul_rev'], label='Group B Revenue')\n",
    "plt.legend()"
   ]
  },
  {
   "cell_type": "markdown",
   "id": "0ddbf95b",
   "metadata": {},
   "source": [
    "<div class=\"alert alert-block alert-success\">\n",
    "<b>Reviewer's comment v1:</b>\n",
    "    \n",
    "Very nice data visualization.\n",
    "\n",
    "It is a matter of taste, but you can also use `plt.grid()` to add grid to your graph and rotate x-axis ticks.\n",
    "\n",
    "In order not to show auxiliary python outputs like \"matplotlib.axes._subplots.AxesSubplot at 0x7f5feaf7fc90 ', you can add a semicolon or plt.show () at the end of the line."
   ]
  },
  {
   "cell_type": "markdown",
   "id": "d1f8b59d",
   "metadata": {},
   "source": [
    "<div style=\"border:solid green 8px; padding: 20px\">\n",
    "<h2>Part 2a Conclusion</h2>\n",
    "    <h3>Even though there his a difference in the end, It looks like it came from one month, possibly one user. Further investigation is needed</h3>\n",
    "</div>"
   ]
  },
  {
   "cell_type": "markdown",
   "id": "794cabe1",
   "metadata": {},
   "source": [
    "<div style=\"border:solid magenta 8px; padding: 20px\">\n",
    "<h2>Part 2b</h2>\n",
    "    <h3>Graph cumulative average order size by group. Make conclusions and conjectures.\n",
    "</h3>\n",
    "</div>"
   ]
  },
  {
   "cell_type": "code",
   "execution_count": 9,
   "id": "71530631",
   "metadata": {
    "scrolled": true
   },
   "outputs": [
    {
     "data": {
      "text/html": [
       "<div>\n",
       "<style scoped>\n",
       "    .dataframe tbody tr th:only-of-type {\n",
       "        vertical-align: middle;\n",
       "    }\n",
       "\n",
       "    .dataframe tbody tr th {\n",
       "        vertical-align: top;\n",
       "    }\n",
       "\n",
       "    .dataframe thead th {\n",
       "        text-align: right;\n",
       "    }\n",
       "</style>\n",
       "<table border=\"1\" class=\"dataframe\">\n",
       "  <thead>\n",
       "    <tr style=\"text-align: right;\">\n",
       "      <th></th>\n",
       "      <th>transactionid</th>\n",
       "      <th>visitorid</th>\n",
       "      <th>date</th>\n",
       "      <th>revenue</th>\n",
       "      <th>group</th>\n",
       "    </tr>\n",
       "  </thead>\n",
       "  <tbody>\n",
       "    <tr>\n",
       "      <th>885</th>\n",
       "      <td>335158381</td>\n",
       "      <td>947532470</td>\n",
       "      <td>2019-08-05</td>\n",
       "      <td>85.2</td>\n",
       "      <td>A</td>\n",
       "    </tr>\n",
       "    <tr>\n",
       "      <th>519</th>\n",
       "      <td>4152028361</td>\n",
       "      <td>352377175</td>\n",
       "      <td>2019-08-26</td>\n",
       "      <td>10.0</td>\n",
       "      <td>A</td>\n",
       "    </tr>\n",
       "    <tr>\n",
       "      <th>668</th>\n",
       "      <td>3207473498</td>\n",
       "      <td>2663297422</td>\n",
       "      <td>2019-08-29</td>\n",
       "      <td>45.5</td>\n",
       "      <td>A</td>\n",
       "    </tr>\n",
       "    <tr>\n",
       "      <th>886</th>\n",
       "      <td>51443164</td>\n",
       "      <td>4278982564</td>\n",
       "      <td>2019-08-05</td>\n",
       "      <td>385.7</td>\n",
       "      <td>A</td>\n",
       "    </tr>\n",
       "    <tr>\n",
       "      <th>446</th>\n",
       "      <td>455568416</td>\n",
       "      <td>1414758703</td>\n",
       "      <td>2019-08-03</td>\n",
       "      <td>105.7</td>\n",
       "      <td>A</td>\n",
       "    </tr>\n",
       "  </tbody>\n",
       "</table>\n",
       "</div>"
      ],
      "text/plain": [
       "     transactionid   visitorid       date  revenue group\n",
       "885      335158381   947532470 2019-08-05     85.2     A\n",
       "519     4152028361   352377175 2019-08-26     10.0     A\n",
       "668     3207473498  2663297422 2019-08-29     45.5     A\n",
       "886       51443164  4278982564 2019-08-05    385.7     A\n",
       "446      455568416  1414758703 2019-08-03    105.7     A"
      ]
     },
     "execution_count": 9,
     "metadata": {},
     "output_type": "execute_result"
    }
   ],
   "source": [
    "orders_a.sample(5)"
   ]
  },
  {
   "cell_type": "code",
   "execution_count": 10,
   "id": "ad7d88b1",
   "metadata": {},
   "outputs": [
    {
     "data": {
      "text/plain": [
       "<matplotlib.legend.Legend at 0x7fb052703eb0>"
      ]
     },
     "execution_count": 10,
     "metadata": {},
     "output_type": "execute_result"
    },
    {
     "data": {
      "image/png": "[encoded data removed]",
      "text/plain": [
       "<Figure size 1080x432 with 1 Axes>"
      ]
     },
     "metadata": {
      "needs_background": "light"
     },
     "output_type": "display_data"
    }
   ],
   "source": [
    "order_size_a = orders_a.groupby(orders_a['date'])['revenue'].mean().reset_index()\n",
    "order_size_a['cum_sum'] = order_size_a['revenue'].cumsum()\n",
    "order_size_b = orders_b.groupby(orders_b['date'])['revenue'].mean().reset_index()\n",
    "order_size_b['cum_sum'] = order_size_b['revenue'].cumsum()\n",
    "\n",
    "plt.rcParams[\"figure.figsize\"] = (15,6)\n",
    "plt.plot(order_size_a['date'], order_size_a['cum_sum'], label='Group A Avg Revenue')\n",
    "plt.plot(order_size_b['date'], order_size_b['cum_sum'], label='Group B Avg Revenue')\n",
    "plt.legend()"
   ]
  },
  {
   "cell_type": "markdown",
   "id": "85ee78af",
   "metadata": {},
   "source": [
    "<div class=\"alert alert-block alert-success\">\n",
    "<b>Reviewer's comment v1:</b>\n",
    "    \n",
    "Once again everything is correct here."
   ]
  },
  {
   "cell_type": "markdown",
   "id": "adcb4473",
   "metadata": {},
   "source": [
    "<div style=\"border:solid green 8px; padding: 20px\">\n",
    "<h2>Part 2b Conclusion</h2>\n",
    "<h3>Even though there his a difference in the end, it looks like it came from one month, possibly one user. Notice the slope staying consistant with the exception of one day.  Further investigation is needed</h3>\n",
    "</div>"
   ]
  },
  {
   "cell_type": "markdown",
   "id": "515a5d19",
   "metadata": {},
   "source": [
    "<div style=\"border:solid magenta 8px; padding: 20px\">\n",
    "<h2>Part 2c</h2>\n",
    "    <h3>Graph the relative difference in cumulative average order size for group B compared with group A. Make conclusions and conjectures.</h3>\n",
    "</div>"
   ]
  },
  {
   "cell_type": "code",
   "execution_count": 11,
   "id": "890a9cfa",
   "metadata": {},
   "outputs": [
    {
     "data": {
      "text/html": [
       "<div>\n",
       "<style scoped>\n",
       "    .dataframe tbody tr th:only-of-type {\n",
       "        vertical-align: middle;\n",
       "    }\n",
       "\n",
       "    .dataframe tbody tr th {\n",
       "        vertical-align: top;\n",
       "    }\n",
       "\n",
       "    .dataframe thead th {\n",
       "        text-align: right;\n",
       "    }\n",
       "</style>\n",
       "<table border=\"1\" class=\"dataframe\">\n",
       "  <thead>\n",
       "    <tr style=\"text-align: right;\">\n",
       "      <th></th>\n",
       "      <th>date</th>\n",
       "      <th>revenue_a</th>\n",
       "      <th>revenue_b</th>\n",
       "      <th>difference</th>\n",
       "    </tr>\n",
       "  </thead>\n",
       "  <tbody>\n",
       "    <tr>\n",
       "      <th>0</th>\n",
       "      <td>2019-08-01</td>\n",
       "      <td>98.200000</td>\n",
       "      <td>77.142857</td>\n",
       "      <td>-21.057143</td>\n",
       "    </tr>\n",
       "    <tr>\n",
       "      <th>1</th>\n",
       "      <td>2019-08-02</td>\n",
       "      <td>75.175000</td>\n",
       "      <td>109.325000</td>\n",
       "      <td>34.150000</td>\n",
       "    </tr>\n",
       "    <tr>\n",
       "      <th>2</th>\n",
       "      <td>2019-08-03</td>\n",
       "      <td>75.633333</td>\n",
       "      <td>112.925000</td>\n",
       "      <td>37.291667</td>\n",
       "    </tr>\n",
       "    <tr>\n",
       "      <th>3</th>\n",
       "      <td>2019-08-04</td>\n",
       "      <td>71.662500</td>\n",
       "      <td>101.017647</td>\n",
       "      <td>29.355147</td>\n",
       "    </tr>\n",
       "    <tr>\n",
       "      <th>4</th>\n",
       "      <td>2019-08-05</td>\n",
       "      <td>79.524000</td>\n",
       "      <td>65.000000</td>\n",
       "      <td>-14.524000</td>\n",
       "    </tr>\n",
       "  </tbody>\n",
       "</table>\n",
       "</div>"
      ],
      "text/plain": [
       "        date  revenue_a   revenue_b  difference\n",
       "0 2019-08-01  98.200000   77.142857  -21.057143\n",
       "1 2019-08-02  75.175000  109.325000   34.150000\n",
       "2 2019-08-03  75.633333  112.925000   37.291667\n",
       "3 2019-08-04  71.662500  101.017647   29.355147\n",
       "4 2019-08-05  79.524000   65.000000  -14.524000"
      ]
     },
     "execution_count": 11,
     "metadata": {},
     "output_type": "execute_result"
    }
   ],
   "source": [
    "avg_order_size = order_size_a.merge(order_size_b,on=['date'])\n",
    "avg_order_size = avg_order_size.drop(columns = ['cum_sum_x','cum_sum_y'])\n",
    "avg_order_size = avg_order_size.rename(columns = {'revenue_x': 'revenue_a','revenue_y': 'revenue_b'})\n",
    "avg_order_size['difference'] = avg_order_size['revenue_b'] - avg_order_size['revenue_a']\n",
    "avg_order_size.head()"
   ]
  },
  {
   "cell_type": "code",
   "execution_count": 12,
   "id": "e82b2876",
   "metadata": {},
   "outputs": [
    {
     "data": {
      "text/plain": [
       "[<matplotlib.lines.Line2D at 0x7fb0615a1220>]"
      ]
     },
     "execution_count": 12,
     "metadata": {},
     "output_type": "execute_result"
    },
    {
     "data": {
      "image/png": "[encoded data removed]",
      "text/plain": [
       "<Figure size 1080x432 with 1 Axes>"
      ]
     },
     "metadata": {
      "needs_background": "light"
     },
     "output_type": "display_data"
    }
   ],
   "source": [
    "plt.rcParams[\"figure.figsize\"] = (15,6)\n",
    "plt.plot(avg_order_size['date'], avg_order_size['difference'])"
   ]
  },
  {
   "cell_type": "markdown",
   "id": "8aa26507",
   "metadata": {},
   "source": [
    "<div style=\"border:solid green 8px; padding: 20px\">\n",
    "<h2>Part 2c Conclusion</h2>\n",
    "<h3>we can see the spike in relative difference of average order size on the same day as the jump in revenue for Group B.  Further investigation is required</h3></div>"
   ]
  },
  {
   "cell_type": "markdown",
   "id": "8d2a9c08",
   "metadata": {},
   "source": [
    "<div style=\"border:solid magenta 8px; padding: 20px\">\n",
    "<h2>Part 2d</h2>\n",
    "    <h3>Calculate each group's conversion rate as the ratio of orders to the number of visits for each day. Plot the daily conversion rates of the two groups and describe the difference. Draw conclusions and make conjectures.</h3>\n",
    "</div>"
   ]
  },
  {
   "cell_type": "code",
   "execution_count": 13,
   "id": "4cf66eb3",
   "metadata": {},
   "outputs": [
    {
     "data": {
      "text/plain": [
       "<matplotlib.legend.Legend at 0x7fb052b02bb0>"
      ]
     },
     "execution_count": 13,
     "metadata": {},
     "output_type": "execute_result"
    },
    {
     "data": {
      "image/png": "[encoded data removed]",
      "text/plain": [
       "<Figure size 1080x432 with 1 Axes>"
      ]
     },
     "metadata": {
      "needs_background": "light"
     },
     "output_type": "display_data"
    }
   ],
   "source": [
    "orders_count_a = orders_a.groupby(orders_a['date'])['revenue'].count().reset_index()\n",
    "orders_count_a = orders_count_a.rename(columns = {'revenue': 'orders_a'})\n",
    "orders_count_b = orders_b.groupby(orders_b['date'])['revenue'].count().reset_index()\n",
    "orders_count_b = orders_count_b.rename(columns = {'revenue': 'orders_b'})\n",
    "orders_count =  orders_count_a.merge(orders_count_b,on=['date'])\n",
    "\n",
    "visit_dates_a = visits_a.merge(orders_a,on=['date'])\n",
    "visit_dates_b = visits_b.merge(orders_b,on=['date'])\n",
    "visit_dates = visits_a.merge(visits_b,on=['date'])\n",
    "visit_dates = visit_dates.drop(columns = ['group_x','group_y'])\n",
    "visit_dates = visit_dates.rename(columns = {'visits_x': 'visits_a','visits_y': 'visits_b'})\n",
    "\n",
    "visit_orders = visit_dates.merge(orders_count,on=['date'])\n",
    "visit_orders['conversion_a'] = visit_orders['orders_a'] / visit_orders['visits_a']\n",
    "visit_orders['conversion_b'] = visit_orders['orders_b'] / visit_orders['visits_b']\n",
    "\n",
    "plt.rcParams[\"figure.figsize\"] = (15,6)\n",
    "plt.plot(visit_orders['date'], visit_orders['conversion_a'], label='Group A Conversion')\n",
    "plt.plot(visit_orders['date'], visit_orders['conversion_b'], label='Group B Conversion')\n",
    "plt.legend()"
   ]
  },
  {
   "cell_type": "markdown",
   "id": "47292bbc",
   "metadata": {},
   "source": [
    "<div class=\"alert alert-danger\">\n",
    "<b>Reviewer's comment v2:</b>\n",
    "    \n",
    "Can you please additionally add difference graph for the cumulative conversion rates? I think with this it is more easier to say that Group B is indeed doing better."
   ]
  },
  {
   "cell_type": "markdown",
   "id": "47a6b3b5",
   "metadata": {},
   "source": [
    "<div class=\"alert alert-info\">\n",
    "<b>Student comments:</b> \n",
    "    \n",
    "Thanks! Done!</div>    "
   ]
  },
  {
   "cell_type": "code",
   "execution_count": 14,
   "id": "cd61382b",
   "metadata": {},
   "outputs": [
    {
     "data": {
      "text/plain": [
       "Text(0.5, 1.0, 'Cumulative difference b-a')"
      ]
     },
     "execution_count": 14,
     "metadata": {},
     "output_type": "execute_result"
    },
    {
     "data": {
      "image/png": "[encoded data removed]",
      "text/plain": [
       "<Figure size 1080x432 with 1 Axes>"
      ]
     },
     "metadata": {
      "needs_background": "light"
     },
     "output_type": "display_data"
    }
   ],
   "source": [
    "visit_orders['conversion_diff']=visit_orders['conversion_b'] - visit_orders['conversion_a']\n",
    "visit_orders['conversion_diff_cumul']=visit_orders['conversion_diff'].cumsum()\n",
    "\n",
    "plt.rcParams[\"figure.figsize\"] = (15,6)\n",
    "plt.plot(visit_orders['date'], visit_orders['conversion_diff_cumul'])\n",
    "plt.title(label=\"Cumulative difference b-a\")\n"
   ]
  },
  {
   "cell_type": "markdown",
   "id": "e32b01e3",
   "metadata": {},
   "source": [
    "<div class=\"alert alert-success\">\n",
    "<b>Reviewer's comment v2:</b>\n",
    "    \n",
    "Thanks for adding also difference graph for the conversion rates. I think with this it is more easier to say that Group B is indeed doing better."
   ]
  },
  {
   "cell_type": "code",
   "execution_count": 15,
   "id": "2b0555dc",
   "metadata": {},
   "outputs": [
    {
     "name": "stdout",
     "output_type": "stream",
     "text": [
      "0.030650668894803362\n",
      "0.03525747171315125\n"
     ]
    }
   ],
   "source": [
    "print(visit_orders['conversion_a'].mean())\n",
    "print(visit_orders['conversion_b'].mean())"
   ]
  },
  {
   "cell_type": "markdown",
   "id": "f740cafe",
   "metadata": {},
   "source": [
    "<div style=\"border:solid green 8px; padding: 20px\">\n",
    "<h2>Part 2d Conclusion</h2>\n",
    "    <h3>Though Group B has higher peaks and troughs, their averages are very similar. </h3>\n",
    "</div>"
   ]
  },
  {
   "cell_type": "markdown",
   "id": "b1520922",
   "metadata": {},
   "source": [
    "<div style=\"border:solid magenta 8px; padding: 20px\">\n",
    "<h2>Part 2e</h2>\n",
    "    <h3>Plot a scatter chart of the number of orders per user. Make conclusions and conjectures.</h3>\n",
    "</div>"
   ]
  },
  {
   "cell_type": "code",
   "execution_count": 16,
   "id": "f51ee7a2",
   "metadata": {},
   "outputs": [
    {
     "data": {
      "text/plain": [
       "<matplotlib.legend.Legend at 0x7fb061a89fd0>"
      ]
     },
     "execution_count": 16,
     "metadata": {},
     "output_type": "execute_result"
    },
    {
     "data": {
      "image/png": "[encoded data removed]",
      "text/plain": [
       "<Figure size 1080x432 with 1 Axes>"
      ]
     },
     "metadata": {
      "needs_background": "light"
     },
     "output_type": "display_data"
    }
   ],
   "source": [
    "orders_per_user_a = orders_a.groupby(orders_a['visitorid'])['revenue'].count().reset_index()\n",
    "orders_per_user_a = orders_per_user_a.rename(columns = {'revenue': 'order_count','visitorid': 'user'})\n",
    "orders_per_user_b = orders_b.groupby(orders_b['visitorid'])['revenue'].count().reset_index()\n",
    "orders_per_user_b = orders_per_user_b.rename(columns = {'revenue': 'order_count','visitorid': 'user'})\n",
    "\n",
    "plt.rcParams[\"figure.figsize\"] = (15,6)\n",
    "plt.scatter(x=orders_per_user_a['user'], y=orders_per_user_a['order_count'], label='Group A Orders per User')\n",
    "plt.scatter(x=orders_per_user_b['user'], y=orders_per_user_b['order_count'], label='Group B Orders per User')\n",
    "plt.legend()"
   ]
  },
  {
   "cell_type": "code",
   "execution_count": 17,
   "id": "93c828e7",
   "metadata": {},
   "outputs": [
    {
     "name": "stdout",
     "output_type": "stream",
     "text": [
      "             user\n",
      "order_count      \n",
      "1             473\n",
      "2              17\n",
      "3               7\n",
      "4               3\n",
      "5               2\n",
      "7               1\n",
      "0.9403578528827038\n",
      "             user\n",
      "order_count      \n",
      "1             552\n",
      "2              23\n",
      "3               5\n",
      "4               4\n",
      "5               1\n",
      "6               1\n",
      "0.9419795221843004\n"
     ]
    }
   ],
   "source": [
    "print(orders_per_user_a.groupby(['order_count']).count())\n",
    "print(473/(473+17+7+3+2+1))\n",
    "print(orders_per_user_b.groupby(['order_count']).count())\n",
    "print(552/(552+23+5+4+1+1))\n"
   ]
  },
  {
   "cell_type": "markdown",
   "id": "b3c1bcee",
   "metadata": {},
   "source": [
    "<div style=\"border:solid green 8px; padding: 20px\">\n",
    "<h2>Part 2e Conclusion</h2>\n",
    "    <h3>In both groups, only 1 in 20 users have more than one order. Most of our users have only one order in both groups. </h3>\n",
    "</div>"
   ]
  },
  {
   "cell_type": "markdown",
   "id": "c7531fda",
   "metadata": {},
   "source": [
    "<div style=\"border:solid magenta 8px; padding: 20px\">\n",
    "<h2>Part 2f</h2>\n",
    "    <h3>Calculate the 95th and 99th percentiles for the number of orders per user. Define the point at which a data point becomes an anomaly.\n",
    "</h3>\n",
    "</div>"
   ]
  },
  {
   "cell_type": "code",
   "execution_count": 18,
   "id": "90879868",
   "metadata": {
    "scrolled": true
   },
   "outputs": [
    {
     "data": {
      "text/html": [
       "<div>\n",
       "<style scoped>\n",
       "    .dataframe tbody tr th:only-of-type {\n",
       "        vertical-align: middle;\n",
       "    }\n",
       "\n",
       "    .dataframe tbody tr th {\n",
       "        vertical-align: top;\n",
       "    }\n",
       "\n",
       "    .dataframe thead th {\n",
       "        text-align: right;\n",
       "    }\n",
       "</style>\n",
       "<table border=\"1\" class=\"dataframe\">\n",
       "  <thead>\n",
       "    <tr style=\"text-align: right;\">\n",
       "      <th></th>\n",
       "      <th>order_count</th>\n",
       "      <th>users</th>\n",
       "    </tr>\n",
       "  </thead>\n",
       "  <tbody>\n",
       "    <tr>\n",
       "      <th>4</th>\n",
       "      <td>5</td>\n",
       "      <td>1</td>\n",
       "    </tr>\n",
       "  </tbody>\n",
       "</table>\n",
       "</div>"
      ],
      "text/plain": [
       "   order_count  users\n",
       "4            5      1"
      ]
     },
     "execution_count": 18,
     "metadata": {},
     "output_type": "execute_result"
    }
   ],
   "source": [
    "#orders_per_user_a.groupby(orders_per_user_a['order_count'])['user'].count().reset_index()\n",
    "users_have_order_count = orders_per_user_b.groupby(orders_per_user_b['order_count'])['user'].count().reset_index()\n",
    "users_have_order_count = users_have_order_count.rename(columns = {'user': 'users'})\n",
    "\n",
    "users_have_order_count.sample()"
   ]
  },
  {
   "cell_type": "code",
   "execution_count": 19,
   "id": "3a8120a2",
   "metadata": {
    "scrolled": true
   },
   "outputs": [
    {
     "name": "stdout",
     "output_type": "stream",
     "text": [
      "Group A Max: 7\n",
      "Group A 95 percentile: 2.0\n",
      "Group A 99 percentile: 3.980000000000018\n",
      "\n",
      "Group B Max: 6\n",
      "Group B 95 percentile: 2.0\n",
      "Group B 99 percentile: 3.1499999999999773\n"
     ]
    }
   ],
   "source": [
    "print('Group A Max:', orders_per_user_a['order_count'].max())\n",
    "print('Group A 95 percentile:',np.percentile(orders_per_user_a['order_count'], 95))\n",
    "print('Group A 99 percentile:',np.percentile(orders_per_user_a['order_count'], 99))\n",
    "print()\n",
    "print('Group B Max:', orders_per_user_b['order_count'].max())\n",
    "print('Group B 95 percentile:',np.percentile(orders_per_user_b['order_count'], 95))\n",
    "print('Group B 99 percentile:',np.percentile(orders_per_user_b['order_count'], 99))"
   ]
  },
  {
   "cell_type": "markdown",
   "id": "db8c9441",
   "metadata": {},
   "source": [
    "<div style=\"border:solid green 8px; padding: 20px\">\n",
    "<h2>Part 2f Conclusion</h2>\n",
    "    <h3>If we want to keep the data more inclusive, anything over a 4 is an outlier. </h3>\n",
    "    <h3>If we want to keep the data more exclusive, anything over a 2 is an outlier. </h3>\n",
    "</div>"
   ]
  },
  {
   "cell_type": "markdown",
   "id": "909adea3",
   "metadata": {},
   "source": [
    "<div style=\"border:solid magenta 8px; padding: 20px\">\n",
    "<h2>Part 2g</h2>\n",
    "    <h3>Plot a scatter chart of order prices. Make conclusions and conjectures.</h3>\n",
    "</div>"
   ]
  },
  {
   "cell_type": "code",
   "execution_count": 20,
   "id": "e1f32bfb",
   "metadata": {},
   "outputs": [
    {
     "data": {
      "text/plain": [
       "<matplotlib.legend.Legend at 0x7fb06160cdc0>"
      ]
     },
     "execution_count": 20,
     "metadata": {},
     "output_type": "execute_result"
    },
    {
     "data": {
      "image/png": "[encoded data removed]",
      "text/plain": [
       "<Figure size 1080x432 with 1 Axes>"
      ]
     },
     "metadata": {
      "needs_background": "light"
     },
     "output_type": "display_data"
    }
   ],
   "source": [
    "orders_revenue_per_user_a = orders_a.groupby(orders_a['visitorid'])['revenue'].sum().reset_index()\n",
    "orders_revenue_per_user_a = orders_revenue_per_user_a.rename(columns = {'revenue': 'order_sum','visitorid': 'user'})\n",
    "orders_revenue_per_user_b = orders_b.groupby(orders_b['visitorid'])['revenue'].sum().reset_index()\n",
    "orders_revenue_per_user_b = orders_revenue_per_user_b.rename(columns = {'revenue': 'order_sum','visitorid': 'user'})\n",
    "\n",
    "plt.rcParams[\"figure.figsize\"] = (15,6)\n",
    "plt.scatter(x=orders_revenue_per_user_a['user'], y=orders_revenue_per_user_a['order_sum'], label='Group A Orders per User')\n",
    "plt.scatter(x=orders_revenue_per_user_b['user'], y=orders_revenue_per_user_b['order_sum'], label='Group B Orders per User')\n",
    "plt.ylim(0, 2000)\n",
    "\n",
    "plt.legend()"
   ]
  },
  {
   "cell_type": "markdown",
   "id": "b4b3d0c4",
   "metadata": {},
   "source": [
    "<div class=\"alert alert-block alert-success\">\n",
    "<b>Reviewer's comment v1:</b>\n",
    "    \n",
    "Great scaterplots. Great that you color two groups on this graph using other 'hue' parameter (https://seaborn.pydata.org/generated/seaborn.scatterplot.html) or different data sources (https://moonbooks.org/Articles/How-to-create-a-scatter-plot-with-several-colors-in-matplotlib-/)"
   ]
  },
  {
   "cell_type": "code",
   "execution_count": 21,
   "id": "84dd4036",
   "metadata": {},
   "outputs": [
    {
     "name": "stdout",
     "output_type": "stream",
     "text": [
      "128.33976143141163\n",
      "158.43105802047788\n",
      "111.53636363636375\n",
      "110.39448275862065\n"
     ]
    }
   ],
   "source": [
    "order_subset_a = orders_revenue_per_user_a[orders_revenue_per_user_a['order_sum']<1000]\n",
    "order_subset_b = orders_revenue_per_user_b[orders_revenue_per_user_b['order_sum']<1000]\n",
    "print(orders_revenue_per_user_a['order_sum'].mean())\n",
    "print(orders_revenue_per_user_b['order_sum'].mean())\n",
    "print(order_subset_a['order_sum'].mean())\n",
    "print(order_subset_b['order_sum'].mean())"
   ]
  },
  {
   "cell_type": "markdown",
   "id": "2049cdb9",
   "metadata": {},
   "source": [
    "<div style=\"border:solid green 8px; padding: 20px\">\n",
    "<h2>Part 2g Conclusion</h2>\n",
    "    <h3>Though there seems to be a big difference in order prices before looking at the outliers.  After investigation, the order prices become very similar. </h3>\n",
    "</div>"
   ]
  },
  {
   "cell_type": "markdown",
   "id": "f903e9d4",
   "metadata": {},
   "source": [
    "<div style=\"border:solid magenta 8px; padding: 20px\">\n",
    "<h2>Part 2h</h2>\n",
    "    <h3>Calculate the 95th and 99th percentiles of order prices. Define the point at which a data point becomes an anomaly.</h3>\n",
    "</div>"
   ]
  },
  {
   "cell_type": "code",
   "execution_count": 22,
   "id": "7d0dbde4",
   "metadata": {
    "scrolled": true
   },
   "outputs": [
    {
     "name": "stdout",
     "output_type": "stream",
     "text": [
      "Group A Max: 1450.2\n",
      "Group A 95 percentile: 509.2499999999998\n",
      "Group A 99 percentile: 1040.5000000000002\n",
      "\n",
      "Group B Max: 19920.4\n",
      "Group B 95 percentile: 479.475\n",
      "Group B 99 percentile: 962.9899999999932\n"
     ]
    }
   ],
   "source": [
    "orders_price_per_user_a = orders_a.groupby(orders_a['visitorid'])['revenue'].sum().reset_index()\n",
    "orders_price_per_user_a = orders_price_per_user_a.rename(columns = {'revenue': 'total','visitorid': 'user'})\n",
    "orders_price_per_user_b = orders_b.groupby(orders_b['visitorid'])['revenue'].sum().reset_index()\n",
    "orders_price_per_user_b = orders_price_per_user_b.rename(columns = {'revenue': 'total','visitorid': 'user'})\n",
    "\n",
    "\n",
    "print('Group A Max:', orders_price_per_user_a['total'].max())\n",
    "print('Group A 95 percentile:',np.percentile(orders_price_per_user_a['total'], 95))\n",
    "print('Group A 99 percentile:',np.percentile(orders_price_per_user_a['total'], 99))\n",
    "print()\n",
    "print('Group B Max:', orders_price_per_user_b['total'].max())\n",
    "print('Group B 95 percentile:',np.percentile(orders_price_per_user_b['total'], 95))\n",
    "print('Group B 99 percentile:',np.percentile(orders_price_per_user_b['total'], 99))\n"
   ]
  },
  {
   "cell_type": "markdown",
   "id": "2c59dbb5",
   "metadata": {},
   "source": [
    "<div class=\"alert alert-block alert-success\">\n",
    "<b>Reviewer's comment v1:</b>\n",
    "    \n",
    "You correctly identified 95th and 99th percentiles of order prices. Now you have a threshold and data could be filtered."
   ]
  },
  {
   "cell_type": "markdown",
   "id": "fa36d1ca",
   "metadata": {},
   "source": [
    "<div style=\"border:solid green 8px; padding: 20px\">\n",
    "<h2>Part 2h Conclusion</h2>\n",
    "    <h3>If we want to keep the data more inclusive, anything over a 1000 is an outlier. </h3>\n",
    "    <h3>If we want to keep the data more exclusive, anything over a 500 is an outlier. </h3>\n",
    "</div>"
   ]
  },
  {
   "cell_type": "markdown",
   "id": "57275499",
   "metadata": {},
   "source": [
    "<div style=\"border:solid magenta 8px; padding: 20px\">\n",
    "<h2>Part 2i</h2>\n",
    "    <h3>Find the statistical significance of the difference in conversion between the groups using the raw data. Make conclusions and conjectures.</h3>\n",
    "</div>"
   ]
  },
  {
   "cell_type": "markdown",
   "id": "51f6be78",
   "metadata": {},
   "source": [
    "<div class=\"alert alert-block alert-danger\">\n",
    "<b>Reviewer's comment v1</b> \n",
    "\n",
    "Сould you please formulate a null hypothesis and an alternative hypothesis for each question before actual testing in the markdown box: \n",
    "    \n",
    "    H0 (Null):\n",
    "    \n",
    "    H1 (Alternative):\n",
    "    \n",
    "Additionally could you please elaborate why you used this test?\n",
    "</div>"
   ]
  },
  {
   "cell_type": "markdown",
   "id": "1afff38c",
   "metadata": {},
   "source": [
    "## I decided to use The Wilcoxon-Mann-Whitney Nonparametric Test\n",
    "\n",
    "The key idea behind the test is to rank two samples in ascending order and compare the ranks of values that appear in both samples (i.e. in which position they appear in the samples). If the differences between their ranks are the same from sample to sample, this means the shift is typical. That means some values were simply added, causing the rest to shift.\n",
    "\n",
    "Nonparametric methods are useful because they do not make assumptions about how the data is distributed (so you don't have to estimate the distribution's parameters). Such methods are often used when it's difficult (or even impossible) to estimate parameters because of a large number of outliers."
   ]
  },
  {
   "cell_type": "code",
   "execution_count": 23,
   "id": "67709fd1",
   "metadata": {},
   "outputs": [],
   "source": [
    "ordersByUsersA = orders_a.groupby('visitorid', as_index=False).agg({'transactionid' : pd.Series.nunique})\n",
    "ordersByUsersA.columns = ['userId', 'orders']\n",
    "ordersByUsersB = orders_b.groupby('visitorid', as_index=False).agg({'transactionid' : pd.Series.nunique})\n",
    "ordersByUsersB.columns = ['userId', 'orders']\n",
    "sampleA = pd.concat([ordersByUsersA['orders'],pd.Series(0, index=np.arange(visits_a['visits'].sum() - len(ordersByUsersA['orders'])), name='orders')],axis=0)\n",
    "sampleB = pd.concat([ordersByUsersB['orders'],pd.Series(0, index=np.arange(visits_b['visits'].sum() - len(ordersByUsersB['orders'])), name='orders')],axis=0)\n",
    "\n",
    "p_value = stats.mannwhitneyu(sampleA, sampleB)[1]\n",
    "relative_gain = sampleB.mean()/sampleA.mean()-1"
   ]
  },
  {
   "cell_type": "markdown",
   "id": "9519b937",
   "metadata": {},
   "source": [
    "### $H_0$: The AB test shows no significant difference in conversion rate between A and B.\n",
    "### $H_1$: The AB test shows a significant difference in conversion rate between A and B."
   ]
  },
  {
   "cell_type": "code",
   "execution_count": 24,
   "id": "7e777228",
   "metadata": {
    "scrolled": true
   },
   "outputs": [
    {
     "name": "stdout",
     "output_type": "stream",
     "text": [
      "relative conversion gain: 0.138\n",
      "p-value: 0.00840\n",
      "\n",
      "H0: We reject the null hypothesis\n"
     ]
    }
   ],
   "source": [
    "print('relative conversion gain:',\"{0:.3f}\".format(relative_gain))\n",
    "print('p-value:',\"{0:.5f}\".format(p_value)),print()\n",
    "alpha = 0.05\n",
    "if p_value < alpha:\n",
    "    print(\"H0: We reject the null hypothesis\")\n",
    "else:\n",
    "    print(\"H1: We can't reject the null hypothesis\")"
   ]
  },
  {
   "cell_type": "markdown",
   "id": "f79987dd",
   "metadata": {},
   "source": [
    "<div style=\"border:solid green 8px; padding: 20px\">\n",
    "<h2>Part 2i Conclusion</h2>\n",
    "    <h3>The p-value is significantly lower than 0.05, so we reject the null hypothesis. The raw data analysis showed that the groups' conversion rates  have statisticallly significant differences. The relative conversion gain for group B compared with group A is 13.8%.</h3>\n",
    "<h\n",
    "</div>"
   ]
  },
  {
   "cell_type": "markdown",
   "id": "10dbbfef",
   "metadata": {},
   "source": [
    "<div style=\"border:solid magenta 8px; padding: 20px\">\n",
    "<h2>Part 2j</h2>\n",
    "    <h3>Find the statistical significance of the difference in average order size between the groups using the raw data. Make conclusions and conjectures.</h3>\n",
    "</div>"
   ]
  },
  {
   "cell_type": "code",
   "execution_count": 25,
   "id": "98f3517f",
   "metadata": {},
   "outputs": [],
   "source": [
    "ordersByRevenueA = orders_a.groupby(orders_a['transactionid'])['revenue'].mean().reset_index()\n",
    "ordersByRevenueB = orders_b.groupby(orders_b['transactionid'])['revenue'].mean().reset_index()\n",
    "sampleA = ordersByRevenueA['revenue']\n",
    "sampleB = ordersByRevenueB['revenue']\n",
    "\n",
    "p_value = stats.mannwhitneyu(sampleA, sampleB)[1]\n",
    "relative_gain = sampleB.mean()/sampleA.mean()-1"
   ]
  },
  {
   "cell_type": "markdown",
   "id": "595a80b9",
   "metadata": {},
   "source": [
    "### $H_0$: The AB test shows no significant difference in revenue between A and B.\n",
    "### $H_1$: The AB test shows a significant difference in revenue between A and B."
   ]
  },
  {
   "cell_type": "code",
   "execution_count": 26,
   "id": "7801d23f",
   "metadata": {
    "scrolled": true
   },
   "outputs": [
    {
     "name": "stdout",
     "output_type": "stream",
     "text": [
      "relative revenue gain: 0.252\n",
      "p-value: 0.346\n",
      "\n",
      "H1: We can't reject the null hypothesis\n"
     ]
    }
   ],
   "source": [
    "## Change this to answer question\n",
    "print('relative revenue gain:',\"{0:.3f}\".format(relative_gain))\n",
    "print('p-value:',\"{0:.3f}\".format(p_value)),print()\n",
    "alpha = 0.05\n",
    "if p_value < alpha:\n",
    "    print(\"H0: We reject the null hypothesis\")\n",
    "else:\n",
    "    print(\"H1: We can't reject the null hypothesis\")"
   ]
  },
  {
   "cell_type": "markdown",
   "id": "fa908a7c",
   "metadata": {},
   "source": [
    "<div style=\"border:solid green 8px; padding: 20px\">\n",
    "<h2>Part 2j Conclusion</h2>\n",
    "    <h3>The p-value is significantly greater than 0.05, so there are statistacally significant differences between the groups' average revenue.  Moreover, the relative gain is 25%.</h3>\n",
    "\n",
    "</div>"
   ]
  },
  {
   "cell_type": "markdown",
   "id": "ee6cd679",
   "metadata": {},
   "source": [
    "<div style=\"border:solid magenta 8px; padding: 20px\">\n",
    "<h2>Part 2k</h2>\n",
    "    <h3>Find the statistical significance of the difference in conversion between the groups using the filtered data. Make conclusions and conjectures.</h3>\n",
    "</div>"
   ]
  },
  {
   "cell_type": "code",
   "execution_count": 27,
   "id": "37e09214",
   "metadata": {},
   "outputs": [],
   "source": [
    "# See 2f\n",
    "usersWithManyOrders = pd.concat(\n",
    "    [\n",
    "        ordersByUsersA[ordersByUsersA['orders'] > 2]['userId'],\n",
    "        ordersByUsersB[ordersByUsersB['orders'] > 2]['userId'],\n",
    "    ],\n",
    "    axis=0,\n",
    ")\n",
    "# See 2h\n",
    "usersWithExpensiveOrders = orders[orders['revenue'] > 500]['visitorid']\n",
    "abnormalUsers = (\n",
    "    pd.concat([usersWithManyOrders, usersWithExpensiveOrders], axis=0)\n",
    "    .drop_duplicates()\n",
    "    .sort_values()\n",
    ")\n",
    "sampleAFiltered = pd.concat([ordersByUsersA[np.logical_not(ordersByUsersA['userId'].isin(abnormalUsers))]['orders'],pd.Series(0, index=np.arange(visits[visits['group']=='A']['visits'].sum() - len(ordersByUsersA['orders'])),name='orders')],axis=0)\n",
    "sampleBFiltered = pd.concat([ordersByUsersB[np.logical_not(ordersByUsersB['userId'].isin(abnormalUsers))]['orders'],pd.Series(0, index=np.arange(visits[visits['group']=='B']['visits'].sum() - len(ordersByUsersB['orders'])),name='orders')],axis=0)\n",
    "\n",
    "p_value = stats.mannwhitneyu(sampleAFiltered, sampleBFiltered)[1]\n",
    "relative_gain = sampleBFiltered.mean()/sampleAFiltered.mean()-1"
   ]
  },
  {
   "cell_type": "markdown",
   "id": "38b544ba",
   "metadata": {},
   "source": [
    "## $H_0$: The AB test shows no significant difference in conversion rate between A and B.\n",
    "## $H_1$: The AB test shows a significant difference in conversion rate between A and B."
   ]
  },
  {
   "cell_type": "markdown",
   "id": "b99b40e6",
   "metadata": {},
   "source": [
    "<div class=\"alert alert-block alert-success\">\n",
    "<b>Reviewer's comment v2:</b>\n",
    "    \n",
    "Great job! Hypotheses have been formulated and tested correctly. \n",
    "I know, it could be annoying but it really helps to structure your conclusions and avoid mistakes."
   ]
  },
  {
   "cell_type": "code",
   "execution_count": 28,
   "id": "64c29df4",
   "metadata": {},
   "outputs": [
    {
     "name": "stdout",
     "output_type": "stream",
     "text": [
      "relative revenue gain: 0.179\n",
      "p-value: 0.00529\n",
      "\n",
      "H0: We reject the null hypothesis\n"
     ]
    }
   ],
   "source": [
    "print('relative revenue gain:',\"{0:.3f}\".format(relative_gain))\n",
    "print('p-value:',\"{0:.5f}\".format(p_value)),print()\n",
    "alpha = 0.05\n",
    "if p_value < alpha:\n",
    "    print(\"H0: We reject the null hypothesis\")\n",
    "else:\n",
    "    print(\"H1: We can't reject the null hypothesis\")"
   ]
  },
  {
   "cell_type": "markdown",
   "id": "89026736",
   "metadata": {},
   "source": [
    "<div style=\"border:solid green 8px; padding: 20px\">\n",
    "<h2>Part 2k Conclusion</h2>\n",
    "    <h3>The p-value is significantly lower than 0.05, so we reject the null hypothesis. The filtered data analysis showed that the groups' conversion rates have no statisticallly significant differences. The relative conversion gain for group B compared with group A is 17.9%.</h3>\n",
    "    <h3>We reject the null hypothesis in BOTH filtered and unflitered data</h3>\n",
    "<h\n",
    "</div>"
   ]
  },
  {
   "cell_type": "markdown",
   "id": "925bbf93",
   "metadata": {},
   "source": [
    "<div style=\"border:solid magenta 8px; padding: 20px\">\n",
    "<h2>Part 2L</h2>\n",
    "    <h3>Find the statistical significance of the difference in average order size between the groups using the filtered data. Make conclusions and conjectures.\n",
    "</h3>\n",
    "</div>"
   ]
  },
  {
   "cell_type": "code",
   "execution_count": 29,
   "id": "a34ecbd3-9c59-4fbd-9514-c370636d33e5",
   "metadata": {},
   "outputs": [],
   "source": [
    "ordersA_filtered = orders_a[orders_a['revenue'] < 500]\n",
    "ordersB_filtered = orders_b[orders_b['revenue'] < 500]\n",
    "\n",
    "\n",
    "orders_by_revenueA_filtered = ordersA_filtered.groupby(ordersA_filtered['transactionid'])['revenue'].mean().reset_index()\n",
    "orders_by_revenueB_filtered = ordersB_filtered.groupby(ordersB_filtered['transactionid'])['revenue'].mean().reset_index()\n",
    "sampleA = orders_by_revenueA_filtered['revenue']\n",
    "sampleB = orders_by_revenueB_filtered['revenue']\n",
    "\n",
    "p_value = stats.mannwhitneyu(sampleA, sampleB)[1]\n",
    "relative_gain = sampleB.mean()/sampleA.mean()-1"
   ]
  },
  {
   "cell_type": "markdown",
   "id": "038bb0f8",
   "metadata": {},
   "source": [
    "### $H_0$: The AB test shows no significant difference in revenue between A and B.\n",
    "### $H_1$: The AB test shows a significant difference in revenue between A and B."
   ]
  },
  {
   "cell_type": "code",
   "execution_count": 30,
   "id": "e4bb1e49-3d7c-4145-8af3-47ad3b7e8be0",
   "metadata": {},
   "outputs": [
    {
     "name": "stdout",
     "output_type": "stream",
     "text": [
      "relative revenue gain: 0.025\n",
      "p-value: 0.310\n",
      "\n",
      "H1: We can't reject the null hypothesis\n"
     ]
    }
   ],
   "source": [
    "## Change this to answer question\n",
    "print('relative revenue gain:',\"{0:.3f}\".format(relative_gain))\n",
    "print('p-value:',\"{0:.3f}\".format(p_value)),print()\n",
    "alpha = 0.05\n",
    "if p_value < alpha:\n",
    "    print(\"H0: We reject the null hypothesis\")\n",
    "else:\n",
    "    print(\"H1: We can't reject the null hypothesis\")"
   ]
  },
  {
   "cell_type": "markdown",
   "id": "f581c666",
   "metadata": {},
   "source": [
    "<div style=\"border:solid green 8px; padding: 20px\">\n",
    "<h2>Part 2L Conclusion</h2>\n",
    "    <h3>The p-value is significantly higher than 0.05, so we can't reject the null hypothesis. The filtered data analysis showed that the groups' conversion rates no have statisticallly significant differences. The relative conversion gain for group B compared with group A is 2.5%.</h3>\n",
    "</div>"
   ]
  },
  {
   "cell_type": "markdown",
   "id": "f3984b75",
   "metadata": {},
   "source": [
    "<div style=\"border:solid magenta 8px; padding: 20px\">\n",
    "<h2>Part 2m</h2>\n",
    "    <h3>Make a decision based on the test results. The possible decisions are:</h3>\n",
    "    \n",
    "- Stop the test, consider one of the groups the leader.\n",
    "    \n",
    "- Stop the test, conclude that there is no difference between the groups. \n",
    "    \n",
    "- Continue the test.\n",
    "</div>"
   ]
  },
  {
   "cell_type": "markdown",
   "id": "16f2c820",
   "metadata": {},
   "source": [
    "<div style=\"border:solid green 8px; padding: 20px\">\n",
    "<h2>Part 2m Conclusion</h2>\n",
    "    <h3>Both the filtered and unfiltered data tell different stories with similar results. Group B has more orders and higher revenue in both filtered and unfiltered datasets.  Still, there is no difference between the two groups regarding conversion, and therefore we should stop the test. Perhaps, we should formulate a new AB test to focus on conversion without impacting the gains from this AB test</h3>\n",
    "</div>"
   ]
  },
  {
   "cell_type": "markdown",
   "id": "acc9480e",
   "metadata": {},
   "source": [
    "<div class=\"alert alert-block alert-success\">\n",
    "<b>Reviewer's comment v1</b> \n",
    "\n",
    "Great that you wrote about all important steps and findings in your project. \n",
    " \n",
    "And overall, you conducted great research with correct interim findings, clean code and nice visualization.\n",
    "    \n",
    "One comment about running the test is that we can mistakenly wait till the moment we get correct results (to face a peeking problem). \n",
    "    \n",
    "You can check an article about it here: https://gopractice.io/blog/peeking-problem/#:~:text=by%20Oleg%20Yakubenkov-,Peeking%20problem%20%E2%80%93%20the%20fatal%20mistake%20in%20A%2FB%20testing%20and,A%2FB%20test%20is%20over\n",
    "    \n",
    "</div>"
   ]
  }
 ],
 "metadata": {
  "ExecuteTimeLog": [
   {
    "duration": 1649,
    "start_time": "2022-03-10T19:08:58.523Z"
   },
   {
    "duration": 207,
    "start_time": "2022-03-10T19:09:00.175Z"
   },
   {
    "duration": 18,
    "start_time": "2022-03-10T19:09:00.385Z"
   },
   {
    "duration": 34,
    "start_time": "2022-03-10T19:09:00.406Z"
   },
   {
    "duration": 4381,
    "start_time": "2022-03-10T19:09:00.442Z"
   },
   {
    "duration": -123,
    "start_time": "2022-03-10T19:09:04.949Z"
   },
   {
    "duration": -125,
    "start_time": "2022-03-10T19:09:04.953Z"
   },
   {
    "duration": -146,
    "start_time": "2022-03-10T19:09:04.975Z"
   },
   {
    "duration": -211,
    "start_time": "2022-03-10T19:09:05.041Z"
   },
   {
    "duration": -213,
    "start_time": "2022-03-10T19:09:05.045Z"
   },
   {
    "duration": -216,
    "start_time": "2022-03-10T19:09:05.049Z"
   },
   {
    "duration": -252,
    "start_time": "2022-03-10T19:09:05.087Z"
   },
   {
    "duration": -253,
    "start_time": "2022-03-10T19:09:05.090Z"
   },
   {
    "duration": -256,
    "start_time": "2022-03-10T19:09:05.094Z"
   },
   {
    "duration": -258,
    "start_time": "2022-03-10T19:09:05.097Z"
   },
   {
    "duration": -261,
    "start_time": "2022-03-10T19:09:05.101Z"
   },
   {
    "duration": -262,
    "start_time": "2022-03-10T19:09:05.104Z"
   },
   {
    "duration": -265,
    "start_time": "2022-03-10T19:09:05.108Z"
   },
   {
    "duration": -266,
    "start_time": "2022-03-10T19:09:05.111Z"
   },
   {
    "duration": -267,
    "start_time": "2022-03-10T19:09:05.114Z"
   },
   {
    "duration": -269,
    "start_time": "2022-03-10T19:09:05.117Z"
   },
   {
    "duration": -272,
    "start_time": "2022-03-10T19:09:05.122Z"
   },
   {
    "duration": -274,
    "start_time": "2022-03-10T19:09:05.125Z"
   },
   {
    "duration": -275,
    "start_time": "2022-03-10T19:09:05.128Z"
   },
   {
    "duration": 1440,
    "start_time": "2022-03-10T19:12:26.094Z"
   },
   {
    "duration": 181,
    "start_time": "2022-03-10T19:12:27.537Z"
   },
   {
    "duration": 16,
    "start_time": "2022-03-10T19:12:27.721Z"
   },
   {
    "duration": 14,
    "start_time": "2022-03-10T19:12:27.740Z"
   },
   {
    "duration": 209,
    "start_time": "2022-03-10T19:12:27.757Z"
   },
   {
    "duration": 10,
    "start_time": "2022-03-10T19:12:27.969Z"
   },
   {
    "duration": 433,
    "start_time": "2022-03-10T19:12:27.981Z"
   },
   {
    "duration": 13,
    "start_time": "2022-03-10T19:12:28.418Z"
   },
   {
    "duration": 440,
    "start_time": "2022-03-10T19:12:28.434Z"
   },
   {
    "duration": 24,
    "start_time": "2022-03-10T19:12:28.876Z"
   },
   {
    "duration": 402,
    "start_time": "2022-03-10T19:12:28.902Z"
   },
   {
    "duration": 480,
    "start_time": "2022-03-10T19:12:29.307Z"
   },
   {
    "duration": 5,
    "start_time": "2022-03-10T19:12:29.790Z"
   },
   {
    "duration": 632,
    "start_time": "2022-03-10T19:12:29.797Z"
   },
   {
    "duration": 14,
    "start_time": "2022-03-10T19:12:30.432Z"
   },
   {
    "duration": 59,
    "start_time": "2022-03-10T19:12:30.449Z"
   },
   {
    "duration": 47,
    "start_time": "2022-03-10T19:12:30.510Z"
   },
   {
    "duration": 581,
    "start_time": "2022-03-10T19:12:30.559Z"
   },
   {
    "duration": 12,
    "start_time": "2022-03-10T19:12:31.142Z"
   },
   {
    "duration": 79,
    "start_time": "2022-03-10T19:12:31.156Z"
   },
   {
    "duration": 310,
    "start_time": "2022-03-10T19:12:31.238Z"
   },
   {
    "duration": 37,
    "start_time": "2022-03-10T19:12:31.550Z"
   },
   {
    "duration": 36,
    "start_time": "2022-03-10T19:12:31.591Z"
   },
   {
    "duration": 61,
    "start_time": "2022-03-10T19:12:31.630Z"
   },
   {
    "duration": 1452,
    "start_time": "2022-03-22T12:32:45.012Z"
   },
   {
    "duration": 116,
    "start_time": "2022-03-22T12:32:46.466Z"
   },
   {
    "duration": 12,
    "start_time": "2022-03-22T12:32:46.584Z"
   },
   {
    "duration": 22,
    "start_time": "2022-03-22T12:32:46.598Z"
   },
   {
    "duration": 16,
    "start_time": "2022-03-22T12:32:46.621Z"
   },
   {
    "duration": 312,
    "start_time": "2022-03-22T12:32:46.638Z"
   },
   {
    "duration": 7,
    "start_time": "2022-03-22T12:32:46.952Z"
   },
   {
    "duration": 317,
    "start_time": "2022-03-22T12:32:46.960Z"
   },
   {
    "duration": 9,
    "start_time": "2022-03-22T12:32:47.279Z"
   },
   {
    "duration": 232,
    "start_time": "2022-03-22T12:32:47.292Z"
   },
   {
    "duration": 19,
    "start_time": "2022-03-22T12:32:47.526Z"
   },
   {
    "duration": 199,
    "start_time": "2022-03-22T12:32:47.546Z"
   },
   {
    "duration": 261,
    "start_time": "2022-03-22T12:32:47.747Z"
   },
   {
    "duration": 193,
    "start_time": "2022-03-22T12:32:48.010Z"
   },
   {
    "duration": 5,
    "start_time": "2022-03-22T12:32:48.205Z"
   },
   {
    "duration": 232,
    "start_time": "2022-03-22T12:32:48.211Z"
   },
   {
    "duration": 10,
    "start_time": "2022-03-22T12:32:48.444Z"
   },
   {
    "duration": 11,
    "start_time": "2022-03-22T12:32:48.456Z"
   },
   {
    "duration": 10,
    "start_time": "2022-03-22T12:32:48.469Z"
   },
   {
    "duration": 256,
    "start_time": "2022-03-22T12:32:48.481Z"
   },
   {
    "duration": 8,
    "start_time": "2022-03-22T12:32:48.738Z"
   },
   {
    "duration": 23,
    "start_time": "2022-03-22T12:32:48.747Z"
   },
   {
    "duration": 181,
    "start_time": "2022-03-22T12:32:48.771Z"
   },
   {
    "duration": 4,
    "start_time": "2022-03-22T12:32:48.954Z"
   },
   {
    "duration": 16,
    "start_time": "2022-03-22T12:32:48.959Z"
   },
   {
    "duration": 5,
    "start_time": "2022-03-22T12:32:48.976Z"
   },
   {
    "duration": 51,
    "start_time": "2022-03-22T12:32:48.982Z"
   },
   {
    "duration": 4,
    "start_time": "2022-03-22T12:32:49.037Z"
   },
   {
    "duration": 17,
    "start_time": "2022-03-22T12:32:49.043Z"
   },
   {
    "duration": 5,
    "start_time": "2022-03-22T12:32:49.061Z"
   }
  ],
  "kernelspec": {
   "display_name": "Python 3",
   "language": "python",
   "name": "python3"
  },
  "language_info": {
   "codemirror_mode": {
    "name": "ipython",
    "version": 3
   },
   "file_extension": ".py",
   "mimetype": "text/x-python",
   "name": "python",
   "nbconvert_exporter": "python",
   "pygments_lexer": "ipython3",
   "version": "3.8.8"
  },
  "toc": {
   "base_numbering": 1,
   "nav_menu": {},
   "number_sections": true,
   "sideBar": true,
   "skip_h1_title": true,
   "title_cell": "Table of Contents",
   "title_sidebar": "Contents",
   "toc_cell": false,
   "toc_position": {},
   "toc_section_display": true,
   "toc_window_display": false
  },
  "toc-autonumbering": false,
  "toc-showmarkdowntxt": false,
  "toc-showtags": false
 },
 "nbformat": 4,
 "nbformat_minor": 5
}
