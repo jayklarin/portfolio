{
 "cells": [
  {
   "cell_type": "markdown",
   "metadata": {},
   "source": [
    "# Introduction: Research on car sales ads\n",
    "\n",
    "At Crankshaft List Hundreds of free advertisements for vehicles are publishedon our site every day.\n",
    "\n",
    "As an analyst at Crankshaft List, we need to study data collected over the last few years and determine which factors influence the price of a vehicle. "
   ]
  },
  {
   "cell_type": "markdown",
   "metadata": {},
   "source": [
    "## Step 1: Open the data file and study the general information. "
   ]
  },
  {
   "cell_type": "code",
   "execution_count": 1,
   "metadata": {},
   "outputs": [
    {
     "data": {
      "text/html": [
       "<div>\n",
       "<style scoped>\n",
       "    .dataframe tbody tr th:only-of-type {\n",
       "        vertical-align: middle;\n",
       "    }\n",
       "\n",
       "    .dataframe tbody tr th {\n",
       "        vertical-align: top;\n",
       "    }\n",
       "\n",
       "    .dataframe thead th {\n",
       "        text-align: right;\n",
       "    }\n",
       "</style>\n",
       "<table border=\"1\" class=\"dataframe\">\n",
       "  <thead>\n",
       "    <tr style=\"text-align: right;\">\n",
       "      <th></th>\n",
       "      <th>price</th>\n",
       "      <th>model_year</th>\n",
       "      <th>model</th>\n",
       "      <th>condition</th>\n",
       "      <th>cylinders</th>\n",
       "      <th>fuel</th>\n",
       "      <th>odometer</th>\n",
       "      <th>transmission</th>\n",
       "      <th>type</th>\n",
       "      <th>paint_color</th>\n",
       "      <th>is_4wd</th>\n",
       "      <th>date_posted</th>\n",
       "      <th>days_listed</th>\n",
       "    </tr>\n",
       "  </thead>\n",
       "  <tbody>\n",
       "    <tr>\n",
       "      <th>0</th>\n",
       "      <td>9400</td>\n",
       "      <td>2011.0</td>\n",
       "      <td>bmw x5</td>\n",
       "      <td>good</td>\n",
       "      <td>6.0</td>\n",
       "      <td>gas</td>\n",
       "      <td>145000.0</td>\n",
       "      <td>automatic</td>\n",
       "      <td>SUV</td>\n",
       "      <td>NaN</td>\n",
       "      <td>1.0</td>\n",
       "      <td>2018-06-23</td>\n",
       "      <td>19</td>\n",
       "    </tr>\n",
       "    <tr>\n",
       "      <th>1</th>\n",
       "      <td>25500</td>\n",
       "      <td>NaN</td>\n",
       "      <td>ford f-150</td>\n",
       "      <td>good</td>\n",
       "      <td>6.0</td>\n",
       "      <td>gas</td>\n",
       "      <td>88705.0</td>\n",
       "      <td>automatic</td>\n",
       "      <td>pickup</td>\n",
       "      <td>white</td>\n",
       "      <td>1.0</td>\n",
       "      <td>2018-10-19</td>\n",
       "      <td>50</td>\n",
       "    </tr>\n",
       "    <tr>\n",
       "      <th>2</th>\n",
       "      <td>5500</td>\n",
       "      <td>2013.0</td>\n",
       "      <td>hyundai sonata</td>\n",
       "      <td>like new</td>\n",
       "      <td>4.0</td>\n",
       "      <td>gas</td>\n",
       "      <td>110000.0</td>\n",
       "      <td>automatic</td>\n",
       "      <td>sedan</td>\n",
       "      <td>red</td>\n",
       "      <td>NaN</td>\n",
       "      <td>2019-02-07</td>\n",
       "      <td>79</td>\n",
       "    </tr>\n",
       "    <tr>\n",
       "      <th>3</th>\n",
       "      <td>1500</td>\n",
       "      <td>2003.0</td>\n",
       "      <td>ford f-150</td>\n",
       "      <td>fair</td>\n",
       "      <td>8.0</td>\n",
       "      <td>gas</td>\n",
       "      <td>NaN</td>\n",
       "      <td>automatic</td>\n",
       "      <td>pickup</td>\n",
       "      <td>NaN</td>\n",
       "      <td>NaN</td>\n",
       "      <td>2019-03-22</td>\n",
       "      <td>9</td>\n",
       "    </tr>\n",
       "    <tr>\n",
       "      <th>4</th>\n",
       "      <td>14900</td>\n",
       "      <td>2017.0</td>\n",
       "      <td>chrysler 200</td>\n",
       "      <td>excellent</td>\n",
       "      <td>4.0</td>\n",
       "      <td>gas</td>\n",
       "      <td>80903.0</td>\n",
       "      <td>automatic</td>\n",
       "      <td>sedan</td>\n",
       "      <td>black</td>\n",
       "      <td>NaN</td>\n",
       "      <td>2019-04-02</td>\n",
       "      <td>28</td>\n",
       "    </tr>\n",
       "  </tbody>\n",
       "</table>\n",
       "</div>"
      ],
      "text/plain": [
       "   price  model_year           model  condition  cylinders fuel  odometer  \\\n",
       "0   9400      2011.0          bmw x5       good        6.0  gas  145000.0   \n",
       "1  25500         NaN      ford f-150       good        6.0  gas   88705.0   \n",
       "2   5500      2013.0  hyundai sonata   like new        4.0  gas  110000.0   \n",
       "3   1500      2003.0      ford f-150       fair        8.0  gas       NaN   \n",
       "4  14900      2017.0    chrysler 200  excellent        4.0  gas   80903.0   \n",
       "\n",
       "  transmission    type paint_color  is_4wd date_posted  days_listed  \n",
       "0    automatic     SUV         NaN     1.0  2018-06-23           19  \n",
       "1    automatic  pickup       white     1.0  2018-10-19           50  \n",
       "2    automatic   sedan         red     NaN  2019-02-07           79  \n",
       "3    automatic  pickup         NaN     NaN  2019-03-22            9  \n",
       "4    automatic   sedan       black     NaN  2019-04-02           28  "
      ]
     },
     "execution_count": 1,
     "metadata": {},
     "output_type": "execute_result"
    }
   ],
   "source": [
    "import pandas as pd\n",
    "import matplotlib.pyplot as plt\n",
    "import seaborn as sns\n",
    "\n",
    "try:\n",
    "    df = pd.read_csv('vehicles_us.csv')\n",
    "except:\n",
    "    df = pd.read_csv('datasets/vehicles_us.csv') \n",
    "\n",
    "df.head()"
   ]
  },
  {
   "cell_type": "markdown",
   "metadata": {},
   "source": [
    "## Let's start by looking at the numeric columns."
   ]
  },
  {
   "cell_type": "code",
   "execution_count": 2,
   "metadata": {
    "scrolled": true
   },
   "outputs": [
    {
     "name": "stdout",
     "output_type": "stream",
     "text": [
      "51525 total records\n"
     ]
    },
    {
     "data": {
      "text/html": [
       "<div>\n",
       "<style scoped>\n",
       "    .dataframe tbody tr th:only-of-type {\n",
       "        vertical-align: middle;\n",
       "    }\n",
       "\n",
       "    .dataframe tbody tr th {\n",
       "        vertical-align: top;\n",
       "    }\n",
       "\n",
       "    .dataframe thead th {\n",
       "        text-align: right;\n",
       "    }\n",
       "</style>\n",
       "<table border=\"1\" class=\"dataframe\">\n",
       "  <thead>\n",
       "    <tr style=\"text-align: right;\">\n",
       "      <th></th>\n",
       "      <th>price</th>\n",
       "      <th>model_year</th>\n",
       "      <th>model</th>\n",
       "      <th>condition</th>\n",
       "      <th>cylinders</th>\n",
       "      <th>fuel</th>\n",
       "      <th>odometer</th>\n",
       "      <th>transmission</th>\n",
       "      <th>type</th>\n",
       "      <th>paint_color</th>\n",
       "      <th>is_4wd</th>\n",
       "      <th>date_posted</th>\n",
       "      <th>days_listed</th>\n",
       "    </tr>\n",
       "  </thead>\n",
       "  <tbody>\n",
       "    <tr>\n",
       "      <th>count</th>\n",
       "      <td>51525.000000</td>\n",
       "      <td>47906.000000</td>\n",
       "      <td>51525</td>\n",
       "      <td>51525</td>\n",
       "      <td>46265.000000</td>\n",
       "      <td>51525</td>\n",
       "      <td>43633.000000</td>\n",
       "      <td>51525</td>\n",
       "      <td>51525</td>\n",
       "      <td>42258</td>\n",
       "      <td>25572.0</td>\n",
       "      <td>51525</td>\n",
       "      <td>51525.00000</td>\n",
       "    </tr>\n",
       "    <tr>\n",
       "      <th>unique</th>\n",
       "      <td>NaN</td>\n",
       "      <td>NaN</td>\n",
       "      <td>100</td>\n",
       "      <td>6</td>\n",
       "      <td>NaN</td>\n",
       "      <td>5</td>\n",
       "      <td>NaN</td>\n",
       "      <td>3</td>\n",
       "      <td>13</td>\n",
       "      <td>12</td>\n",
       "      <td>NaN</td>\n",
       "      <td>354</td>\n",
       "      <td>NaN</td>\n",
       "    </tr>\n",
       "    <tr>\n",
       "      <th>top</th>\n",
       "      <td>NaN</td>\n",
       "      <td>NaN</td>\n",
       "      <td>ford f-150</td>\n",
       "      <td>excellent</td>\n",
       "      <td>NaN</td>\n",
       "      <td>gas</td>\n",
       "      <td>NaN</td>\n",
       "      <td>automatic</td>\n",
       "      <td>SUV</td>\n",
       "      <td>white</td>\n",
       "      <td>NaN</td>\n",
       "      <td>2019-03-17</td>\n",
       "      <td>NaN</td>\n",
       "    </tr>\n",
       "    <tr>\n",
       "      <th>freq</th>\n",
       "      <td>NaN</td>\n",
       "      <td>NaN</td>\n",
       "      <td>2796</td>\n",
       "      <td>24773</td>\n",
       "      <td>NaN</td>\n",
       "      <td>47288</td>\n",
       "      <td>NaN</td>\n",
       "      <td>46902</td>\n",
       "      <td>12405</td>\n",
       "      <td>10029</td>\n",
       "      <td>NaN</td>\n",
       "      <td>186</td>\n",
       "      <td>NaN</td>\n",
       "    </tr>\n",
       "    <tr>\n",
       "      <th>mean</th>\n",
       "      <td>12132.464920</td>\n",
       "      <td>2009.750470</td>\n",
       "      <td>NaN</td>\n",
       "      <td>NaN</td>\n",
       "      <td>6.125235</td>\n",
       "      <td>NaN</td>\n",
       "      <td>115553.461738</td>\n",
       "      <td>NaN</td>\n",
       "      <td>NaN</td>\n",
       "      <td>NaN</td>\n",
       "      <td>1.0</td>\n",
       "      <td>NaN</td>\n",
       "      <td>39.55476</td>\n",
       "    </tr>\n",
       "    <tr>\n",
       "      <th>std</th>\n",
       "      <td>10040.803015</td>\n",
       "      <td>6.282065</td>\n",
       "      <td>NaN</td>\n",
       "      <td>NaN</td>\n",
       "      <td>1.660360</td>\n",
       "      <td>NaN</td>\n",
       "      <td>65094.611341</td>\n",
       "      <td>NaN</td>\n",
       "      <td>NaN</td>\n",
       "      <td>NaN</td>\n",
       "      <td>0.0</td>\n",
       "      <td>NaN</td>\n",
       "      <td>28.20427</td>\n",
       "    </tr>\n",
       "    <tr>\n",
       "      <th>min</th>\n",
       "      <td>1.000000</td>\n",
       "      <td>1908.000000</td>\n",
       "      <td>NaN</td>\n",
       "      <td>NaN</td>\n",
       "      <td>3.000000</td>\n",
       "      <td>NaN</td>\n",
       "      <td>0.000000</td>\n",
       "      <td>NaN</td>\n",
       "      <td>NaN</td>\n",
       "      <td>NaN</td>\n",
       "      <td>1.0</td>\n",
       "      <td>NaN</td>\n",
       "      <td>0.00000</td>\n",
       "    </tr>\n",
       "    <tr>\n",
       "      <th>25%</th>\n",
       "      <td>5000.000000</td>\n",
       "      <td>2006.000000</td>\n",
       "      <td>NaN</td>\n",
       "      <td>NaN</td>\n",
       "      <td>4.000000</td>\n",
       "      <td>NaN</td>\n",
       "      <td>70000.000000</td>\n",
       "      <td>NaN</td>\n",
       "      <td>NaN</td>\n",
       "      <td>NaN</td>\n",
       "      <td>1.0</td>\n",
       "      <td>NaN</td>\n",
       "      <td>19.00000</td>\n",
       "    </tr>\n",
       "    <tr>\n",
       "      <th>50%</th>\n",
       "      <td>9000.000000</td>\n",
       "      <td>2011.000000</td>\n",
       "      <td>NaN</td>\n",
       "      <td>NaN</td>\n",
       "      <td>6.000000</td>\n",
       "      <td>NaN</td>\n",
       "      <td>113000.000000</td>\n",
       "      <td>NaN</td>\n",
       "      <td>NaN</td>\n",
       "      <td>NaN</td>\n",
       "      <td>1.0</td>\n",
       "      <td>NaN</td>\n",
       "      <td>33.00000</td>\n",
       "    </tr>\n",
       "    <tr>\n",
       "      <th>75%</th>\n",
       "      <td>16839.000000</td>\n",
       "      <td>2014.000000</td>\n",
       "      <td>NaN</td>\n",
       "      <td>NaN</td>\n",
       "      <td>8.000000</td>\n",
       "      <td>NaN</td>\n",
       "      <td>155000.000000</td>\n",
       "      <td>NaN</td>\n",
       "      <td>NaN</td>\n",
       "      <td>NaN</td>\n",
       "      <td>1.0</td>\n",
       "      <td>NaN</td>\n",
       "      <td>53.00000</td>\n",
       "    </tr>\n",
       "    <tr>\n",
       "      <th>max</th>\n",
       "      <td>375000.000000</td>\n",
       "      <td>2019.000000</td>\n",
       "      <td>NaN</td>\n",
       "      <td>NaN</td>\n",
       "      <td>12.000000</td>\n",
       "      <td>NaN</td>\n",
       "      <td>990000.000000</td>\n",
       "      <td>NaN</td>\n",
       "      <td>NaN</td>\n",
       "      <td>NaN</td>\n",
       "      <td>1.0</td>\n",
       "      <td>NaN</td>\n",
       "      <td>271.00000</td>\n",
       "    </tr>\n",
       "  </tbody>\n",
       "</table>\n",
       "</div>"
      ],
      "text/plain": [
       "                price    model_year       model  condition     cylinders  \\\n",
       "count    51525.000000  47906.000000       51525      51525  46265.000000   \n",
       "unique            NaN           NaN         100          6           NaN   \n",
       "top               NaN           NaN  ford f-150  excellent           NaN   \n",
       "freq              NaN           NaN        2796      24773           NaN   \n",
       "mean     12132.464920   2009.750470         NaN        NaN      6.125235   \n",
       "std      10040.803015      6.282065         NaN        NaN      1.660360   \n",
       "min          1.000000   1908.000000         NaN        NaN      3.000000   \n",
       "25%       5000.000000   2006.000000         NaN        NaN      4.000000   \n",
       "50%       9000.000000   2011.000000         NaN        NaN      6.000000   \n",
       "75%      16839.000000   2014.000000         NaN        NaN      8.000000   \n",
       "max     375000.000000   2019.000000         NaN        NaN     12.000000   \n",
       "\n",
       "         fuel       odometer transmission   type paint_color   is_4wd  \\\n",
       "count   51525   43633.000000        51525  51525       42258  25572.0   \n",
       "unique      5            NaN            3     13          12      NaN   \n",
       "top       gas            NaN    automatic    SUV       white      NaN   \n",
       "freq    47288            NaN        46902  12405       10029      NaN   \n",
       "mean      NaN  115553.461738          NaN    NaN         NaN      1.0   \n",
       "std       NaN   65094.611341          NaN    NaN         NaN      0.0   \n",
       "min       NaN       0.000000          NaN    NaN         NaN      1.0   \n",
       "25%       NaN   70000.000000          NaN    NaN         NaN      1.0   \n",
       "50%       NaN  113000.000000          NaN    NaN         NaN      1.0   \n",
       "75%       NaN  155000.000000          NaN    NaN         NaN      1.0   \n",
       "max       NaN  990000.000000          NaN    NaN         NaN      1.0   \n",
       "\n",
       "       date_posted  days_listed  \n",
       "count        51525  51525.00000  \n",
       "unique         354          NaN  \n",
       "top     2019-03-17          NaN  \n",
       "freq           186          NaN  \n",
       "mean           NaN     39.55476  \n",
       "std            NaN     28.20427  \n",
       "min            NaN      0.00000  \n",
       "25%            NaN     19.00000  \n",
       "50%            NaN     33.00000  \n",
       "75%            NaN     53.00000  \n",
       "max            NaN    271.00000  "
      ]
     },
     "execution_count": 2,
     "metadata": {},
     "output_type": "execute_result"
    }
   ],
   "source": [
    "# Let's start by looking at the numeric columns.\n",
    "print(len(df), 'total records')\n",
    "df.describe(include='all')"
   ]
  },
  {
   "cell_type": "code",
   "execution_count": 3,
   "metadata": {},
   "outputs": [
    {
     "name": "stdout",
     "output_type": "stream",
     "text": [
      "<class 'pandas.core.frame.DataFrame'>\n",
      "RangeIndex: 51525 entries, 0 to 51524\n",
      "Data columns (total 13 columns):\n",
      " #   Column        Non-Null Count  Dtype  \n",
      "---  ------        --------------  -----  \n",
      " 0   price         51525 non-null  int64  \n",
      " 1   model_year    47906 non-null  float64\n",
      " 2   model         51525 non-null  object \n",
      " 3   condition     51525 non-null  object \n",
      " 4   cylinders     46265 non-null  float64\n",
      " 5   fuel          51525 non-null  object \n",
      " 6   odometer      43633 non-null  float64\n",
      " 7   transmission  51525 non-null  object \n",
      " 8   type          51525 non-null  object \n",
      " 9   paint_color   42258 non-null  object \n",
      " 10  is_4wd        25572 non-null  float64\n",
      " 11  date_posted   51525 non-null  object \n",
      " 12  days_listed   51525 non-null  int64  \n",
      "dtypes: float64(4), int64(2), object(7)\n",
      "memory usage: 5.1+ MB\n"
     ]
    }
   ],
   "source": [
    "df.info()"
   ]
  },
  {
   "cell_type": "code",
   "execution_count": 4,
   "metadata": {},
   "outputs": [
    {
     "data": {
      "text/html": [
       "<div>\n",
       "<style scoped>\n",
       "    .dataframe tbody tr th:only-of-type {\n",
       "        vertical-align: middle;\n",
       "    }\n",
       "\n",
       "    .dataframe tbody tr th {\n",
       "        vertical-align: top;\n",
       "    }\n",
       "\n",
       "    .dataframe thead th {\n",
       "        text-align: right;\n",
       "    }\n",
       "</style>\n",
       "<table border=\"1\" class=\"dataframe\">\n",
       "  <thead>\n",
       "    <tr style=\"text-align: right;\">\n",
       "      <th></th>\n",
       "      <th>missing_values</th>\n",
       "      <th>% of total</th>\n",
       "    </tr>\n",
       "  </thead>\n",
       "  <tbody>\n",
       "    <tr>\n",
       "      <th>is_4wd</th>\n",
       "      <td>25953</td>\n",
       "      <td>0.50</td>\n",
       "    </tr>\n",
       "    <tr>\n",
       "      <th>paint_color</th>\n",
       "      <td>9267</td>\n",
       "      <td>0.18</td>\n",
       "    </tr>\n",
       "    <tr>\n",
       "      <th>odometer</th>\n",
       "      <td>7892</td>\n",
       "      <td>0.15</td>\n",
       "    </tr>\n",
       "    <tr>\n",
       "      <th>cylinders</th>\n",
       "      <td>5260</td>\n",
       "      <td>0.10</td>\n",
       "    </tr>\n",
       "    <tr>\n",
       "      <th>model_year</th>\n",
       "      <td>3619</td>\n",
       "      <td>0.07</td>\n",
       "    </tr>\n",
       "    <tr>\n",
       "      <th>price</th>\n",
       "      <td>0</td>\n",
       "      <td>0.00</td>\n",
       "    </tr>\n",
       "    <tr>\n",
       "      <th>model</th>\n",
       "      <td>0</td>\n",
       "      <td>0.00</td>\n",
       "    </tr>\n",
       "    <tr>\n",
       "      <th>condition</th>\n",
       "      <td>0</td>\n",
       "      <td>0.00</td>\n",
       "    </tr>\n",
       "    <tr>\n",
       "      <th>fuel</th>\n",
       "      <td>0</td>\n",
       "      <td>0.00</td>\n",
       "    </tr>\n",
       "    <tr>\n",
       "      <th>transmission</th>\n",
       "      <td>0</td>\n",
       "      <td>0.00</td>\n",
       "    </tr>\n",
       "    <tr>\n",
       "      <th>type</th>\n",
       "      <td>0</td>\n",
       "      <td>0.00</td>\n",
       "    </tr>\n",
       "    <tr>\n",
       "      <th>date_posted</th>\n",
       "      <td>0</td>\n",
       "      <td>0.00</td>\n",
       "    </tr>\n",
       "    <tr>\n",
       "      <th>days_listed</th>\n",
       "      <td>0</td>\n",
       "      <td>0.00</td>\n",
       "    </tr>\n",
       "  </tbody>\n",
       "</table>\n",
       "</div>"
      ],
      "text/plain": [
       "              missing_values  % of total\n",
       "is_4wd                 25953        0.50\n",
       "paint_color             9267        0.18\n",
       "odometer                7892        0.15\n",
       "cylinders               5260        0.10\n",
       "model_year              3619        0.07\n",
       "price                      0        0.00\n",
       "model                      0        0.00\n",
       "condition                  0        0.00\n",
       "fuel                       0        0.00\n",
       "transmission               0        0.00\n",
       "type                       0        0.00\n",
       "date_posted                0        0.00\n",
       "days_listed                0        0.00"
      ]
     },
     "execution_count": 4,
     "metadata": {},
     "output_type": "execute_result"
    }
   ],
   "source": [
    "report = df.isna().sum().to_frame()\n",
    "report = report.rename(columns = {0: 'missing_values'})\n",
    "report['% of total'] = (report['missing_values'] / df.shape[0]).round(2)\n",
    "report.sort_values(by = 'missing_values', ascending = False)"
   ]
  },
  {
   "cell_type": "markdown",
   "metadata": {},
   "source": [
    "<div class=\"alert alert-block alert-warning\">\n",
    "   <h3>Reviewer's commentary <a class=\"tocSkip\"> </h3>\n",
    "    <br/>\n",
    "<b>Remarks and recommendations📌:</b>  \n",
    "    \n",
    "Before you start data preprocessing, it is important to check the percentage of missing values, try to use this code:\n",
    "    \n",
    "`data.isna().sum()*100/len(data)`\n",
    "       \n",
    "`pd.DataFrame(round((data.isna().mean()*100),2)).style.background_gradient('coolwarm')`\n",
    "       \n",
    "`data.isna().mean() * 100`\n",
    "\n",
    "Or like this:\n",
    "    \n",
    "`report = data.isna().sum().to_frame()\n",
    "report = report.rename(columns = {0: 'missing_values'})\n",
    "report['% of total'] = (report['missing_values'] / data.shape[0]).round(2)\n",
    "report.sort_values(by = 'missing_values', ascending = False)`"
   ]
  },
  {
   "cell_type": "markdown",
   "metadata": {},
   "source": [
    "<div class=\"alert alert-block alert-warning\">\n",
    "   <h3>Reviewer's commentary <a class=\"tocSkip\"> </h3>\n",
    "    <br/>\n",
    "<b>Remarks and recommendations📌:</b>  \n",
    "       \n",
    "Also there is one rather useful library for working with the data - `sidetable`, it offers a great number of effective methods for working with the data, including missing values. More info here:\n",
    "       \n",
    "https://pbpython.com/sidetable.html\n",
    "       \n",
    "https://github.com/chris1610/sidetable\n",
    "       \n",
    "Tip! If you decide to use sidetable library, don't forget to install it in the jupyter notebook, using `!pip install -U sidetable`"
   ]
  },
  {
   "cell_type": "markdown",
   "metadata": {},
   "source": [
    "<div class=\"alert alert-block alert-success\">\n",
    "    <h3>Reviewer's commentary:second iteration of the review <a class=\"tocSkip\"> </h3>\n",
    "    <br/>\n",
    "<b>Well done!👍:</b> \n",
    "        \n",
    "Ok, looks great!"
   ]
  },
  {
   "cell_type": "markdown",
   "metadata": {},
   "source": [
    "There are 51525 records in this dataset. There are lots of records that have missing values. Further investigation is needed.  \n",
    "\n",
    "Also, all numeric columns  need to be converted into integers.  They appear to have been initially entered as integers, but somewhere along the data pipeline, they started to float.\n",
    "\n",
    "The **'price'** column has some unusual prices, both on the low end and the high end.  Lots of \\$1 cars, and lots of unusually expensive cars. Further investigation is needed.  \n",
    "\n",
    "The **'model_year'** column has some null values and some unusual values.  We have other problems with **'model_year'**. I don't think Ford was building F-150s back in 1908. All these early model year cars need closer inspection. Also, the missing values here will need to be dealt with later on in this analysis.\n",
    "\n",
    "The column **'cylinders'** has missing values, but the values that are there look good.  Further investigation is needed.\n",
    "\n",
    "There are some null values in the **'odometer'** that require further investigation. \n",
    "\n",
    "The **'is_4wd'** column has some structural issues.  The column needs to be converted to boolean, True False, values, and null values need to be converted to False.  I imagine data was only entered into that field at the time of input in cases where the the vehicle actually **is** 4WD.\n",
    "\n",
    "The **'days_listed'** column looks good."
   ]
  },
  {
   "cell_type": "markdown",
   "metadata": {},
   "source": [
    "We have some problems with **'model_year'**.  I don't think Ford was building F-150s back in 1908.  These early model year cars need closer inspection.  Also, the missing values here will need to be dealt with later on in this analysis."
   ]
  },
  {
   "cell_type": "markdown",
   "metadata": {},
   "source": [
    "## Let's look at the *object* columns in more detail using *value_counts()*"
   ]
  },
  {
   "cell_type": "code",
   "execution_count": 5,
   "metadata": {
    "scrolled": true
   },
   "outputs": [
    {
     "name": "stdout",
     "output_type": "stream",
     "text": [
      "The 'model' column has 51525 all records. Looks good!\n"
     ]
    }
   ],
   "source": [
    "print(\"The 'model' column has {} all records. Looks good!\".format(len(df['model'])))"
   ]
  },
  {
   "cell_type": "code",
   "execution_count": 6,
   "metadata": {},
   "outputs": [
    {
     "name": "stdout",
     "output_type": "stream",
     "text": [
      "['bmw x5' 'ford f-150' 'hyundai sonata' 'chrysler 200' 'chrysler 300'\n",
      " 'toyota camry' 'honda pilot' 'kia sorento' 'chevrolet silverado 1500'\n",
      " 'honda accord' 'ram 1500' 'gmc yukon' 'jeep cherokee'\n",
      " 'chevrolet traverse' 'hyundai elantra' 'chevrolet tahoe' 'toyota rav4'\n",
      " 'chevrolet silverado' 'jeep wrangler' 'chevrolet malibu' 'ford fusion se'\n",
      " 'chevrolet impala' 'chevrolet corvette' 'jeep liberty' 'toyota camry le'\n",
      " 'nissan altima' 'subaru outback' 'toyota highlander' 'dodge charger'\n",
      " 'toyota tacoma' 'chevrolet equinox' 'nissan rogue'\n",
      " 'mercedes-benz benze sprinter 2500' 'honda cr-v' 'jeep grand cherokee'\n",
      " 'toyota 4runner' 'ford focus' 'honda civic' 'kia soul'\n",
      " 'chevrolet colorado' 'ford f150 supercrew cab xlt'\n",
      " 'chevrolet camaro lt coupe 2d' 'chevrolet cruze' 'ford mustang'\n",
      " 'chevrolet silverado 3500hd' 'nissan frontier crew cab sv'\n",
      " 'subaru impreza' 'jeep grand cherokee laredo' 'nissan versa'\n",
      " 'ford f-250 sd' 'chevrolet silverado 1500 crew' 'ford f250 super duty'\n",
      " 'chevrolet camaro' 'ford mustang gt coupe 2d' 'subaru forester'\n",
      " 'ford explorer' 'ford f-350 sd' 'ford edge' 'nissan maxima' 'ford f-250'\n",
      " 'nissan sentra' 'ford f150' 'chevrolet suburban' 'ford expedition'\n",
      " 'dodge grand caravan' 'ford taurus' 'acura tl' 'ford f350 super duty'\n",
      " 'ford ranger' 'gmc sierra' 'hyundai santa fe' 'ford escape'\n",
      " 'gmc sierra 2500hd' 'honda civic lx' 'gmc sierra 1500' 'honda odyssey'\n",
      " 'cadillac escalade' 'volkswagen jetta' 'toyota corolla'\n",
      " 'chrysler town & country' 'volkswagen passat' 'toyota prius'\n",
      " 'buick enclave' 'ford fusion' 'toyota tundra' 'ram 3500' 'ram 2500'\n",
      " 'nissan frontier' 'chevrolet silverado 2500hd' 'jeep wrangler unlimited'\n",
      " 'ford f-250 super duty' 'gmc acadia' 'toyota sienna' 'ford focus se'\n",
      " 'ford f250' 'dodge dakota' 'ford f350' 'chevrolet trailblazer'\n",
      " 'ford econoline' 'nissan murano']\n"
     ]
    }
   ],
   "source": [
    "print(df['model'].unique())"
   ]
  },
  {
   "cell_type": "markdown",
   "metadata": {},
   "source": [
    "The **'model'** column has no null values.  Some of the values need to be be consolidated.\n",
    "\n",
    "Consolidations such as: f150 & f-150 ==> f-150.  Similarly with f250 and f350, etc. "
   ]
  },
  {
   "cell_type": "code",
   "execution_count": 7,
   "metadata": {
    "scrolled": true
   },
   "outputs": [
    {
     "data": {
      "text/plain": [
       "ford f-150                     2796\n",
       "chevrolet silverado 1500       2171\n",
       "ram 1500                       1750\n",
       "chevrolet silverado            1271\n",
       "jeep wrangler                  1119\n",
       "ram 2500                       1091\n",
       "toyota camry                    990\n",
       "honda accord                    964\n",
       "chevrolet silverado 2500hd      915\n",
       "gmc sierra 1500                 906\n",
       "ford explorer                   847\n",
       "ford escape                     841\n",
       "toyota tacoma                   827\n",
       "honda civic                     815\n",
       "nissan altima                   813\n",
       "jeep grand cherokee             806\n",
       "ford focus                      754\n",
       "chevrolet tahoe                 713\n",
       "honda cr-v                      685\n",
       "ford mustang                    681\n",
       "chevrolet impala                674\n",
       "toyota corolla                  650\n",
       "chevrolet malibu                617\n",
       "toyota tundra                   603\n",
       "dodge grand caravan             598\n",
       "chevrolet equinox               591\n",
       "chevrolet suburban              562\n",
       "ford fusion                     544\n",
       "subaru outback                  538\n",
       "ford f150                       530\n",
       "volkswagen jetta                519\n",
       "chevrolet corvette              499\n",
       "nissan sentra                   497\n",
       "subaru forester                 484\n",
       "toyota prius                    482\n",
       "hyundai sonata                  477\n",
       "ram 3500                        475\n",
       "nissan rogue                    469\n",
       "toyota rav4                     461\n",
       "honda odyssey                   457\n",
       "chevrolet cruze                 457\n",
       "toyota 4runner                  453\n",
       "jeep wrangler unlimited         452\n",
       "gmc sierra 2500hd               438\n",
       "ford f-250 sd                   426\n",
       "ford ranger                     423\n",
       "hyundai elantra                 423\n",
       "ford f-250                      422\n",
       "dodge charger                   415\n",
       "chevrolet camaro                414\n",
       "gmc sierra                      388\n",
       "ford edge                       383\n",
       "ford focus se                   376\n",
       "ford expedition                 372\n",
       "ford f250 super duty            370\n",
       "jeep liberty                    355\n",
       "volkswagen passat               350\n",
       "kia soul                        349\n",
       "nissan frontier crew cab sv     345\n",
       "ford f250                       339\n",
       "Name: model, dtype: int64"
      ]
     },
     "execution_count": 7,
     "metadata": {},
     "output_type": "execute_result"
    }
   ],
   "source": [
    "df['model'].value_counts().head(60) # I like being able to scroll"
   ]
  },
  {
   "cell_type": "markdown",
   "metadata": {},
   "source": [
    "The **'condition'** column has no null values.  WE HAVE BEEN GIVEN EXPLICIT INSTRUCTIONS WHAT TO DO WITH **'condition'** - change them to corresponding numeric values.  See **Data Preprocessing** below.\n",
    "\n",
    "NOTE: My instinct is to put the part in **Data Preprocessing** here."
   ]
  },
  {
   "cell_type": "code",
   "execution_count": 8,
   "metadata": {},
   "outputs": [
    {
     "data": {
      "text/html": [
       "<div>\n",
       "<style scoped>\n",
       "    .dataframe tbody tr th:only-of-type {\n",
       "        vertical-align: middle;\n",
       "    }\n",
       "\n",
       "    .dataframe tbody tr th {\n",
       "        vertical-align: top;\n",
       "    }\n",
       "\n",
       "    .dataframe thead th {\n",
       "        text-align: right;\n",
       "    }\n",
       "</style>\n",
       "<table border=\"1\" class=\"dataframe\">\n",
       "  <thead>\n",
       "    <tr style=\"text-align: right;\">\n",
       "      <th></th>\n",
       "      <th>price</th>\n",
       "      <th>model_year</th>\n",
       "      <th>cylinders</th>\n",
       "      <th>odometer</th>\n",
       "      <th>is_4wd</th>\n",
       "      <th>days_listed</th>\n",
       "    </tr>\n",
       "  </thead>\n",
       "  <tbody>\n",
       "    <tr>\n",
       "      <th>count</th>\n",
       "      <td>51525.000000</td>\n",
       "      <td>47906.000000</td>\n",
       "      <td>46265.000000</td>\n",
       "      <td>50975.000000</td>\n",
       "      <td>25572.0</td>\n",
       "      <td>51525.00000</td>\n",
       "    </tr>\n",
       "    <tr>\n",
       "      <th>mean</th>\n",
       "      <td>12132.464920</td>\n",
       "      <td>2009.750470</td>\n",
       "      <td>6.125235</td>\n",
       "      <td>115186.066179</td>\n",
       "      <td>1.0</td>\n",
       "      <td>39.55476</td>\n",
       "    </tr>\n",
       "    <tr>\n",
       "      <th>std</th>\n",
       "      <td>10040.803015</td>\n",
       "      <td>6.282065</td>\n",
       "      <td>1.660360</td>\n",
       "      <td>62387.715502</td>\n",
       "      <td>0.0</td>\n",
       "      <td>28.20427</td>\n",
       "    </tr>\n",
       "    <tr>\n",
       "      <th>min</th>\n",
       "      <td>1.000000</td>\n",
       "      <td>1908.000000</td>\n",
       "      <td>3.000000</td>\n",
       "      <td>0.000000</td>\n",
       "      <td>1.0</td>\n",
       "      <td>0.00000</td>\n",
       "    </tr>\n",
       "    <tr>\n",
       "      <th>25%</th>\n",
       "      <td>5000.000000</td>\n",
       "      <td>2006.000000</td>\n",
       "      <td>4.000000</td>\n",
       "      <td>73000.000000</td>\n",
       "      <td>1.0</td>\n",
       "      <td>19.00000</td>\n",
       "    </tr>\n",
       "    <tr>\n",
       "      <th>50%</th>\n",
       "      <td>9000.000000</td>\n",
       "      <td>2011.000000</td>\n",
       "      <td>6.000000</td>\n",
       "      <td>113920.000000</td>\n",
       "      <td>1.0</td>\n",
       "      <td>33.00000</td>\n",
       "    </tr>\n",
       "    <tr>\n",
       "      <th>75%</th>\n",
       "      <td>16839.000000</td>\n",
       "      <td>2014.000000</td>\n",
       "      <td>8.000000</td>\n",
       "      <td>153000.000000</td>\n",
       "      <td>1.0</td>\n",
       "      <td>53.00000</td>\n",
       "    </tr>\n",
       "    <tr>\n",
       "      <th>max</th>\n",
       "      <td>375000.000000</td>\n",
       "      <td>2019.000000</td>\n",
       "      <td>12.000000</td>\n",
       "      <td>990000.000000</td>\n",
       "      <td>1.0</td>\n",
       "      <td>271.00000</td>\n",
       "    </tr>\n",
       "  </tbody>\n",
       "</table>\n",
       "</div>"
      ],
      "text/plain": [
       "               price    model_year     cylinders       odometer   is_4wd  \\\n",
       "count   51525.000000  47906.000000  46265.000000   50975.000000  25572.0   \n",
       "mean    12132.464920   2009.750470      6.125235  115186.066179      1.0   \n",
       "std     10040.803015      6.282065      1.660360   62387.715502      0.0   \n",
       "min         1.000000   1908.000000      3.000000       0.000000      1.0   \n",
       "25%      5000.000000   2006.000000      4.000000   73000.000000      1.0   \n",
       "50%      9000.000000   2011.000000      6.000000  113920.000000      1.0   \n",
       "75%     16839.000000   2014.000000      8.000000  153000.000000      1.0   \n",
       "max    375000.000000   2019.000000     12.000000  990000.000000      1.0   \n",
       "\n",
       "       days_listed  \n",
       "count  51525.00000  \n",
       "mean      39.55476  \n",
       "std       28.20427  \n",
       "min        0.00000  \n",
       "25%       19.00000  \n",
       "50%       33.00000  \n",
       "75%       53.00000  \n",
       "max      271.00000  "
      ]
     },
     "execution_count": 8,
     "metadata": {},
     "output_type": "execute_result"
    }
   ],
   "source": [
    "df['odometer'] = df['odometer'].fillna(df.groupby('model_year')['odometer'].transform('median'))\n",
    "df.describe()"
   ]
  },
  {
   "cell_type": "markdown",
   "metadata": {},
   "source": [
    "### Conclusion: odometer and model_year\n",
    "The 'odometer' values have been mostly updated.  The lack of 'model_year' data kept the 'odometer' column from being free of null values.  "
   ]
  },
  {
   "cell_type": "code",
   "execution_count": 9,
   "metadata": {},
   "outputs": [
    {
     "data": {
      "text/plain": [
       "excellent    24773\n",
       "good         20145\n",
       "like new      4742\n",
       "fair          1607\n",
       "new            143\n",
       "salvage        115\n",
       "Name: condition, dtype: int64"
      ]
     },
     "execution_count": 9,
     "metadata": {},
     "output_type": "execute_result"
    }
   ],
   "source": [
    "df['condition'].value_counts()"
   ]
  },
  {
   "cell_type": "markdown",
   "metadata": {},
   "source": [
    "At first glance **'condition'** looks perfect.  We will make the required modifications later."
   ]
  },
  {
   "cell_type": "code",
   "execution_count": 10,
   "metadata": {},
   "outputs": [
    {
     "data": {
      "text/plain": [
       "gas         47288\n",
       "diesel       3714\n",
       "hybrid        409\n",
       "other         108\n",
       "electric        6\n",
       "Name: fuel, dtype: int64"
      ]
     },
     "execution_count": 10,
     "metadata": {},
     "output_type": "execute_result"
    }
   ],
   "source": [
    "df['fuel'].value_counts()"
   ]
  },
  {
   "cell_type": "markdown",
   "metadata": {},
   "source": [
    "At first glance **'fuel'** looks good."
   ]
  },
  {
   "cell_type": "code",
   "execution_count": 11,
   "metadata": {},
   "outputs": [
    {
     "data": {
      "text/plain": [
       "automatic    46902\n",
       "manual        2829\n",
       "other         1794\n",
       "Name: transmission, dtype: int64"
      ]
     },
     "execution_count": 11,
     "metadata": {},
     "output_type": "execute_result"
    }
   ],
   "source": [
    "df['transmission'].value_counts()"
   ]
  },
  {
   "cell_type": "markdown",
   "metadata": {},
   "source": [
    "At first glance **'transmission'** looks good."
   ]
  },
  {
   "cell_type": "code",
   "execution_count": 12,
   "metadata": {},
   "outputs": [
    {
     "data": {
      "text/plain": [
       "SUV            12405\n",
       "truck          12353\n",
       "sedan          12154\n",
       "pickup          6988\n",
       "coupe           2303\n",
       "wagon           1541\n",
       "mini-van        1161\n",
       "hatchback       1047\n",
       "van              633\n",
       "convertible      446\n",
       "other            256\n",
       "offroad          214\n",
       "bus               24\n",
       "Name: type, dtype: int64"
      ]
     },
     "execution_count": 12,
     "metadata": {},
     "output_type": "execute_result"
    }
   ],
   "source": [
    "df['type'].value_counts() "
   ]
  },
  {
   "cell_type": "markdown",
   "metadata": {},
   "source": [
    "I want to consolidate **'truck'** and **'pickup'** since they're the same thing"
   ]
  },
  {
   "cell_type": "code",
   "execution_count": 13,
   "metadata": {},
   "outputs": [
    {
     "data": {
      "text/plain": [
       "white     10029\n",
       "black      7692\n",
       "silver     6244\n",
       "grey       5037\n",
       "blue       4475\n",
       "red        4421\n",
       "green      1396\n",
       "brown      1223\n",
       "custom     1153\n",
       "yellow      255\n",
       "orange      231\n",
       "purple      102\n",
       "Name: paint_color, dtype: int64"
      ]
     },
     "execution_count": 13,
     "metadata": {},
     "output_type": "execute_result"
    }
   ],
   "source": [
    "df['paint_color'].value_counts()"
   ]
  },
  {
   "cell_type": "markdown",
   "metadata": {},
   "source": [
    "## Step 1: Conclusion"
   ]
  },
  {
   "cell_type": "markdown",
   "metadata": {},
   "source": [
    "**price** - no nulls. Investigate abnormal prices\n",
    " \n",
    "**model_year** - Has nulls. Investigate strange year/model combinations\n",
    " \n",
    "**model** - no nulls. Further inspection required to be sure I have consolidated the duplicates\n",
    " \n",
    "**condition** - No nulls. Looks good!\n",
    " \n",
    "**cylinders** - Has nulls. \n",
    " \n",
    "**fuel** - No nulls.  Looks good!\n",
    " \n",
    "**odometer** - has nulls.  Investigate strange values further. \n",
    " \n",
    "**transmission** - No nulls.  Looks good!\n",
    " \n",
    "**type** - No nulls.  I want to consolidate **'truck'** and **'pickup'** since they're the same thing\n",
    " \n",
    "**paint_color** - Has nulls. Suggest replacing null values with the value 'unknown'\n",
    " \n",
    "**is_4wd** - Has nulls. Convert column to boolean and replace null values with **False**\n",
    " \n",
    "**date_posted** - No nulls. Needs to be converted to datetime.\n",
    " \n",
    "**days_listed** - No nulls. Looks good!"
   ]
  },
  {
   "cell_type": "markdown",
   "metadata": {},
   "source": [
    "## Step 2: Data preprocessing\n",
    "Working with nulls, changing data types and consolidating values"
   ]
  },
  {
   "cell_type": "markdown",
   "metadata": {},
   "source": [
    "### 'model_year'"
   ]
  },
  {
   "cell_type": "code",
   "execution_count": 14,
   "metadata": {
    "scrolled": true
   },
   "outputs": [
    {
     "name": "stdout",
     "output_type": "stream",
     "text": [
      "We started with 3619 nulls, and now we have 0 nulls.\n"
     ]
    }
   ],
   "source": [
    "before = len(df[df['model_year'].isna()])\n",
    "md = int(df['model_year'].median())\n",
    "df['model_year'] = df['model_year'].fillna(value=md)\n",
    "df['model_year'] = df['model_year'].astype(int)      # Years are integers\n",
    "after = len(df[df['model_year'].isna()])\n",
    "print('We started with {} nulls, and now we have {} nulls.'.format(before,after))"
   ]
  },
  {
   "cell_type": "markdown",
   "metadata": {},
   "source": [
    "### 'model'"
   ]
  },
  {
   "cell_type": "code",
   "execution_count": 15,
   "metadata": {
    "scrolled": true
   },
   "outputs": [
    {
     "data": {
      "text/html": [
       "<div>\n",
       "<style scoped>\n",
       "    .dataframe tbody tr th:only-of-type {\n",
       "        vertical-align: middle;\n",
       "    }\n",
       "\n",
       "    .dataframe tbody tr th {\n",
       "        vertical-align: top;\n",
       "    }\n",
       "\n",
       "    .dataframe thead th {\n",
       "        text-align: right;\n",
       "    }\n",
       "</style>\n",
       "<table border=\"1\" class=\"dataframe\">\n",
       "  <thead>\n",
       "    <tr style=\"text-align: right;\">\n",
       "      <th></th>\n",
       "      <th>type</th>\n",
       "    </tr>\n",
       "    <tr>\n",
       "      <th>model</th>\n",
       "      <th></th>\n",
       "    </tr>\n",
       "  </thead>\n",
       "  <tbody>\n",
       "    <tr>\n",
       "      <th>bmw x5</th>\n",
       "      <td>3</td>\n",
       "    </tr>\n",
       "    <tr>\n",
       "      <th>buick enclave</th>\n",
       "      <td>2</td>\n",
       "    </tr>\n",
       "    <tr>\n",
       "      <th>cadillac escalade</th>\n",
       "      <td>3</td>\n",
       "    </tr>\n",
       "    <tr>\n",
       "      <th>chevrolet colorado</th>\n",
       "      <td>189</td>\n",
       "    </tr>\n",
       "    <tr>\n",
       "      <th>chevrolet corvette</th>\n",
       "      <td>1</td>\n",
       "    </tr>\n",
       "    <tr>\n",
       "      <th>chevrolet malibu</th>\n",
       "      <td>1</td>\n",
       "    </tr>\n",
       "    <tr>\n",
       "      <th>chevrolet silverado</th>\n",
       "      <td>746</td>\n",
       "    </tr>\n",
       "    <tr>\n",
       "      <th>chevrolet silverado 1500</th>\n",
       "      <td>1484</td>\n",
       "    </tr>\n",
       "    <tr>\n",
       "      <th>chevrolet silverado 1500 crew</th>\n",
       "      <td>2</td>\n",
       "    </tr>\n",
       "    <tr>\n",
       "      <th>chevrolet silverado 2500hd</th>\n",
       "      <td>652</td>\n",
       "    </tr>\n",
       "    <tr>\n",
       "      <th>chevrolet silverado 3500hd</th>\n",
       "      <td>187</td>\n",
       "    </tr>\n",
       "    <tr>\n",
       "      <th>chevrolet suburban</th>\n",
       "      <td>9</td>\n",
       "    </tr>\n",
       "    <tr>\n",
       "      <th>chevrolet tahoe</th>\n",
       "      <td>6</td>\n",
       "    </tr>\n",
       "    <tr>\n",
       "      <th>dodge dakota</th>\n",
       "      <td>135</td>\n",
       "    </tr>\n",
       "    <tr>\n",
       "      <th>ford econoline</th>\n",
       "      <td>170</td>\n",
       "    </tr>\n",
       "    <tr>\n",
       "      <th>ford escape</th>\n",
       "      <td>1</td>\n",
       "    </tr>\n",
       "    <tr>\n",
       "      <th>ford expedition</th>\n",
       "      <td>5</td>\n",
       "    </tr>\n",
       "    <tr>\n",
       "      <th>ford explorer</th>\n",
       "      <td>6</td>\n",
       "    </tr>\n",
       "    <tr>\n",
       "      <th>ford f-150</th>\n",
       "      <td>1879</td>\n",
       "    </tr>\n",
       "    <tr>\n",
       "      <th>ford f-250</th>\n",
       "      <td>250</td>\n",
       "    </tr>\n",
       "    <tr>\n",
       "      <th>ford f-250 sd</th>\n",
       "      <td>425</td>\n",
       "    </tr>\n",
       "    <tr>\n",
       "      <th>ford f-250 super duty</th>\n",
       "      <td>159</td>\n",
       "    </tr>\n",
       "    <tr>\n",
       "      <th>ford f-350 sd</th>\n",
       "      <td>294</td>\n",
       "    </tr>\n",
       "    <tr>\n",
       "      <th>ford f150</th>\n",
       "      <td>281</td>\n",
       "    </tr>\n",
       "    <tr>\n",
       "      <th>ford f150 supercrew cab xlt</th>\n",
       "      <td>26</td>\n",
       "    </tr>\n",
       "    <tr>\n",
       "      <th>ford f250</th>\n",
       "      <td>194</td>\n",
       "    </tr>\n",
       "    <tr>\n",
       "      <th>ford f250 super duty</th>\n",
       "      <td>227</td>\n",
       "    </tr>\n",
       "    <tr>\n",
       "      <th>ford f350</th>\n",
       "      <td>181</td>\n",
       "    </tr>\n",
       "    <tr>\n",
       "      <th>ford f350 super duty</th>\n",
       "      <td>148</td>\n",
       "    </tr>\n",
       "    <tr>\n",
       "      <th>ford fusion se</th>\n",
       "      <td>2</td>\n",
       "    </tr>\n",
       "    <tr>\n",
       "      <th>ford ranger</th>\n",
       "      <td>204</td>\n",
       "    </tr>\n",
       "    <tr>\n",
       "      <th>gmc sierra</th>\n",
       "      <td>240</td>\n",
       "    </tr>\n",
       "    <tr>\n",
       "      <th>gmc sierra 1500</th>\n",
       "      <td>633</td>\n",
       "    </tr>\n",
       "    <tr>\n",
       "      <th>gmc sierra 2500hd</th>\n",
       "      <td>314</td>\n",
       "    </tr>\n",
       "    <tr>\n",
       "      <th>gmc yukon</th>\n",
       "      <td>1</td>\n",
       "    </tr>\n",
       "    <tr>\n",
       "      <th>honda accord</th>\n",
       "      <td>3</td>\n",
       "    </tr>\n",
       "    <tr>\n",
       "      <th>honda odyssey</th>\n",
       "      <td>3</td>\n",
       "    </tr>\n",
       "    <tr>\n",
       "      <th>honda pilot</th>\n",
       "      <td>1</td>\n",
       "    </tr>\n",
       "    <tr>\n",
       "      <th>hyundai santa fe</th>\n",
       "      <td>1</td>\n",
       "    </tr>\n",
       "    <tr>\n",
       "      <th>jeep cherokee</th>\n",
       "      <td>2</td>\n",
       "    </tr>\n",
       "    <tr>\n",
       "      <th>jeep grand cherokee</th>\n",
       "      <td>4</td>\n",
       "    </tr>\n",
       "    <tr>\n",
       "      <th>jeep grand cherokee laredo</th>\n",
       "      <td>1</td>\n",
       "    </tr>\n",
       "    <tr>\n",
       "      <th>jeep liberty</th>\n",
       "      <td>5</td>\n",
       "    </tr>\n",
       "    <tr>\n",
       "      <th>jeep wrangler</th>\n",
       "      <td>21</td>\n",
       "    </tr>\n",
       "    <tr>\n",
       "      <th>jeep wrangler unlimited</th>\n",
       "      <td>1</td>\n",
       "    </tr>\n",
       "    <tr>\n",
       "      <th>nissan altima</th>\n",
       "      <td>1</td>\n",
       "    </tr>\n",
       "    <tr>\n",
       "      <th>nissan frontier</th>\n",
       "      <td>162</td>\n",
       "    </tr>\n",
       "    <tr>\n",
       "      <th>nissan frontier crew cab sv</th>\n",
       "      <td>5</td>\n",
       "    </tr>\n",
       "    <tr>\n",
       "      <th>nissan maxima</th>\n",
       "      <td>4</td>\n",
       "    </tr>\n",
       "    <tr>\n",
       "      <th>nissan murano</th>\n",
       "      <td>2</td>\n",
       "    </tr>\n",
       "    <tr>\n",
       "      <th>ram 1500</th>\n",
       "      <td>1125</td>\n",
       "    </tr>\n",
       "    <tr>\n",
       "      <th>ram 2500</th>\n",
       "      <td>736</td>\n",
       "    </tr>\n",
       "    <tr>\n",
       "      <th>ram 3500</th>\n",
       "      <td>320</td>\n",
       "    </tr>\n",
       "    <tr>\n",
       "      <th>toyota 4runner</th>\n",
       "      <td>6</td>\n",
       "    </tr>\n",
       "    <tr>\n",
       "      <th>toyota camry</th>\n",
       "      <td>1</td>\n",
       "    </tr>\n",
       "    <tr>\n",
       "      <th>toyota corolla</th>\n",
       "      <td>1</td>\n",
       "    </tr>\n",
       "    <tr>\n",
       "      <th>toyota rav4</th>\n",
       "      <td>4</td>\n",
       "    </tr>\n",
       "    <tr>\n",
       "      <th>toyota tacoma</th>\n",
       "      <td>470</td>\n",
       "    </tr>\n",
       "    <tr>\n",
       "      <th>toyota tundra</th>\n",
       "      <td>414</td>\n",
       "    </tr>\n",
       "  </tbody>\n",
       "</table>\n",
       "</div>"
      ],
      "text/plain": [
       "                               type\n",
       "model                              \n",
       "bmw x5                            3\n",
       "buick enclave                     2\n",
       "cadillac escalade                 3\n",
       "chevrolet colorado              189\n",
       "chevrolet corvette                1\n",
       "chevrolet malibu                  1\n",
       "chevrolet silverado             746\n",
       "chevrolet silverado 1500       1484\n",
       "chevrolet silverado 1500 crew     2\n",
       "chevrolet silverado 2500hd      652\n",
       "chevrolet silverado 3500hd      187\n",
       "chevrolet suburban                9\n",
       "chevrolet tahoe                   6\n",
       "dodge dakota                    135\n",
       "ford econoline                  170\n",
       "ford escape                       1\n",
       "ford expedition                   5\n",
       "ford explorer                     6\n",
       "ford f-150                     1879\n",
       "ford f-250                      250\n",
       "ford f-250 sd                   425\n",
       "ford f-250 super duty           159\n",
       "ford f-350 sd                   294\n",
       "ford f150                       281\n",
       "ford f150 supercrew cab xlt      26\n",
       "ford f250                       194\n",
       "ford f250 super duty            227\n",
       "ford f350                       181\n",
       "ford f350 super duty            148\n",
       "ford fusion se                    2\n",
       "ford ranger                     204\n",
       "gmc sierra                      240\n",
       "gmc sierra 1500                 633\n",
       "gmc sierra 2500hd               314\n",
       "gmc yukon                         1\n",
       "honda accord                      3\n",
       "honda odyssey                     3\n",
       "honda pilot                       1\n",
       "hyundai santa fe                  1\n",
       "jeep cherokee                     2\n",
       "jeep grand cherokee               4\n",
       "jeep grand cherokee laredo        1\n",
       "jeep liberty                      5\n",
       "jeep wrangler                    21\n",
       "jeep wrangler unlimited           1\n",
       "nissan altima                     1\n",
       "nissan frontier                 162\n",
       "nissan frontier crew cab sv       5\n",
       "nissan maxima                     4\n",
       "nissan murano                     2\n",
       "ram 1500                       1125\n",
       "ram 2500                        736\n",
       "ram 3500                        320\n",
       "toyota 4runner                    6\n",
       "toyota camry                      1\n",
       "toyota corolla                    1\n",
       "toyota rav4                       4\n",
       "toyota tacoma                   470\n",
       "toyota tundra                   414"
      ]
     },
     "execution_count": 15,
     "metadata": {},
     "output_type": "execute_result"
    }
   ],
   "source": [
    "duplicate_names = df.query('type == \"truck\"').pivot_table(\n",
    "    index='model', values='type', aggfunc='count'\n",
    ")\n",
    "duplicate_names # Notice the duplices in Ford's 'F' series pickup trucks"
   ]
  },
  {
   "cell_type": "code",
   "execution_count": 16,
   "metadata": {
    "scrolled": true
   },
   "outputs": [],
   "source": [
    "# Delete this cell\n",
    "#df['odometer'] = df['odometer'].fillna(df.groupby('model_year')['odometer'].transform('median'))\n",
    "#df.info()"
   ]
  },
  {
   "cell_type": "markdown",
   "metadata": {},
   "source": [
    "### 'cylinders'"
   ]
  },
  {
   "cell_type": "code",
   "execution_count": 17,
   "metadata": {},
   "outputs": [
    {
     "name": "stdout",
     "output_type": "stream",
     "text": [
      "We started with 5260 nulls, and now we have 0 nulls.\n"
     ]
    }
   ],
   "source": [
    "before = len(df[df['cylinders'].isna()])\n",
    "df['cylinders'] = df['cylinders'].fillna(value=0)\n",
    "df['cylinders'] = df['cylinders'].astype(int)\n",
    "after = len(df[df['cylinders'].isna()])\n",
    "print('We started with {} nulls, and now we have {} nulls.'.format(before,after))"
   ]
  },
  {
   "cell_type": "code",
   "execution_count": 18,
   "metadata": {},
   "outputs": [
    {
     "data": {
      "text/plain": [
       "8     15844\n",
       "6     15700\n",
       "4     13864\n",
       "0      5260\n",
       "10      549\n",
       "5       272\n",
       "3        34\n",
       "12        2\n",
       "Name: cylinders, dtype: int64"
      ]
     },
     "execution_count": 18,
     "metadata": {},
     "output_type": "execute_result"
    }
   ],
   "source": [
    "df['cylinders'].value_counts()"
   ]
  },
  {
   "cell_type": "markdown",
   "metadata": {},
   "source": [
    "### Conclusion: cylinders\n",
    "I want to conditionally assign 'cylinders' values using 'model' information to fill the gaps.  "
   ]
  },
  {
   "cell_type": "markdown",
   "metadata": {},
   "source": [
    "### 'odometer'"
   ]
  },
  {
   "cell_type": "code",
   "execution_count": 19,
   "metadata": {},
   "outputs": [
    {
     "name": "stdout",
     "output_type": "stream",
     "text": [
      "We started with 550 nulls, and now we have 0 nulls.\n"
     ]
    }
   ],
   "source": [
    "before = len(df[df['odometer'].isna()])\n",
    "md_odometer = df['odometer'].median()\n",
    "df['odometer'] = df['odometer'].fillna(value=md_odometer)\n",
    "\n",
    "df['odometer'] = df['odometer'].astype(int)\n",
    "after = len(df[df['odometer'].isna()])\n",
    "print('We started with {} nulls, and now we have {} nulls.'.format(before,after))"
   ]
  },
  {
   "cell_type": "markdown",
   "metadata": {},
   "source": [
    "### 'type'"
   ]
  },
  {
   "cell_type": "code",
   "execution_count": 20,
   "metadata": {
    "scrolled": true
   },
   "outputs": [
    {
     "data": {
      "text/plain": [
       "SUV            12405\n",
       "truck          12353\n",
       "sedan          12154\n",
       "pickup          6988\n",
       "coupe           2303\n",
       "wagon           1541\n",
       "mini-van        1161\n",
       "hatchback       1047\n",
       "van              633\n",
       "convertible      446\n",
       "other            256\n",
       "offroad          214\n",
       "bus               24\n",
       "Name: type, dtype: int64"
      ]
     },
     "execution_count": 20,
     "metadata": {},
     "output_type": "execute_result"
    }
   ],
   "source": [
    "df['type'].value_counts()"
   ]
  },
  {
   "cell_type": "markdown",
   "metadata": {},
   "source": [
    "#### Let's consolidate 'truck' and 'pickup'"
   ]
  },
  {
   "cell_type": "code",
   "execution_count": 21,
   "metadata": {},
   "outputs": [
    {
     "data": {
      "text/plain": [
       "truck          19341\n",
       "SUV            12405\n",
       "sedan          12154\n",
       "coupe           2303\n",
       "wagon           1541\n",
       "mini-van        1161\n",
       "hatchback       1047\n",
       "van              633\n",
       "convertible      446\n",
       "other            256\n",
       "offroad          214\n",
       "bus               24\n",
       "Name: type, dtype: int64"
      ]
     },
     "execution_count": 21,
     "metadata": {},
     "output_type": "execute_result"
    }
   ],
   "source": [
    "df['type'] = df['type'].where(df['type']!='pickup','truck')\n",
    "df['type'].value_counts() # That's better"
   ]
  },
  {
   "cell_type": "markdown",
   "metadata": {},
   "source": [
    "#### 'paint_color'"
   ]
  },
  {
   "cell_type": "code",
   "execution_count": 22,
   "metadata": {},
   "outputs": [
    {
     "name": "stdout",
     "output_type": "stream",
     "text": [
      "We started with 9267 nulls, and now we have 0 nulls.\n"
     ]
    }
   ],
   "source": [
    "before = len(df[df['paint_color'].isna()])\n",
    "df['paint_color'] = df['paint_color'].fillna(value='unknown')\n",
    "after = len(df[df['paint_color'].isna()])\n",
    "print('We started with {} nulls, and now we have {} nulls.'.format(before,after))"
   ]
  },
  {
   "cell_type": "code",
   "execution_count": 23,
   "metadata": {},
   "outputs": [
    {
     "name": "stdout",
     "output_type": "stream",
     "text": [
      "We started with 25953 nulls, and now we have 0 nulls.\n"
     ]
    }
   ],
   "source": [
    "before = len(df[df['is_4wd'].isna()])\n",
    "df['is_4wd'] = df['is_4wd'].fillna(value=0)\n",
    "df['is_4wd'] = df['is_4wd'].astype(bool)\n",
    "after = len(df[df['is_4wd'].isna()])\n",
    "print('We started with {} nulls, and now we have {} nulls.'.format(before,after))"
   ]
  },
  {
   "cell_type": "markdown",
   "metadata": {},
   "source": [
    "### Now let's see how we did.  "
   ]
  },
  {
   "cell_type": "code",
   "execution_count": 24,
   "metadata": {},
   "outputs": [
    {
     "name": "stdout",
     "output_type": "stream",
     "text": [
      "<class 'pandas.core.frame.DataFrame'>\n",
      "RangeIndex: 51525 entries, 0 to 51524\n",
      "Data columns (total 13 columns):\n",
      " #   Column        Non-Null Count  Dtype \n",
      "---  ------        --------------  ----- \n",
      " 0   price         51525 non-null  int64 \n",
      " 1   model_year    51525 non-null  int64 \n",
      " 2   model         51525 non-null  object\n",
      " 3   condition     51525 non-null  object\n",
      " 4   cylinders     51525 non-null  int64 \n",
      " 5   fuel          51525 non-null  object\n",
      " 6   odometer      51525 non-null  int64 \n",
      " 7   transmission  51525 non-null  object\n",
      " 8   type          51525 non-null  object\n",
      " 9   paint_color   51525 non-null  object\n",
      " 10  is_4wd        51525 non-null  bool  \n",
      " 11  date_posted   51525 non-null  object\n",
      " 12  days_listed   51525 non-null  int64 \n",
      "dtypes: bool(1), int64(5), object(7)\n",
      "memory usage: 4.8+ MB\n"
     ]
    }
   ],
   "source": [
    "df.info() "
   ]
  },
  {
   "cell_type": "code",
   "execution_count": 25,
   "metadata": {},
   "outputs": [
    {
     "name": "stdout",
     "output_type": "stream",
     "text": [
      "           odometer  price\n",
      "condition                 \n",
      "excellent    106000  10495\n",
      "fair         174875   2500\n",
      "good         128000   7900\n",
      "like new      76000  13995\n",
      "new           12632  21999\n",
      "salvage      143000   2500\n",
      "\n",
      "                   model_year  cylinders\n",
      "model                                   \n",
      "acura tl               2007.0          6\n",
      "bmw x5                 2010.0          6\n",
      "buick enclave          2012.0          6\n",
      "cadillac escalade      2009.0          8\n",
      "chevrolet camaro       2012.0          6\n",
      "...                       ...        ...\n",
      "toyota sienna          2008.0          6\n",
      "toyota tacoma          2011.0          6\n",
      "toyota tundra          2010.0          8\n",
      "volkswagen jetta       2011.0          4\n",
      "volkswagen passat      2013.0          4\n",
      "\n",
      "[100 rows x 2 columns]\n"
     ]
    }
   ],
   "source": [
    "grouped_by_condition = df.groupby('condition').agg({'odometer': 'median', 'price': 'median'})\n",
    "grouped_by_model = df.groupby('model').agg({'model_year': 'median', 'cylinders': 'median'})\n",
    "print(grouped_by_condition)\n",
    "print()\n",
    "print(grouped_by_model)"
   ]
  },
  {
   "cell_type": "markdown",
   "metadata": {},
   "source": [
    "### Conclusion: Great!!! \n",
    "No null values, our datatypes have all been updated, and we consolidated 'pickup' and 'truck' in **'type'**"
   ]
  },
  {
   "cell_type": "markdown",
   "metadata": {},
   "source": [
    "<div class=\"alert alert-block alert-success\">\n",
    "    <h3>Reviewer's commentary <a class=\"tocSkip\"> </h3>\n",
    "    <br/>\n",
    "<b>Well done!👍:</b> \n",
    "        \n",
    "Ok, Jay, you are doing great! As a whole I can agree with your startegy of missing values preprocessing.\n",
    "        \n",
    "Some advice: columns you have tried to preprocess have numeric data, so we can study their correlation with the categorical variables from the dataset.\n",
    "\n",
    "It would be reasonable to assume that the mileage and price correlate with the condition of the vehicle, and the number of cylinders and year with its model. And we can replace missing values with the medians, grouping the data by these parameters.\n",
    "       \n",
    "As I can see, you tried to apply the grouping method here, ok, it works, but I have some doubts about categorization of the `model_year` because any categorization can lead to simplification of the data. As a whole, here you can use the initial `model_year` column and there is no need to categorize it additionally.\n",
    "       \n",
    "See the examples:\n",
    "       \n",
    "`grouped_by_condition = data.groupby('condition').agg({'odometer': 'median', 'price': 'median'})`\n",
    "       \n",
    "`grouped_by_model = data.groupby('model').agg({'model_year': 'median', 'cylinders': 'median'})`\n",
    "       \n",
    "And then you can use values in these resulted dfs to fill in missing values, using loc + for loop for example;\n",
    "    \n",
    "One more way is to build the correlation matrix, check what factors are correlated and fill in the missing values based on correlation and grouping methods.\n",
    "    \n",
    "Filling in missing values with simply a median or mean by a column is a rather risky strategy and is only acceptable for cases where no more than 10% of the data is missing in our dataframe. The risk is that such an approach can lead to distortion of the initial data and, as a result, we will get a biased estimate based on the analysis results.\n",
    "    \n",
    "Remember, that it is important not only to fill in the missing values using some method, but also to give arguments why this particular method in this particular case is adequate and correct. And it is better to connect the strategy you choose for filling in missing values with the hypotheses about why there are missing values in the data, why they occur."
   ]
  },
  {
   "cell_type": "markdown",
   "metadata": {},
   "source": [
    "<div class=\"alert alert-block alert-success\">\n",
    "    <h3>Reviewer's commentary <a class=\"tocSkip\"> </h3>\n",
    "    <br/>\n",
    "<b>Well done!👍:</b> \n",
    "        \n",
    "Data types are also changed correctly."
   ]
  },
  {
   "cell_type": "markdown",
   "metadata": {},
   "source": [
    "## Make calculations and add them to the table"
   ]
  },
  {
   "cell_type": "code",
   "execution_count": 26,
   "metadata": {},
   "outputs": [
    {
     "data": {
      "text/html": [
       "<div>\n",
       "<style scoped>\n",
       "    .dataframe tbody tr th:only-of-type {\n",
       "        vertical-align: middle;\n",
       "    }\n",
       "\n",
       "    .dataframe tbody tr th {\n",
       "        vertical-align: top;\n",
       "    }\n",
       "\n",
       "    .dataframe thead th {\n",
       "        text-align: right;\n",
       "    }\n",
       "</style>\n",
       "<table border=\"1\" class=\"dataframe\">\n",
       "  <thead>\n",
       "    <tr style=\"text-align: right;\">\n",
       "      <th></th>\n",
       "      <th>price</th>\n",
       "      <th>model_year</th>\n",
       "      <th>cylinders</th>\n",
       "      <th>odometer</th>\n",
       "      <th>days_listed</th>\n",
       "    </tr>\n",
       "  </thead>\n",
       "  <tbody>\n",
       "    <tr>\n",
       "      <th>count</th>\n",
       "      <td>51525.000000</td>\n",
       "      <td>51525.000000</td>\n",
       "      <td>51525.000000</td>\n",
       "      <td>51525.000000</td>\n",
       "      <td>51525.00000</td>\n",
       "    </tr>\n",
       "    <tr>\n",
       "      <th>mean</th>\n",
       "      <td>12132.464920</td>\n",
       "      <td>2009.838234</td>\n",
       "      <td>5.499932</td>\n",
       "      <td>115172.534867</td>\n",
       "      <td>39.55476</td>\n",
       "    </tr>\n",
       "    <tr>\n",
       "      <th>std</th>\n",
       "      <td>10040.803015</td>\n",
       "      <td>6.065836</td>\n",
       "      <td>2.431985</td>\n",
       "      <td>62053.971986</td>\n",
       "      <td>28.20427</td>\n",
       "    </tr>\n",
       "    <tr>\n",
       "      <th>min</th>\n",
       "      <td>1.000000</td>\n",
       "      <td>1908.000000</td>\n",
       "      <td>0.000000</td>\n",
       "      <td>0.000000</td>\n",
       "      <td>0.00000</td>\n",
       "    </tr>\n",
       "    <tr>\n",
       "      <th>25%</th>\n",
       "      <td>5000.000000</td>\n",
       "      <td>2007.000000</td>\n",
       "      <td>4.000000</td>\n",
       "      <td>73597.000000</td>\n",
       "      <td>19.00000</td>\n",
       "    </tr>\n",
       "    <tr>\n",
       "      <th>50%</th>\n",
       "      <td>9000.000000</td>\n",
       "      <td>2011.000000</td>\n",
       "      <td>6.000000</td>\n",
       "      <td>113920.000000</td>\n",
       "      <td>33.00000</td>\n",
       "    </tr>\n",
       "    <tr>\n",
       "      <th>75%</th>\n",
       "      <td>16839.000000</td>\n",
       "      <td>2014.000000</td>\n",
       "      <td>8.000000</td>\n",
       "      <td>152624.000000</td>\n",
       "      <td>53.00000</td>\n",
       "    </tr>\n",
       "    <tr>\n",
       "      <th>max</th>\n",
       "      <td>375000.000000</td>\n",
       "      <td>2019.000000</td>\n",
       "      <td>12.000000</td>\n",
       "      <td>990000.000000</td>\n",
       "      <td>271.00000</td>\n",
       "    </tr>\n",
       "  </tbody>\n",
       "</table>\n",
       "</div>"
      ],
      "text/plain": [
       "               price    model_year     cylinders       odometer  days_listed\n",
       "count   51525.000000  51525.000000  51525.000000   51525.000000  51525.00000\n",
       "mean    12132.464920   2009.838234      5.499932  115172.534867     39.55476\n",
       "std     10040.803015      6.065836      2.431985   62053.971986     28.20427\n",
       "min         1.000000   1908.000000      0.000000       0.000000      0.00000\n",
       "25%      5000.000000   2007.000000      4.000000   73597.000000     19.00000\n",
       "50%      9000.000000   2011.000000      6.000000  113920.000000     33.00000\n",
       "75%     16839.000000   2014.000000      8.000000  152624.000000     53.00000\n",
       "max    375000.000000   2019.000000     12.000000  990000.000000    271.00000"
      ]
     },
     "execution_count": 26,
     "metadata": {},
     "output_type": "execute_result"
    }
   ],
   "source": [
    "df['odometer'] = df['odometer'].fillna(df.groupby('model_year')['odometer'].transform('median'))\n",
    "df.describe()#- mileage, number of cylinders, and condition"
   ]
  },
  {
   "cell_type": "code",
   "execution_count": 27,
   "metadata": {
    "scrolled": true
   },
   "outputs": [],
   "source": [
    "df['day_posted'] = pd.to_datetime(df['date_posted'])\n",
    "\n",
    "df['day_of_week'] = df['day_posted'].dt.weekday\n",
    "df['vehicle_age'] = (df['day_posted'].dt.year) - (df['model_year'])\n",
    "df['vehicle_age'] = df['vehicle_age'].where(df['vehicle_age']!=0,1) # to avoid dividing by zero\n",
    "df['avg_miles_yearly'] = (df['odometer'] / df['vehicle_age'])\n",
    "df['avg_miles_yearly'] = df['avg_miles_yearly'].astype('int')"
   ]
  },
  {
   "cell_type": "markdown",
   "metadata": {},
   "source": [
    "<div class=\"alert alert-block alert-warning\">\n",
    "   <h2>Reviewer's commentary <a class=\"tocSkip\"> </h2>\n",
    "    <br/>\n",
    "<b>Remarks and recommendations📌:</b> \n",
    "    \n",
    "       \n",
    "Pandas library allows to add the month, year and weekday using methods like  `day_name()` и `month_name()`.\n",
    "    \n",
    "More information here:\n",
    "    \n",
    "https://www.geeksforgeeks.org/python-pandas-series-dt-day_name/\n",
    "    \n",
    "https://pandas.pydata.org/pandas-docs/stable/reference/api/pandas.Series.dt.day_name.html\n",
    "    \n",
    "https://pandas.pydata.org/pandas-docs/stable/reference/api/pandas.Series.dt.month_name.html\n",
    "    \n",
    "https://www.geeksforgeeks.org/python-pandas-series-dt-month_name/\n",
    "       \n",
    "The methods you used are correct, these ones as additional information:)"
   ]
  },
  {
   "cell_type": "markdown",
   "metadata": {},
   "source": [
    "<div class=\"alert alert-block alert-success\">\n",
    "    <h2>Reviewer's commentary <a class=\"tocSkip\"> </h2>\n",
    "    <br/>\n",
    "<b>Well done!👍:</b> \n",
    "    \n",
    "       \n",
    "It is absolutely correct action to hande the zero values in age, because division by zero results in the -inf values in the column. You can handle this problem also by using this option:\n",
    "       \n",
    "`data['age'] = data['year_posted'] - data['model_year'] + 1`"
   ]
  },
  {
   "cell_type": "code",
   "execution_count": 28,
   "metadata": {},
   "outputs": [
    {
     "name": "stdout",
     "output_type": "stream",
     "text": [
      "3    24773\n",
      "2    20145\n",
      "4     4742\n",
      "1     1607\n",
      "5      143\n",
      "0      115\n",
      "Name: condition, dtype: int64\n"
     ]
    }
   ],
   "source": [
    "df['condition'] = df['condition'].where(df['condition']!='new','5')\n",
    "df['condition'] = df['condition'].where(df['condition']!='like new','4')\n",
    "df['condition'] = df['condition'].where(df['condition']!='excellent','3')\n",
    "df['condition'] = df['condition'].where(df['condition']!='good','2')\n",
    "df['condition'] = df['condition'].where(df['condition']!='fair','1')\n",
    "df['condition'] = df['condition'].where(df['condition']!='salvage','0')\n",
    "\n",
    "print(df['condition'].value_counts())"
   ]
  },
  {
   "cell_type": "markdown",
   "metadata": {},
   "source": [
    "<div class=\"alert alert-block alert-warning\">\n",
    "   <h2>Reviewer's commentary <a class=\"tocSkip\"> </h2>\n",
    "    <br/>\n",
    "<b>Remarks and recommendations📌:</b> \n",
    "\n",
    "It is more effective to use the `replace()` method to categorize the data:\n",
    "        \n",
    "`df['condition'] = df['condition'].replace(['salvage', 'fair', 'good', 'excellent', 'like new', 'new'], [0, 1, 2, 3, 4, 5])`"
   ]
  },
  {
   "cell_type": "markdown",
   "metadata": {},
   "source": [
    "## Carry out exploratory data analysis"
   ]
  },
  {
   "cell_type": "code",
   "execution_count": 29,
   "metadata": {},
   "outputs": [
    {
     "data": {
      "text/html": [
       "<div>\n",
       "<style scoped>\n",
       "    .dataframe tbody tr th:only-of-type {\n",
       "        vertical-align: middle;\n",
       "    }\n",
       "\n",
       "    .dataframe tbody tr th {\n",
       "        vertical-align: top;\n",
       "    }\n",
       "\n",
       "    .dataframe thead th {\n",
       "        text-align: right;\n",
       "    }\n",
       "</style>\n",
       "<table border=\"1\" class=\"dataframe\">\n",
       "  <thead>\n",
       "    <tr style=\"text-align: right;\">\n",
       "      <th></th>\n",
       "      <th>price</th>\n",
       "      <th>model_year</th>\n",
       "      <th>cylinders</th>\n",
       "      <th>odometer</th>\n",
       "      <th>days_listed</th>\n",
       "      <th>day_of_week</th>\n",
       "      <th>vehicle_age</th>\n",
       "      <th>avg_miles_yearly</th>\n",
       "    </tr>\n",
       "  </thead>\n",
       "  <tbody>\n",
       "    <tr>\n",
       "      <th>count</th>\n",
       "      <td>51525.000000</td>\n",
       "      <td>51525.000000</td>\n",
       "      <td>51525.000000</td>\n",
       "      <td>51525.000000</td>\n",
       "      <td>51525.00000</td>\n",
       "      <td>51525.000000</td>\n",
       "      <td>51525.000000</td>\n",
       "      <td>51525.000000</td>\n",
       "    </tr>\n",
       "    <tr>\n",
       "      <th>mean</th>\n",
       "      <td>12132.464920</td>\n",
       "      <td>2009.838234</td>\n",
       "      <td>5.499932</td>\n",
       "      <td>115172.534867</td>\n",
       "      <td>39.55476</td>\n",
       "      <td>3.005434</td>\n",
       "      <td>8.510529</td>\n",
       "      <td>17740.435633</td>\n",
       "    </tr>\n",
       "    <tr>\n",
       "      <th>std</th>\n",
       "      <td>10040.803015</td>\n",
       "      <td>6.065836</td>\n",
       "      <td>2.431985</td>\n",
       "      <td>62053.971986</td>\n",
       "      <td>28.20427</td>\n",
       "      <td>1.997759</td>\n",
       "      <td>6.025251</td>\n",
       "      <td>12413.047952</td>\n",
       "    </tr>\n",
       "    <tr>\n",
       "      <th>min</th>\n",
       "      <td>1.000000</td>\n",
       "      <td>1908.000000</td>\n",
       "      <td>0.000000</td>\n",
       "      <td>0.000000</td>\n",
       "      <td>0.00000</td>\n",
       "      <td>0.000000</td>\n",
       "      <td>1.000000</td>\n",
       "      <td>0.000000</td>\n",
       "    </tr>\n",
       "    <tr>\n",
       "      <th>25%</th>\n",
       "      <td>5000.000000</td>\n",
       "      <td>2007.000000</td>\n",
       "      <td>4.000000</td>\n",
       "      <td>73597.000000</td>\n",
       "      <td>19.00000</td>\n",
       "      <td>1.000000</td>\n",
       "      <td>4.000000</td>\n",
       "      <td>10926.000000</td>\n",
       "    </tr>\n",
       "    <tr>\n",
       "      <th>50%</th>\n",
       "      <td>9000.000000</td>\n",
       "      <td>2011.000000</td>\n",
       "      <td>6.000000</td>\n",
       "      <td>113920.000000</td>\n",
       "      <td>33.00000</td>\n",
       "      <td>3.000000</td>\n",
       "      <td>7.000000</td>\n",
       "      <td>15294.000000</td>\n",
       "    </tr>\n",
       "    <tr>\n",
       "      <th>75%</th>\n",
       "      <td>16839.000000</td>\n",
       "      <td>2014.000000</td>\n",
       "      <td>8.000000</td>\n",
       "      <td>152624.000000</td>\n",
       "      <td>53.00000</td>\n",
       "      <td>5.000000</td>\n",
       "      <td>12.000000</td>\n",
       "      <td>21015.000000</td>\n",
       "    </tr>\n",
       "    <tr>\n",
       "      <th>max</th>\n",
       "      <td>375000.000000</td>\n",
       "      <td>2019.000000</td>\n",
       "      <td>12.000000</td>\n",
       "      <td>990000.000000</td>\n",
       "      <td>271.00000</td>\n",
       "      <td>6.000000</td>\n",
       "      <td>110.000000</td>\n",
       "      <td>373200.000000</td>\n",
       "    </tr>\n",
       "  </tbody>\n",
       "</table>\n",
       "</div>"
      ],
      "text/plain": [
       "               price    model_year     cylinders       odometer  days_listed  \\\n",
       "count   51525.000000  51525.000000  51525.000000   51525.000000  51525.00000   \n",
       "mean    12132.464920   2009.838234      5.499932  115172.534867     39.55476   \n",
       "std     10040.803015      6.065836      2.431985   62053.971986     28.20427   \n",
       "min         1.000000   1908.000000      0.000000       0.000000      0.00000   \n",
       "25%      5000.000000   2007.000000      4.000000   73597.000000     19.00000   \n",
       "50%      9000.000000   2011.000000      6.000000  113920.000000     33.00000   \n",
       "75%     16839.000000   2014.000000      8.000000  152624.000000     53.00000   \n",
       "max    375000.000000   2019.000000     12.000000  990000.000000    271.00000   \n",
       "\n",
       "        day_of_week   vehicle_age  avg_miles_yearly  \n",
       "count  51525.000000  51525.000000      51525.000000  \n",
       "mean       3.005434      8.510529      17740.435633  \n",
       "std        1.997759      6.025251      12413.047952  \n",
       "min        0.000000      1.000000          0.000000  \n",
       "25%        1.000000      4.000000      10926.000000  \n",
       "50%        3.000000      7.000000      15294.000000  \n",
       "75%        5.000000     12.000000      21015.000000  \n",
       "max        6.000000    110.000000     373200.000000  "
      ]
     },
     "execution_count": 29,
     "metadata": {},
     "output_type": "execute_result"
    }
   ],
   "source": [
    "df.describe()"
   ]
  },
  {
   "cell_type": "code",
   "execution_count": 30,
   "metadata": {
    "scrolled": true
   },
   "outputs": [
    {
     "data": {
      "text/plain": [
       "array([[<AxesSubplot:title={'center':'price'}>]], dtype=object)"
      ]
     },
     "execution_count": 30,
     "metadata": {},
     "output_type": "execute_result"
    },
    {
     "data": {
      "image/png": "[encoded data removed]",
      "text/plain": [
       "<Figure size 432x288 with 1 Axes>"
      ]
     },
     "metadata": {
      "needs_background": "light"
     },
     "output_type": "display_data"
    }
   ],
   "source": [
    "df.hist('price',bins=50)"
   ]
  },
  {
   "cell_type": "markdown",
   "metadata": {},
   "source": [
    "### Wow! That's a lot of cars for free!  Also, some really expensive outliers."
   ]
  },
  {
   "cell_type": "code",
   "execution_count": 31,
   "metadata": {},
   "outputs": [
    {
     "data": {
      "text/plain": [
       "array([[<AxesSubplot:title={'center':'vehicle_age'}>]], dtype=object)"
      ]
     },
     "execution_count": 31,
     "metadata": {},
     "output_type": "execute_result"
    },
    {
     "data": {
      "image/png": "[encoded data removed]",
      "text/plain": [
       "<Figure size 432x288 with 1 Axes>"
      ]
     },
     "metadata": {
      "needs_background": "light"
     },
     "output_type": "display_data"
    }
   ],
   "source": [
    "df.hist('vehicle_age',bins=35)"
   ]
  },
  {
   "cell_type": "markdown",
   "metadata": {},
   "source": [
    "### That's a lot of new cars, and a few really old ones."
   ]
  },
  {
   "cell_type": "code",
   "execution_count": 32,
   "metadata": {
    "scrolled": true
   },
   "outputs": [
    {
     "data": {
      "text/plain": [
       "array([[<AxesSubplot:title={'center':'cylinders'}>]], dtype=object)"
      ]
     },
     "execution_count": 32,
     "metadata": {},
     "output_type": "execute_result"
    },
    {
     "data": {
      "image/png": "[encoded data removed]",
      "text/plain": [
       "<Figure size 432x288 with 1 Axes>"
      ]
     },
     "metadata": {
      "needs_background": "light"
     },
     "output_type": "display_data"
    }
   ],
   "source": [
    "df.hist('cylinders')"
   ]
  },
  {
   "cell_type": "markdown",
   "metadata": {},
   "source": [
    "### This actually looks pretty normal.  A few beefy engines with 10 and 12 cylinders.  The zero values are unknow cylinder values.  Let's try to assign these 5000 or so zero cylinders given other criteria below."
   ]
  },
  {
   "cell_type": "code",
   "execution_count": 33,
   "metadata": {
    "scrolled": true
   },
   "outputs": [
    {
     "data": {
      "text/plain": [
       "array([[<AxesSubplot:title={'center':'odometer'}>]], dtype=object)"
      ]
     },
     "execution_count": 33,
     "metadata": {},
     "output_type": "execute_result"
    },
    {
     "data": {
      "image/png": "[encoded data removed]",
      "text/plain": [
       "<Figure size 432x288 with 1 Axes>"
      ]
     },
     "metadata": {
      "needs_background": "light"
     },
     "output_type": "display_data"
    }
   ],
   "source": [
    "df.hist('odometer', bins=100)"
   ]
  },
  {
   "cell_type": "markdown",
   "metadata": {},
   "source": [
    "### This is a reasonable distribution for the most part.  Outliers need to be investigated below."
   ]
  },
  {
   "cell_type": "code",
   "execution_count": 34,
   "metadata": {},
   "outputs": [
    {
     "data": {
      "text/plain": [
       "array([[<AxesSubplot:title={'center':'days_listed'}>]], dtype=object)"
      ]
     },
     "execution_count": 34,
     "metadata": {},
     "output_type": "execute_result"
    },
    {
     "data": {
      "image/png": "[encoded data removed]",
      "text/plain": [
       "<Figure size 432x288 with 1 Axes>"
      ]
     },
     "metadata": {
      "needs_background": "light"
     },
     "output_type": "display_data"
    }
   ],
   "source": [
    "df.hist('days_listed', bins=275)"
   ]
  },
  {
   "cell_type": "markdown",
   "metadata": {},
   "source": [
    "### This is the most reliable data column in this set.  The system most likely automatically logged when the item was listed, therefore these flaues are clean."
   ]
  },
  {
   "cell_type": "code",
   "execution_count": 35,
   "metadata": {},
   "outputs": [
    {
     "data": {
      "text/plain": [
       "array([[<AxesSubplot:title={'center':'vehicle_age'}>]], dtype=object)"
      ]
     },
     "execution_count": 35,
     "metadata": {},
     "output_type": "execute_result"
    },
    {
     "data": {
      "image/png": "[encoded data removed]",
      "text/plain": [
       "<Figure size 432x288 with 1 Axes>"
      ]
     },
     "metadata": {
      "needs_background": "light"
     },
     "output_type": "display_data"
    }
   ],
   "source": [
    "df.hist('vehicle_age', bins=65)"
   ]
  },
  {
   "cell_type": "code",
   "execution_count": 36,
   "metadata": {},
   "outputs": [
    {
     "data": {
      "text/plain": [
       "array([[<AxesSubplot:title={'center':'avg_miles_yearly'}>]], dtype=object)"
      ]
     },
     "execution_count": 36,
     "metadata": {},
     "output_type": "execute_result"
    },
    {
     "data": {
      "image/png": "[encoded data removed]",
      "text/plain": [
       "<Figure size 432x288 with 1 Axes>"
      ]
     },
     "metadata": {
      "needs_background": "light"
     },
     "output_type": "display_data"
    }
   ],
   "source": [
    "df.hist('avg_miles_yearly',bins=32)"
   ]
  },
  {
   "cell_type": "markdown",
   "metadata": {},
   "source": [
    "### Wow! There more cars with  25,000 average miles yearly than all others values combined!  Let's further investigate below."
   ]
  },
  {
   "cell_type": "code",
   "execution_count": 37,
   "metadata": {
    "scrolled": true
   },
   "outputs": [
    {
     "data": {
      "text/html": [
       "<div>\n",
       "<style scoped>\n",
       "    .dataframe tbody tr th:only-of-type {\n",
       "        vertical-align: middle;\n",
       "    }\n",
       "\n",
       "    .dataframe tbody tr th {\n",
       "        vertical-align: top;\n",
       "    }\n",
       "\n",
       "    .dataframe thead th {\n",
       "        text-align: right;\n",
       "    }\n",
       "</style>\n",
       "<table border=\"1\" class=\"dataframe\">\n",
       "  <thead>\n",
       "    <tr style=\"text-align: right;\">\n",
       "      <th></th>\n",
       "      <th>price</th>\n",
       "      <th>model_year</th>\n",
       "      <th>cylinders</th>\n",
       "      <th>odometer</th>\n",
       "      <th>days_listed</th>\n",
       "      <th>day_of_week</th>\n",
       "      <th>vehicle_age</th>\n",
       "      <th>avg_miles_yearly</th>\n",
       "    </tr>\n",
       "  </thead>\n",
       "  <tbody>\n",
       "    <tr>\n",
       "      <th>count</th>\n",
       "      <td>51525.000000</td>\n",
       "      <td>51525.000000</td>\n",
       "      <td>51525.000000</td>\n",
       "      <td>51525.000000</td>\n",
       "      <td>51525.00000</td>\n",
       "      <td>51525.000000</td>\n",
       "      <td>51525.000000</td>\n",
       "      <td>51525.000000</td>\n",
       "    </tr>\n",
       "    <tr>\n",
       "      <th>mean</th>\n",
       "      <td>12132.464920</td>\n",
       "      <td>2009.838234</td>\n",
       "      <td>5.499932</td>\n",
       "      <td>115172.534867</td>\n",
       "      <td>39.55476</td>\n",
       "      <td>3.005434</td>\n",
       "      <td>8.510529</td>\n",
       "      <td>17740.435633</td>\n",
       "    </tr>\n",
       "    <tr>\n",
       "      <th>std</th>\n",
       "      <td>10040.803015</td>\n",
       "      <td>6.065836</td>\n",
       "      <td>2.431985</td>\n",
       "      <td>62053.971986</td>\n",
       "      <td>28.20427</td>\n",
       "      <td>1.997759</td>\n",
       "      <td>6.025251</td>\n",
       "      <td>12413.047952</td>\n",
       "    </tr>\n",
       "    <tr>\n",
       "      <th>min</th>\n",
       "      <td>1.000000</td>\n",
       "      <td>1908.000000</td>\n",
       "      <td>0.000000</td>\n",
       "      <td>0.000000</td>\n",
       "      <td>0.00000</td>\n",
       "      <td>0.000000</td>\n",
       "      <td>1.000000</td>\n",
       "      <td>0.000000</td>\n",
       "    </tr>\n",
       "    <tr>\n",
       "      <th>25%</th>\n",
       "      <td>5000.000000</td>\n",
       "      <td>2007.000000</td>\n",
       "      <td>4.000000</td>\n",
       "      <td>73597.000000</td>\n",
       "      <td>19.00000</td>\n",
       "      <td>1.000000</td>\n",
       "      <td>4.000000</td>\n",
       "      <td>10926.000000</td>\n",
       "    </tr>\n",
       "    <tr>\n",
       "      <th>50%</th>\n",
       "      <td>9000.000000</td>\n",
       "      <td>2011.000000</td>\n",
       "      <td>6.000000</td>\n",
       "      <td>113920.000000</td>\n",
       "      <td>33.00000</td>\n",
       "      <td>3.000000</td>\n",
       "      <td>7.000000</td>\n",
       "      <td>15294.000000</td>\n",
       "    </tr>\n",
       "    <tr>\n",
       "      <th>75%</th>\n",
       "      <td>16839.000000</td>\n",
       "      <td>2014.000000</td>\n",
       "      <td>8.000000</td>\n",
       "      <td>152624.000000</td>\n",
       "      <td>53.00000</td>\n",
       "      <td>5.000000</td>\n",
       "      <td>12.000000</td>\n",
       "      <td>21015.000000</td>\n",
       "    </tr>\n",
       "    <tr>\n",
       "      <th>max</th>\n",
       "      <td>375000.000000</td>\n",
       "      <td>2019.000000</td>\n",
       "      <td>12.000000</td>\n",
       "      <td>990000.000000</td>\n",
       "      <td>271.00000</td>\n",
       "      <td>6.000000</td>\n",
       "      <td>110.000000</td>\n",
       "      <td>373200.000000</td>\n",
       "    </tr>\n",
       "  </tbody>\n",
       "</table>\n",
       "</div>"
      ],
      "text/plain": [
       "               price    model_year     cylinders       odometer  days_listed  \\\n",
       "count   51525.000000  51525.000000  51525.000000   51525.000000  51525.00000   \n",
       "mean    12132.464920   2009.838234      5.499932  115172.534867     39.55476   \n",
       "std     10040.803015      6.065836      2.431985   62053.971986     28.20427   \n",
       "min         1.000000   1908.000000      0.000000       0.000000      0.00000   \n",
       "25%      5000.000000   2007.000000      4.000000   73597.000000     19.00000   \n",
       "50%      9000.000000   2011.000000      6.000000  113920.000000     33.00000   \n",
       "75%     16839.000000   2014.000000      8.000000  152624.000000     53.00000   \n",
       "max    375000.000000   2019.000000     12.000000  990000.000000    271.00000   \n",
       "\n",
       "        day_of_week   vehicle_age  avg_miles_yearly  \n",
       "count  51525.000000  51525.000000      51525.000000  \n",
       "mean       3.005434      8.510529      17740.435633  \n",
       "std        1.997759      6.025251      12413.047952  \n",
       "min        0.000000      1.000000          0.000000  \n",
       "25%        1.000000      4.000000      10926.000000  \n",
       "50%        3.000000      7.000000      15294.000000  \n",
       "75%        5.000000     12.000000      21015.000000  \n",
       "max        6.000000    110.000000     373200.000000  "
      ]
     },
     "execution_count": 37,
     "metadata": {},
     "output_type": "execute_result"
    }
   ],
   "source": [
    "df.describe()"
   ]
  },
  {
   "cell_type": "markdown",
   "metadata": {},
   "source": [
    "<div class=\"alert alert-block alert-success\">\n",
    "    <h2>Reviewer's commentary <a class=\"tocSkip\"> </h2>\n",
    "    <br/>\n",
    "<b>Well done!👍:</b> \n",
    "        \n",
    "Ok, as a whole the logic of the deciison at this step is correct, all the plots are in place, good job!"
   ]
  },
  {
   "cell_type": "markdown",
   "metadata": {},
   "source": [
    "<div class=\"alert alert-block alert-warning\">\n",
    "   <h2>Reviewer's commentary <a class=\"tocSkip\"> </h2>\n",
    "    <br/>\n",
    "<b>Remarks and recommendations📌:</b> \n",
    "       \n",
    "Some recommendations for formatting of the plot: it is better to add custom title and x and y axis labels to your plot and the common title too.\n",
    "       \n",
    "Some useful links:\n",
    "       \n",
    "https://www.python-graph-gallery.com/4-add-title-and-axis-label\n",
    "       \n",
    "https://www.kite.com/python/answers/how-to-add-axis-labels-to-a-plot-in-matplotlib-in-python\n",
    "       \n",
    "Also, it is better to delete technical strings like `<matplotlib.axes._subplots.AxesSubplot at 0x7f529e0802d0>` from your graphs: use `plt.show()` or `;`.\n",
    "       \n",
    "So, please, try to improve all the plots in your project. Because it is the EDA project, here it is really important to make your plots informative."
   ]
  },
  {
   "attachments": {
    "image.png": {
     "image/png": "[encoded data removed]"
    }
   },
   "cell_type": "markdown",
   "metadata": {},
   "source": [
    "<div class=\"alert alert-block alert-warning\">\n",
    "   <h2>Reviewer's commentary: second iteration of the review <a class=\"tocSkip\"> </h2>\n",
    "    <br/>\n",
    "<b>Remarks and recommendations📌:</b> \n",
    "       \n",
    "It is still better to remove the technical strings at least👀\n",
    "       \n",
    "![image.png](attachment:image.png)"
   ]
  },
  {
   "cell_type": "markdown",
   "metadata": {},
   "source": [
    "## Outliers\n",
    "### Let's create a way to mark each column's outliers individually, and afterwards, let's split the data from 'df' into 'df_no_outliers' and 'df_outliers.' "
   ]
  },
  {
   "cell_type": "markdown",
   "metadata": {},
   "source": [
    "### Price"
   ]
  },
  {
   "cell_type": "code",
   "execution_count": 38,
   "metadata": {
    "scrolled": true
   },
   "outputs": [
    {
     "data": {
      "text/plain": [
       "<AxesSubplot:>"
      ]
     },
     "execution_count": 38,
     "metadata": {},
     "output_type": "execute_result"
    },
    {
     "data": {
      "image/png": "[encoded data removed]",
      "text/plain": [
       "<Figure size 432x288 with 1 Axes>"
      ]
     },
     "metadata": {
      "needs_background": "light"
     },
     "output_type": "display_data"
    }
   ],
   "source": [
    "Q1 = df['price'].quantile(0.25)\n",
    "Q3 = df['price'].quantile(0.75)\n",
    "IQR = Q3 - Q1\n",
    "u_limit = Q3 + 1.5*IQR\n",
    "l_limit = Q3 - 1.5*IQR\n",
    "df.boxplot('price')"
   ]
  },
  {
   "cell_type": "code",
   "execution_count": 39,
   "metadata": {},
   "outputs": [
    {
     "name": "stdout",
     "output_type": "stream",
     "text": [
      "There are 1646 'price' outliers\n"
     ]
    }
   ],
   "source": [
    "outlier = df[df['price']>u_limit]\n",
    "outlier_count = outlier['price'].count()\n",
    "print(\"There are {} 'price' outliers\".format(outlier_count))"
   ]
  },
  {
   "cell_type": "code",
   "execution_count": 40,
   "metadata": {},
   "outputs": [],
   "source": [
    "# Mark outliers\n",
    "def f(row):\n",
    "    if row['price'] <= u_limit:\n",
    "        val = False\n",
    "    else:\n",
    "        val = True\n",
    "    return val\n",
    "df['outlier_price'] = df.apply(f, axis=1)"
   ]
  },
  {
   "cell_type": "markdown",
   "metadata": {},
   "source": [
    "### Cylinders"
   ]
  },
  {
   "cell_type": "code",
   "execution_count": 41,
   "metadata": {},
   "outputs": [
    {
     "data": {
      "text/plain": [
       "<AxesSubplot:>"
      ]
     },
     "execution_count": 41,
     "metadata": {},
     "output_type": "execute_result"
    },
    {
     "data": {
      "image/png": "[encoded data removed]",
      "text/plain": [
       "<Figure size 432x288 with 1 Axes>"
      ]
     },
     "metadata": {
      "needs_background": "light"
     },
     "output_type": "display_data"
    }
   ],
   "source": [
    "Q1 = df['cylinders'].quantile(0.25)\n",
    "Q3 = df['cylinders'].quantile(0.75)\n",
    "IQR = Q3 - Q1\n",
    "u_limit = Q3 + 1.5*IQR\n",
    "l_limit = Q3 - 1.5*IQR\n",
    "df.boxplot('cylinders')"
   ]
  },
  {
   "cell_type": "code",
   "execution_count": 42,
   "metadata": {},
   "outputs": [
    {
     "name": "stdout",
     "output_type": "stream",
     "text": [
      "There are 5262 'cylinders' outliers\n"
     ]
    }
   ],
   "source": [
    "outlier_count = df['cylinders'].where((df['cylinders'] == 0) | (df['cylinders'] == 12)).count()\n",
    "print(\"There are {} 'cylinders' outliers\".format(outlier_count))"
   ]
  },
  {
   "cell_type": "code",
   "execution_count": 43,
   "metadata": {},
   "outputs": [],
   "source": [
    "def f(row):\n",
    "    if (row['cylinders'] >= l_limit) & (row['cylinders'] <= u_limit):\n",
    "        val = False\n",
    "    else:\n",
    "        val = True\n",
    "    return val\n",
    "df['outlier_cylinders'] = df.apply(f, axis=1)"
   ]
  },
  {
   "cell_type": "markdown",
   "metadata": {},
   "source": [
    "### The zero cylinder engines are of unknown value.  12 Cylinder cars exist, but there are only 2 occurances of them.  "
   ]
  },
  {
   "cell_type": "markdown",
   "metadata": {},
   "source": [
    "### Odometer"
   ]
  },
  {
   "cell_type": "code",
   "execution_count": 44,
   "metadata": {},
   "outputs": [
    {
     "data": {
      "text/plain": [
       "<AxesSubplot:>"
      ]
     },
     "execution_count": 44,
     "metadata": {},
     "output_type": "execute_result"
    },
    {
     "data": {
      "image/png": "[encoded data removed]",
      "text/plain": [
       "<Figure size 432x288 with 1 Axes>"
      ]
     },
     "metadata": {
      "needs_background": "light"
     },
     "output_type": "display_data"
    }
   ],
   "source": [
    "Q1 = df['odometer'].quantile(0.25)\n",
    "Q3 = df['odometer'].quantile(0.75)\n",
    "IQR = Q3 - Q1\n",
    "u_limit = Q3 + 1.5*IQR\n",
    "l_limit = Q3 - 1.5*IQR\n",
    "df.boxplot('odometer')"
   ]
  },
  {
   "cell_type": "code",
   "execution_count": 45,
   "metadata": {},
   "outputs": [
    {
     "name": "stdout",
     "output_type": "stream",
     "text": [
      "There are 646 'odometer' outliers\n"
     ]
    }
   ],
   "source": [
    "outlier = df[df['odometer']>u_limit]\n",
    "outlier_count = outlier['odometer'].count()\n",
    "print(\"There are {} 'odometer' outliers\".format(outlier_count))"
   ]
  },
  {
   "cell_type": "code",
   "execution_count": 46,
   "metadata": {},
   "outputs": [],
   "source": [
    "def f(row):\n",
    "    if (row['odometer'] >= l_limit) and( row['odometer'] <= u_limit):\n",
    "        val = False\n",
    "    else:\n",
    "        val = True\n",
    "    return val\n",
    "df['outlier_odometer'] = df.apply(f, axis=1)"
   ]
  },
  {
   "cell_type": "markdown",
   "metadata": {},
   "source": [
    "<div class=\"alert alert-block alert-success\">\n",
    "    <h2>Reviewer's commentary <a class=\"tocSkip\"> </h2>\n",
    "    <br/>\n",
    "<b>Well done!👍:</b> \n",
    "    \n",
    "Ok, Jay, it is correct to use the IQR method for deleting the outliers, it is rather effective one for this task! More details about working with the outliers you can find by links:\n",
    "    \n",
    "https://towardsdatascience.com/ways-to-detect-and-remove-the-outliers-404d16608dba\n",
    "    \n",
    "http://colingorrie.github.io/outlier-detection.html#iqr-method\n",
    "    \n",
    "https://statisticsbyjim.com/basics/outliers/"
   ]
  },
  {
   "cell_type": "markdown",
   "metadata": {},
   "source": [
    "### Days Listed"
   ]
  },
  {
   "cell_type": "code",
   "execution_count": 47,
   "metadata": {
    "scrolled": true
   },
   "outputs": [
    {
     "data": {
      "text/plain": [
       "<AxesSubplot:>"
      ]
     },
     "execution_count": 47,
     "metadata": {},
     "output_type": "execute_result"
    },
    {
     "data": {
      "image/png": "[encoded data removed]",
      "text/plain": [
       "<Figure size 432x288 with 1 Axes>"
      ]
     },
     "metadata": {
      "needs_background": "light"
     },
     "output_type": "display_data"
    }
   ],
   "source": [
    "Q1 = df['days_listed'].quantile(0.25)\n",
    "Q3 = df['days_listed'].quantile(0.75)\n",
    "IQR = Q3 - Q1\n",
    "u_limit = Q3 + 1.5*IQR\n",
    "l_limit = Q3 - 1.5*IQR\n",
    "df.boxplot('days_listed')"
   ]
  },
  {
   "cell_type": "code",
   "execution_count": 48,
   "metadata": {},
   "outputs": [
    {
     "name": "stdout",
     "output_type": "stream",
     "text": [
      "There are 1618 'days_listed' outliers\n"
     ]
    }
   ],
   "source": [
    "Q1 = df['days_listed'].quantile(0.25)\n",
    "Q3 = df['days_listed'].quantile(0.75)\n",
    "IQR = Q3 - Q1\n",
    "u_limit = Q3 + 1.5*IQR\n",
    "l_limit = Q3 - 1.5*IQR\n",
    "\n",
    "outlier = df[df['days_listed']>u_limit]\n",
    "outlier_count = outlier['days_listed'].count()\n",
    "print(\"There are {} 'days_listed' outliers\".format(outlier_count))"
   ]
  },
  {
   "cell_type": "code",
   "execution_count": 49,
   "metadata": {},
   "outputs": [
    {
     "name": "stdout",
     "output_type": "stream",
     "text": [
      "There are 1618 'days_listed' outliers\n"
     ]
    }
   ],
   "source": [
    "outlier = df[df['days_listed']>u_limit]\n",
    "outlier_count = outlier['days_listed'].count()\n",
    "print(\"There are {} 'days_listed' outliers\".format(outlier_count))"
   ]
  },
  {
   "cell_type": "code",
   "execution_count": 50,
   "metadata": {},
   "outputs": [],
   "source": [
    "def f(row):\n",
    "    if (row['days_listed'] >= l_limit) and (row['days_listed'] <= u_limit):\n",
    "        val = False\n",
    "    else:\n",
    "        val = True\n",
    "    return val\n",
    "df['outlier_days_listed'] = df.apply(f, axis=1)"
   ]
  },
  {
   "attachments": {
    "image.png": {
     "image/png": "[encoded data removed]"
    }
   },
   "cell_type": "markdown",
   "metadata": {},
   "source": [
    "<div class=\"alert alert-block alert-warning\">\n",
    "   <h2>Reviewer's commentary <a class=\"tocSkip\"> </h2>\n",
    "    <br/>\n",
    "<b>Remarks and recommendations📌:</b> \n",
    "       \n",
    "As for days_listed column, it is better not to delete the outliers from this column because it contains rather sensetive information, Also, according to the instruction, you simply need to explore the data in this column:\n",
    "       \n",
    "![image.png](attachment:image.png)\n",
    "       \n",
    "And now it is better to concentrate on the answering these questions👀"
   ]
  },
  {
   "cell_type": "markdown",
   "metadata": {},
   "source": [
    "### Vehicle Age"
   ]
  },
  {
   "cell_type": "code",
   "execution_count": 51,
   "metadata": {},
   "outputs": [
    {
     "data": {
      "text/plain": [
       "<AxesSubplot:>"
      ]
     },
     "execution_count": 51,
     "metadata": {},
     "output_type": "execute_result"
    },
    {
     "data": {
      "image/png": "[encoded data removed]",
      "text/plain": [
       "<Figure size 432x288 with 1 Axes>"
      ]
     },
     "metadata": {
      "needs_background": "light"
     },
     "output_type": "display_data"
    }
   ],
   "source": [
    "Q1 = df['vehicle_age'].quantile(0.25)\n",
    "Q3 = df['vehicle_age'].quantile(0.75)\n",
    "IQR = Q3 - Q1\n",
    "u_limit = Q3 + 1.5*IQR\n",
    "l_limit = Q3 - 1.5*IQR\n",
    "df.boxplot('vehicle_age')"
   ]
  },
  {
   "cell_type": "code",
   "execution_count": 52,
   "metadata": {},
   "outputs": [
    {
     "name": "stdout",
     "output_type": "stream",
     "text": [
      "There are 737 'vehicle_age' outliers\n"
     ]
    }
   ],
   "source": [
    "outlier = df[df['vehicle_age']>u_limit]\n",
    "outlier_count = outlier['vehicle_age'].count()\n",
    "print(\"There are {} 'vehicle_age' outliers\".format(outlier_count))"
   ]
  },
  {
   "cell_type": "code",
   "execution_count": 53,
   "metadata": {},
   "outputs": [],
   "source": [
    "def f(row):\n",
    "    if (row['vehicle_age'] >= l_limit) and (row['vehicle_age'] <= u_limit):\n",
    "        val = False\n",
    "    else:\n",
    "        val = True\n",
    "    return val\n",
    "df['outlier_vehicle_age'] = df.apply(f, axis=1)"
   ]
  },
  {
   "cell_type": "markdown",
   "metadata": {},
   "source": [
    "### Average Yearly Miles"
   ]
  },
  {
   "cell_type": "code",
   "execution_count": 54,
   "metadata": {
    "scrolled": true
   },
   "outputs": [
    {
     "data": {
      "text/plain": [
       "<AxesSubplot:>"
      ]
     },
     "execution_count": 54,
     "metadata": {},
     "output_type": "execute_result"
    },
    {
     "data": {
      "image/png": "[encoded data removed]",
      "text/plain": [
       "<Figure size 432x288 with 1 Axes>"
      ]
     },
     "metadata": {
      "needs_background": "light"
     },
     "output_type": "display_data"
    }
   ],
   "source": [
    "Q1 = df['avg_miles_yearly'].quantile(0.25)\n",
    "Q3 = df['avg_miles_yearly'].quantile(0.75)\n",
    "IQR = Q3 - Q1\n",
    "u_limit = Q3 + 1.5*IQR\n",
    "l_limit = Q3 - 1.5*IQR\n",
    "df.boxplot('avg_miles_yearly')"
   ]
  },
  {
   "cell_type": "code",
   "execution_count": 55,
   "metadata": {},
   "outputs": [
    {
     "name": "stdout",
     "output_type": "stream",
     "text": [
      "There are 3176 'avg_miles_yearly' outliers\n"
     ]
    }
   ],
   "source": [
    "outlier = df[df['avg_miles_yearly']>u_limit]\n",
    "outlier_count = outlier['avg_miles_yearly'].count()\n",
    "print(\"There are {} 'avg_miles_yearly' outliers\".format(outlier_count))"
   ]
  },
  {
   "cell_type": "code",
   "execution_count": 56,
   "metadata": {},
   "outputs": [],
   "source": [
    "def f(row):\n",
    "    if (row['avg_miles_yearly'] >= l_limit) and (row['avg_miles_yearly'] <= u_limit):\n",
    "        val = False\n",
    "    else:\n",
    "        val = True\n",
    "    return val\n",
    "df['outlier_avg_miles_yearly'] = df.apply(f, axis=1)"
   ]
  },
  {
   "cell_type": "code",
   "execution_count": 57,
   "metadata": {},
   "outputs": [],
   "source": [
    "df['outliers']=df['outlier_avg_miles_yearly']\\\n",
    "    +df['outlier_cylinders']*1\\\n",
    "    +df['outlier_days_listed']*1\\\n",
    "    +df['outlier_odometer']*1\\\n",
    "    +df['outlier_price']*1\\\n",
    "    +df['outlier_vehicle_age']*1"
   ]
  },
  {
   "cell_type": "code",
   "execution_count": 58,
   "metadata": {},
   "outputs": [
    {
     "data": {
      "text/html": [
       "<div>\n",
       "<style scoped>\n",
       "    .dataframe tbody tr th:only-of-type {\n",
       "        vertical-align: middle;\n",
       "    }\n",
       "\n",
       "    .dataframe tbody tr th {\n",
       "        vertical-align: top;\n",
       "    }\n",
       "\n",
       "    .dataframe thead th {\n",
       "        text-align: right;\n",
       "    }\n",
       "</style>\n",
       "<table border=\"1\" class=\"dataframe\">\n",
       "  <thead>\n",
       "    <tr style=\"text-align: right;\">\n",
       "      <th></th>\n",
       "      <th>price</th>\n",
       "      <th>model_year</th>\n",
       "      <th>model</th>\n",
       "      <th>condition</th>\n",
       "      <th>cylinders</th>\n",
       "      <th>fuel</th>\n",
       "      <th>odometer</th>\n",
       "      <th>transmission</th>\n",
       "      <th>type</th>\n",
       "      <th>paint_color</th>\n",
       "      <th>...</th>\n",
       "      <th>day_of_week</th>\n",
       "      <th>vehicle_age</th>\n",
       "      <th>avg_miles_yearly</th>\n",
       "      <th>outlier_price</th>\n",
       "      <th>outlier_cylinders</th>\n",
       "      <th>outlier_odometer</th>\n",
       "      <th>outlier_days_listed</th>\n",
       "      <th>outlier_vehicle_age</th>\n",
       "      <th>outlier_avg_miles_yearly</th>\n",
       "      <th>outliers</th>\n",
       "    </tr>\n",
       "  </thead>\n",
       "  <tbody>\n",
       "    <tr>\n",
       "      <th>0</th>\n",
       "      <td>9400</td>\n",
       "      <td>2011</td>\n",
       "      <td>bmw x5</td>\n",
       "      <td>2</td>\n",
       "      <td>6</td>\n",
       "      <td>gas</td>\n",
       "      <td>145000</td>\n",
       "      <td>automatic</td>\n",
       "      <td>SUV</td>\n",
       "      <td>unknown</td>\n",
       "      <td>...</td>\n",
       "      <td>5</td>\n",
       "      <td>7</td>\n",
       "      <td>20714</td>\n",
       "      <td>False</td>\n",
       "      <td>False</td>\n",
       "      <td>False</td>\n",
       "      <td>False</td>\n",
       "      <td>False</td>\n",
       "      <td>False</td>\n",
       "      <td>0</td>\n",
       "    </tr>\n",
       "    <tr>\n",
       "      <th>1</th>\n",
       "      <td>25500</td>\n",
       "      <td>2011</td>\n",
       "      <td>ford f-150</td>\n",
       "      <td>2</td>\n",
       "      <td>6</td>\n",
       "      <td>gas</td>\n",
       "      <td>88705</td>\n",
       "      <td>automatic</td>\n",
       "      <td>truck</td>\n",
       "      <td>white</td>\n",
       "      <td>...</td>\n",
       "      <td>4</td>\n",
       "      <td>7</td>\n",
       "      <td>12672</td>\n",
       "      <td>False</td>\n",
       "      <td>False</td>\n",
       "      <td>False</td>\n",
       "      <td>False</td>\n",
       "      <td>False</td>\n",
       "      <td>False</td>\n",
       "      <td>0</td>\n",
       "    </tr>\n",
       "    <tr>\n",
       "      <th>2</th>\n",
       "      <td>5500</td>\n",
       "      <td>2013</td>\n",
       "      <td>hyundai sonata</td>\n",
       "      <td>4</td>\n",
       "      <td>4</td>\n",
       "      <td>gas</td>\n",
       "      <td>110000</td>\n",
       "      <td>automatic</td>\n",
       "      <td>sedan</td>\n",
       "      <td>red</td>\n",
       "      <td>...</td>\n",
       "      <td>3</td>\n",
       "      <td>6</td>\n",
       "      <td>18333</td>\n",
       "      <td>False</td>\n",
       "      <td>False</td>\n",
       "      <td>False</td>\n",
       "      <td>False</td>\n",
       "      <td>False</td>\n",
       "      <td>False</td>\n",
       "      <td>0</td>\n",
       "    </tr>\n",
       "    <tr>\n",
       "      <th>3</th>\n",
       "      <td>1500</td>\n",
       "      <td>2003</td>\n",
       "      <td>ford f-150</td>\n",
       "      <td>1</td>\n",
       "      <td>8</td>\n",
       "      <td>gas</td>\n",
       "      <td>161397</td>\n",
       "      <td>automatic</td>\n",
       "      <td>truck</td>\n",
       "      <td>unknown</td>\n",
       "      <td>...</td>\n",
       "      <td>4</td>\n",
       "      <td>16</td>\n",
       "      <td>10087</td>\n",
       "      <td>False</td>\n",
       "      <td>False</td>\n",
       "      <td>False</td>\n",
       "      <td>False</td>\n",
       "      <td>False</td>\n",
       "      <td>False</td>\n",
       "      <td>0</td>\n",
       "    </tr>\n",
       "    <tr>\n",
       "      <th>4</th>\n",
       "      <td>14900</td>\n",
       "      <td>2017</td>\n",
       "      <td>chrysler 200</td>\n",
       "      <td>3</td>\n",
       "      <td>4</td>\n",
       "      <td>gas</td>\n",
       "      <td>80903</td>\n",
       "      <td>automatic</td>\n",
       "      <td>sedan</td>\n",
       "      <td>black</td>\n",
       "      <td>...</td>\n",
       "      <td>1</td>\n",
       "      <td>2</td>\n",
       "      <td>40451</td>\n",
       "      <td>False</td>\n",
       "      <td>False</td>\n",
       "      <td>False</td>\n",
       "      <td>False</td>\n",
       "      <td>False</td>\n",
       "      <td>True</td>\n",
       "      <td>1</td>\n",
       "    </tr>\n",
       "  </tbody>\n",
       "</table>\n",
       "<p>5 rows × 24 columns</p>\n",
       "</div>"
      ],
      "text/plain": [
       "   price  model_year           model condition  cylinders fuel  odometer  \\\n",
       "0   9400        2011          bmw x5         2          6  gas    145000   \n",
       "1  25500        2011      ford f-150         2          6  gas     88705   \n",
       "2   5500        2013  hyundai sonata         4          4  gas    110000   \n",
       "3   1500        2003      ford f-150         1          8  gas    161397   \n",
       "4  14900        2017    chrysler 200         3          4  gas     80903   \n",
       "\n",
       "  transmission   type paint_color  ...  day_of_week vehicle_age  \\\n",
       "0    automatic    SUV     unknown  ...            5           7   \n",
       "1    automatic  truck       white  ...            4           7   \n",
       "2    automatic  sedan         red  ...            3           6   \n",
       "3    automatic  truck     unknown  ...            4          16   \n",
       "4    automatic  sedan       black  ...            1           2   \n",
       "\n",
       "   avg_miles_yearly outlier_price  outlier_cylinders  outlier_odometer  \\\n",
       "0             20714         False              False             False   \n",
       "1             12672         False              False             False   \n",
       "2             18333         False              False             False   \n",
       "3             10087         False              False             False   \n",
       "4             40451         False              False             False   \n",
       "\n",
       "   outlier_days_listed  outlier_vehicle_age  outlier_avg_miles_yearly  \\\n",
       "0                False                False                     False   \n",
       "1                False                False                     False   \n",
       "2                False                False                     False   \n",
       "3                False                False                     False   \n",
       "4                False                False                      True   \n",
       "\n",
       "   outliers  \n",
       "0         0  \n",
       "1         0  \n",
       "2         0  \n",
       "3         0  \n",
       "4         1  \n",
       "\n",
       "[5 rows x 24 columns]"
      ]
     },
     "execution_count": 58,
     "metadata": {},
     "output_type": "execute_result"
    }
   ],
   "source": [
    "df.head(5)"
   ]
  },
  {
   "cell_type": "code",
   "execution_count": 59,
   "metadata": {
    "scrolled": true
   },
   "outputs": [
    {
     "name": "stdout",
     "output_type": "stream",
     "text": [
      "There are 34938 records with no outliers, and there are 16587 records with outliers\n"
     ]
    }
   ],
   "source": [
    "df_outliers = df[df.outliers != 0]\n",
    "df_no_outliers = df[df.outliers == 0]\n",
    "print('There are',len(df_no_outliers), 'records with no outliers, and there are', len(df_outliers), 'records with outliers')"
   ]
  },
  {
   "cell_type": "markdown",
   "metadata": {},
   "source": [
    "## Now let's compare the histograms of filtered and unfiltered data.  "
   ]
  },
  {
   "cell_type": "markdown",
   "metadata": {},
   "source": [
    "### Price"
   ]
  },
  {
   "cell_type": "code",
   "execution_count": 60,
   "metadata": {
    "scrolled": true
   },
   "outputs": [
    {
     "data": {
      "text/plain": [
       "<AxesSubplot:>"
      ]
     },
     "execution_count": 60,
     "metadata": {},
     "output_type": "execute_result"
    },
    {
     "data": {
      "image/png": "[encoded data removed]",
      "text/plain": [
       "<Figure size 432x288 with 1 Axes>"
      ]
     },
     "metadata": {
      "needs_background": "light"
     },
     "output_type": "display_data"
    }
   ],
   "source": [
    "price = df['price']\n",
    "price_no = df_no_outliers['price']\n",
    "price.hist(bins=50)\n",
    "price_no.hist(bins=5)"
   ]
  },
  {
   "cell_type": "markdown",
   "metadata": {},
   "source": [
    "### Cylinders"
   ]
  },
  {
   "cell_type": "code",
   "execution_count": 61,
   "metadata": {},
   "outputs": [
    {
     "data": {
      "text/plain": [
       "<AxesSubplot:>"
      ]
     },
     "execution_count": 61,
     "metadata": {},
     "output_type": "execute_result"
    },
    {
     "data": {
      "image/png": "[encoded data removed]",
      "text/plain": [
       "<Figure size 432x288 with 1 Axes>"
      ]
     },
     "metadata": {
      "needs_background": "light"
     },
     "output_type": "display_data"
    }
   ],
   "source": [
    "cylinders = df['cylinders']\n",
    "cylinders_no = df_no_outliers['cylinders']\n",
    "cylinders.hist()\n",
    "cylinders_no.hist()"
   ]
  },
  {
   "cell_type": "markdown",
   "metadata": {},
   "source": [
    "### We got rid of the zeros, but our distribution stayed the same."
   ]
  },
  {
   "cell_type": "markdown",
   "metadata": {},
   "source": [
    "### Model Years"
   ]
  },
  {
   "cell_type": "code",
   "execution_count": 62,
   "metadata": {},
   "outputs": [
    {
     "data": {
      "text/plain": [
       "<AxesSubplot:>"
      ]
     },
     "execution_count": 62,
     "metadata": {},
     "output_type": "execute_result"
    },
    {
     "data": {
      "image/png": "[encoded data removed]",
      "text/plain": [
       "<Figure size 432x288 with 1 Axes>"
      ]
     },
     "metadata": {
      "needs_background": "light"
     },
     "output_type": "display_data"
    }
   ],
   "source": [
    "model_year = df['model_year']\n",
    "model_year_no = df_no_outliers['model_year']\n",
    "model_year.hist(bins=120)\n",
    "model_year_no.hist(bins=25)"
   ]
  },
  {
   "cell_type": "markdown",
   "metadata": {},
   "source": [
    "### Odometer"
   ]
  },
  {
   "cell_type": "code",
   "execution_count": 63,
   "metadata": {
    "scrolled": true
   },
   "outputs": [
    {
     "data": {
      "text/plain": [
       "<AxesSubplot:>"
      ]
     },
     "execution_count": 63,
     "metadata": {},
     "output_type": "execute_result"
    },
    {
     "data": {
      "image/png": "[encoded data removed]",
      "text/plain": [
       "<Figure size 432x288 with 1 Axes>"
      ]
     },
     "metadata": {
      "needs_background": "light"
     },
     "output_type": "display_data"
    }
   ],
   "source": [
    "odometer = df['odometer']\n",
    "odometer_no = df_no_outliers['odometer']\n",
    "odometer.hist(bins=40)\n",
    "odometer_no.hist(bins=10)"
   ]
  },
  {
   "cell_type": "markdown",
   "metadata": {},
   "source": [
    "### Days Listed"
   ]
  },
  {
   "cell_type": "code",
   "execution_count": 64,
   "metadata": {},
   "outputs": [
    {
     "data": {
      "text/plain": [
       "<AxesSubplot:>"
      ]
     },
     "execution_count": 64,
     "metadata": {},
     "output_type": "execute_result"
    },
    {
     "data": {
      "image/png": "[encoded data removed]",
      "text/plain": [
       "<Figure size 432x288 with 1 Axes>"
      ]
     },
     "metadata": {
      "needs_background": "light"
     },
     "output_type": "display_data"
    }
   ],
   "source": [
    "days_listed = df['days_listed']\n",
    "days_listed_no = df_no_outliers['days_listed']\n",
    "days_listed.hist(bins=75)\n",
    "days_listed_no.hist(bins=25)"
   ]
  },
  {
   "cell_type": "markdown",
   "metadata": {},
   "source": [
    "### Vehicle Age"
   ]
  },
  {
   "cell_type": "code",
   "execution_count": 65,
   "metadata": {
    "scrolled": true
   },
   "outputs": [
    {
     "data": {
      "text/plain": [
       "<AxesSubplot:>"
      ]
     },
     "execution_count": 65,
     "metadata": {},
     "output_type": "execute_result"
    },
    {
     "data": {
      "image/png": "[encoded data removed]",
      "text/plain": [
       "<Figure size 432x288 with 1 Axes>"
      ]
     },
     "metadata": {
      "needs_background": "light"
     },
     "output_type": "display_data"
    }
   ],
   "source": [
    "vehicle_age = df['vehicle_age']\n",
    "vehicle_age_no = df_no_outliers['vehicle_age']\n",
    "vehicle_age.hist(bins=60)\n",
    "vehicle_age_no.hist(bins=15)"
   ]
  },
  {
   "cell_type": "markdown",
   "metadata": {},
   "source": [
    "### Average Miles Yearly"
   ]
  },
  {
   "cell_type": "code",
   "execution_count": 66,
   "metadata": {},
   "outputs": [
    {
     "data": {
      "text/plain": [
       "<AxesSubplot:>"
      ]
     },
     "execution_count": 66,
     "metadata": {},
     "output_type": "execute_result"
    },
    {
     "data": {
      "image/png": "[encoded data removed]",
      "text/plain": [
       "<Figure size 432x288 with 1 Axes>"
      ]
     },
     "metadata": {
      "needs_background": "light"
     },
     "output_type": "display_data"
    }
   ],
   "source": [
    "avg_miles_yearly = df['avg_miles_yearly']\n",
    "avg_miles_yearly_no = df_no_outliers['avg_miles_yearly']\n",
    "avg_miles_yearly.hist(bins=100)\n",
    "avg_miles_yearly_no.hist(bins=10)"
   ]
  },
  {
   "cell_type": "markdown",
   "metadata": {},
   "source": [
    "<div class=\"alert alert-block alert-warning\">\n",
    "   <h2>Reviewer's commentary <a class=\"tocSkip\"> </h2>\n",
    "    <br/>\n",
    "<b>Remarks and recommendations📌:</b> \n",
    "       \n",
    "Ok, correct actions here, but it is important to fix the visualization."
   ]
  },
  {
   "cell_type": "markdown",
   "metadata": {},
   "source": [
    "# Here is a histogram of days listed with all the outliers removed.  "
   ]
  },
  {
   "cell_type": "code",
   "execution_count": 67,
   "metadata": {},
   "outputs": [
    {
     "data": {
      "text/plain": [
       "array([[<AxesSubplot:title={'center':'days_listed'}>]], dtype=object)"
      ]
     },
     "execution_count": 67,
     "metadata": {},
     "output_type": "execute_result"
    },
    {
     "data": {
      "image/png": "[encoded data removed]",
      "text/plain": [
       "<Figure size 432x288 with 1 Axes>"
      ]
     },
     "metadata": {
      "needs_background": "light"
     },
     "output_type": "display_data"
    }
   ],
   "source": [
    "df_no_outliers.hist('days_listed')"
   ]
  },
  {
   "cell_type": "code",
   "execution_count": 68,
   "metadata": {},
   "outputs": [
    {
     "name": "stdout",
     "output_type": "stream",
     "text": [
      "mean: 36.81922262293205 median: 32.0\n"
     ]
    }
   ],
   "source": [
    "print('mean:',df_no_outliers['days_listed'].mean(), 'median:',df_no_outliers['days_listed'].median())"
   ]
  },
  {
   "cell_type": "markdown",
   "metadata": {},
   "source": [
    "### All these histograms (except model_year) skew right, meaning the mean is higher than the median in all these cases.  More vehicles are listed on the site for less time than average.  "
   ]
  },
  {
   "cell_type": "markdown",
   "metadata": {},
   "source": [
    "\n",
    "<div class=\"alert alert-block alert-danger\">\n",
    "    <h2>Reviewer's commentary <a class=\"tocSkip\"> </h2>\n",
    "    <br/>\n",
    "<b>Needs fixing!🤔:</b>\n",
    "        \n",
    "Ok, yes, the project is not complete yet, so, I'll waiting for new version of your project for the next iteration of the review.\n",
    "        \n",
    "What can I advice you here:\n",
    "        \n",
    "1) at the next steps of the analysis you need to identify the two most advertized types of vehicles (see the instruction) when you do this, you need to analyze two these types of vehicles separately: i.e. you can create two slice of data: for one type of vehicles and for second type, and then you create plots for categorical variables and calculate correlation for one type of vehicles (using the first slice of the data) and then for the second. That's the idea, please, follow it👌\n",
    "        \n",
    "2) it is bettre to analyze the condition column as categorical (despite the fact that we replace categories in this column with numbers, it is still can be considered as categorical), so it is better to analyze it as categorical, i.e. you can try to use graphical method here (barplot or boxplot), scatter plot is not very suitable here.\n",
    "        \n",
    "3) as for correlation (you need to conduct correclation analysis here) you can create one common correlation matrix for quantitative variables or visualize correlation analysis using heatmap plot. More information below:\n",
    "        \n",
    "https://towardsdatascience.com/heatmap-basics-with-pythons-seaborn-fb92ea280a6c?gi=59629750b22d\n",
    "        \n",
    "https://matplotlib.org/stable/gallery/images_contours_and_fields/image_annotated_heatmap.html\n",
    "        \n",
    "https://blog.quantinsti.com/creating-heatmap-using-python-seaborn/\n",
    "        \n",
    "https://datatofish.com/correlation-matrix-pandas/\n",
    "        \n",
    "https://www.geeksforgeeks.org/create-a-correlation-matrix-using-python/\n",
    "        \n",
    "</div>"
   ]
  },
  {
   "cell_type": "code",
   "execution_count": 69,
   "metadata": {},
   "outputs": [
    {
     "data": {
      "text/html": [
       "<div>\n",
       "<style scoped>\n",
       "    .dataframe tbody tr th:only-of-type {\n",
       "        vertical-align: middle;\n",
       "    }\n",
       "\n",
       "    .dataframe tbody tr th {\n",
       "        vertical-align: top;\n",
       "    }\n",
       "\n",
       "    .dataframe thead tr th {\n",
       "        text-align: left;\n",
       "    }\n",
       "\n",
       "    .dataframe thead tr:last-of-type th {\n",
       "        text-align: right;\n",
       "    }\n",
       "</style>\n",
       "<table border=\"1\" class=\"dataframe\">\n",
       "  <thead>\n",
       "    <tr>\n",
       "      <th></th>\n",
       "      <th>count</th>\n",
       "      <th>mean</th>\n",
       "    </tr>\n",
       "    <tr>\n",
       "      <th></th>\n",
       "      <th>price</th>\n",
       "      <th>price</th>\n",
       "    </tr>\n",
       "    <tr>\n",
       "      <th>type</th>\n",
       "      <th></th>\n",
       "      <th></th>\n",
       "    </tr>\n",
       "  </thead>\n",
       "  <tbody>\n",
       "    <tr>\n",
       "      <th>SUV</th>\n",
       "      <td>8862</td>\n",
       "      <td>9652.652336</td>\n",
       "    </tr>\n",
       "    <tr>\n",
       "      <th>bus</th>\n",
       "      <td>12</td>\n",
       "      <td>8404.666667</td>\n",
       "    </tr>\n",
       "    <tr>\n",
       "      <th>convertible</th>\n",
       "      <td>203</td>\n",
       "      <td>11710.807882</td>\n",
       "    </tr>\n",
       "    <tr>\n",
       "      <th>coupe</th>\n",
       "      <td>1170</td>\n",
       "      <td>10201.874359</td>\n",
       "    </tr>\n",
       "    <tr>\n",
       "      <th>hatchback</th>\n",
       "      <td>722</td>\n",
       "      <td>6094.840720</td>\n",
       "    </tr>\n",
       "    <tr>\n",
       "      <th>mini-van</th>\n",
       "      <td>864</td>\n",
       "      <td>7236.343750</td>\n",
       "    </tr>\n",
       "    <tr>\n",
       "      <th>offroad</th>\n",
       "      <td>138</td>\n",
       "      <td>13576.231884</td>\n",
       "    </tr>\n",
       "    <tr>\n",
       "      <th>other</th>\n",
       "      <td>161</td>\n",
       "      <td>9587.670807</td>\n",
       "    </tr>\n",
       "    <tr>\n",
       "      <th>sedan</th>\n",
       "      <td>8689</td>\n",
       "      <td>6320.088273</td>\n",
       "    </tr>\n",
       "    <tr>\n",
       "      <th>truck</th>\n",
       "      <td>12519</td>\n",
       "      <td>14008.353942</td>\n",
       "    </tr>\n",
       "    <tr>\n",
       "      <th>van</th>\n",
       "      <td>432</td>\n",
       "      <td>7643.585648</td>\n",
       "    </tr>\n",
       "    <tr>\n",
       "      <th>wagon</th>\n",
       "      <td>1166</td>\n",
       "      <td>8549.547170</td>\n",
       "    </tr>\n",
       "  </tbody>\n",
       "</table>\n",
       "</div>"
      ],
      "text/plain": [
       "             count          mean\n",
       "             price         price\n",
       "type                            \n",
       "SUV           8862   9652.652336\n",
       "bus             12   8404.666667\n",
       "convertible    203  11710.807882\n",
       "coupe         1170  10201.874359\n",
       "hatchback      722   6094.840720\n",
       "mini-van       864   7236.343750\n",
       "offroad        138  13576.231884\n",
       "other          161   9587.670807\n",
       "sedan         8689   6320.088273\n",
       "truck        12519  14008.353942\n",
       "van            432   7643.585648\n",
       "wagon         1166   8549.547170"
      ]
     },
     "execution_count": 69,
     "metadata": {},
     "output_type": "execute_result"
    }
   ],
   "source": [
    "model_agg = df_no_outliers.pivot_table(index='type', values=['price'], aggfunc=['count','mean'])#.sort_values(by='count',ascending = False)\n",
    "model_agg#.sort_values(by='count',ascending=False)\n",
    "#model_agg.hist()\n"
   ]
  },
  {
   "cell_type": "code",
   "execution_count": 70,
   "metadata": {},
   "outputs": [
    {
     "data": {
      "text/plain": [
       "<AxesSubplot:xlabel='type', ylabel='Price'>"
      ]
     },
     "execution_count": 70,
     "metadata": {},
     "output_type": "execute_result"
    },
    {
     "data": {
      "image/png": "[encoded data removed]",
      "text/plain": [
       "<Figure size 432x288 with 1 Axes>"
      ]
     },
     "metadata": {
      "needs_background": "light"
     },
     "output_type": "display_data"
    }
   ],
   "source": [
    "#model_agg.hist('type')\n",
    "model_agg.plot(kind='bar', ylabel='Price')#something looks off here"
   ]
  },
  {
   "attachments": {
    "image-2.png": {
     "image/png": "[encoded data removed]"
    },
    "image.png": {
     "image/png": "[encoded data removed]"
    }
   },
   "cell_type": "markdown",
   "metadata": {},
   "source": [
    "\n",
    "<div class=\"alert alert-block alert-danger\">\n",
    "    <h2>Reviewer's commentary: second iteration of the review <a class=\"tocSkip\"> </h2>\n",
    "    <br/>\n",
    "<b>Needs fixing!🤔:</b>\n",
    "        \n",
    "Ok, here the code provides the error, please, try to improve this bug.\n",
    "        \n",
    "![image.png](attachment:image.png)\n",
    "        \n",
    "![image-2.png](attachment:image-2.png)"
   ]
  },
  {
   "cell_type": "code",
   "execution_count": 71,
   "metadata": {},
   "outputs": [
    {
     "data": {
      "text/html": [
       "<div>\n",
       "<style scoped>\n",
       "    .dataframe tbody tr th:only-of-type {\n",
       "        vertical-align: middle;\n",
       "    }\n",
       "\n",
       "    .dataframe tbody tr th {\n",
       "        vertical-align: top;\n",
       "    }\n",
       "\n",
       "    .dataframe thead th {\n",
       "        text-align: right;\n",
       "    }\n",
       "</style>\n",
       "<table border=\"1\" class=\"dataframe\">\n",
       "  <thead>\n",
       "    <tr style=\"text-align: right;\">\n",
       "      <th></th>\n",
       "      <th>model</th>\n",
       "    </tr>\n",
       "    <tr>\n",
       "      <th>type</th>\n",
       "      <th></th>\n",
       "    </tr>\n",
       "  </thead>\n",
       "  <tbody>\n",
       "    <tr>\n",
       "      <th>truck</th>\n",
       "      <td>12519</td>\n",
       "    </tr>\n",
       "    <tr>\n",
       "      <th>SUV</th>\n",
       "      <td>8862</td>\n",
       "    </tr>\n",
       "  </tbody>\n",
       "</table>\n",
       "</div>"
      ],
      "text/plain": [
       "       model\n",
       "type        \n",
       "truck  12519\n",
       "SUV     8862"
      ]
     },
     "execution_count": 71,
     "metadata": {},
     "output_type": "execute_result"
    }
   ],
   "source": [
    "most_advertised = df_no_outliers.pivot_table(index='type', values='model', aggfunc='count')\n",
    "most_advertised.sort_values(by='model',ascending=False).head(2)"
   ]
  },
  {
   "cell_type": "code",
   "execution_count": 72,
   "metadata": {},
   "outputs": [],
   "source": [
    "trucks = df_no_outliers.query('type == \"truck\"')\n",
    "suvs   = df_no_outliers.query('type == \"SUV\"')\n",
    "most_advertised = trucks.append(suvs, ignore_index=True)"
   ]
  },
  {
   "cell_type": "markdown",
   "metadata": {},
   "source": [
    "<div class=\"alert alert-block alert-success\">\n",
    "    <h2>Reviewer's commentary <a class=\"tocSkip\"> </h2>\n",
    "    <br/>\n",
    "<b>Well done!👍:</b> \n",
    "    \n",
    "Ok, the two most advertised types of vehicles are identified correctly, good job!"
   ]
  },
  {
   "cell_type": "code",
   "execution_count": 73,
   "metadata": {},
   "outputs": [
    {
     "data": {
      "text/plain": [
       "<AxesSubplot:xlabel='vehicle_age', ylabel='price'>"
      ]
     },
     "execution_count": 73,
     "metadata": {},
     "output_type": "execute_result"
    },
    {
     "data": {
      "image/png": "[encoded data removed]",
      "text/plain": [
       "<Figure size 432x288 with 1 Axes>"
      ]
     },
     "metadata": {
      "needs_background": "light"
     },
     "output_type": "display_data"
    }
   ],
   "source": [
    "most_advertised.plot.scatter(x='vehicle_age',y='price')"
   ]
  },
  {
   "cell_type": "markdown",
   "metadata": {},
   "source": [
    "### The older a vehicle is on average, the less it costs."
   ]
  },
  {
   "cell_type": "code",
   "execution_count": 74,
   "metadata": {},
   "outputs": [
    {
     "data": {
      "text/plain": [
       "<AxesSubplot:xlabel='odometer', ylabel='price'>"
      ]
     },
     "execution_count": 74,
     "metadata": {},
     "output_type": "execute_result"
    },
    {
     "data": {
      "image/png": "[encoded data removed]",
      "text/plain": [
       "<Figure size 432x288 with 1 Axes>"
      ]
     },
     "metadata": {
      "needs_background": "light"
     },
     "output_type": "display_data"
    }
   ],
   "source": [
    "most_advertised.plot.scatter(x='odometer',y='price')"
   ]
  },
  {
   "cell_type": "markdown",
   "metadata": {},
   "source": [
    "### The more miles, the lower the price."
   ]
  },
  {
   "cell_type": "code",
   "execution_count": 75,
   "metadata": {},
   "outputs": [
    {
     "data": {
      "text/plain": [
       "<AxesSubplot:xlabel='condition', ylabel='price'>"
      ]
     },
     "execution_count": 75,
     "metadata": {},
     "output_type": "execute_result"
    },
    {
     "data": {
      "image/png": "[encoded data removed]",
      "text/plain": [
       "<Figure size 432x288 with 1 Axes>"
      ]
     },
     "metadata": {
      "needs_background": "light"
     },
     "output_type": "display_data"
    }
   ],
   "source": [
    "most_advertised.plot.scatter(x='condition',y='price')"
   ]
  },
  {
   "attachments": {
    "image.png": {
     "image/png": "[encoded data removed]"
    }
   },
   "cell_type": "markdown",
   "metadata": {},
   "source": [
    "\n",
    "<div class=\"alert alert-block alert-danger\">\n",
    "    <h2>Reviewer's commentary: second iteration of the review <a class=\"tocSkip\"> </h2>\n",
    "    <br/>\n",
    "<b>Needs fixing!🤔:</b>\n",
    "        \n",
    "technical error again!\n",
    "        \n",
    "![image.png](attachment:image.png)\n",
    "        \n",
    "Before submitting the project for the review, please, restart kernel and run all the cells to check if the code cells work correctly."
   ]
  },
  {
   "cell_type": "markdown",
   "metadata": {},
   "source": [
    "### There are not enough values in 0 and 5 from which to make inferences. Otherwise, it looks like the nbetter the condition the vehicle, the higher the price"
   ]
  },
  {
   "cell_type": "code",
   "execution_count": 76,
   "metadata": {},
   "outputs": [
    {
     "name": "stderr",
     "output_type": "stream",
     "text": [
      "<ipython-input-76-04c86c2a2c75>:1: FutureWarning: Treating datetime data as categorical rather than numeric in `.describe` is deprecated and will be removed in a future version of pandas. Specify `datetime_is_numeric=True` to silence this warning and adopt the future behavior now.\n",
      "  most_advertised.describe(include='all').transpose()\n"
     ]
    },
    {
     "data": {
      "text/html": [
       "<div>\n",
       "<style scoped>\n",
       "    .dataframe tbody tr th:only-of-type {\n",
       "        vertical-align: middle;\n",
       "    }\n",
       "\n",
       "    .dataframe tbody tr th {\n",
       "        vertical-align: top;\n",
       "    }\n",
       "\n",
       "    .dataframe thead th {\n",
       "        text-align: right;\n",
       "    }\n",
       "</style>\n",
       "<table border=\"1\" class=\"dataframe\">\n",
       "  <thead>\n",
       "    <tr style=\"text-align: right;\">\n",
       "      <th></th>\n",
       "      <th>count</th>\n",
       "      <th>unique</th>\n",
       "      <th>top</th>\n",
       "      <th>freq</th>\n",
       "      <th>first</th>\n",
       "      <th>last</th>\n",
       "      <th>mean</th>\n",
       "      <th>std</th>\n",
       "      <th>min</th>\n",
       "      <th>25%</th>\n",
       "      <th>50%</th>\n",
       "      <th>75%</th>\n",
       "      <th>max</th>\n",
       "    </tr>\n",
       "  </thead>\n",
       "  <tbody>\n",
       "    <tr>\n",
       "      <th>price</th>\n",
       "      <td>21381.0</td>\n",
       "      <td>NaN</td>\n",
       "      <td>NaN</td>\n",
       "      <td>NaN</td>\n",
       "      <td>NaT</td>\n",
       "      <td>NaT</td>\n",
       "      <td>12203.002105</td>\n",
       "      <td>7631.812654</td>\n",
       "      <td>1.0</td>\n",
       "      <td>5995.0</td>\n",
       "      <td>10900.0</td>\n",
       "      <td>16995.0</td>\n",
       "      <td>34595.0</td>\n",
       "    </tr>\n",
       "    <tr>\n",
       "      <th>model_year</th>\n",
       "      <td>21381.0</td>\n",
       "      <td>NaN</td>\n",
       "      <td>NaN</td>\n",
       "      <td>NaN</td>\n",
       "      <td>NaT</td>\n",
       "      <td>NaT</td>\n",
       "      <td>2009.026472</td>\n",
       "      <td>4.691009</td>\n",
       "      <td>1994.0</td>\n",
       "      <td>2006.0</td>\n",
       "      <td>2010.0</td>\n",
       "      <td>2013.0</td>\n",
       "      <td>2018.0</td>\n",
       "    </tr>\n",
       "    <tr>\n",
       "      <th>model</th>\n",
       "      <td>21381</td>\n",
       "      <td>80</td>\n",
       "      <td>ford f-150</td>\n",
       "      <td>1927</td>\n",
       "      <td>NaT</td>\n",
       "      <td>NaT</td>\n",
       "      <td>NaN</td>\n",
       "      <td>NaN</td>\n",
       "      <td>NaN</td>\n",
       "      <td>NaN</td>\n",
       "      <td>NaN</td>\n",
       "      <td>NaN</td>\n",
       "      <td>NaN</td>\n",
       "    </tr>\n",
       "    <tr>\n",
       "      <th>condition</th>\n",
       "      <td>21381</td>\n",
       "      <td>6</td>\n",
       "      <td>3</td>\n",
       "      <td>10297</td>\n",
       "      <td>NaT</td>\n",
       "      <td>NaT</td>\n",
       "      <td>NaN</td>\n",
       "      <td>NaN</td>\n",
       "      <td>NaN</td>\n",
       "      <td>NaN</td>\n",
       "      <td>NaN</td>\n",
       "      <td>NaN</td>\n",
       "      <td>NaN</td>\n",
       "    </tr>\n",
       "    <tr>\n",
       "      <th>cylinders</th>\n",
       "      <td>21381.0</td>\n",
       "      <td>NaN</td>\n",
       "      <td>NaN</td>\n",
       "      <td>NaN</td>\n",
       "      <td>NaT</td>\n",
       "      <td>NaT</td>\n",
       "      <td>6.791731</td>\n",
       "      <td>1.429209</td>\n",
       "      <td>3.0</td>\n",
       "      <td>6.0</td>\n",
       "      <td>8.0</td>\n",
       "      <td>8.0</td>\n",
       "      <td>12.0</td>\n",
       "    </tr>\n",
       "    <tr>\n",
       "      <th>fuel</th>\n",
       "      <td>21381</td>\n",
       "      <td>5</td>\n",
       "      <td>gas</td>\n",
       "      <td>19361</td>\n",
       "      <td>NaT</td>\n",
       "      <td>NaT</td>\n",
       "      <td>NaN</td>\n",
       "      <td>NaN</td>\n",
       "      <td>NaN</td>\n",
       "      <td>NaN</td>\n",
       "      <td>NaN</td>\n",
       "      <td>NaN</td>\n",
       "      <td>NaN</td>\n",
       "    </tr>\n",
       "    <tr>\n",
       "      <th>odometer</th>\n",
       "      <td>21381.0</td>\n",
       "      <td>NaN</td>\n",
       "      <td>NaN</td>\n",
       "      <td>NaN</td>\n",
       "      <td>NaT</td>\n",
       "      <td>NaT</td>\n",
       "      <td>132117.029278</td>\n",
       "      <td>48626.182969</td>\n",
       "      <td>34096.0</td>\n",
       "      <td>97249.0</td>\n",
       "      <td>129500.0</td>\n",
       "      <td>162017.0</td>\n",
       "      <td>271000.0</td>\n",
       "    </tr>\n",
       "    <tr>\n",
       "      <th>transmission</th>\n",
       "      <td>21381</td>\n",
       "      <td>3</td>\n",
       "      <td>automatic</td>\n",
       "      <td>20026</td>\n",
       "      <td>NaT</td>\n",
       "      <td>NaT</td>\n",
       "      <td>NaN</td>\n",
       "      <td>NaN</td>\n",
       "      <td>NaN</td>\n",
       "      <td>NaN</td>\n",
       "      <td>NaN</td>\n",
       "      <td>NaN</td>\n",
       "      <td>NaN</td>\n",
       "    </tr>\n",
       "    <tr>\n",
       "      <th>type</th>\n",
       "      <td>21381</td>\n",
       "      <td>2</td>\n",
       "      <td>truck</td>\n",
       "      <td>12519</td>\n",
       "      <td>NaT</td>\n",
       "      <td>NaT</td>\n",
       "      <td>NaN</td>\n",
       "      <td>NaN</td>\n",
       "      <td>NaN</td>\n",
       "      <td>NaN</td>\n",
       "      <td>NaN</td>\n",
       "      <td>NaN</td>\n",
       "      <td>NaN</td>\n",
       "    </tr>\n",
       "    <tr>\n",
       "      <th>paint_color</th>\n",
       "      <td>21381</td>\n",
       "      <td>13</td>\n",
       "      <td>white</td>\n",
       "      <td>4818</td>\n",
       "      <td>NaT</td>\n",
       "      <td>NaT</td>\n",
       "      <td>NaN</td>\n",
       "      <td>NaN</td>\n",
       "      <td>NaN</td>\n",
       "      <td>NaN</td>\n",
       "      <td>NaN</td>\n",
       "      <td>NaN</td>\n",
       "      <td>NaN</td>\n",
       "    </tr>\n",
       "    <tr>\n",
       "      <th>is_4wd</th>\n",
       "      <td>21381</td>\n",
       "      <td>2</td>\n",
       "      <td>True</td>\n",
       "      <td>15514</td>\n",
       "      <td>NaT</td>\n",
       "      <td>NaT</td>\n",
       "      <td>NaN</td>\n",
       "      <td>NaN</td>\n",
       "      <td>NaN</td>\n",
       "      <td>NaN</td>\n",
       "      <td>NaN</td>\n",
       "      <td>NaN</td>\n",
       "      <td>NaN</td>\n",
       "    </tr>\n",
       "    <tr>\n",
       "      <th>date_posted</th>\n",
       "      <td>21381</td>\n",
       "      <td>354</td>\n",
       "      <td>2018-11-01</td>\n",
       "      <td>83</td>\n",
       "      <td>NaT</td>\n",
       "      <td>NaT</td>\n",
       "      <td>NaN</td>\n",
       "      <td>NaN</td>\n",
       "      <td>NaN</td>\n",
       "      <td>NaN</td>\n",
       "      <td>NaN</td>\n",
       "      <td>NaN</td>\n",
       "      <td>NaN</td>\n",
       "    </tr>\n",
       "    <tr>\n",
       "      <th>days_listed</th>\n",
       "      <td>21381.0</td>\n",
       "      <td>NaN</td>\n",
       "      <td>NaN</td>\n",
       "      <td>NaN</td>\n",
       "      <td>NaT</td>\n",
       "      <td>NaT</td>\n",
       "      <td>36.983537</td>\n",
       "      <td>23.213753</td>\n",
       "      <td>2.0</td>\n",
       "      <td>19.0</td>\n",
       "      <td>32.0</td>\n",
       "      <td>51.0</td>\n",
       "      <td>104.0</td>\n",
       "    </tr>\n",
       "    <tr>\n",
       "      <th>day_posted</th>\n",
       "      <td>21381</td>\n",
       "      <td>354</td>\n",
       "      <td>2018-11-01 00:00:00</td>\n",
       "      <td>83</td>\n",
       "      <td>2018-05-01</td>\n",
       "      <td>2019-04-19</td>\n",
       "      <td>NaN</td>\n",
       "      <td>NaN</td>\n",
       "      <td>NaN</td>\n",
       "      <td>NaN</td>\n",
       "      <td>NaN</td>\n",
       "      <td>NaN</td>\n",
       "      <td>NaN</td>\n",
       "    </tr>\n",
       "    <tr>\n",
       "      <th>day_of_week</th>\n",
       "      <td>21381.0</td>\n",
       "      <td>NaN</td>\n",
       "      <td>NaN</td>\n",
       "      <td>NaN</td>\n",
       "      <td>NaT</td>\n",
       "      <td>NaT</td>\n",
       "      <td>3.009588</td>\n",
       "      <td>1.992679</td>\n",
       "      <td>0.0</td>\n",
       "      <td>1.0</td>\n",
       "      <td>3.0</td>\n",
       "      <td>5.0</td>\n",
       "      <td>6.0</td>\n",
       "    </tr>\n",
       "    <tr>\n",
       "      <th>vehicle_age</th>\n",
       "      <td>21381.0</td>\n",
       "      <td>NaN</td>\n",
       "      <td>NaN</td>\n",
       "      <td>NaN</td>\n",
       "      <td>NaT</td>\n",
       "      <td>NaT</td>\n",
       "      <td>9.288761</td>\n",
       "      <td>4.68686</td>\n",
       "      <td>1.0</td>\n",
       "      <td>6.0</td>\n",
       "      <td>8.0</td>\n",
       "      <td>12.0</td>\n",
       "      <td>24.0</td>\n",
       "    </tr>\n",
       "    <tr>\n",
       "      <th>avg_miles_yearly</th>\n",
       "      <td>21381.0</td>\n",
       "      <td>NaN</td>\n",
       "      <td>NaN</td>\n",
       "      <td>NaN</td>\n",
       "      <td>NaT</td>\n",
       "      <td>NaT</td>\n",
       "      <td>16358.375193</td>\n",
       "      <td>6405.541552</td>\n",
       "      <td>5882.0</td>\n",
       "      <td>11555.0</td>\n",
       "      <td>15166.0</td>\n",
       "      <td>19968.0</td>\n",
       "      <td>36145.0</td>\n",
       "    </tr>\n",
       "    <tr>\n",
       "      <th>outlier_price</th>\n",
       "      <td>21381</td>\n",
       "      <td>1</td>\n",
       "      <td>False</td>\n",
       "      <td>21381</td>\n",
       "      <td>NaT</td>\n",
       "      <td>NaT</td>\n",
       "      <td>NaN</td>\n",
       "      <td>NaN</td>\n",
       "      <td>NaN</td>\n",
       "      <td>NaN</td>\n",
       "      <td>NaN</td>\n",
       "      <td>NaN</td>\n",
       "      <td>NaN</td>\n",
       "    </tr>\n",
       "    <tr>\n",
       "      <th>outlier_cylinders</th>\n",
       "      <td>21381</td>\n",
       "      <td>1</td>\n",
       "      <td>False</td>\n",
       "      <td>21381</td>\n",
       "      <td>NaT</td>\n",
       "      <td>NaT</td>\n",
       "      <td>NaN</td>\n",
       "      <td>NaN</td>\n",
       "      <td>NaN</td>\n",
       "      <td>NaN</td>\n",
       "      <td>NaN</td>\n",
       "      <td>NaN</td>\n",
       "      <td>NaN</td>\n",
       "    </tr>\n",
       "    <tr>\n",
       "      <th>outlier_odometer</th>\n",
       "      <td>21381</td>\n",
       "      <td>1</td>\n",
       "      <td>False</td>\n",
       "      <td>21381</td>\n",
       "      <td>NaT</td>\n",
       "      <td>NaT</td>\n",
       "      <td>NaN</td>\n",
       "      <td>NaN</td>\n",
       "      <td>NaN</td>\n",
       "      <td>NaN</td>\n",
       "      <td>NaN</td>\n",
       "      <td>NaN</td>\n",
       "      <td>NaN</td>\n",
       "    </tr>\n",
       "    <tr>\n",
       "      <th>outlier_days_listed</th>\n",
       "      <td>21381</td>\n",
       "      <td>1</td>\n",
       "      <td>False</td>\n",
       "      <td>21381</td>\n",
       "      <td>NaT</td>\n",
       "      <td>NaT</td>\n",
       "      <td>NaN</td>\n",
       "      <td>NaN</td>\n",
       "      <td>NaN</td>\n",
       "      <td>NaN</td>\n",
       "      <td>NaN</td>\n",
       "      <td>NaN</td>\n",
       "      <td>NaN</td>\n",
       "    </tr>\n",
       "    <tr>\n",
       "      <th>outlier_vehicle_age</th>\n",
       "      <td>21381</td>\n",
       "      <td>1</td>\n",
       "      <td>False</td>\n",
       "      <td>21381</td>\n",
       "      <td>NaT</td>\n",
       "      <td>NaT</td>\n",
       "      <td>NaN</td>\n",
       "      <td>NaN</td>\n",
       "      <td>NaN</td>\n",
       "      <td>NaN</td>\n",
       "      <td>NaN</td>\n",
       "      <td>NaN</td>\n",
       "      <td>NaN</td>\n",
       "    </tr>\n",
       "    <tr>\n",
       "      <th>outlier_avg_miles_yearly</th>\n",
       "      <td>21381</td>\n",
       "      <td>1</td>\n",
       "      <td>False</td>\n",
       "      <td>21381</td>\n",
       "      <td>NaT</td>\n",
       "      <td>NaT</td>\n",
       "      <td>NaN</td>\n",
       "      <td>NaN</td>\n",
       "      <td>NaN</td>\n",
       "      <td>NaN</td>\n",
       "      <td>NaN</td>\n",
       "      <td>NaN</td>\n",
       "      <td>NaN</td>\n",
       "    </tr>\n",
       "    <tr>\n",
       "      <th>outliers</th>\n",
       "      <td>21381.0</td>\n",
       "      <td>NaN</td>\n",
       "      <td>NaN</td>\n",
       "      <td>NaN</td>\n",
       "      <td>NaT</td>\n",
       "      <td>NaT</td>\n",
       "      <td>0.0</td>\n",
       "      <td>0.0</td>\n",
       "      <td>0.0</td>\n",
       "      <td>0.0</td>\n",
       "      <td>0.0</td>\n",
       "      <td>0.0</td>\n",
       "      <td>0.0</td>\n",
       "    </tr>\n",
       "  </tbody>\n",
       "</table>\n",
       "</div>"
      ],
      "text/plain": [
       "                            count unique                  top   freq  \\\n",
       "price                     21381.0    NaN                  NaN    NaN   \n",
       "model_year                21381.0    NaN                  NaN    NaN   \n",
       "model                       21381     80           ford f-150   1927   \n",
       "condition                   21381      6                    3  10297   \n",
       "cylinders                 21381.0    NaN                  NaN    NaN   \n",
       "fuel                        21381      5                  gas  19361   \n",
       "odometer                  21381.0    NaN                  NaN    NaN   \n",
       "transmission                21381      3            automatic  20026   \n",
       "type                        21381      2                truck  12519   \n",
       "paint_color                 21381     13                white   4818   \n",
       "is_4wd                      21381      2                 True  15514   \n",
       "date_posted                 21381    354           2018-11-01     83   \n",
       "days_listed               21381.0    NaN                  NaN    NaN   \n",
       "day_posted                  21381    354  2018-11-01 00:00:00     83   \n",
       "day_of_week               21381.0    NaN                  NaN    NaN   \n",
       "vehicle_age               21381.0    NaN                  NaN    NaN   \n",
       "avg_miles_yearly          21381.0    NaN                  NaN    NaN   \n",
       "outlier_price               21381      1                False  21381   \n",
       "outlier_cylinders           21381      1                False  21381   \n",
       "outlier_odometer            21381      1                False  21381   \n",
       "outlier_days_listed         21381      1                False  21381   \n",
       "outlier_vehicle_age         21381      1                False  21381   \n",
       "outlier_avg_miles_yearly    21381      1                False  21381   \n",
       "outliers                  21381.0    NaN                  NaN    NaN   \n",
       "\n",
       "                              first       last           mean           std  \\\n",
       "price                           NaT        NaT   12203.002105   7631.812654   \n",
       "model_year                      NaT        NaT    2009.026472      4.691009   \n",
       "model                           NaT        NaT            NaN           NaN   \n",
       "condition                       NaT        NaT            NaN           NaN   \n",
       "cylinders                       NaT        NaT       6.791731      1.429209   \n",
       "fuel                            NaT        NaT            NaN           NaN   \n",
       "odometer                        NaT        NaT  132117.029278  48626.182969   \n",
       "transmission                    NaT        NaT            NaN           NaN   \n",
       "type                            NaT        NaT            NaN           NaN   \n",
       "paint_color                     NaT        NaT            NaN           NaN   \n",
       "is_4wd                          NaT        NaT            NaN           NaN   \n",
       "date_posted                     NaT        NaT            NaN           NaN   \n",
       "days_listed                     NaT        NaT      36.983537     23.213753   \n",
       "day_posted               2018-05-01 2019-04-19            NaN           NaN   \n",
       "day_of_week                     NaT        NaT       3.009588      1.992679   \n",
       "vehicle_age                     NaT        NaT       9.288761       4.68686   \n",
       "avg_miles_yearly                NaT        NaT   16358.375193   6405.541552   \n",
       "outlier_price                   NaT        NaT            NaN           NaN   \n",
       "outlier_cylinders               NaT        NaT            NaN           NaN   \n",
       "outlier_odometer                NaT        NaT            NaN           NaN   \n",
       "outlier_days_listed             NaT        NaT            NaN           NaN   \n",
       "outlier_vehicle_age             NaT        NaT            NaN           NaN   \n",
       "outlier_avg_miles_yearly        NaT        NaT            NaN           NaN   \n",
       "outliers                        NaT        NaT            0.0           0.0   \n",
       "\n",
       "                              min      25%       50%       75%       max  \n",
       "price                         1.0   5995.0   10900.0   16995.0   34595.0  \n",
       "model_year                 1994.0   2006.0    2010.0    2013.0    2018.0  \n",
       "model                         NaN      NaN       NaN       NaN       NaN  \n",
       "condition                     NaN      NaN       NaN       NaN       NaN  \n",
       "cylinders                     3.0      6.0       8.0       8.0      12.0  \n",
       "fuel                          NaN      NaN       NaN       NaN       NaN  \n",
       "odometer                  34096.0  97249.0  129500.0  162017.0  271000.0  \n",
       "transmission                  NaN      NaN       NaN       NaN       NaN  \n",
       "type                          NaN      NaN       NaN       NaN       NaN  \n",
       "paint_color                   NaN      NaN       NaN       NaN       NaN  \n",
       "is_4wd                        NaN      NaN       NaN       NaN       NaN  \n",
       "date_posted                   NaN      NaN       NaN       NaN       NaN  \n",
       "days_listed                   2.0     19.0      32.0      51.0     104.0  \n",
       "day_posted                    NaN      NaN       NaN       NaN       NaN  \n",
       "day_of_week                   0.0      1.0       3.0       5.0       6.0  \n",
       "vehicle_age                   1.0      6.0       8.0      12.0      24.0  \n",
       "avg_miles_yearly           5882.0  11555.0   15166.0   19968.0   36145.0  \n",
       "outlier_price                 NaN      NaN       NaN       NaN       NaN  \n",
       "outlier_cylinders             NaN      NaN       NaN       NaN       NaN  \n",
       "outlier_odometer              NaN      NaN       NaN       NaN       NaN  \n",
       "outlier_days_listed           NaN      NaN       NaN       NaN       NaN  \n",
       "outlier_vehicle_age           NaN      NaN       NaN       NaN       NaN  \n",
       "outlier_avg_miles_yearly      NaN      NaN       NaN       NaN       NaN  \n",
       "outliers                      0.0      0.0       0.0       0.0       0.0  "
      ]
     },
     "execution_count": 76,
     "metadata": {},
     "output_type": "execute_result"
    }
   ],
   "source": [
    "most_advertised.describe(include='all').transpose()"
   ]
  },
  {
   "cell_type": "code",
   "execution_count": 77,
   "metadata": {},
   "outputs": [
    {
     "data": {
      "text/plain": [
       "Text(0.5, 1.0, 'Price by Transmission Type')"
      ]
     },
     "execution_count": 77,
     "metadata": {},
     "output_type": "execute_result"
    },
    {
     "data": {
      "image/png": "[encoded data removed]",
      "text/plain": [
       "<Figure size 720x576 with 1 Axes>"
      ]
     },
     "metadata": {
      "needs_background": "light"
     },
     "output_type": "display_data"
    }
   ],
   "source": [
    "plt.figure(figsize=(10, 8))\n",
    "# make boxplot with Seaborn\n",
    "sns.boxplot(x=\"transmission\", y=\"price\", hue='type', data=most_advertised)\n",
    "# Set labels and title\n",
    "plt.ylabel(\"Price\", size=14)\n",
    "plt.xlabel(\"Transmission Type\", size=14)\n",
    "plt.title(\"Price by Transmission Type\")"
   ]
  },
  {
   "cell_type": "markdown",
   "metadata": {},
   "source": [
    "### Trucks with automatic transmissions are more expensive than trucks with a manual transmission.  For SUVs it is the opposite but less extreme.  SUVs with automatic transmissions are slightly less expensive than those with a manual transmission.  "
   ]
  },
  {
   "cell_type": "code",
   "execution_count": 78,
   "metadata": {},
   "outputs": [
    {
     "data": {
      "text/plain": [
       "Text(0.5, 1.0, 'Price by Vehicle Color')"
      ]
     },
     "execution_count": 78,
     "metadata": {},
     "output_type": "execute_result"
    },
    {
     "data": {
      "image/png": "[encoded data removed]",
      "text/plain": [
       "<Figure size 720x576 with 1 Axes>"
      ]
     },
     "metadata": {
      "needs_background": "light"
     },
     "output_type": "display_data"
    }
   ],
   "source": [
    "plt.figure(figsize=(10, 8))\n",
    "# make boxplot with Seaborn\n",
    "sns.boxplot(x=\"paint_color\", y=\"price\", data=most_advertised)\n",
    "# Set labels and title\n",
    "plt.ylabel(\"Price\", size=14)\n",
    "plt.xlabel(\"Vehicle Color\", size=8)\n",
    "plt.title(\"Price by Vehicle Color\")"
   ]
  },
  {
   "cell_type": "markdown",
   "metadata": {},
   "source": [
    "\n",
    "<div class=\"alert alert-block alert-danger\">\n",
    "    <h2>Reviewer's commentary: second iteration of the review <a class=\"tocSkip\"> </h2>\n",
    "    <br/>\n",
    "<b>Needs fixing!🤔:</b>\n",
    "       \n",
    "Reminder again: as for paint_color, you also need to analyze it for each of the most advertised types of vehicles, for example, as you did in case of transmission, I can see the kegend and pairs of boxplots, for paint_color there is no such separation.\n",
    "        \n",
    "And, please, again read my comment above (that is from the first iteration of the review) you need also calculate the correlation for quantitative variables and interpret the coefficients, and it is better to format the plots according to my recommendations."
   ]
  },
  {
   "cell_type": "markdown",
   "metadata": {},
   "source": [
    "<div style=\"border:solid Chocolate 2px; padding: 40px\">\n",
    "\n",
    "**The overall review conclusion^second iteration of the review**\n",
    "\n",
    "Jay, thank you for submitting your project! I can see that you've worked really hard on it! You did a great job to bring the project to completion, thanks for your patience and desire to complete the project! But there are several things in your project which I suppose it is important to fix in order to make your project really ideal! My comments will navigate you!\n",
    "\n",
    "**Good things and practices in your project I want to highlight🙂**:\n",
    "* You used different methods for working with your data. It is really great that you can apply these methods on practice, keep it up!\n",
    "* You used visualization a lot, good job!\n",
    "* You formulated conclusions after the each step of the analysis!\n",
    "    \n",
    "**What is worth working on👀**:\n",
    "\n",
    "* Please, calculate the correlation for quantitative variable\n",
    "* Please, try to format the plots a little bit, for EDA project it is crucially important.\n",
    "* Some cells provide technical errors, it is important to fix them.\n",
    "* You can find other recommendations in my comments!\n",
    "\n",
    " \n",
    "**Good luck! I will wait for your work for a third iteration of the review!😉**\n",
    "    \n",
    "![gif](https://media.giphy.com/media/fwbZnTftCXVocKzfxR/giphy.gif)  "
   ]
  },
  {
   "cell_type": "markdown",
   "metadata": {},
   "source": [
    "### Most colors don't impact price.  Orange skews more expensive, while purple and green skew less expensive."
   ]
  },
  {
   "cell_type": "markdown",
   "metadata": {},
   "source": [
    "# Overall conclusion"
   ]
  },
  {
   "cell_type": "markdown",
   "metadata": {},
   "source": [
    "### There were a lot of missing values in the initial dataset.  Filling in the null values and eliminating outliers preserved thousands of records.  The factors that impact price the most are miles, condition and price. There are more trucks and SUVs than all other categories combined.  The average vehicle is sold in 36 days, but most vehicles are sold in less than 36 days.  \n",
    "\n",
    "### I recommend requiring sellers to fill in certain fields before committing the record, not just for our data, but for the purchaser, such as model_year and odometer."
   ]
  },
  {
   "cell_type": "markdown",
   "metadata": {},
   "source": []
  },
  {
   "cell_type": "markdown",
   "metadata": {},
   "source": [
    "# Project completion checklist\n",
    "\n",
    "Mark the completed tasks with 'x'. Then press Shift+Enter."
   ]
  },
  {
   "cell_type": "markdown",
   "metadata": {},
   "source": [
    "- [x]  file opened\n",
    "- [x]  files explored (first rows printed, info() method)\n",
    "- [x]  missing values determined\n",
    "- [x]  missing values filled in\n",
    "- [x]  clarification of the discovered missing values provided\n",
    "- [x]  data types converted\n",
    "- [x]  explanation of which columns had the data types changed and why\n",
    "- [x]  calculated and added to the table: day of the week, month, and year the ad was placed\n",
    "- [x]  calculated and added to the table: the vehicle's age (in years) when the ad was placed\n",
    "- [x]  calculated and added to the table: the vehicle's average mileage per year\n",
    "- [x]  the following parameters investigated: price, vehicle's age when the ad was placed, mileage, number of cylinders, and condition\n",
    "- [x]  histograms for each parameter created\n",
    "- [x]  task completed: \"Determine the upper limits of outliers, remove the outliers and store them in a separate DataFrame, and continue your work with the filtered data.\"\n",
    "- [x]  task completed: \"Use the filtered data to plot new histograms. Compare them with the earlier histograms (the ones that included outliers). Draw conclusions for each histogram.\"\n",
    "- [x]  task completed: \"Study how many days advertisements were displayed (days_listed). Plot a histogram. Calculate the mean and median. Describe the typical lifetime of an ad. Determine when ads were removed quickly, and when they were listed for an abnormally long time.  \"\n",
    "- [x]  task completed: \"Analyze the number of ads and the average price for each type of vehicle. Plot a graph showing the dependence of the number of ads on the vehicle type. Select the two types with the greatest number of ads. \"\n",
    "- [x]  task completed: \"What factors impact the price most? Take each of the popular types you detected at the previous stage and study whether the price depends on age, mileage, condition, transmission type, and color. For categorical variables (transmission type and color), plot box-and-whisker charts, and create scatterplots for the rest. When analyzing categorical variables, note that the categories must have at least 50 ads; otherwise, their parameters won't be valid for analysis.  \"\n",
    "- [x]  each stage has a conclusion\n",
    "- [x]  overall conclusion drawn"
   ]
  }
 ],
 "metadata": {
  "ExecuteTimeLog": [
   {
    "duration": 966,
    "start_time": "2021-11-05T17:41:07.261Z"
   },
   {
    "duration": 42,
    "start_time": "2021-11-05T17:41:08.229Z"
   },
   {
    "duration": 19,
    "start_time": "2021-11-05T17:41:08.273Z"
   },
   {
    "duration": 3,
    "start_time": "2021-11-05T17:41:08.294Z"
   },
   {
    "duration": 9,
    "start_time": "2021-11-05T17:41:08.298Z"
   },
   {
    "duration": 36,
    "start_time": "2021-11-05T17:41:08.308Z"
   },
   {
    "duration": 39,
    "start_time": "2021-11-05T17:41:08.346Z"
   },
   {
    "duration": 8,
    "start_time": "2021-11-05T17:41:08.388Z"
   },
   {
    "duration": 9,
    "start_time": "2021-11-05T17:41:08.398Z"
   },
   {
    "duration": 9,
    "start_time": "2021-11-05T17:41:08.408Z"
   },
   {
    "duration": 9,
    "start_time": "2021-11-05T17:41:08.444Z"
   },
   {
    "duration": 11,
    "start_time": "2021-11-05T17:41:08.455Z"
   },
   {
    "duration": 11,
    "start_time": "2021-11-05T17:41:08.468Z"
   },
   {
    "duration": 23,
    "start_time": "2021-11-05T17:41:08.480Z"
   },
   {
    "duration": 2,
    "start_time": "2021-11-05T17:41:08.505Z"
   },
   {
    "duration": 40,
    "start_time": "2021-11-05T17:41:08.509Z"
   },
   {
    "duration": 5,
    "start_time": "2021-11-05T17:41:08.551Z"
   },
   {
    "duration": 11,
    "start_time": "2021-11-05T17:41:08.558Z"
   },
   {
    "duration": 8,
    "start_time": "2021-11-05T17:41:08.571Z"
   },
   {
    "duration": 15,
    "start_time": "2021-11-05T17:41:08.580Z"
   },
   {
    "duration": 12,
    "start_time": "2021-11-05T17:41:08.597Z"
   },
   {
    "duration": 12,
    "start_time": "2021-11-05T17:41:08.643Z"
   },
   {
    "duration": 18,
    "start_time": "2021-11-05T17:41:08.660Z"
   },
   {
    "duration": 30,
    "start_time": "2021-11-05T17:41:08.681Z"
   },
   {
    "duration": 48,
    "start_time": "2021-11-05T17:41:08.713Z"
   },
   {
    "duration": 31,
    "start_time": "2021-11-05T17:41:08.763Z"
   },
   {
    "duration": 60,
    "start_time": "2021-11-05T17:41:08.796Z"
   },
   {
    "duration": 251,
    "start_time": "2021-11-05T17:41:08.857Z"
   },
   {
    "duration": 211,
    "start_time": "2021-11-05T17:41:09.109Z"
   },
   {
    "duration": 191,
    "start_time": "2021-11-05T17:41:09.322Z"
   },
   {
    "duration": 363,
    "start_time": "2021-11-05T17:41:09.515Z"
   },
   {
    "duration": 576,
    "start_time": "2021-11-05T17:41:09.880Z"
   },
   {
    "duration": 261,
    "start_time": "2021-11-05T17:41:10.458Z"
   },
   {
    "duration": 225,
    "start_time": "2021-11-05T17:41:10.721Z"
   },
   {
    "duration": 41,
    "start_time": "2021-11-05T17:41:10.948Z"
   },
   {
    "duration": 155,
    "start_time": "2021-11-05T17:41:10.991Z"
   },
   {
    "duration": 7,
    "start_time": "2021-11-05T17:41:11.147Z"
   },
   {
    "duration": 756,
    "start_time": "2021-11-05T17:41:11.155Z"
   },
   {
    "duration": 133,
    "start_time": "2021-11-05T17:41:11.913Z"
   },
   {
    "duration": 6,
    "start_time": "2021-11-05T17:41:12.048Z"
   },
   {
    "duration": 1059,
    "start_time": "2021-11-05T17:41:12.055Z"
   },
   {
    "duration": 138,
    "start_time": "2021-11-05T17:41:13.116Z"
   },
   {
    "duration": 7,
    "start_time": "2021-11-05T17:41:13.255Z"
   },
   {
    "duration": 968,
    "start_time": "2021-11-05T17:41:13.264Z"
   },
   {
    "duration": 130,
    "start_time": "2021-11-05T17:41:14.233Z"
   },
   {
    "duration": 10,
    "start_time": "2021-11-05T17:41:14.365Z"
   },
   {
    "duration": 6,
    "start_time": "2021-11-05T17:41:14.377Z"
   },
   {
    "duration": 1061,
    "start_time": "2021-11-05T17:41:14.385Z"
   },
   {
    "duration": 136,
    "start_time": "2021-11-05T17:41:15.448Z"
   },
   {
    "duration": 6,
    "start_time": "2021-11-05T17:41:15.585Z"
   },
   {
    "duration": 1066,
    "start_time": "2021-11-05T17:41:15.593Z"
   },
   {
    "duration": 145,
    "start_time": "2021-11-05T17:41:16.660Z"
   },
   {
    "duration": 6,
    "start_time": "2021-11-05T17:41:16.807Z"
   },
   {
    "duration": 1017,
    "start_time": "2021-11-05T17:41:16.815Z"
   },
   {
    "duration": 10,
    "start_time": "2021-11-05T17:41:17.834Z"
   },
   {
    "duration": 35,
    "start_time": "2021-11-05T17:41:17.846Z"
   },
   {
    "duration": 20,
    "start_time": "2021-11-05T17:41:17.882Z"
   },
   {
    "duration": 270,
    "start_time": "2021-11-05T17:41:17.904Z"
   },
   {
    "duration": 201,
    "start_time": "2021-11-05T17:41:18.176Z"
   },
   {
    "duration": 464,
    "start_time": "2021-11-05T17:41:18.378Z"
   },
   {
    "duration": 246,
    "start_time": "2021-11-05T17:41:18.844Z"
   },
   {
    "duration": 330,
    "start_time": "2021-11-05T17:41:19.092Z"
   },
   {
    "duration": 272,
    "start_time": "2021-11-05T17:41:19.423Z"
   },
   {
    "duration": 345,
    "start_time": "2021-11-05T17:41:19.697Z"
   },
   {
    "duration": 183,
    "start_time": "2021-11-05T17:41:20.043Z"
   },
   {
    "duration": 16,
    "start_time": "2021-11-05T17:41:20.228Z"
   },
   {
    "duration": 949,
    "start_time": "2021-11-05T17:42:22.525Z"
   },
   {
    "duration": 38,
    "start_time": "2021-11-05T17:42:23.476Z"
   },
   {
    "duration": 32,
    "start_time": "2021-11-05T17:42:23.516Z"
   },
   {
    "duration": 3,
    "start_time": "2021-11-05T17:42:23.550Z"
   },
   {
    "duration": 10,
    "start_time": "2021-11-05T17:42:23.555Z"
   },
   {
    "duration": 12,
    "start_time": "2021-11-05T17:42:23.567Z"
   },
   {
    "duration": 72,
    "start_time": "2021-11-05T17:42:23.581Z"
   },
   {
    "duration": 9,
    "start_time": "2021-11-05T17:42:23.656Z"
   },
   {
    "duration": 12,
    "start_time": "2021-11-05T17:42:23.667Z"
   },
   {
    "duration": 10,
    "start_time": "2021-11-05T17:42:23.681Z"
   },
   {
    "duration": 10,
    "start_time": "2021-11-05T17:42:23.693Z"
   },
   {
    "duration": 42,
    "start_time": "2021-11-05T17:42:23.704Z"
   },
   {
    "duration": 12,
    "start_time": "2021-11-05T17:42:23.748Z"
   },
   {
    "duration": 20,
    "start_time": "2021-11-05T17:42:23.761Z"
   },
   {
    "duration": 2,
    "start_time": "2021-11-05T17:42:23.782Z"
   },
   {
    "duration": 15,
    "start_time": "2021-11-05T17:42:23.786Z"
   },
   {
    "duration": 5,
    "start_time": "2021-11-05T17:42:23.803Z"
   },
   {
    "duration": 42,
    "start_time": "2021-11-05T17:42:23.810Z"
   },
   {
    "duration": 10,
    "start_time": "2021-11-05T17:42:23.854Z"
   },
   {
    "duration": 16,
    "start_time": "2021-11-05T17:42:23.866Z"
   },
   {
    "duration": 14,
    "start_time": "2021-11-05T17:42:23.884Z"
   },
   {
    "duration": 45,
    "start_time": "2021-11-05T17:42:23.900Z"
   },
   {
    "duration": 18,
    "start_time": "2021-11-05T17:42:23.950Z"
   },
   {
    "duration": 38,
    "start_time": "2021-11-05T17:42:23.970Z"
   },
   {
    "duration": 41,
    "start_time": "2021-11-05T17:42:24.009Z"
   },
   {
    "duration": 34,
    "start_time": "2021-11-05T17:42:24.052Z"
   },
   {
    "duration": 62,
    "start_time": "2021-11-05T17:42:24.087Z"
   },
   {
    "duration": 263,
    "start_time": "2021-11-05T17:42:24.150Z"
   },
   {
    "duration": 232,
    "start_time": "2021-11-05T17:42:24.415Z"
   },
   {
    "duration": 198,
    "start_time": "2021-11-05T17:42:24.648Z"
   },
   {
    "duration": 354,
    "start_time": "2021-11-05T17:42:24.847Z"
   },
   {
    "duration": 588,
    "start_time": "2021-11-05T17:42:25.203Z"
   },
   {
    "duration": 308,
    "start_time": "2021-11-05T17:42:25.793Z"
   },
   {
    "duration": 232,
    "start_time": "2021-11-05T17:42:26.103Z"
   },
   {
    "duration": 41,
    "start_time": "2021-11-05T17:42:26.337Z"
   },
   {
    "duration": 158,
    "start_time": "2021-11-05T17:42:26.380Z"
   },
   {
    "duration": 9,
    "start_time": "2021-11-05T17:42:26.539Z"
   },
   {
    "duration": 824,
    "start_time": "2021-11-05T17:42:26.550Z"
   },
   {
    "duration": 152,
    "start_time": "2021-11-05T17:42:27.376Z"
   },
   {
    "duration": 14,
    "start_time": "2021-11-05T17:42:27.530Z"
   },
   {
    "duration": 1098,
    "start_time": "2021-11-05T17:42:27.546Z"
   },
   {
    "duration": 135,
    "start_time": "2021-11-05T17:42:28.646Z"
   },
   {
    "duration": 6,
    "start_time": "2021-11-05T17:42:28.782Z"
   },
   {
    "duration": 1001,
    "start_time": "2021-11-05T17:42:28.789Z"
   },
   {
    "duration": 142,
    "start_time": "2021-11-05T17:42:29.792Z"
   },
   {
    "duration": 15,
    "start_time": "2021-11-05T17:42:29.936Z"
   },
   {
    "duration": 6,
    "start_time": "2021-11-05T17:42:29.952Z"
   },
   {
    "duration": 1179,
    "start_time": "2021-11-05T17:42:29.960Z"
   },
   {
    "duration": 132,
    "start_time": "2021-11-05T17:42:31.141Z"
   },
   {
    "duration": 6,
    "start_time": "2021-11-05T17:42:31.274Z"
   },
   {
    "duration": 1126,
    "start_time": "2021-11-05T17:42:31.282Z"
   },
   {
    "duration": 157,
    "start_time": "2021-11-05T17:42:32.409Z"
   },
   {
    "duration": 6,
    "start_time": "2021-11-05T17:42:32.568Z"
   },
   {
    "duration": 1073,
    "start_time": "2021-11-05T17:42:32.576Z"
   },
   {
    "duration": 6,
    "start_time": "2021-11-05T17:42:33.651Z"
   },
   {
    "duration": 26,
    "start_time": "2021-11-05T17:42:33.659Z"
   },
   {
    "duration": 19,
    "start_time": "2021-11-05T17:42:33.686Z"
   },
   {
    "duration": 283,
    "start_time": "2021-11-05T17:42:33.706Z"
   },
   {
    "duration": 204,
    "start_time": "2021-11-05T17:42:33.990Z"
   },
   {
    "duration": 478,
    "start_time": "2021-11-05T17:42:34.196Z"
   },
   {
    "duration": 239,
    "start_time": "2021-11-05T17:42:34.675Z"
   },
   {
    "duration": 330,
    "start_time": "2021-11-05T17:42:34.916Z"
   },
   {
    "duration": 275,
    "start_time": "2021-11-05T17:42:35.248Z"
   },
   {
    "duration": 348,
    "start_time": "2021-11-05T17:42:35.525Z"
   },
   {
    "duration": 180,
    "start_time": "2021-11-05T17:42:35.874Z"
   },
   {
    "duration": 5,
    "start_time": "2021-11-05T17:42:36.056Z"
   },
   {
    "duration": 2544,
    "start_time": "2021-11-12T15:08:42.679Z"
   },
   {
    "duration": 126,
    "start_time": "2021-11-12T15:08:45.227Z"
   },
   {
    "duration": 27,
    "start_time": "2021-11-12T15:08:45.360Z"
   },
   {
    "duration": 71,
    "start_time": "2021-11-12T15:08:45.391Z"
   },
   {
    "duration": 4,
    "start_time": "2021-11-12T15:08:45.464Z"
   },
   {
    "duration": 12,
    "start_time": "2021-11-12T15:08:45.471Z"
   },
   {
    "duration": 15,
    "start_time": "2021-11-12T15:08:45.485Z"
   },
   {
    "duration": 106,
    "start_time": "2021-11-12T15:08:45.506Z"
   },
   {
    "duration": 11,
    "start_time": "2021-11-12T15:08:45.615Z"
   },
   {
    "duration": 34,
    "start_time": "2021-11-12T15:08:45.628Z"
   },
   {
    "duration": 22,
    "start_time": "2021-11-12T15:08:45.665Z"
   },
   {
    "duration": 19,
    "start_time": "2021-11-12T15:08:45.690Z"
   },
   {
    "duration": 49,
    "start_time": "2021-11-12T15:08:45.712Z"
   },
   {
    "duration": 21,
    "start_time": "2021-11-12T15:08:45.764Z"
   },
   {
    "duration": 40,
    "start_time": "2021-11-12T15:08:45.788Z"
   },
   {
    "duration": 4,
    "start_time": "2021-11-12T15:08:45.831Z"
   },
   {
    "duration": 20,
    "start_time": "2021-11-12T15:08:45.861Z"
   },
   {
    "duration": 10,
    "start_time": "2021-11-12T15:08:45.884Z"
   },
   {
    "duration": 19,
    "start_time": "2021-11-12T15:08:45.897Z"
   },
   {
    "duration": 18,
    "start_time": "2021-11-12T15:08:45.958Z"
   },
   {
    "duration": 41,
    "start_time": "2021-11-12T15:08:45.980Z"
   },
   {
    "duration": 28,
    "start_time": "2021-11-12T15:08:46.024Z"
   },
   {
    "duration": 15,
    "start_time": "2021-11-12T15:08:46.064Z"
   },
   {
    "duration": 33,
    "start_time": "2021-11-12T15:08:46.085Z"
   },
   {
    "duration": 71,
    "start_time": "2021-11-12T15:08:46.120Z"
   },
   {
    "duration": 67,
    "start_time": "2021-11-12T15:08:46.194Z"
   },
   {
    "duration": 44,
    "start_time": "2021-11-12T15:08:46.264Z"
   },
   {
    "duration": 67,
    "start_time": "2021-11-12T15:08:46.311Z"
   },
   {
    "duration": 78,
    "start_time": "2021-11-12T15:08:46.381Z"
   },
   {
    "duration": 459,
    "start_time": "2021-11-12T15:08:46.462Z"
   },
   {
    "duration": 389,
    "start_time": "2021-11-12T15:08:46.923Z"
   },
   {
    "duration": 333,
    "start_time": "2021-11-12T15:08:47.315Z"
   },
   {
    "duration": 556,
    "start_time": "2021-11-12T15:08:47.651Z"
   },
   {
    "duration": 1104,
    "start_time": "2021-11-12T15:08:48.210Z"
   },
   {
    "duration": 463,
    "start_time": "2021-11-12T15:08:49.317Z"
   },
   {
    "duration": 368,
    "start_time": "2021-11-12T15:08:49.782Z"
   },
   {
    "duration": 58,
    "start_time": "2021-11-12T15:08:50.153Z"
   },
   {
    "duration": 265,
    "start_time": "2021-11-12T15:08:50.214Z"
   },
   {
    "duration": 9,
    "start_time": "2021-11-12T15:08:50.482Z"
   },
   {
    "duration": 1247,
    "start_time": "2021-11-12T15:08:50.493Z"
   },
   {
    "duration": 240,
    "start_time": "2021-11-12T15:08:51.742Z"
   },
   {
    "duration": 7,
    "start_time": "2021-11-12T15:08:51.985Z"
   },
   {
    "duration": 1672,
    "start_time": "2021-11-12T15:08:51.995Z"
   },
   {
    "duration": 237,
    "start_time": "2021-11-12T15:08:53.669Z"
   },
   {
    "duration": 8,
    "start_time": "2021-11-12T15:08:53.908Z"
   },
   {
    "duration": 1708,
    "start_time": "2021-11-12T15:08:53.919Z"
   },
   {
    "duration": 229,
    "start_time": "2021-11-12T15:08:55.630Z"
   },
   {
    "duration": 13,
    "start_time": "2021-11-12T15:08:55.862Z"
   },
   {
    "duration": 9,
    "start_time": "2021-11-12T15:08:55.878Z"
   },
   {
    "duration": 1794,
    "start_time": "2021-11-12T15:08:55.889Z"
   },
   {
    "duration": 231,
    "start_time": "2021-11-12T15:08:57.685Z"
   },
   {
    "duration": 10,
    "start_time": "2021-11-12T15:08:57.919Z"
   },
   {
    "duration": 1701,
    "start_time": "2021-11-12T15:08:57.932Z"
   },
   {
    "duration": 254,
    "start_time": "2021-11-12T15:08:59.636Z"
   },
   {
    "duration": 11,
    "start_time": "2021-11-12T15:08:59.894Z"
   },
   {
    "duration": 1716,
    "start_time": "2021-11-12T15:08:59.908Z"
   },
   {
    "duration": 12,
    "start_time": "2021-11-12T15:09:01.627Z"
   },
   {
    "duration": 48,
    "start_time": "2021-11-12T15:09:01.641Z"
   },
   {
    "duration": 25,
    "start_time": "2021-11-12T15:09:01.692Z"
   },
   {
    "duration": 473,
    "start_time": "2021-11-12T15:09:01.719Z"
   },
   {
    "duration": 351,
    "start_time": "2021-11-12T15:09:02.195Z"
   },
   {
    "duration": 691,
    "start_time": "2021-11-12T15:09:02.548Z"
   },
   {
    "duration": 409,
    "start_time": "2021-11-12T15:09:03.241Z"
   },
   {
    "duration": 570,
    "start_time": "2021-11-12T15:09:03.659Z"
   },
   {
    "duration": 598,
    "start_time": "2021-11-12T15:09:04.231Z"
   },
   {
    "duration": 588,
    "start_time": "2021-11-12T15:09:04.831Z"
   },
   {
    "duration": 313,
    "start_time": "2021-11-12T15:09:05.422Z"
   },
   {
    "duration": 17,
    "start_time": "2021-11-12T15:09:05.743Z"
   },
   {
    "duration": 34,
    "start_time": "2021-11-12T15:09:05.763Z"
   },
   {
    "duration": 722,
    "start_time": "2021-11-12T15:09:05.800Z"
   },
   {
    "duration": 1449,
    "start_time": "2021-11-12T15:09:05.075Z"
   },
   {
    "duration": 1444,
    "start_time": "2021-11-12T15:09:05.082Z"
   },
   {
    "duration": 1438,
    "start_time": "2021-11-12T15:09:05.089Z"
   },
   {
    "duration": 1434,
    "start_time": "2021-11-12T15:09:05.095Z"
   },
   {
    "duration": 1429,
    "start_time": "2021-11-12T15:09:05.102Z"
   },
   {
    "duration": 1418,
    "start_time": "2021-11-12T15:09:05.114Z"
   },
   {
    "duration": 1413,
    "start_time": "2021-11-12T15:09:05.121Z"
   },
   {
    "duration": 23,
    "start_time": "2021-11-12T15:17:01.652Z"
   },
   {
    "duration": 37,
    "start_time": "2021-11-12T15:17:02.378Z"
   },
   {
    "duration": 709,
    "start_time": "2021-11-12T15:17:03.225Z"
   },
   {
    "duration": 661,
    "start_time": "2021-11-12T15:17:56.419Z"
   },
   {
    "duration": 298,
    "start_time": "2021-11-12T15:18:02.917Z"
   },
   {
    "duration": 473,
    "start_time": "2021-11-12T15:19:22.505Z"
   },
   {
    "duration": 663,
    "start_time": "2021-11-12T15:19:25.433Z"
   }
  ],
  "kernelspec": {
   "display_name": "Python 3",
   "language": "python",
   "name": "python3"
  },
  "language_info": {
   "codemirror_mode": {
    "name": "ipython",
    "version": 3
   },
   "file_extension": ".py",
   "mimetype": "text/x-python",
   "name": "python",
   "nbconvert_exporter": "python",
   "pygments_lexer": "ipython3",
   "version": "3.8.8"
  },
  "toc": {
   "base_numbering": 1,
   "nav_menu": {},
   "number_sections": true,
   "sideBar": true,
   "skip_h1_title": true,
   "title_cell": "Table of Contents",
   "title_sidebar": "Contents",
   "toc_cell": false,
   "toc_position": {},
   "toc_section_display": true,
   "toc_window_display": false
  }
 },
 "nbformat": 4,
 "nbformat_minor": 4
}
