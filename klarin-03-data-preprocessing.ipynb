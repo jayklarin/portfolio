{
 "cells": [
  {
   "cell_type": "markdown",
   "metadata": {},
   "source": [
    "# Introduction"
   ]
  },
  {
   "cell_type": "markdown",
   "metadata": {},
   "source": [
    "## About This Dataset\n",
    "\n",
    "- This dataset has 11 columns.  There are 4 numeric relevant numeric columns, 2 columns that act as keys adjacent columns, and 5 non-numeric columns.  \n",
    "\n",
    "- There are many issues with this dataset: The columns **'children'** and **'days_employed'** have negative values. the **'children'** column also has a jump in age where everything looks normal through age 5, and then the next highest value is 20 which seems weird in two ways.  First such a big jump, next 20 is the only value higher than 5 and it occurs in many records. \n",
    "\n",
    "- There is something wacky going on with **'days_employed'** that has the average value (even with heavy negative values) being almost 175 years old and the oldest being about 1100 years old!  \n",
    "\n",
    "- There are duplicates where the upper case and lower case don't match in **'education'**.\n",
    "\n",
    "- **'days_employed'** and **'total_income'** share null values with a 1:1 correlation.\n",
    "\n",
    "- These are my first impressions.  I'm sure a more thorough look at the data will reveal more insights. \n",
    "\n",
    "- **LETS BEGIN!**"
   ]
  },
  {
   "cell_type": "markdown",
   "metadata": {},
   "source": [
    "## Open the data file and have a look at the general information. "
   ]
  },
  {
   "cell_type": "code",
   "execution_count": 1,
   "metadata": {},
   "outputs": [
    {
     "name": "stdout",
     "output_type": "stream",
     "text": [
      "<class 'pandas.core.frame.DataFrame'>\n",
      "RangeIndex: 21525 entries, 0 to 21524\n",
      "Data columns (total 12 columns):\n",
      " #   Column            Non-Null Count  Dtype  \n",
      "---  ------            --------------  -----  \n",
      " 0   children          21525 non-null  int64  \n",
      " 1   days_employed     19351 non-null  float64\n",
      " 2   dob_years         21525 non-null  int64  \n",
      " 3   education         21525 non-null  object \n",
      " 4   education_id      21525 non-null  int64  \n",
      " 5   family_status     21525 non-null  object \n",
      " 6   family_status_id  21525 non-null  int64  \n",
      " 7   gender            21525 non-null  object \n",
      " 8   income_type       21525 non-null  object \n",
      " 9   debt              21525 non-null  int64  \n",
      " 10  total_income      19351 non-null  float64\n",
      " 11  purpose           21525 non-null  object \n",
      "dtypes: float64(2), int64(5), object(5)\n",
      "memory usage: 2.0+ MB\n"
     ]
    }
   ],
   "source": [
    "import pandas as pd\n",
    "\n",
    "try:\n",
    "    df = pd.read_csv('credit_scoring_eng.csv')\n",
    "except:\n",
    "    df = pd.read_csv('/datasets/credit_scoring_eng.csv') \n",
    "    \n",
    "df.info()"
   ]
  },
  {
   "cell_type": "code",
   "execution_count": 2,
   "metadata": {},
   "outputs": [
    {
     "data": {
      "text/plain": [
       "secondary education    13750\n",
       "bachelor's degree       4718\n",
       "SECONDARY EDUCATION      772\n",
       "Secondary Education      711\n",
       "some college             668\n",
       "BACHELOR'S DEGREE        274\n",
       "Bachelor's Degree        268\n",
       "primary education        250\n",
       "Some College              47\n",
       "SOME COLLEGE              29\n",
       "PRIMARY EDUCATION         17\n",
       "Primary Education         15\n",
       "graduate degree            4\n",
       "GRADUATE DEGREE            1\n",
       "Graduate Degree            1\n",
       "Name: education, dtype: int64"
      ]
     },
     "execution_count": 2,
     "metadata": {},
     "output_type": "execute_result"
    }
   ],
   "source": [
    "#df.value_counts(['education','income_type','family_status']) # works locally, but not in the hub\n",
    "\n",
    "df['education'].value_counts()  # case sensitive issues\n",
    "#df['income_type'].value_counts() # NO DUPLICATES! More than half 'income_type' values are \"employee\"\n",
    "#df['family_status'].value_counts() # most are married. Clean list"
   ]
  },
  {
   "cell_type": "code",
   "execution_count": 3,
   "metadata": {},
   "outputs": [
    {
     "data": {
      "text/html": [
       "<div>\n",
       "<style scoped>\n",
       "    .dataframe tbody tr th:only-of-type {\n",
       "        vertical-align: middle;\n",
       "    }\n",
       "\n",
       "    .dataframe tbody tr th {\n",
       "        vertical-align: top;\n",
       "    }\n",
       "\n",
       "    .dataframe thead th {\n",
       "        text-align: right;\n",
       "    }\n",
       "</style>\n",
       "<table border=\"1\" class=\"dataframe\">\n",
       "  <thead>\n",
       "    <tr style=\"text-align: right;\">\n",
       "      <th></th>\n",
       "      <th>children</th>\n",
       "      <th>days_employed</th>\n",
       "      <th>dob_years</th>\n",
       "      <th>education_id</th>\n",
       "      <th>family_status_id</th>\n",
       "      <th>debt</th>\n",
       "      <th>total_income</th>\n",
       "    </tr>\n",
       "  </thead>\n",
       "  <tbody>\n",
       "    <tr>\n",
       "      <th>count</th>\n",
       "      <td>21525.000000</td>\n",
       "      <td>19351.000000</td>\n",
       "      <td>21525.000000</td>\n",
       "      <td>21525.000000</td>\n",
       "      <td>21525.000000</td>\n",
       "      <td>21525.000000</td>\n",
       "      <td>19351.000000</td>\n",
       "    </tr>\n",
       "    <tr>\n",
       "      <th>mean</th>\n",
       "      <td>0.538908</td>\n",
       "      <td>63046.497661</td>\n",
       "      <td>43.293380</td>\n",
       "      <td>0.817236</td>\n",
       "      <td>0.972544</td>\n",
       "      <td>0.080883</td>\n",
       "      <td>26787.568355</td>\n",
       "    </tr>\n",
       "    <tr>\n",
       "      <th>std</th>\n",
       "      <td>1.381587</td>\n",
       "      <td>140827.311974</td>\n",
       "      <td>12.574584</td>\n",
       "      <td>0.548138</td>\n",
       "      <td>1.420324</td>\n",
       "      <td>0.272661</td>\n",
       "      <td>16475.450632</td>\n",
       "    </tr>\n",
       "    <tr>\n",
       "      <th>min</th>\n",
       "      <td>-1.000000</td>\n",
       "      <td>-18388.949901</td>\n",
       "      <td>0.000000</td>\n",
       "      <td>0.000000</td>\n",
       "      <td>0.000000</td>\n",
       "      <td>0.000000</td>\n",
       "      <td>3306.762000</td>\n",
       "    </tr>\n",
       "    <tr>\n",
       "      <th>25%</th>\n",
       "      <td>0.000000</td>\n",
       "      <td>-2747.423625</td>\n",
       "      <td>33.000000</td>\n",
       "      <td>1.000000</td>\n",
       "      <td>0.000000</td>\n",
       "      <td>0.000000</td>\n",
       "      <td>16488.504500</td>\n",
       "    </tr>\n",
       "    <tr>\n",
       "      <th>50%</th>\n",
       "      <td>0.000000</td>\n",
       "      <td>-1203.369529</td>\n",
       "      <td>42.000000</td>\n",
       "      <td>1.000000</td>\n",
       "      <td>0.000000</td>\n",
       "      <td>0.000000</td>\n",
       "      <td>23202.870000</td>\n",
       "    </tr>\n",
       "    <tr>\n",
       "      <th>75%</th>\n",
       "      <td>1.000000</td>\n",
       "      <td>-291.095954</td>\n",
       "      <td>53.000000</td>\n",
       "      <td>1.000000</td>\n",
       "      <td>1.000000</td>\n",
       "      <td>0.000000</td>\n",
       "      <td>32549.611000</td>\n",
       "    </tr>\n",
       "    <tr>\n",
       "      <th>max</th>\n",
       "      <td>20.000000</td>\n",
       "      <td>401755.400475</td>\n",
       "      <td>75.000000</td>\n",
       "      <td>4.000000</td>\n",
       "      <td>4.000000</td>\n",
       "      <td>1.000000</td>\n",
       "      <td>362496.645000</td>\n",
       "    </tr>\n",
       "  </tbody>\n",
       "</table>\n",
       "</div>"
      ],
      "text/plain": [
       "           children  days_employed     dob_years  education_id  \\\n",
       "count  21525.000000   19351.000000  21525.000000  21525.000000   \n",
       "mean       0.538908   63046.497661     43.293380      0.817236   \n",
       "std        1.381587  140827.311974     12.574584      0.548138   \n",
       "min       -1.000000  -18388.949901      0.000000      0.000000   \n",
       "25%        0.000000   -2747.423625     33.000000      1.000000   \n",
       "50%        0.000000   -1203.369529     42.000000      1.000000   \n",
       "75%        1.000000    -291.095954     53.000000      1.000000   \n",
       "max       20.000000  401755.400475     75.000000      4.000000   \n",
       "\n",
       "       family_status_id          debt   total_income  \n",
       "count      21525.000000  21525.000000   19351.000000  \n",
       "mean           0.972544      0.080883   26787.568355  \n",
       "std            1.420324      0.272661   16475.450632  \n",
       "min            0.000000      0.000000    3306.762000  \n",
       "25%            0.000000      0.000000   16488.504500  \n",
       "50%            0.000000      0.000000   23202.870000  \n",
       "75%            1.000000      0.000000   32549.611000  \n",
       "max            4.000000      1.000000  362496.645000  "
      ]
     },
     "execution_count": 3,
     "metadata": {},
     "output_type": "execute_result"
    }
   ],
   "source": [
    "#df\n",
    "#df.sort_values(by='days_employed', ascending = False).head(25)\n",
    "df.describe()"
   ]
  },
  {
   "cell_type": "markdown",
   "metadata": {},
   "source": [
    "### Conclusion"
   ]
  },
  {
   "cell_type": "markdown",
   "metadata": {},
   "source": [
    "- The **'children'** column has negative values.\n",
    "\n",
    "- The **'children'** column has outliers.  The age 20 appears in 76 records, and the next lowest number is 5.  I am assuming this value was miskeyed and the intention is 2 children.\n",
    "\n",
    "- The **'days_employed'** column has some problematic things. First, there are a lot of negative numbers which are not logical values for the column.\n",
    "\n",
    "- Interestingly, the **'days_employed'** only has positive values for retirees, and no negative exist for retirees.  Everyone else has values <= 0.  \n",
    "\n",
    "- The **'days_employed'** column has many issues.  The average worker has worked there for 173 years. While the median has for 3 years, a more reasonable value. There are 3445 records that have values equaling over 900 years of employment. The next lowest value after 900 years is a reasonable 50 years. All values over 900 are from retirees, and all remaining retirees have values of zero!\n",
    "\n",
    "- The **'dob_years'** column has 101 values that have the age as being zero!\n",
    "\n",
    "- There are a total of 2174 null values in **'days-employed'** and **'total_income'** they have a 1:1 correlation of null values. \n",
    "\n",
    "- Another issue with **'days_employed'** is they all have wacky decimals whereas I expected integer values. This leads me to believe the **'days_employed'** was improperly extracted from a database. This leads me to believe there is a pattern to the erroneous data. Likely having to do with numerical date values. I have not found the pattern\n",
    "\n",
    "- I checked categorized data for duplicates.  The **'education'** column is has duplicates due to the cases not matching."
   ]
  },
  {
   "cell_type": "markdown",
   "metadata": {},
   "source": [
    "## Data preprocessing"
   ]
  },
  {
   "cell_type": "markdown",
   "metadata": {},
   "source": [
    "### Processing missing values"
   ]
  },
  {
   "cell_type": "code",
   "execution_count": 4,
   "metadata": {},
   "outputs": [
    {
     "data": {
      "text/plain": [
       "children               0\n",
       "days_employed          0\n",
       "dob_years              0\n",
       "education              0\n",
       "education_id           0\n",
       "family_status          0\n",
       "family_status_id       0\n",
       "gender                 0\n",
       "income_type            0\n",
       "debt                   0\n",
       "total_income        2174\n",
       "purpose                0\n",
       "years_employed      2174\n",
       "dtype: int64"
      ]
     },
     "execution_count": 4,
     "metadata": {},
     "output_type": "execute_result"
    }
   ],
   "source": [
    "df.loc[df['days_employed'] < 0, 'days_employed'] = abs(df['days_employed'])\n",
    "df.loc[df['children'] < 0, 'children'] = abs(df['children'])\n",
    "before_income = df['total_income'].isnull().sum()\n",
    "before_dob_years = (df['dob_years']==0).sum()\n",
    "df['total_income']= df.total_income.fillna(df.groupby('income_type')['total_income'].median())\n",
    "df['dob_years'] = df['dob_years'].fillna(df['dob_years'].median())\n",
    "after_income = df['total_income'].isnull().sum()\n",
    "after_dob_years = (df['dob_years']==0).sum()\n",
    "df.loc[df['children'] == 20, 'children'] = 2\n",
    "df.loc[df['gender'] == 'XNA', 'gender'] = 'F' # there are 2x as many 'F' as 'M'\n",
    "df['years_employed'] = df['days_employed'] / 365 # I think in years, not days.\n",
    "df.loc[(df['years_employed']>51), 'years_employed']= 59 # average age of retirees\n",
    "df.loc[(df['years_employed']<=0) &(df['dob_years']==0), 'years_employed']= df['dob_years']+59 # average age of retirees\n",
    "df.loc[df['dob_years']==0, 'dob_years']= 43 # average age for workers < 65 years old\n",
    "df.loc[df['years_employed']>= 51, 'years_employed']=30 # I gave retirees with odd high values 30 years.\n",
    "df['days_employed'] = df['years_employed']*365\n",
    "median = df['days_employed'].median()\n",
    "df.loc[df['days_employed'].isnull(), 'days_employed'] = median\n",
    "df.drop(['years_employed'], axis=1)\n",
    "\n",
    "df.isnull().sum()\n",
    "\n",
    "# Fields with missinig values"
   ]
  },
  {
   "cell_type": "markdown",
   "metadata": {},
   "source": [
    "#### Conclusion\n",
    "\n",
    "- To the **'children'** column I applied the function **abs()** to correct negative numbers\n",
    "\n",
    "- to the **'children'** column I changed the age 20, which I  appears in 76 records, to two.  I am assuming this value was miskeyed and the intention is 2 children.\n",
    "\n",
    "- To the **'days_employed'** column I applied the function **abs()** to correct negative numbers.\n",
    "\n",
    "- I created the **'years_employed'** column because it is hard for me to think in days.  Every **'years_employed'** value over 51 is getting replaced by their age minus 33 is the average difference of **'dob_years'**-**'years_employed'** = 33. I did the opposite for when the value is 0, so I added 33.\n",
    "\n",
    "- The **'gender'** column has an unusual value which I replaced with 'F' since there are approximetly twice as many 'F' as 'M' in the recordset.  \n",
    "\n",
    "- There are a total of 2174 null values in **'days-employed'** and **'total_income'** they have a 1:1 correlation of null values. These values seem crucial, therefore I am deleting the records where both are null.  \n",
    "\n",
    "- Another issue with **'days_employed'** is they all have wacky decimals whereas I expected integer values. This leads me to believe the days employed was improperly extracted from a database. This leads me to believe there is a pattern to the erroneous data. Likely having to do with numerical date values. The only pattern I found was all the very high numbers were all for **retirees**, so I gave them all 30 years of service.  Please, advise if there is a preferred method.\n",
    "\n",
    "- I checked categorized data for duplicates.  The **'education'** column is has duplicates due to the cases not matching, so I changed them all to lowercase.  "
   ]
  },
  {
   "cell_type": "markdown",
   "metadata": {},
   "source": [
    "### Data type replacement"
   ]
  },
  {
   "cell_type": "code",
   "execution_count": 5,
   "metadata": {},
   "outputs": [
    {
     "name": "stdout",
     "output_type": "stream",
     "text": [
      "<class 'pandas.core.frame.DataFrame'>\n",
      "RangeIndex: 21525 entries, 0 to 21524\n",
      "Data columns (total 2 columns):\n",
      " #   Column          Non-Null Count  Dtype  \n",
      "---  ------          --------------  -----  \n",
      " 0   days_employed   21525 non-null  float64\n",
      " 1   years_employed  19351 non-null  float64\n",
      "dtypes: float64(2)\n",
      "memory usage: 336.5 KB\n"
     ]
    }
   ],
   "source": [
    "df[['days_employed','years_employed']].info()"
   ]
  },
  {
   "cell_type": "code",
   "execution_count": 6,
   "metadata": {},
   "outputs": [
    {
     "name": "stdout",
     "output_type": "stream",
     "text": [
      "<class 'pandas.core.frame.DataFrame'>\n",
      "RangeIndex: 21525 entries, 0 to 21524\n",
      "Data columns (total 3 columns):\n",
      " #   Column          Non-Null Count  Dtype  \n",
      "---  ------          --------------  -----  \n",
      " 0   days_employed   21525 non-null  int64  \n",
      " 1   years_employed  19351 non-null  float64\n",
      " 2   total_income    19351 non-null  float64\n",
      "dtypes: float64(2), int64(1)\n",
      "memory usage: 504.6 KB\n"
     ]
    }
   ],
   "source": [
    "# days_employed HAS MORE NON-NULL VALUES THAN years_employed\n",
    "# FIX THIS!!!\n",
    "\n",
    "df.days_employed = df.days_employed.astype(int)\n",
    "df.years_employed = df.years_employed.astype(float) \n",
    "                                    #.(astype(int)) causes error\n",
    "\n",
    "df[['days_employed','years_employed','total_income']].info()"
   ]
  },
  {
   "cell_type": "markdown",
   "metadata": {},
   "source": [
    "#### Conclusion"
   ]
  },
  {
   "cell_type": "markdown",
   "metadata": {},
   "source": [
    "- All the floating point values I changed to integer values.  "
   ]
  },
  {
   "cell_type": "markdown",
   "metadata": {},
   "source": [
    "### Processing duplicates"
   ]
  },
  {
   "cell_type": "code",
   "execution_count": 7,
   "metadata": {},
   "outputs": [
    {
     "data": {
      "text/plain": [
       "secondary education    13750\n",
       "bachelor's degree       4718\n",
       "SECONDARY EDUCATION      772\n",
       "Secondary Education      711\n",
       "some college             668\n",
       "BACHELOR'S DEGREE        274\n",
       "Bachelor's Degree        268\n",
       "primary education        250\n",
       "Some College              47\n",
       "SOME COLLEGE              29\n",
       "PRIMARY EDUCATION         17\n",
       "Primary Education         15\n",
       "graduate degree            4\n",
       "GRADUATE DEGREE            1\n",
       "Graduate Degree            1\n",
       "Name: education, dtype: int64"
      ]
     },
     "execution_count": 7,
     "metadata": {},
     "output_type": "execute_result"
    }
   ],
   "source": [
    "df['education'].value_counts()"
   ]
  },
  {
   "cell_type": "code",
   "execution_count": 8,
   "metadata": {},
   "outputs": [
    {
     "data": {
      "text/plain": [
       "secondary education    15233\n",
       "bachelor's degree       5260\n",
       "some college             744\n",
       "primary education        282\n",
       "graduate degree            6\n",
       "Name: education, dtype: int64"
      ]
     },
     "execution_count": 8,
     "metadata": {},
     "output_type": "execute_result"
    }
   ],
   "source": [
    "# That looks horrible, let's fix it! \n",
    "df['education'] = df['education'].str.lower()  #  No more duplicate 'education' \"keys\" / categories\n",
    "df['education'].value_counts()\n",
    "\n",
    "# That looks better"
   ]
  },
  {
   "cell_type": "markdown",
   "metadata": {},
   "source": [
    "#### Conclusion\n",
    "- Education had many duplicates caused by issues with case sensitivity.  Forcing them all to lowercase fixes this problem."
   ]
  },
  {
   "cell_type": "markdown",
   "metadata": {},
   "source": [
    "### Categorizing Data\n",
    "Let's start by categorizing age groups.  "
   ]
  },
  {
   "cell_type": "code",
   "execution_count": 9,
   "metadata": {},
   "outputs": [
    {
     "data": {
      "text/plain": [
       "impressionable adult    11831\n",
       "established adult        8795\n",
       "senior                    899\n",
       "Name: age_group, dtype: int64"
      ]
     },
     "execution_count": 9,
     "metadata": {},
     "output_type": "execute_result"
    }
   ],
   "source": [
    "# Let's start by categorizing age groups.\n",
    "\n",
    "df['dob_years'].max()\n",
    "\n",
    "def age_group(dob_years):\n",
    "    if dob_years < 18:\n",
    "        return 'minor'\n",
    "    if dob_years >= 18 and dob_years < 45:\n",
    "        return 'impressionable adult'\n",
    "    if dob_years >= 45 and dob_years < 65:\n",
    "        return 'established adult'\n",
    "    if dob_years >= 65:\n",
    "        return 'senior'\n",
    "\n",
    "# print(age_group(64), age_group(65),age_group(66))\n",
    "\n",
    "df['age_group'] = df['dob_years'].apply(age_group)\n",
    "df['age_group'].value_counts()\n",
    "\n",
    "# Looks Great"
   ]
  },
  {
   "cell_type": "code",
   "execution_count": 10,
   "metadata": {},
   "outputs": [
    {
     "data": {
      "text/plain": [
       "False    14149\n",
       "True      7376\n",
       "Name: has_children, dtype: int64"
      ]
     },
     "execution_count": 10,
     "metadata": {},
     "output_type": "execute_result"
    }
   ],
   "source": [
    "def has_children(children):\n",
    "    if children == 0:\n",
    "        return False\n",
    "    else:\n",
    "        return True\n",
    "\n",
    "df['has_children'] = df['children'].apply(has_children)\n",
    "df['has_children'].value_counts()\n",
    "\n",
    "# Looks Great"
   ]
  },
  {
   "cell_type": "code",
   "execution_count": 11,
   "metadata": {},
   "outputs": [
    {
     "data": {
      "text/plain": [
       "low       5569\n",
       "high      5501\n",
       "medium    4598\n",
       "Name: income_bracket, dtype: int64"
      ]
     },
     "execution_count": 11,
     "metadata": {},
     "output_type": "execute_result"
    }
   ],
   "source": [
    "# I need to experiment with different ranges to see if I can get better values\n",
    "def income_bracket(total_income):\n",
    "    if total_income < 17500:  # this is approx the 25% of 'total_income'\n",
    "        return 'low'\n",
    "    if total_income >= 17500 and total_income < 24000: # this is approx the 50% of 'total_income'\n",
    "        return 'medium'\n",
    "    if total_income >= 31000: # approx 75%\n",
    "        return 'high'\n",
    "\n",
    "df['income_bracket'] = df['total_income'].apply(income_bracket)\n",
    "df['income_bracket'].value_counts()\n",
    "\n",
    "# Looks Great"
   ]
  },
  {
   "cell_type": "markdown",
   "metadata": {},
   "source": [
    "#### Conclusion\n",
    "- All entries are at least 18 years old.  I decided to segment the data by advertising groupings.  Without this, trying to make generalizations from age would be chaotic and not useful.  Therefore, we need to create the **'age_group'** column.\n",
    "- I created a **'has_children'** column that converts 0 values to False and non-zero values to True\n",
    "<br/>"
   ]
  },
  {
   "cell_type": "markdown",
   "metadata": {},
   "source": [
    "## Answer these questions\n",
    "### Is there a relation between having kids and repaying a loan on time?\n",
    "- Yes! Those with kids are 1.68% more likely to have debt"
   ]
  },
  {
   "cell_type": "code",
   "execution_count": 12,
   "metadata": {},
   "outputs": [
    {
     "data": {
      "text/html": [
       "<div>\n",
       "<style scoped>\n",
       "    .dataframe tbody tr th:only-of-type {\n",
       "        vertical-align: middle;\n",
       "    }\n",
       "\n",
       "    .dataframe tbody tr th {\n",
       "        vertical-align: top;\n",
       "    }\n",
       "\n",
       "    .dataframe thead th {\n",
       "        text-align: right;\n",
       "    }\n",
       "</style>\n",
       "<table border=\"1\" class=\"dataframe\">\n",
       "  <thead>\n",
       "    <tr style=\"text-align: right;\">\n",
       "      <th></th>\n",
       "      <th>has_children</th>\n",
       "      <th>debt</th>\n",
       "    </tr>\n",
       "  </thead>\n",
       "  <tbody>\n",
       "    <tr>\n",
       "      <th>0</th>\n",
       "      <td>False</td>\n",
       "      <td>0.075129</td>\n",
       "    </tr>\n",
       "    <tr>\n",
       "      <th>1</th>\n",
       "      <td>True</td>\n",
       "      <td>0.091920</td>\n",
       "    </tr>\n",
       "  </tbody>\n",
       "</table>\n",
       "</div>"
      ],
      "text/plain": [
       "   has_children      debt\n",
       "0         False  0.075129\n",
       "1          True  0.091920"
      ]
     },
     "execution_count": 12,
     "metadata": {},
     "output_type": "execute_result"
    }
   ],
   "source": [
    "df.groupby(['has_children'])['debt'].mean().reset_index()"
   ]
  },
  {
   "cell_type": "markdown",
   "metadata": {},
   "source": [
    "### Is there a relation between marital status and repaying a loan on time?\n",
    "- Divorcees have the lowest debt rate with 7.11% and widows have the highest debt rate of 10.00%"
   ]
  },
  {
   "cell_type": "code",
   "execution_count": 13,
   "metadata": {},
   "outputs": [
    {
     "data": {
      "text/html": [
       "<div>\n",
       "<style scoped>\n",
       "    .dataframe tbody tr th:only-of-type {\n",
       "        vertical-align: middle;\n",
       "    }\n",
       "\n",
       "    .dataframe tbody tr th {\n",
       "        vertical-align: top;\n",
       "    }\n",
       "\n",
       "    .dataframe thead th {\n",
       "        text-align: right;\n",
       "    }\n",
       "</style>\n",
       "<table border=\"1\" class=\"dataframe\">\n",
       "  <thead>\n",
       "    <tr style=\"text-align: right;\">\n",
       "      <th></th>\n",
       "      <th>family_status</th>\n",
       "      <th>debt</th>\n",
       "    </tr>\n",
       "  </thead>\n",
       "  <tbody>\n",
       "    <tr>\n",
       "      <th>0</th>\n",
       "      <td>civil partnership</td>\n",
       "      <td>0.092890</td>\n",
       "    </tr>\n",
       "    <tr>\n",
       "      <th>1</th>\n",
       "      <td>divorced</td>\n",
       "      <td>0.071130</td>\n",
       "    </tr>\n",
       "    <tr>\n",
       "      <th>2</th>\n",
       "      <td>married</td>\n",
       "      <td>0.075202</td>\n",
       "    </tr>\n",
       "    <tr>\n",
       "      <th>3</th>\n",
       "      <td>unmarried</td>\n",
       "      <td>0.097405</td>\n",
       "    </tr>\n",
       "    <tr>\n",
       "      <th>4</th>\n",
       "      <td>widow / widower</td>\n",
       "      <td>0.065625</td>\n",
       "    </tr>\n",
       "  </tbody>\n",
       "</table>\n",
       "</div>"
      ],
      "text/plain": [
       "       family_status      debt\n",
       "0  civil partnership  0.092890\n",
       "1           divorced  0.071130\n",
       "2            married  0.075202\n",
       "3          unmarried  0.097405\n",
       "4    widow / widower  0.065625"
      ]
     },
     "execution_count": 13,
     "metadata": {},
     "output_type": "execute_result"
    }
   ],
   "source": [
    "df.groupby(['family_status'])['debt'].mean().reset_index()"
   ]
  },
  {
   "cell_type": "code",
   "execution_count": 14,
   "metadata": {},
   "outputs": [
    {
     "data": {
      "text/html": [
       "<div>\n",
       "<style scoped>\n",
       "    .dataframe tbody tr th:only-of-type {\n",
       "        vertical-align: middle;\n",
       "    }\n",
       "\n",
       "    .dataframe tbody tr th {\n",
       "        vertical-align: top;\n",
       "    }\n",
       "\n",
       "    .dataframe thead th {\n",
       "        text-align: right;\n",
       "    }\n",
       "</style>\n",
       "<table border=\"1\" class=\"dataframe\">\n",
       "  <thead>\n",
       "    <tr style=\"text-align: right;\">\n",
       "      <th></th>\n",
       "      <th>income_bracket</th>\n",
       "      <th>debt</th>\n",
       "    </tr>\n",
       "  </thead>\n",
       "  <tbody>\n",
       "    <tr>\n",
       "      <th>0</th>\n",
       "      <td>high</td>\n",
       "      <td>0.071987</td>\n",
       "    </tr>\n",
       "    <tr>\n",
       "      <th>1</th>\n",
       "      <td>low</td>\n",
       "      <td>0.080086</td>\n",
       "    </tr>\n",
       "    <tr>\n",
       "      <th>2</th>\n",
       "      <td>medium</td>\n",
       "      <td>0.086777</td>\n",
       "    </tr>\n",
       "  </tbody>\n",
       "</table>\n",
       "</div>"
      ],
      "text/plain": [
       "  income_bracket      debt\n",
       "0           high  0.071987\n",
       "1            low  0.080086\n",
       "2         medium  0.086777"
      ]
     },
     "execution_count": 14,
     "metadata": {},
     "output_type": "execute_result"
    }
   ],
   "source": [
    "df.groupby(['income_bracket'])['debt'].mean().reset_index()\n"
   ]
  },
  {
   "cell_type": "markdown",
   "metadata": {},
   "source": [
    "### How do different loan purposes affect on-time repayment of the loan?\n",
    "- Automotive and educational loans have higher default rates than real eastate and wedding loans."
   ]
  },
  {
   "cell_type": "code",
   "execution_count": 15,
   "metadata": {},
   "outputs": [
    {
     "data": {
      "text/html": [
       "<div>\n",
       "<style scoped>\n",
       "    .dataframe tbody tr th:only-of-type {\n",
       "        vertical-align: middle;\n",
       "    }\n",
       "\n",
       "    .dataframe tbody tr th {\n",
       "        vertical-align: top;\n",
       "    }\n",
       "\n",
       "    .dataframe thead th {\n",
       "        text-align: right;\n",
       "    }\n",
       "</style>\n",
       "<table border=\"1\" class=\"dataframe\">\n",
       "  <thead>\n",
       "    <tr style=\"text-align: right;\">\n",
       "      <th></th>\n",
       "      <th>purpose_stem</th>\n",
       "      <th>debt</th>\n",
       "    </tr>\n",
       "  </thead>\n",
       "  <tbody>\n",
       "    <tr>\n",
       "      <th>0</th>\n",
       "      <td>automotive</td>\n",
       "      <td>0.093395</td>\n",
       "    </tr>\n",
       "    <tr>\n",
       "      <th>1</th>\n",
       "      <td>education</td>\n",
       "      <td>0.091994</td>\n",
       "    </tr>\n",
       "    <tr>\n",
       "      <th>2</th>\n",
       "      <td>real estate</td>\n",
       "      <td>0.071660</td>\n",
       "    </tr>\n",
       "    <tr>\n",
       "      <th>3</th>\n",
       "      <td>wedding</td>\n",
       "      <td>0.079216</td>\n",
       "    </tr>\n",
       "  </tbody>\n",
       "</table>\n",
       "</div>"
      ],
      "text/plain": [
       "  purpose_stem      debt\n",
       "0   automotive  0.093395\n",
       "1    education  0.091994\n",
       "2  real estate  0.071660\n",
       "3      wedding  0.079216"
      ]
     },
     "execution_count": 15,
     "metadata": {},
     "output_type": "execute_result"
    }
   ],
   "source": [
    "import nltk\n",
    "from nltk.stem import SnowballStemmer\n",
    "\n",
    "english_stemmer = SnowballStemmer('english')\n",
    "\n",
    "\n",
    "education_category = ['educ','univers','school','class']\n",
    "automotive_category = ['car','automobil','motorcycl','truck','suv']\n",
    "wedding_category = ['wed','marri','marriag']\n",
    "real_estate = ['residenti','hous','commerci','real','estat','build','properti']\n",
    "\n",
    "\n",
    "def purpose_stemmer(purpose):\n",
    "    stems = english_stemmer.stem(purpose)\n",
    "    if any(stem in stems for stem in education_category):\n",
    "        return 'education'\n",
    "    if any(stem in stems for stem in automotive_category):\n",
    "        return 'automotive'\n",
    "    if any(stem in stems for stem in wedding_category):\n",
    "        return 'wedding'\n",
    "    if any(stem in stems for stem in real_estate):\n",
    "        return 'real estate'\n",
    "\n",
    "df['purpose_stem'] = df['purpose'].apply(purpose_stemmer)\n",
    "df.groupby(['purpose_stem'])['debt'].mean().reset_index()"
   ]
  },
  {
   "cell_type": "markdown",
   "metadata": {},
   "source": [
    "## General conclusion"
   ]
  },
  {
   "cell_type": "markdown",
   "metadata": {},
   "source": [
    "- Loans with the least amount of debt rate are from our small widow(er) population.  Those divorced, married or don't have children, those who are taking out real estate or wedding loans each have higher but still minimal risk compared to widow(er)s.  \n",
    "\n",
    "- Those who are unmarried, those who are in civil partnerships, those who get auto loans, those who get educational loans or those who have children each have a default rates higher than 9%.  \n",
    "\n",
    "- Surprisingly, income had a counter intuitive result.  I would have thought the more money one has, the more likely they are to repay their loans, but the highest default rate is among medium income individuals."
   ]
  },
  {
   "cell_type": "markdown",
   "metadata": {},
   "source": [
    "## Afterthoughts"
   ]
  },
  {
   "cell_type": "code",
   "execution_count": 16,
   "metadata": {},
   "outputs": [
    {
     "data": {
      "text/plain": [
       "<AxesSubplot:xlabel='dob_years', ylabel='Count'>"
      ]
     },
     "execution_count": 16,
     "metadata": {},
     "output_type": "execute_result"
    },
    {
     "data": {
      "image/png": "[encoded data removed]",
      "text/plain": [
       "<Figure size 432x288 with 1 Axes>"
      ]
     },
     "metadata": {
      "needs_background": "light"
     },
     "output_type": "display_data"
    }
   ],
   "source": [
    "import seaborn as sns\n",
    "sns.histplot(data=df, x=\"dob_years\")"
   ]
  },
  {
   "cell_type": "code",
   "execution_count": 17,
   "metadata": {},
   "outputs": [
    {
     "data": {
      "text/plain": [
       "Index(['children', 'days_employed', 'dob_years', 'education', 'education_id',\n",
       "       'family_status', 'family_status_id', 'gender', 'income_type', 'debt',\n",
       "       'total_income', 'purpose', 'years_employed', 'age_group',\n",
       "       'has_children', 'income_bracket', 'purpose_stem'],\n",
       "      dtype='object')"
      ]
     },
     "execution_count": 17,
     "metadata": {},
     "output_type": "execute_result"
    }
   ],
   "source": [
    "df.columns"
   ]
  },
  {
   "cell_type": "code",
   "execution_count": 18,
   "metadata": {},
   "outputs": [
    {
     "data": {
      "text/plain": [
       "Debt Free    19784\n",
       "Has Debt      1741\n",
       "Name: has_debt, dtype: int64"
      ]
     },
     "execution_count": 18,
     "metadata": {},
     "output_type": "execute_result"
    }
   ],
   "source": [
    "def has_debt(debt): #I like to name my function the same as the column it will become\n",
    "    if debt > 0:\n",
    "        return \"Has Debt\"\n",
    "    else:\n",
    "        return \"Debt Free\"\n",
    "# Create a new column by applying our function to the old column.\n",
    "df['has_debt'] = df['debt'].apply(has_debt)\n",
    "# Display the value counts of our new column\n",
    "df['has_debt'].value_counts()"
   ]
  },
  {
   "cell_type": "code",
   "execution_count": 19,
   "metadata": {},
   "outputs": [
    {
     "data": {
      "text/plain": [
       "wedding ceremony                            797\n",
       "having a wedding                            777\n",
       "to have a wedding                           774\n",
       "real estate transactions                    676\n",
       "buy commercial real estate                  664\n",
       "housing transactions                        653\n",
       "buying property for renting out             653\n",
       "transactions with commercial real estate    651\n",
       "housing                                     647\n",
       "purchase of the house                       647\n",
       "purchase of the house for my family         641\n",
       "construction of own property                635\n",
       "property                                    634\n",
       "transactions with my real estate            630\n",
       "building a real estate                      626\n",
       "buy real estate                             624\n",
       "purchase of my own house                    620\n",
       "building a property                         620\n",
       "housing renovation                          612\n",
       "buy residential real estate                 607\n",
       "buying my own car                           505\n",
       "going to university                         496\n",
       "car                                         495\n",
       "second-hand car purchase                    489\n",
       "to own a car                                480\n",
       "buying a second-hand car                    479\n",
       "cars                                        478\n",
       "to buy a car                                472\n",
       "car purchase                                462\n",
       "supplementary education                     462\n",
       "purchase of a car                           455\n",
       "university education                        453\n",
       "education                                   447\n",
       "to get a supplementary education            447\n",
       "getting an education                        443\n",
       "profile education                           436\n",
       "getting higher education                    426\n",
       "to become educated                          412\n",
       "Name: purpose, dtype: int64"
      ]
     },
     "execution_count": 19,
     "metadata": {},
     "output_type": "execute_result"
    }
   ],
   "source": [
    "df['purpose'].value_counts()"
   ]
  },
  {
   "cell_type": "code",
   "execution_count": 20,
   "metadata": {},
   "outputs": [
    {
     "data": {
      "text/html": [
       "<div>\n",
       "<style scoped>\n",
       "    .dataframe tbody tr th:only-of-type {\n",
       "        vertical-align: middle;\n",
       "    }\n",
       "\n",
       "    .dataframe tbody tr th {\n",
       "        vertical-align: top;\n",
       "    }\n",
       "\n",
       "    .dataframe thead th {\n",
       "        text-align: right;\n",
       "    }\n",
       "</style>\n",
       "<table border=\"1\" class=\"dataframe\">\n",
       "  <thead>\n",
       "    <tr style=\"text-align: right;\">\n",
       "      <th></th>\n",
       "      <th>children</th>\n",
       "      <th>debt</th>\n",
       "    </tr>\n",
       "  </thead>\n",
       "  <tbody>\n",
       "    <tr>\n",
       "      <th>0</th>\n",
       "      <td>0</td>\n",
       "      <td>0.075129</td>\n",
       "    </tr>\n",
       "    <tr>\n",
       "      <th>1</th>\n",
       "      <td>1</td>\n",
       "      <td>0.091470</td>\n",
       "    </tr>\n",
       "    <tr>\n",
       "      <th>2</th>\n",
       "      <td>2</td>\n",
       "      <td>0.094791</td>\n",
       "    </tr>\n",
       "    <tr>\n",
       "      <th>3</th>\n",
       "      <td>3</td>\n",
       "      <td>0.081818</td>\n",
       "    </tr>\n",
       "    <tr>\n",
       "      <th>4</th>\n",
       "      <td>4</td>\n",
       "      <td>0.097561</td>\n",
       "    </tr>\n",
       "    <tr>\n",
       "      <th>5</th>\n",
       "      <td>5</td>\n",
       "      <td>0.000000</td>\n",
       "    </tr>\n",
       "  </tbody>\n",
       "</table>\n",
       "</div>"
      ],
      "text/plain": [
       "   children      debt\n",
       "0         0  0.075129\n",
       "1         1  0.091470\n",
       "2         2  0.094791\n",
       "3         3  0.081818\n",
       "4         4  0.097561\n",
       "5         5  0.000000"
      ]
     },
     "execution_count": 20,
     "metadata": {},
     "output_type": "execute_result"
    }
   ],
   "source": [
    "df.groupby(['children'])['debt'].mean().reset_index()"
   ]
  },
  {
   "cell_type": "code",
   "execution_count": 21,
   "metadata": {},
   "outputs": [
    {
     "data": {
      "text/plain": [
       "<AxesSubplot:xlabel='children', ylabel='Count'>"
      ]
     },
     "execution_count": 21,
     "metadata": {},
     "output_type": "execute_result"
    },
    {
     "data": {
      "image/png": "[encoded data removed]",
      "text/plain": [
       "<Figure size 432x288 with 1 Axes>"
      ]
     },
     "metadata": {
      "needs_background": "light"
     },
     "output_type": "display_data"
    }
   ],
   "source": [
    "# compare debt to children\n",
    "sns.histplot(data=df, x=\"children\", hue='debt')"
   ]
  },
  {
   "cell_type": "code",
   "execution_count": 22,
   "metadata": {},
   "outputs": [
    {
     "data": {
      "text/plain": [
       "21525"
      ]
     },
     "execution_count": 22,
     "metadata": {},
     "output_type": "execute_result"
    }
   ],
   "source": [
    "df['purpose'].count()"
   ]
  },
  {
   "cell_type": "code",
   "execution_count": 23,
   "metadata": {},
   "outputs": [
    {
     "data": {
      "text/plain": [
       "not real estate    14505\n",
       "real estate         7020\n",
       "Name: general_purpose, dtype: int64"
      ]
     },
     "execution_count": 23,
     "metadata": {},
     "output_type": "execute_result"
    }
   ],
   "source": [
    "def general_purpose(purpose):\n",
    "    if ('building' in purpose) or ('property' in purpose) or ('real estate' in purpose):\n",
    "        return 'real estate'\n",
    "    else:\n",
    "        return 'not real estate'\n",
    "\n",
    "# Create a new column by applying our function to the old column.\n",
    "df['general_purpose'] = df['purpose'].apply(general_purpose)\n",
    "# Display the value counts of our new column\n",
    "df['general_purpose'].value_counts()"
   ]
  },
  {
   "cell_type": "code",
   "execution_count": 24,
   "metadata": {},
   "outputs": [
    {
     "data": {
      "text/html": [
       "<div>\n",
       "<style scoped>\n",
       "    .dataframe tbody tr th:only-of-type {\n",
       "        vertical-align: middle;\n",
       "    }\n",
       "\n",
       "    .dataframe tbody tr th {\n",
       "        vertical-align: top;\n",
       "    }\n",
       "\n",
       "    .dataframe thead th {\n",
       "        text-align: right;\n",
       "    }\n",
       "</style>\n",
       "<table border=\"1\" class=\"dataframe\">\n",
       "  <thead>\n",
       "    <tr style=\"text-align: right;\">\n",
       "      <th></th>\n",
       "      <th>purpose</th>\n",
       "      <th>debt</th>\n",
       "    </tr>\n",
       "  </thead>\n",
       "  <tbody>\n",
       "    <tr>\n",
       "      <th>0</th>\n",
       "      <td>building a property</td>\n",
       "      <td>620</td>\n",
       "    </tr>\n",
       "    <tr>\n",
       "      <th>1</th>\n",
       "      <td>building a real estate</td>\n",
       "      <td>626</td>\n",
       "    </tr>\n",
       "    <tr>\n",
       "      <th>2</th>\n",
       "      <td>buy commercial real estate</td>\n",
       "      <td>664</td>\n",
       "    </tr>\n",
       "    <tr>\n",
       "      <th>3</th>\n",
       "      <td>buy real estate</td>\n",
       "      <td>624</td>\n",
       "    </tr>\n",
       "    <tr>\n",
       "      <th>4</th>\n",
       "      <td>buy residential real estate</td>\n",
       "      <td>607</td>\n",
       "    </tr>\n",
       "    <tr>\n",
       "      <th>5</th>\n",
       "      <td>buying a second-hand car</td>\n",
       "      <td>479</td>\n",
       "    </tr>\n",
       "    <tr>\n",
       "      <th>6</th>\n",
       "      <td>buying my own car</td>\n",
       "      <td>505</td>\n",
       "    </tr>\n",
       "    <tr>\n",
       "      <th>7</th>\n",
       "      <td>buying property for renting out</td>\n",
       "      <td>653</td>\n",
       "    </tr>\n",
       "    <tr>\n",
       "      <th>8</th>\n",
       "      <td>car</td>\n",
       "      <td>495</td>\n",
       "    </tr>\n",
       "    <tr>\n",
       "      <th>9</th>\n",
       "      <td>car purchase</td>\n",
       "      <td>462</td>\n",
       "    </tr>\n",
       "    <tr>\n",
       "      <th>10</th>\n",
       "      <td>cars</td>\n",
       "      <td>478</td>\n",
       "    </tr>\n",
       "    <tr>\n",
       "      <th>11</th>\n",
       "      <td>construction of own property</td>\n",
       "      <td>635</td>\n",
       "    </tr>\n",
       "    <tr>\n",
       "      <th>12</th>\n",
       "      <td>education</td>\n",
       "      <td>447</td>\n",
       "    </tr>\n",
       "    <tr>\n",
       "      <th>13</th>\n",
       "      <td>getting an education</td>\n",
       "      <td>443</td>\n",
       "    </tr>\n",
       "    <tr>\n",
       "      <th>14</th>\n",
       "      <td>getting higher education</td>\n",
       "      <td>426</td>\n",
       "    </tr>\n",
       "    <tr>\n",
       "      <th>15</th>\n",
       "      <td>going to university</td>\n",
       "      <td>496</td>\n",
       "    </tr>\n",
       "    <tr>\n",
       "      <th>16</th>\n",
       "      <td>having a wedding</td>\n",
       "      <td>777</td>\n",
       "    </tr>\n",
       "    <tr>\n",
       "      <th>17</th>\n",
       "      <td>housing</td>\n",
       "      <td>647</td>\n",
       "    </tr>\n",
       "    <tr>\n",
       "      <th>18</th>\n",
       "      <td>housing renovation</td>\n",
       "      <td>612</td>\n",
       "    </tr>\n",
       "    <tr>\n",
       "      <th>19</th>\n",
       "      <td>housing transactions</td>\n",
       "      <td>653</td>\n",
       "    </tr>\n",
       "    <tr>\n",
       "      <th>20</th>\n",
       "      <td>profile education</td>\n",
       "      <td>436</td>\n",
       "    </tr>\n",
       "    <tr>\n",
       "      <th>21</th>\n",
       "      <td>property</td>\n",
       "      <td>634</td>\n",
       "    </tr>\n",
       "    <tr>\n",
       "      <th>22</th>\n",
       "      <td>purchase of a car</td>\n",
       "      <td>455</td>\n",
       "    </tr>\n",
       "    <tr>\n",
       "      <th>23</th>\n",
       "      <td>purchase of my own house</td>\n",
       "      <td>620</td>\n",
       "    </tr>\n",
       "    <tr>\n",
       "      <th>24</th>\n",
       "      <td>purchase of the house</td>\n",
       "      <td>647</td>\n",
       "    </tr>\n",
       "    <tr>\n",
       "      <th>25</th>\n",
       "      <td>purchase of the house for my family</td>\n",
       "      <td>641</td>\n",
       "    </tr>\n",
       "    <tr>\n",
       "      <th>26</th>\n",
       "      <td>real estate transactions</td>\n",
       "      <td>676</td>\n",
       "    </tr>\n",
       "    <tr>\n",
       "      <th>27</th>\n",
       "      <td>second-hand car purchase</td>\n",
       "      <td>489</td>\n",
       "    </tr>\n",
       "    <tr>\n",
       "      <th>28</th>\n",
       "      <td>supplementary education</td>\n",
       "      <td>462</td>\n",
       "    </tr>\n",
       "    <tr>\n",
       "      <th>29</th>\n",
       "      <td>to become educated</td>\n",
       "      <td>412</td>\n",
       "    </tr>\n",
       "    <tr>\n",
       "      <th>30</th>\n",
       "      <td>to buy a car</td>\n",
       "      <td>472</td>\n",
       "    </tr>\n",
       "    <tr>\n",
       "      <th>31</th>\n",
       "      <td>to get a supplementary education</td>\n",
       "      <td>447</td>\n",
       "    </tr>\n",
       "    <tr>\n",
       "      <th>32</th>\n",
       "      <td>to have a wedding</td>\n",
       "      <td>774</td>\n",
       "    </tr>\n",
       "    <tr>\n",
       "      <th>33</th>\n",
       "      <td>to own a car</td>\n",
       "      <td>480</td>\n",
       "    </tr>\n",
       "    <tr>\n",
       "      <th>34</th>\n",
       "      <td>transactions with commercial real estate</td>\n",
       "      <td>651</td>\n",
       "    </tr>\n",
       "    <tr>\n",
       "      <th>35</th>\n",
       "      <td>transactions with my real estate</td>\n",
       "      <td>630</td>\n",
       "    </tr>\n",
       "    <tr>\n",
       "      <th>36</th>\n",
       "      <td>university education</td>\n",
       "      <td>453</td>\n",
       "    </tr>\n",
       "    <tr>\n",
       "      <th>37</th>\n",
       "      <td>wedding ceremony</td>\n",
       "      <td>797</td>\n",
       "    </tr>\n",
       "  </tbody>\n",
       "</table>\n",
       "</div>"
      ],
      "text/plain": [
       "                                     purpose  debt\n",
       "0                        building a property   620\n",
       "1                     building a real estate   626\n",
       "2                 buy commercial real estate   664\n",
       "3                            buy real estate   624\n",
       "4                buy residential real estate   607\n",
       "5                   buying a second-hand car   479\n",
       "6                          buying my own car   505\n",
       "7            buying property for renting out   653\n",
       "8                                        car   495\n",
       "9                               car purchase   462\n",
       "10                                      cars   478\n",
       "11              construction of own property   635\n",
       "12                                 education   447\n",
       "13                      getting an education   443\n",
       "14                  getting higher education   426\n",
       "15                       going to university   496\n",
       "16                          having a wedding   777\n",
       "17                                   housing   647\n",
       "18                        housing renovation   612\n",
       "19                      housing transactions   653\n",
       "20                         profile education   436\n",
       "21                                  property   634\n",
       "22                         purchase of a car   455\n",
       "23                  purchase of my own house   620\n",
       "24                     purchase of the house   647\n",
       "25       purchase of the house for my family   641\n",
       "26                  real estate transactions   676\n",
       "27                  second-hand car purchase   489\n",
       "28                   supplementary education   462\n",
       "29                        to become educated   412\n",
       "30                              to buy a car   472\n",
       "31          to get a supplementary education   447\n",
       "32                         to have a wedding   774\n",
       "33                              to own a car   480\n",
       "34  transactions with commercial real estate   651\n",
       "35          transactions with my real estate   630\n",
       "36                      university education   453\n",
       "37                          wedding ceremony   797"
      ]
     },
     "execution_count": 24,
     "metadata": {},
     "output_type": "execute_result"
    }
   ],
   "source": [
    "df.groupby(['purpose'])['debt'].count().reset_index()"
   ]
  },
  {
   "cell_type": "code",
   "execution_count": null,
   "metadata": {},
   "outputs": [],
   "source": []
  }
 ],
 "metadata": {
  "ExecuteTimeLog": [
   {
    "duration": 4228,
    "start_time": "2021-10-08T07:35:10.150Z"
   },
   {
    "duration": 2390,
    "start_time": "2021-10-08T07:35:53.929Z"
   },
   {
    "duration": 2245,
    "start_time": "2021-10-08T07:36:51.252Z"
   },
   {
    "duration": 2470,
    "start_time": "2021-10-08T07:37:06.591Z"
   },
   {
    "duration": 3679,
    "start_time": "2021-10-08T07:37:41.660Z"
   },
   {
    "duration": 895,
    "start_time": "2021-10-08T07:38:17.038Z"
   },
   {
    "duration": 287,
    "start_time": "2021-10-08T07:39:41.676Z"
   },
   {
    "duration": 285,
    "start_time": "2021-10-08T07:40:22.090Z"
   },
   {
    "duration": 655,
    "start_time": "2021-10-08T07:41:07.480Z"
   },
   {
    "duration": 284,
    "start_time": "2021-10-08T07:41:18.785Z"
   },
   {
    "duration": 300,
    "start_time": "2021-10-08T07:43:02.749Z"
   },
   {
    "duration": 612,
    "start_time": "2021-10-08T07:49:35.980Z"
   },
   {
    "duration": 777,
    "start_time": "2021-10-08T07:50:18.959Z"
   },
   {
    "duration": 705,
    "start_time": "2021-10-08T07:50:38.480Z"
   },
   {
    "duration": 337,
    "start_time": "2021-10-08T07:51:15.803Z"
   },
   {
    "duration": 305,
    "start_time": "2021-10-08T07:53:06.362Z"
   },
   {
    "duration": 613,
    "start_time": "2021-10-08T07:59:27.715Z"
   },
   {
    "duration": 321,
    "start_time": "2021-10-08T07:59:54.222Z"
   },
   {
    "duration": 643,
    "start_time": "2021-10-08T08:00:04.246Z"
   },
   {
    "duration": 676,
    "start_time": "2021-10-08T08:01:42.533Z"
   },
   {
    "duration": 919,
    "start_time": "2021-10-08T08:05:29.645Z"
   },
   {
    "duration": 628,
    "start_time": "2021-10-08T08:06:14.122Z"
   },
   {
    "duration": 2311,
    "start_time": "2021-10-08T08:07:50.599Z"
   },
   {
    "duration": 13,
    "start_time": "2021-10-08T08:08:11.563Z"
   },
   {
    "duration": 297,
    "start_time": "2021-10-08T08:09:53.393Z"
   },
   {
    "duration": 336,
    "start_time": "2021-10-10T04:28:54.874Z"
   },
   {
    "duration": 228,
    "start_time": "2021-10-10T04:30:14.663Z"
   },
   {
    "duration": 984,
    "start_time": "2021-10-10T04:30:20.516Z"
   },
   {
    "duration": 6,
    "start_time": "2021-10-10T04:30:25.337Z"
   },
   {
    "duration": 8,
    "start_time": "2021-10-10T04:31:14.252Z"
   },
   {
    "duration": 7,
    "start_time": "2021-10-10T04:32:06.032Z"
   },
   {
    "duration": 232,
    "start_time": "2021-10-10T04:38:57.682Z"
   },
   {
    "duration": 150,
    "start_time": "2021-10-10T04:40:18.467Z"
   },
   {
    "duration": 697,
    "start_time": "2021-10-10T04:40:59.393Z"
   },
   {
    "duration": 285,
    "start_time": "2021-10-10T04:41:34.992Z"
   },
   {
    "duration": 15,
    "start_time": "2021-10-10T04:41:48.053Z"
   },
   {
    "duration": 85,
    "start_time": "2021-10-10T04:43:08.163Z"
   },
   {
    "duration": 14,
    "start_time": "2021-10-10T04:43:17.052Z"
   },
   {
    "duration": 431,
    "start_time": "2021-10-10T04:43:57.526Z"
   },
   {
    "duration": 478,
    "start_time": "2021-10-10T04:44:00.994Z"
   },
   {
    "duration": 243,
    "start_time": "2021-10-10T04:44:09.185Z"
   },
   {
    "duration": 197,
    "start_time": "2021-10-10T04:44:16.334Z"
   },
   {
    "duration": 260,
    "start_time": "2021-10-10T04:45:24.684Z"
   },
   {
    "duration": 806,
    "start_time": "2021-10-10T04:45:29.774Z"
   },
   {
    "duration": 261,
    "start_time": "2021-10-10T04:45:47.059Z"
   },
   {
    "duration": 4826,
    "start_time": "2021-10-10T04:50:13.594Z"
   },
   {
    "duration": 4903,
    "start_time": "2021-10-10T04:50:25.625Z"
   },
   {
    "duration": 246,
    "start_time": "2021-10-10T04:51:22.685Z"
   },
   {
    "duration": 208,
    "start_time": "2021-10-10T04:52:26.310Z"
   },
   {
    "duration": 234,
    "start_time": "2021-10-10T05:00:49.054Z"
   },
   {
    "duration": 33,
    "start_time": "2021-10-10T05:00:54.126Z"
   },
   {
    "duration": 12,
    "start_time": "2021-10-10T05:01:08.670Z"
   },
   {
    "duration": 9,
    "start_time": "2021-10-10T05:04:54.786Z"
   },
   {
    "duration": 9,
    "start_time": "2021-10-10T05:05:05.174Z"
   },
   {
    "duration": 228,
    "start_time": "2021-10-10T05:05:21.538Z"
   },
   {
    "duration": 12,
    "start_time": "2021-10-10T05:05:25.985Z"
   },
   {
    "duration": 9,
    "start_time": "2021-10-10T05:05:49.082Z"
   },
   {
    "duration": 251,
    "start_time": "2021-10-10T05:06:07.910Z"
   },
   {
    "duration": 76,
    "start_time": "2021-10-10T05:06:15.587Z"
   },
   {
    "duration": 78,
    "start_time": "2021-10-10T05:06:34.449Z"
   },
   {
    "duration": 73,
    "start_time": "2021-10-10T05:06:43.119Z"
   },
   {
    "duration": 263,
    "start_time": "2021-10-10T05:07:06.044Z"
   },
   {
    "duration": 11,
    "start_time": "2021-10-10T05:07:11.825Z"
   },
   {
    "duration": 24,
    "start_time": "2021-10-10T05:08:06.923Z"
   },
   {
    "duration": 12,
    "start_time": "2021-10-10T05:08:28.086Z"
   },
   {
    "duration": 7,
    "start_time": "2021-10-10T05:08:38.965Z"
   },
   {
    "duration": 235,
    "start_time": "2021-10-10T05:08:47.493Z"
   },
   {
    "duration": 11,
    "start_time": "2021-10-10T05:08:51.128Z"
   },
   {
    "duration": 234,
    "start_time": "2021-10-10T06:19:37.835Z"
   },
   {
    "duration": 248,
    "start_time": "2021-10-10T06:19:47.743Z"
   },
   {
    "duration": 239,
    "start_time": "2021-10-10T06:22:25.605Z"
   },
   {
    "duration": 235,
    "start_time": "2021-10-10T06:22:34.853Z"
   },
   {
    "duration": 113,
    "start_time": "2021-10-10T06:23:54.774Z"
   },
   {
    "duration": 100,
    "start_time": "2021-10-10T06:30:18.571Z"
   },
   {
    "duration": 291,
    "start_time": "2021-10-10T06:30:38.648Z"
   },
   {
    "duration": 98,
    "start_time": "2021-10-10T06:30:43.993Z"
   },
   {
    "duration": 92,
    "start_time": "2021-10-10T06:30:50.873Z"
   },
   {
    "duration": 112,
    "start_time": "2021-10-10T06:31:44.255Z"
   },
   {
    "duration": 260,
    "start_time": "2021-10-10T06:32:00.274Z"
   },
   {
    "duration": 10,
    "start_time": "2021-10-10T06:32:11.998Z"
   },
   {
    "duration": 27,
    "start_time": "2021-10-10T06:32:18.972Z"
   },
   {
    "duration": 38,
    "start_time": "2021-10-10T06:32:31.079Z"
   },
   {
    "duration": 5,
    "start_time": "2021-10-10T06:38:35.271Z"
   },
   {
    "duration": 254,
    "start_time": "2021-10-10T06:39:14.189Z"
   },
   {
    "duration": 381,
    "start_time": "2021-10-10T06:39:23.719Z"
   },
   {
    "duration": 8,
    "start_time": "2021-10-10T06:40:43.543Z"
   },
   {
    "duration": 93,
    "start_time": "2021-10-10T06:45:51.616Z"
   },
   {
    "duration": 40,
    "start_time": "2021-10-10T06:46:07.264Z"
   },
   {
    "duration": 35,
    "start_time": "2021-10-10T06:46:20.620Z"
   },
   {
    "duration": 39,
    "start_time": "2021-10-10T06:46:30.053Z"
   },
   {
    "duration": 21,
    "start_time": "2021-10-10T06:46:44.655Z"
   },
   {
    "duration": 19,
    "start_time": "2021-10-10T06:46:52.012Z"
   },
   {
    "duration": 48,
    "start_time": "2021-10-10T06:47:07.082Z"
   },
   {
    "duration": 253,
    "start_time": "2021-10-10T06:48:43.449Z"
   },
   {
    "duration": 25,
    "start_time": "2021-10-10T06:49:00.899Z"
   },
   {
    "duration": 50,
    "start_time": "2021-10-10T06:49:13.426Z"
   },
   {
    "duration": 29,
    "start_time": "2021-10-10T06:54:41.290Z"
   },
   {
    "duration": 51,
    "start_time": "2021-10-10T06:54:43.138Z"
   },
   {
    "duration": 1598,
    "start_time": "2021-10-10T06:57:55.536Z"
   },
   {
    "duration": 217,
    "start_time": "2021-10-10T06:58:01.292Z"
   },
   {
    "duration": 236,
    "start_time": "2021-10-10T06:58:12.085Z"
   },
   {
    "duration": 257,
    "start_time": "2021-10-10T07:13:40.125Z"
   },
   {
    "duration": 33,
    "start_time": "2021-10-10T07:14:05.488Z"
   },
   {
    "duration": 34,
    "start_time": "2021-10-10T07:14:19.184Z"
   },
   {
    "duration": 29,
    "start_time": "2021-10-10T07:22:10.843Z"
   },
   {
    "duration": 10,
    "start_time": "2021-10-10T07:23:14.958Z"
   },
   {
    "duration": 257,
    "start_time": "2021-10-10T07:24:18.550Z"
   },
   {
    "duration": 87,
    "start_time": "2021-10-10T07:24:22.062Z"
   },
   {
    "duration": 42,
    "start_time": "2021-10-10T07:24:29.550Z"
   },
   {
    "duration": 3,
    "start_time": "2021-10-10T07:24:56.506Z"
   },
   {
    "duration": 36,
    "start_time": "2021-10-10T07:25:15.735Z"
   },
   {
    "duration": 270,
    "start_time": "2021-10-10T07:25:19.059Z"
   },
   {
    "duration": 38,
    "start_time": "2021-10-10T07:25:20.885Z"
   },
   {
    "duration": 10,
    "start_time": "2021-10-10T07:25:29.740Z"
   },
   {
    "duration": 38,
    "start_time": "2021-10-10T07:27:27.280Z"
   },
   {
    "duration": 9,
    "start_time": "2021-10-10T07:27:28.133Z"
   },
   {
    "duration": 40,
    "start_time": "2021-10-10T07:27:59.604Z"
   },
   {
    "duration": 10,
    "start_time": "2021-10-10T07:28:01.038Z"
   },
   {
    "duration": 262,
    "start_time": "2021-10-10T07:28:04.963Z"
   },
   {
    "duration": 41,
    "start_time": "2021-10-10T07:28:05.402Z"
   },
   {
    "duration": 340,
    "start_time": "2021-10-10T07:31:50.901Z"
   },
   {
    "duration": 40,
    "start_time": "2021-10-10T07:31:52.338Z"
   },
   {
    "duration": 21,
    "start_time": "2021-10-10T07:32:15.421Z"
   },
   {
    "duration": 53,
    "start_time": "2021-10-10T07:32:19.989Z"
   },
   {
    "duration": 94,
    "start_time": "2021-10-10T07:37:34.043Z"
   },
   {
    "duration": 38,
    "start_time": "2021-10-10T07:37:41.959Z"
   },
   {
    "duration": 50,
    "start_time": "2021-10-10T07:37:45.198Z"
   },
   {
    "duration": 251,
    "start_time": "2021-10-10T07:38:32.750Z"
   },
   {
    "duration": 44,
    "start_time": "2021-10-10T07:38:33.328Z"
   },
   {
    "duration": 50,
    "start_time": "2021-10-10T07:38:35.132Z"
   },
   {
    "duration": 35,
    "start_time": "2021-10-10T07:39:08.373Z"
   },
   {
    "duration": 238,
    "start_time": "2021-10-10T07:51:08.075Z"
   },
   {
    "duration": 37,
    "start_time": "2021-10-10T07:51:09.437Z"
   },
   {
    "duration": 35,
    "start_time": "2021-10-10T07:51:12.989Z"
   },
   {
    "duration": 51,
    "start_time": "2021-10-10T07:51:19.461Z"
   },
   {
    "duration": 43,
    "start_time": "2021-10-10T07:51:42.849Z"
   },
   {
    "duration": 54,
    "start_time": "2021-10-10T07:51:43.365Z"
   },
   {
    "duration": 38,
    "start_time": "2021-10-10T07:55:36.306Z"
   },
   {
    "duration": 225,
    "start_time": "2021-10-10T07:56:37.886Z"
   },
   {
    "duration": 205,
    "start_time": "2021-10-10T07:57:04.330Z"
   },
   {
    "duration": 991,
    "start_time": "2021-10-10T08:04:29.780Z"
   },
   {
    "duration": 1062,
    "start_time": "2021-10-10T08:07:38.261Z"
   },
   {
    "duration": 248,
    "start_time": "2021-10-10T08:08:43.649Z"
   },
   {
    "duration": 241,
    "start_time": "2021-10-10T08:09:12.582Z"
   },
   {
    "duration": 266,
    "start_time": "2021-10-10T08:09:13.803Z"
   },
   {
    "duration": 255,
    "start_time": "2021-10-10T08:09:54.260Z"
   },
   {
    "duration": 1532,
    "start_time": "2021-10-10T08:10:10.596Z"
   },
   {
    "duration": 6038,
    "start_time": "2021-10-10T08:13:20.416Z"
   },
   {
    "duration": 44,
    "start_time": "2021-10-10T08:13:38.240Z"
   },
   {
    "duration": 35,
    "start_time": "2021-10-10T08:13:49.430Z"
   },
   {
    "duration": 54,
    "start_time": "2021-10-10T08:14:30.862Z"
   },
   {
    "duration": 203,
    "start_time": "2021-10-10T08:15:25.816Z"
   },
   {
    "duration": 45,
    "start_time": "2021-10-10T08:15:26.567Z"
   },
   {
    "duration": 50,
    "start_time": "2021-10-10T08:15:27.331Z"
   },
   {
    "duration": 231,
    "start_time": "2021-10-10T08:17:35.554Z"
   },
   {
    "duration": 42,
    "start_time": "2021-10-10T08:18:05.218Z"
   },
   {
    "duration": 42,
    "start_time": "2021-10-10T08:18:32.029Z"
   },
   {
    "duration": 35,
    "start_time": "2021-10-10T08:18:40.973Z"
   },
   {
    "duration": 36,
    "start_time": "2021-10-10T08:18:53.349Z"
   },
   {
    "duration": 42,
    "start_time": "2021-10-10T08:20:17.277Z"
   },
   {
    "duration": 35,
    "start_time": "2021-10-10T08:20:26.455Z"
   },
   {
    "duration": 40,
    "start_time": "2021-10-10T08:22:27.890Z"
   },
   {
    "duration": 227,
    "start_time": "2021-10-10T08:22:32.090Z"
   },
   {
    "duration": 41,
    "start_time": "2021-10-10T08:22:32.500Z"
   },
   {
    "duration": 33,
    "start_time": "2021-10-10T08:22:33.846Z"
   },
   {
    "duration": 2,
    "start_time": "2021-10-10T08:23:35.932Z"
   },
   {
    "duration": 37,
    "start_time": "2021-10-10T08:24:12.478Z"
   },
   {
    "duration": 223,
    "start_time": "2021-10-10T08:24:28.538Z"
   },
   {
    "duration": 43,
    "start_time": "2021-10-10T08:24:29.127Z"
   },
   {
    "duration": 48,
    "start_time": "2021-10-10T08:24:30.155Z"
   },
   {
    "duration": 17,
    "start_time": "2021-10-10T08:26:22.246Z"
   },
   {
    "duration": 258,
    "start_time": "2021-10-10T08:26:30.213Z"
   },
   {
    "duration": 6,
    "start_time": "2021-10-10T08:26:49.610Z"
   },
   {
    "duration": 13,
    "start_time": "2021-10-10T08:27:29.545Z"
   },
   {
    "duration": 202,
    "start_time": "2021-10-10T08:27:35.841Z"
   },
   {
    "duration": 12,
    "start_time": "2021-10-10T08:27:36.907Z"
   },
   {
    "duration": 6131,
    "start_time": "2021-10-10T08:27:44.465Z"
   },
   {
    "duration": 40,
    "start_time": "2021-10-10T08:27:53.757Z"
   },
   {
    "duration": 38,
    "start_time": "2021-10-10T08:27:59.658Z"
   },
   {
    "duration": 37,
    "start_time": "2021-10-10T08:28:02.239Z"
   },
   {
    "duration": 40,
    "start_time": "2021-10-10T08:31:29.262Z"
   },
   {
    "duration": 12,
    "start_time": "2021-10-10T08:31:31.932Z"
   },
   {
    "duration": 268,
    "start_time": "2021-10-10T08:31:39.713Z"
   },
   {
    "duration": 35,
    "start_time": "2021-10-10T08:31:46.100Z"
   },
   {
    "duration": 32,
    "start_time": "2021-10-10T08:31:54.964Z"
   },
   {
    "duration": 3,
    "start_time": "2021-10-10T08:34:58.079Z"
   },
   {
    "duration": 203,
    "start_time": "2021-10-10T08:35:17.645Z"
   },
   {
    "duration": 15,
    "start_time": "2021-10-10T08:35:18.063Z"
   },
   {
    "duration": 46,
    "start_time": "2021-10-10T08:35:19.195Z"
   },
   {
    "duration": 52,
    "start_time": "2021-10-10T08:35:37.113Z"
   },
   {
    "duration": 196,
    "start_time": "2021-10-10T08:36:05.835Z"
   },
   {
    "duration": 14,
    "start_time": "2021-10-10T08:36:06.722Z"
   },
   {
    "duration": 47,
    "start_time": "2021-10-10T08:36:07.443Z"
   },
   {
    "duration": 267,
    "start_time": "2021-10-10T12:03:15.453Z"
   },
   {
    "duration": 1249,
    "start_time": "2021-10-10T12:06:22.540Z"
   },
   {
    "duration": 377,
    "start_time": "2021-10-10T12:06:48.980Z"
   },
   {
    "duration": 241,
    "start_time": "2021-10-10T12:07:29.024Z"
   },
   {
    "duration": 239,
    "start_time": "2021-10-10T12:07:39.961Z"
   },
   {
    "duration": 314,
    "start_time": "2021-10-10T12:07:50.619Z"
   },
   {
    "duration": 313,
    "start_time": "2021-10-10T12:07:57.217Z"
   },
   {
    "duration": 455,
    "start_time": "2021-10-10T12:08:52.067Z"
   },
   {
    "duration": 11,
    "start_time": "2021-10-10T12:10:43.603Z"
   },
   {
    "duration": 11,
    "start_time": "2021-10-10T12:11:36.663Z"
   },
   {
    "duration": 10,
    "start_time": "2021-10-10T12:12:17.124Z"
   },
   {
    "duration": 13,
    "start_time": "2021-10-10T12:12:24.314Z"
   },
   {
    "duration": 10,
    "start_time": "2021-10-10T12:12:41.099Z"
   },
   {
    "duration": 46,
    "start_time": "2021-10-10T12:12:58.862Z"
   },
   {
    "duration": 51,
    "start_time": "2021-10-10T12:13:04.381Z"
   },
   {
    "duration": 239,
    "start_time": "2021-10-10T12:14:26.935Z"
   },
   {
    "duration": 91,
    "start_time": "2021-10-10T12:15:18.121Z"
   },
   {
    "duration": 257,
    "start_time": "2021-10-10T12:15:24.649Z"
   },
   {
    "duration": 12,
    "start_time": "2021-10-10T12:16:15.469Z"
   },
   {
    "duration": 1051,
    "start_time": "2021-10-10T12:20:17.390Z"
   },
   {
    "duration": 10,
    "start_time": "2021-10-10T12:20:18.444Z"
   },
   {
    "duration": 67,
    "start_time": "2021-10-10T12:20:18.458Z"
   },
   {
    "duration": 51,
    "start_time": "2021-10-10T12:20:18.528Z"
   },
   {
    "duration": 13,
    "start_time": "2021-10-10T12:20:18.581Z"
   },
   {
    "duration": 403,
    "start_time": "2021-10-10T12:20:18.596Z"
   },
   {
    "duration": 427,
    "start_time": "2021-10-10T12:20:18.575Z"
   },
   {
    "duration": 274,
    "start_time": "2021-10-10T12:20:21.647Z"
   },
   {
    "duration": 10,
    "start_time": "2021-10-10T12:20:21.923Z"
   },
   {
    "duration": 46,
    "start_time": "2021-10-10T12:20:21.936Z"
   },
   {
    "duration": 78,
    "start_time": "2021-10-10T12:20:21.985Z"
   },
   {
    "duration": 16,
    "start_time": "2021-10-10T12:20:22.067Z"
   },
   {
    "duration": 321,
    "start_time": "2021-10-10T12:20:22.086Z"
   },
   {
    "duration": 440,
    "start_time": "2021-10-10T12:20:21.970Z"
   },
   {
    "duration": 1004,
    "start_time": "2021-10-10T12:22:02.591Z"
   },
   {
    "duration": 10,
    "start_time": "2021-10-10T12:22:03.598Z"
   },
   {
    "duration": 59,
    "start_time": "2021-10-10T12:22:03.612Z"
   },
   {
    "duration": 13,
    "start_time": "2021-10-10T12:22:03.674Z"
   },
   {
    "duration": 396,
    "start_time": "2021-10-10T12:22:03.689Z"
   },
   {
    "duration": -170,
    "start_time": "2021-10-10T12:22:04.258Z"
   },
   {
    "duration": 62,
    "start_time": "2021-10-10T12:23:33.696Z"
   },
   {
    "duration": 17,
    "start_time": "2021-10-10T12:23:40.466Z"
   },
   {
    "duration": 740,
    "start_time": "2021-10-10T16:56:46.005Z"
   },
   {
    "duration": 6,
    "start_time": "2021-10-10T16:56:46.747Z"
   },
   {
    "duration": 30,
    "start_time": "2021-10-10T16:56:46.755Z"
   },
   {
    "duration": 8,
    "start_time": "2021-10-10T16:56:46.787Z"
   },
   {
    "duration": 70,
    "start_time": "2021-10-10T16:56:46.797Z"
   },
   {
    "duration": 10,
    "start_time": "2021-10-10T16:56:46.868Z"
   },
   {
    "duration": 963,
    "start_time": "2021-10-13T20:46:49.574Z"
   },
   {
    "duration": 19,
    "start_time": "2021-10-13T20:46:50.539Z"
   },
   {
    "duration": 47,
    "start_time": "2021-10-13T20:46:50.562Z"
   },
   {
    "duration": 21,
    "start_time": "2021-10-13T20:46:50.612Z"
   },
   {
    "duration": 73,
    "start_time": "2021-10-13T20:46:50.635Z"
   },
   {
    "duration": 14,
    "start_time": "2021-10-13T20:46:50.711Z"
   },
   {
    "duration": 7,
    "start_time": "2021-10-13T20:46:50.728Z"
   },
   {
    "duration": 11,
    "start_time": "2021-10-13T20:46:50.767Z"
   },
   {
    "duration": 22,
    "start_time": "2021-10-13T20:46:50.781Z"
   },
   {
    "duration": 21,
    "start_time": "2021-10-13T20:46:50.805Z"
   },
   {
    "duration": 47,
    "start_time": "2021-10-13T20:46:50.829Z"
   },
   {
    "duration": 22,
    "start_time": "2021-10-13T20:46:50.879Z"
   },
   {
    "duration": 24,
    "start_time": "2021-10-13T20:46:50.903Z"
   },
   {
    "duration": 8,
    "start_time": "2021-10-13T20:46:50.929Z"
   },
   {
    "duration": 14,
    "start_time": "2021-10-13T20:46:50.967Z"
   },
   {
    "duration": 7,
    "start_time": "2021-10-13T20:46:50.983Z"
   },
   {
    "duration": 15,
    "start_time": "2021-10-13T20:46:50.993Z"
   },
   {
    "duration": 3,
    "start_time": "2021-10-13T20:46:51.010Z"
   }
  ],
  "kernelspec": {
   "display_name": "Python 3",
   "language": "python",
   "name": "python3"
  },
  "language_info": {
   "codemirror_mode": {
    "name": "ipython",
    "version": 3
   },
   "file_extension": ".py",
   "mimetype": "text/x-python",
   "name": "python",
   "nbconvert_exporter": "python",
   "pygments_lexer": "ipython3",
   "version": "3.8.8"
  },
  "toc": {
   "base_numbering": 1,
   "nav_menu": {},
   "number_sections": true,
   "sideBar": true,
   "skip_h1_title": true,
   "title_cell": "Table of Contents",
   "title_sidebar": "Contents",
   "toc_cell": false,
   "toc_position": {},
   "toc_section_display": true,
   "toc_window_display": false
  }
 },
 "nbformat": 4,
 "nbformat_minor": 4
}
