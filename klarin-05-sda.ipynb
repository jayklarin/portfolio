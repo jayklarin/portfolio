{
 "cells": [
  {
   "cell_type": "markdown",
   "id": "302a47ec",
   "metadata": {},
   "source": [
    "<div style=\"border:solid green 2px; padding: 20px\"> <h1 style=\"color:green; margin-bottom:20px\">Reviewer's comment v1</h1>\n",
    "\n",
    "Hello Jay, my name is Dmitrii. I'm going to review your project! Nice to meet you! 🙌\n",
    "\n",
    "You can find my comments under the heading **«Review»**. I will categorize my comments in green, blue or red boxes like this:\n",
    "\n",
    "<div class=\"alert alert-success\">\n",
    "    <b>Success:</b> if everything is done successfully\n",
    "</div>\n",
    "<div class=\"alert alert-warning\">\n",
    "    <b>Remarks:</b> if I can give some recommendations or ways to improve the project\n",
    "</div>\n",
    "<div class=\"alert alert-danger\">\n",
    "    <b>Needs fixing:</b> if the block requires some corrections. Work can't be accepted with the red comments\n",
    "</div>\n",
    "\n",
    "Please don't remove my comments :) If you have any questions don't hesitate to respond to my comments in a different section. \n",
    "<div class=\"alert alert-info\"> <b>Student comments:</b> For example like this</div>    \n"
   ]
  },
  {
   "cell_type": "markdown",
   "id": "67839094",
   "metadata": {},
   "source": [
    "<div style=\"border:solid green 2px; padding: 20px\">\n",
    "<b>Reviewer's comment v1</b>\n",
    "    \n",
    "<b>Overall Feedback</b> \n",
    "    \n",
    "Overall well done! I can see that a lot of effort has been made! Your project already looks really good and you accomplished impressive results.\n",
    "\n",
    "Nevertheless, there are some comments/areas that will help you to make your project even better:\n",
    "    \n",
    "- Add data rounding for web-traffic and calls.\n",
    "- Add overall conclusions based on your analysis. \n",
    "\n",
    "And of course, if you have any questions along the way, remember that you can always reach out to your tutor for any clarification.\n",
    "</div>"
   ]
  },
  {
   "cell_type": "markdown",
   "id": "76284149",
   "metadata": {},
   "source": [
    "<div style=\"border:solid green 2px; padding: 20px\">\n",
    "<b>Reviewer's comment v2:</b>\n",
    "    \n",
    "<b>Overall Feedback</b> \n",
    "    \n",
    "Hi Jay, thank you for submitting your project with all corrections! \n",
    "- Now everything is perfect. No critial issues left, so your project has been accepted! \n",
    "- Wish you cool projects in the next sprints! ☘️\n",
    "    \n",
    "PS: As a last thing, I can recommend cool lectures on stat analysis here: https://www.youtube.com/playlist?list=PL2SOU6wwxB0uwwH80KTQ6ht66KWxbzTIo 🙌\n",
    "\n",
    "</div>"
   ]
  },
  {
   "cell_type": "markdown",
   "id": "6137d6f4",
   "metadata": {},
   "source": [
    "# Client Behavior on Megaline Plans\n",
    "## Introduction \n",
    "### We have been given a sample of 500 customers' annual phone and data usage records. We have been asked to determine which plan brings in more revenue.\n",
    "## Step 1. Open the data file and study the general information"
   ]
  },
  {
   "cell_type": "markdown",
   "id": "29bc3657",
   "metadata": {},
   "source": [
    "<div class=\"alert alert-block alert-warning\">\n",
    "<b>Reviewer's comment v1</b>\n",
    " \n",
    "- It would be great to add additional information about the project goal and tasks. It gives an overview of what you are going to achieve in this project. \n",
    "- Also, this introduction potentially can be used as a Readme file in your portfolio on Github. One example of a nice introduction for a data analysis project can be found here: https://github.com/CICIFLY/Data-Analytics-Projects/blob/master/AB%20Testing%20Result%20Analyze/readme.md\n",
    "</div>"
   ]
  },
  {
   "cell_type": "code",
   "execution_count": 1,
   "id": "6b10ece5",
   "metadata": {},
   "outputs": [],
   "source": [
    "import pandas as pd\n",
    "import numpy as np\n",
    "import datetime as dt\n",
    "import matplotlib.pyplot as plt\n",
    "#from matplotlib import pyplot\n",
    "import random\n",
    "import numpy\n",
    "import seaborn as sns\n",
    "from scipy import stats as st"
   ]
  },
  {
   "cell_type": "code",
   "execution_count": 2,
   "id": "70436eb8",
   "metadata": {},
   "outputs": [],
   "source": [
    "try:\n",
    "    df_calls = pd.read_csv('megaline_calls.csv')\n",
    "    df_internet = pd.read_csv('megaline_internet.csv')\n",
    "    df_messages = pd.read_csv('megaline_messages.csv')\n",
    "    df_plans = pd.read_csv('megaline_plans.csv')\n",
    "    df_users = pd.read_csv('megaline_users.csv')\n",
    "except:\n",
    "    df_calls = pd.read_csv('/datasets/megaline_calls.csv')\n",
    "    df_internet = pd.read_csv('/datasets/megaline_internet.csv')\n",
    "    df_messages = pd.read_csv('/datasets/megaline_messages.csv')\n",
    "    df_plans = pd.read_csv('/datasets/megaline_plans.csv')\n",
    "    df_users = pd.read_csv('/datasets/megaline_users.csv')"
   ]
  },
  {
   "cell_type": "markdown",
   "id": "da62b2dd",
   "metadata": {},
   "source": [
    "### Calls"
   ]
  },
  {
   "cell_type": "code",
   "execution_count": 3,
   "id": "71c9eff3",
   "metadata": {},
   "outputs": [
    {
     "data": {
      "text/html": [
       "<div>\n",
       "<style scoped>\n",
       "    .dataframe tbody tr th:only-of-type {\n",
       "        vertical-align: middle;\n",
       "    }\n",
       "\n",
       "    .dataframe tbody tr th {\n",
       "        vertical-align: top;\n",
       "    }\n",
       "\n",
       "    .dataframe thead th {\n",
       "        text-align: right;\n",
       "    }\n",
       "</style>\n",
       "<table border=\"1\" class=\"dataframe\">\n",
       "  <thead>\n",
       "    <tr style=\"text-align: right;\">\n",
       "      <th></th>\n",
       "      <th>id</th>\n",
       "      <th>user_id</th>\n",
       "      <th>call_date</th>\n",
       "      <th>duration</th>\n",
       "    </tr>\n",
       "  </thead>\n",
       "  <tbody>\n",
       "    <tr>\n",
       "      <th>0</th>\n",
       "      <td>1000_93</td>\n",
       "      <td>1000</td>\n",
       "      <td>2018-12-27</td>\n",
       "      <td>8.52</td>\n",
       "    </tr>\n",
       "    <tr>\n",
       "      <th>1</th>\n",
       "      <td>1000_145</td>\n",
       "      <td>1000</td>\n",
       "      <td>2018-12-27</td>\n",
       "      <td>13.66</td>\n",
       "    </tr>\n",
       "    <tr>\n",
       "      <th>2</th>\n",
       "      <td>1000_247</td>\n",
       "      <td>1000</td>\n",
       "      <td>2018-12-27</td>\n",
       "      <td>14.48</td>\n",
       "    </tr>\n",
       "    <tr>\n",
       "      <th>3</th>\n",
       "      <td>1000_309</td>\n",
       "      <td>1000</td>\n",
       "      <td>2018-12-28</td>\n",
       "      <td>5.76</td>\n",
       "    </tr>\n",
       "    <tr>\n",
       "      <th>4</th>\n",
       "      <td>1000_380</td>\n",
       "      <td>1000</td>\n",
       "      <td>2018-12-30</td>\n",
       "      <td>4.22</td>\n",
       "    </tr>\n",
       "  </tbody>\n",
       "</table>\n",
       "</div>"
      ],
      "text/plain": [
       "         id  user_id   call_date  duration\n",
       "0   1000_93     1000  2018-12-27      8.52\n",
       "1  1000_145     1000  2018-12-27     13.66\n",
       "2  1000_247     1000  2018-12-27     14.48\n",
       "3  1000_309     1000  2018-12-28      5.76\n",
       "4  1000_380     1000  2018-12-30      4.22"
      ]
     },
     "execution_count": 3,
     "metadata": {},
     "output_type": "execute_result"
    }
   ],
   "source": [
    "df_calls.head()"
   ]
  },
  {
   "cell_type": "code",
   "execution_count": 4,
   "id": "3ac3272a",
   "metadata": {
    "scrolled": true
   },
   "outputs": [
    {
     "data": {
      "text/html": [
       "<div>\n",
       "<style scoped>\n",
       "    .dataframe tbody tr th:only-of-type {\n",
       "        vertical-align: middle;\n",
       "    }\n",
       "\n",
       "    .dataframe tbody tr th {\n",
       "        vertical-align: top;\n",
       "    }\n",
       "\n",
       "    .dataframe thead th {\n",
       "        text-align: right;\n",
       "    }\n",
       "</style>\n",
       "<table border=\"1\" class=\"dataframe\">\n",
       "  <thead>\n",
       "    <tr style=\"text-align: right;\">\n",
       "      <th></th>\n",
       "      <th>count</th>\n",
       "      <th>unique</th>\n",
       "      <th>top</th>\n",
       "      <th>freq</th>\n",
       "      <th>mean</th>\n",
       "      <th>std</th>\n",
       "      <th>min</th>\n",
       "      <th>25%</th>\n",
       "      <th>50%</th>\n",
       "      <th>75%</th>\n",
       "      <th>max</th>\n",
       "    </tr>\n",
       "  </thead>\n",
       "  <tbody>\n",
       "    <tr>\n",
       "      <th>id</th>\n",
       "      <td>137735</td>\n",
       "      <td>137735</td>\n",
       "      <td>1328_615</td>\n",
       "      <td>1</td>\n",
       "      <td>NaN</td>\n",
       "      <td>NaN</td>\n",
       "      <td>NaN</td>\n",
       "      <td>NaN</td>\n",
       "      <td>NaN</td>\n",
       "      <td>NaN</td>\n",
       "      <td>NaN</td>\n",
       "    </tr>\n",
       "    <tr>\n",
       "      <th>user_id</th>\n",
       "      <td>137735.0</td>\n",
       "      <td>NaN</td>\n",
       "      <td>NaN</td>\n",
       "      <td>NaN</td>\n",
       "      <td>1247.658046</td>\n",
       "      <td>139.416268</td>\n",
       "      <td>1000.0</td>\n",
       "      <td>1128.0</td>\n",
       "      <td>1247.0</td>\n",
       "      <td>1365.0</td>\n",
       "      <td>1499.0</td>\n",
       "    </tr>\n",
       "    <tr>\n",
       "      <th>call_date</th>\n",
       "      <td>137735</td>\n",
       "      <td>351</td>\n",
       "      <td>2018-12-27</td>\n",
       "      <td>1091</td>\n",
       "      <td>NaN</td>\n",
       "      <td>NaN</td>\n",
       "      <td>NaN</td>\n",
       "      <td>NaN</td>\n",
       "      <td>NaN</td>\n",
       "      <td>NaN</td>\n",
       "      <td>NaN</td>\n",
       "    </tr>\n",
       "    <tr>\n",
       "      <th>duration</th>\n",
       "      <td>137735.0</td>\n",
       "      <td>NaN</td>\n",
       "      <td>NaN</td>\n",
       "      <td>NaN</td>\n",
       "      <td>6.745927</td>\n",
       "      <td>5.839241</td>\n",
       "      <td>0.0</td>\n",
       "      <td>1.29</td>\n",
       "      <td>5.98</td>\n",
       "      <td>10.69</td>\n",
       "      <td>37.6</td>\n",
       "    </tr>\n",
       "  </tbody>\n",
       "</table>\n",
       "</div>"
      ],
      "text/plain": [
       "              count  unique         top  freq         mean         std  \\\n",
       "id           137735  137735    1328_615     1          NaN         NaN   \n",
       "user_id    137735.0     NaN         NaN   NaN  1247.658046  139.416268   \n",
       "call_date    137735     351  2018-12-27  1091          NaN         NaN   \n",
       "duration   137735.0     NaN         NaN   NaN     6.745927    5.839241   \n",
       "\n",
       "              min     25%     50%     75%     max  \n",
       "id            NaN     NaN     NaN     NaN     NaN  \n",
       "user_id    1000.0  1128.0  1247.0  1365.0  1499.0  \n",
       "call_date     NaN     NaN     NaN     NaN     NaN  \n",
       "duration      0.0    1.29    5.98   10.69    37.6  "
      ]
     },
     "execution_count": 4,
     "metadata": {},
     "output_type": "execute_result"
    }
   ],
   "source": [
    "df_calls.describe(include='all').transpose()"
   ]
  },
  {
   "cell_type": "markdown",
   "id": "d280aa4a",
   "metadata": {},
   "source": [
    "### Internet"
   ]
  },
  {
   "cell_type": "code",
   "execution_count": 5,
   "id": "5a37fa3f",
   "metadata": {},
   "outputs": [
    {
     "data": {
      "text/html": [
       "<div>\n",
       "<style scoped>\n",
       "    .dataframe tbody tr th:only-of-type {\n",
       "        vertical-align: middle;\n",
       "    }\n",
       "\n",
       "    .dataframe tbody tr th {\n",
       "        vertical-align: top;\n",
       "    }\n",
       "\n",
       "    .dataframe thead th {\n",
       "        text-align: right;\n",
       "    }\n",
       "</style>\n",
       "<table border=\"1\" class=\"dataframe\">\n",
       "  <thead>\n",
       "    <tr style=\"text-align: right;\">\n",
       "      <th></th>\n",
       "      <th>id</th>\n",
       "      <th>user_id</th>\n",
       "      <th>session_date</th>\n",
       "      <th>mb_used</th>\n",
       "    </tr>\n",
       "  </thead>\n",
       "  <tbody>\n",
       "    <tr>\n",
       "      <th>0</th>\n",
       "      <td>1000_13</td>\n",
       "      <td>1000</td>\n",
       "      <td>2018-12-29</td>\n",
       "      <td>89.86</td>\n",
       "    </tr>\n",
       "    <tr>\n",
       "      <th>1</th>\n",
       "      <td>1000_204</td>\n",
       "      <td>1000</td>\n",
       "      <td>2018-12-31</td>\n",
       "      <td>0.00</td>\n",
       "    </tr>\n",
       "    <tr>\n",
       "      <th>2</th>\n",
       "      <td>1000_379</td>\n",
       "      <td>1000</td>\n",
       "      <td>2018-12-28</td>\n",
       "      <td>660.40</td>\n",
       "    </tr>\n",
       "    <tr>\n",
       "      <th>3</th>\n",
       "      <td>1000_413</td>\n",
       "      <td>1000</td>\n",
       "      <td>2018-12-26</td>\n",
       "      <td>270.99</td>\n",
       "    </tr>\n",
       "    <tr>\n",
       "      <th>4</th>\n",
       "      <td>1000_442</td>\n",
       "      <td>1000</td>\n",
       "      <td>2018-12-27</td>\n",
       "      <td>880.22</td>\n",
       "    </tr>\n",
       "  </tbody>\n",
       "</table>\n",
       "</div>"
      ],
      "text/plain": [
       "         id  user_id session_date  mb_used\n",
       "0   1000_13     1000   2018-12-29    89.86\n",
       "1  1000_204     1000   2018-12-31     0.00\n",
       "2  1000_379     1000   2018-12-28   660.40\n",
       "3  1000_413     1000   2018-12-26   270.99\n",
       "4  1000_442     1000   2018-12-27   880.22"
      ]
     },
     "execution_count": 5,
     "metadata": {},
     "output_type": "execute_result"
    }
   ],
   "source": [
    "df_internet.head()"
   ]
  },
  {
   "cell_type": "code",
   "execution_count": 6,
   "id": "3917dc60",
   "metadata": {
    "scrolled": true
   },
   "outputs": [
    {
     "data": {
      "text/html": [
       "<div>\n",
       "<style scoped>\n",
       "    .dataframe tbody tr th:only-of-type {\n",
       "        vertical-align: middle;\n",
       "    }\n",
       "\n",
       "    .dataframe tbody tr th {\n",
       "        vertical-align: top;\n",
       "    }\n",
       "\n",
       "    .dataframe thead th {\n",
       "        text-align: right;\n",
       "    }\n",
       "</style>\n",
       "<table border=\"1\" class=\"dataframe\">\n",
       "  <thead>\n",
       "    <tr style=\"text-align: right;\">\n",
       "      <th></th>\n",
       "      <th>count</th>\n",
       "      <th>unique</th>\n",
       "      <th>top</th>\n",
       "      <th>freq</th>\n",
       "      <th>mean</th>\n",
       "      <th>std</th>\n",
       "      <th>min</th>\n",
       "      <th>25%</th>\n",
       "      <th>50%</th>\n",
       "      <th>75%</th>\n",
       "      <th>max</th>\n",
       "    </tr>\n",
       "  </thead>\n",
       "  <tbody>\n",
       "    <tr>\n",
       "      <th>id</th>\n",
       "      <td>104825</td>\n",
       "      <td>104825</td>\n",
       "      <td>1043_357</td>\n",
       "      <td>1</td>\n",
       "      <td>NaN</td>\n",
       "      <td>NaN</td>\n",
       "      <td>NaN</td>\n",
       "      <td>NaN</td>\n",
       "      <td>NaN</td>\n",
       "      <td>NaN</td>\n",
       "      <td>NaN</td>\n",
       "    </tr>\n",
       "    <tr>\n",
       "      <th>user_id</th>\n",
       "      <td>104825.0</td>\n",
       "      <td>NaN</td>\n",
       "      <td>NaN</td>\n",
       "      <td>NaN</td>\n",
       "      <td>1242.496361</td>\n",
       "      <td>142.053913</td>\n",
       "      <td>1000.0</td>\n",
       "      <td>1122.0</td>\n",
       "      <td>1236.0</td>\n",
       "      <td>1367.0</td>\n",
       "      <td>1499.0</td>\n",
       "    </tr>\n",
       "    <tr>\n",
       "      <th>session_date</th>\n",
       "      <td>104825</td>\n",
       "      <td>351</td>\n",
       "      <td>2018-12-24</td>\n",
       "      <td>851</td>\n",
       "      <td>NaN</td>\n",
       "      <td>NaN</td>\n",
       "      <td>NaN</td>\n",
       "      <td>NaN</td>\n",
       "      <td>NaN</td>\n",
       "      <td>NaN</td>\n",
       "      <td>NaN</td>\n",
       "    </tr>\n",
       "    <tr>\n",
       "      <th>mb_used</th>\n",
       "      <td>104825.0</td>\n",
       "      <td>NaN</td>\n",
       "      <td>NaN</td>\n",
       "      <td>NaN</td>\n",
       "      <td>366.713701</td>\n",
       "      <td>277.170542</td>\n",
       "      <td>0.0</td>\n",
       "      <td>136.08</td>\n",
       "      <td>343.98</td>\n",
       "      <td>554.61</td>\n",
       "      <td>1693.47</td>\n",
       "    </tr>\n",
       "  </tbody>\n",
       "</table>\n",
       "</div>"
      ],
      "text/plain": [
       "                 count  unique         top freq         mean         std  \\\n",
       "id              104825  104825    1043_357    1          NaN         NaN   \n",
       "user_id       104825.0     NaN         NaN  NaN  1242.496361  142.053913   \n",
       "session_date    104825     351  2018-12-24  851          NaN         NaN   \n",
       "mb_used       104825.0     NaN         NaN  NaN   366.713701  277.170542   \n",
       "\n",
       "                 min     25%     50%     75%      max  \n",
       "id               NaN     NaN     NaN     NaN      NaN  \n",
       "user_id       1000.0  1122.0  1236.0  1367.0   1499.0  \n",
       "session_date     NaN     NaN     NaN     NaN      NaN  \n",
       "mb_used          0.0  136.08  343.98  554.61  1693.47  "
      ]
     },
     "execution_count": 6,
     "metadata": {},
     "output_type": "execute_result"
    }
   ],
   "source": [
    "df_internet.describe(include='all').transpose()"
   ]
  },
  {
   "cell_type": "markdown",
   "id": "1e0c5973",
   "metadata": {},
   "source": [
    "### Messages"
   ]
  },
  {
   "cell_type": "code",
   "execution_count": 7,
   "id": "3d0e45c4",
   "metadata": {},
   "outputs": [
    {
     "data": {
      "text/html": [
       "<div>\n",
       "<style scoped>\n",
       "    .dataframe tbody tr th:only-of-type {\n",
       "        vertical-align: middle;\n",
       "    }\n",
       "\n",
       "    .dataframe tbody tr th {\n",
       "        vertical-align: top;\n",
       "    }\n",
       "\n",
       "    .dataframe thead th {\n",
       "        text-align: right;\n",
       "    }\n",
       "</style>\n",
       "<table border=\"1\" class=\"dataframe\">\n",
       "  <thead>\n",
       "    <tr style=\"text-align: right;\">\n",
       "      <th></th>\n",
       "      <th>id</th>\n",
       "      <th>user_id</th>\n",
       "      <th>message_date</th>\n",
       "    </tr>\n",
       "  </thead>\n",
       "  <tbody>\n",
       "    <tr>\n",
       "      <th>0</th>\n",
       "      <td>1000_125</td>\n",
       "      <td>1000</td>\n",
       "      <td>2018-12-27</td>\n",
       "    </tr>\n",
       "    <tr>\n",
       "      <th>1</th>\n",
       "      <td>1000_160</td>\n",
       "      <td>1000</td>\n",
       "      <td>2018-12-31</td>\n",
       "    </tr>\n",
       "    <tr>\n",
       "      <th>2</th>\n",
       "      <td>1000_223</td>\n",
       "      <td>1000</td>\n",
       "      <td>2018-12-31</td>\n",
       "    </tr>\n",
       "    <tr>\n",
       "      <th>3</th>\n",
       "      <td>1000_251</td>\n",
       "      <td>1000</td>\n",
       "      <td>2018-12-27</td>\n",
       "    </tr>\n",
       "    <tr>\n",
       "      <th>4</th>\n",
       "      <td>1000_255</td>\n",
       "      <td>1000</td>\n",
       "      <td>2018-12-26</td>\n",
       "    </tr>\n",
       "  </tbody>\n",
       "</table>\n",
       "</div>"
      ],
      "text/plain": [
       "         id  user_id message_date\n",
       "0  1000_125     1000   2018-12-27\n",
       "1  1000_160     1000   2018-12-31\n",
       "2  1000_223     1000   2018-12-31\n",
       "3  1000_251     1000   2018-12-27\n",
       "4  1000_255     1000   2018-12-26"
      ]
     },
     "execution_count": 7,
     "metadata": {},
     "output_type": "execute_result"
    }
   ],
   "source": [
    "df_messages.head()"
   ]
  },
  {
   "cell_type": "code",
   "execution_count": 8,
   "id": "15348bab",
   "metadata": {},
   "outputs": [
    {
     "data": {
      "text/html": [
       "<div>\n",
       "<style scoped>\n",
       "    .dataframe tbody tr th:only-of-type {\n",
       "        vertical-align: middle;\n",
       "    }\n",
       "\n",
       "    .dataframe tbody tr th {\n",
       "        vertical-align: top;\n",
       "    }\n",
       "\n",
       "    .dataframe thead th {\n",
       "        text-align: right;\n",
       "    }\n",
       "</style>\n",
       "<table border=\"1\" class=\"dataframe\">\n",
       "  <thead>\n",
       "    <tr style=\"text-align: right;\">\n",
       "      <th></th>\n",
       "      <th>count</th>\n",
       "      <th>unique</th>\n",
       "      <th>top</th>\n",
       "      <th>freq</th>\n",
       "      <th>mean</th>\n",
       "      <th>std</th>\n",
       "      <th>min</th>\n",
       "      <th>25%</th>\n",
       "      <th>50%</th>\n",
       "      <th>75%</th>\n",
       "      <th>max</th>\n",
       "    </tr>\n",
       "  </thead>\n",
       "  <tbody>\n",
       "    <tr>\n",
       "      <th>id</th>\n",
       "      <td>76051</td>\n",
       "      <td>76051</td>\n",
       "      <td>1328_615</td>\n",
       "      <td>1</td>\n",
       "      <td>NaN</td>\n",
       "      <td>NaN</td>\n",
       "      <td>NaN</td>\n",
       "      <td>NaN</td>\n",
       "      <td>NaN</td>\n",
       "      <td>NaN</td>\n",
       "      <td>NaN</td>\n",
       "    </tr>\n",
       "    <tr>\n",
       "      <th>user_id</th>\n",
       "      <td>76051.0</td>\n",
       "      <td>NaN</td>\n",
       "      <td>NaN</td>\n",
       "      <td>NaN</td>\n",
       "      <td>1245.972768</td>\n",
       "      <td>139.843635</td>\n",
       "      <td>1000.0</td>\n",
       "      <td>1123.0</td>\n",
       "      <td>1251.0</td>\n",
       "      <td>1362.0</td>\n",
       "      <td>1497.0</td>\n",
       "    </tr>\n",
       "    <tr>\n",
       "      <th>message_date</th>\n",
       "      <td>76051</td>\n",
       "      <td>351</td>\n",
       "      <td>2018-12-28</td>\n",
       "      <td>702</td>\n",
       "      <td>NaN</td>\n",
       "      <td>NaN</td>\n",
       "      <td>NaN</td>\n",
       "      <td>NaN</td>\n",
       "      <td>NaN</td>\n",
       "      <td>NaN</td>\n",
       "      <td>NaN</td>\n",
       "    </tr>\n",
       "  </tbody>\n",
       "</table>\n",
       "</div>"
      ],
      "text/plain": [
       "                count unique         top freq         mean         std  \\\n",
       "id              76051  76051    1328_615    1          NaN         NaN   \n",
       "user_id       76051.0    NaN         NaN  NaN  1245.972768  139.843635   \n",
       "message_date    76051    351  2018-12-28  702          NaN         NaN   \n",
       "\n",
       "                 min     25%     50%     75%     max  \n",
       "id               NaN     NaN     NaN     NaN     NaN  \n",
       "user_id       1000.0  1123.0  1251.0  1362.0  1497.0  \n",
       "message_date     NaN     NaN     NaN     NaN     NaN  "
      ]
     },
     "execution_count": 8,
     "metadata": {},
     "output_type": "execute_result"
    }
   ],
   "source": [
    "df_messages.describe(include='all').transpose()"
   ]
  },
  {
   "cell_type": "markdown",
   "id": "2cf76f74",
   "metadata": {},
   "source": [
    "### Plans"
   ]
  },
  {
   "cell_type": "code",
   "execution_count": 9,
   "id": "2c775f55",
   "metadata": {},
   "outputs": [
    {
     "data": {
      "text/html": [
       "<div>\n",
       "<style scoped>\n",
       "    .dataframe tbody tr th:only-of-type {\n",
       "        vertical-align: middle;\n",
       "    }\n",
       "\n",
       "    .dataframe tbody tr th {\n",
       "        vertical-align: top;\n",
       "    }\n",
       "\n",
       "    .dataframe thead th {\n",
       "        text-align: right;\n",
       "    }\n",
       "</style>\n",
       "<table border=\"1\" class=\"dataframe\">\n",
       "  <thead>\n",
       "    <tr style=\"text-align: right;\">\n",
       "      <th></th>\n",
       "      <th>messages_included</th>\n",
       "      <th>mb_per_month_included</th>\n",
       "      <th>minutes_included</th>\n",
       "      <th>usd_monthly_pay</th>\n",
       "      <th>usd_per_gb</th>\n",
       "      <th>usd_per_message</th>\n",
       "      <th>usd_per_minute</th>\n",
       "      <th>plan_name</th>\n",
       "    </tr>\n",
       "  </thead>\n",
       "  <tbody>\n",
       "    <tr>\n",
       "      <th>0</th>\n",
       "      <td>50</td>\n",
       "      <td>15360</td>\n",
       "      <td>500</td>\n",
       "      <td>20</td>\n",
       "      <td>10</td>\n",
       "      <td>0.03</td>\n",
       "      <td>0.03</td>\n",
       "      <td>surf</td>\n",
       "    </tr>\n",
       "    <tr>\n",
       "      <th>1</th>\n",
       "      <td>1000</td>\n",
       "      <td>30720</td>\n",
       "      <td>3000</td>\n",
       "      <td>70</td>\n",
       "      <td>7</td>\n",
       "      <td>0.01</td>\n",
       "      <td>0.01</td>\n",
       "      <td>ultimate</td>\n",
       "    </tr>\n",
       "  </tbody>\n",
       "</table>\n",
       "</div>"
      ],
      "text/plain": [
       "   messages_included  mb_per_month_included  minutes_included  \\\n",
       "0                 50                  15360               500   \n",
       "1               1000                  30720              3000   \n",
       "\n",
       "   usd_monthly_pay  usd_per_gb  usd_per_message  usd_per_minute plan_name  \n",
       "0               20          10             0.03            0.03      surf  \n",
       "1               70           7             0.01            0.01  ultimate  "
      ]
     },
     "execution_count": 9,
     "metadata": {},
     "output_type": "execute_result"
    }
   ],
   "source": [
    "df_plans.head()"
   ]
  },
  {
   "cell_type": "code",
   "execution_count": 10,
   "id": "1fd351f8",
   "metadata": {},
   "outputs": [
    {
     "data": {
      "text/html": [
       "<div>\n",
       "<style scoped>\n",
       "    .dataframe tbody tr th:only-of-type {\n",
       "        vertical-align: middle;\n",
       "    }\n",
       "\n",
       "    .dataframe tbody tr th {\n",
       "        vertical-align: top;\n",
       "    }\n",
       "\n",
       "    .dataframe thead th {\n",
       "        text-align: right;\n",
       "    }\n",
       "</style>\n",
       "<table border=\"1\" class=\"dataframe\">\n",
       "  <thead>\n",
       "    <tr style=\"text-align: right;\">\n",
       "      <th></th>\n",
       "      <th>count</th>\n",
       "      <th>unique</th>\n",
       "      <th>top</th>\n",
       "      <th>freq</th>\n",
       "      <th>mean</th>\n",
       "      <th>std</th>\n",
       "      <th>min</th>\n",
       "      <th>25%</th>\n",
       "      <th>50%</th>\n",
       "      <th>75%</th>\n",
       "      <th>max</th>\n",
       "    </tr>\n",
       "  </thead>\n",
       "  <tbody>\n",
       "    <tr>\n",
       "      <th>messages_included</th>\n",
       "      <td>2.0</td>\n",
       "      <td>NaN</td>\n",
       "      <td>NaN</td>\n",
       "      <td>NaN</td>\n",
       "      <td>525.0</td>\n",
       "      <td>671.751442</td>\n",
       "      <td>50.0</td>\n",
       "      <td>287.5</td>\n",
       "      <td>525.0</td>\n",
       "      <td>762.5</td>\n",
       "      <td>1000.0</td>\n",
       "    </tr>\n",
       "    <tr>\n",
       "      <th>mb_per_month_included</th>\n",
       "      <td>2.0</td>\n",
       "      <td>NaN</td>\n",
       "      <td>NaN</td>\n",
       "      <td>NaN</td>\n",
       "      <td>23040.0</td>\n",
       "      <td>10861.160159</td>\n",
       "      <td>15360.0</td>\n",
       "      <td>19200.0</td>\n",
       "      <td>23040.0</td>\n",
       "      <td>26880.0</td>\n",
       "      <td>30720.0</td>\n",
       "    </tr>\n",
       "    <tr>\n",
       "      <th>minutes_included</th>\n",
       "      <td>2.0</td>\n",
       "      <td>NaN</td>\n",
       "      <td>NaN</td>\n",
       "      <td>NaN</td>\n",
       "      <td>1750.0</td>\n",
       "      <td>1767.766953</td>\n",
       "      <td>500.0</td>\n",
       "      <td>1125.0</td>\n",
       "      <td>1750.0</td>\n",
       "      <td>2375.0</td>\n",
       "      <td>3000.0</td>\n",
       "    </tr>\n",
       "    <tr>\n",
       "      <th>usd_monthly_pay</th>\n",
       "      <td>2.0</td>\n",
       "      <td>NaN</td>\n",
       "      <td>NaN</td>\n",
       "      <td>NaN</td>\n",
       "      <td>45.0</td>\n",
       "      <td>35.355339</td>\n",
       "      <td>20.0</td>\n",
       "      <td>32.5</td>\n",
       "      <td>45.0</td>\n",
       "      <td>57.5</td>\n",
       "      <td>70.0</td>\n",
       "    </tr>\n",
       "    <tr>\n",
       "      <th>usd_per_gb</th>\n",
       "      <td>2.0</td>\n",
       "      <td>NaN</td>\n",
       "      <td>NaN</td>\n",
       "      <td>NaN</td>\n",
       "      <td>8.5</td>\n",
       "      <td>2.12132</td>\n",
       "      <td>7.0</td>\n",
       "      <td>7.75</td>\n",
       "      <td>8.5</td>\n",
       "      <td>9.25</td>\n",
       "      <td>10.0</td>\n",
       "    </tr>\n",
       "    <tr>\n",
       "      <th>usd_per_message</th>\n",
       "      <td>2.0</td>\n",
       "      <td>NaN</td>\n",
       "      <td>NaN</td>\n",
       "      <td>NaN</td>\n",
       "      <td>0.02</td>\n",
       "      <td>0.014142</td>\n",
       "      <td>0.01</td>\n",
       "      <td>0.015</td>\n",
       "      <td>0.02</td>\n",
       "      <td>0.025</td>\n",
       "      <td>0.03</td>\n",
       "    </tr>\n",
       "    <tr>\n",
       "      <th>usd_per_minute</th>\n",
       "      <td>2.0</td>\n",
       "      <td>NaN</td>\n",
       "      <td>NaN</td>\n",
       "      <td>NaN</td>\n",
       "      <td>0.02</td>\n",
       "      <td>0.014142</td>\n",
       "      <td>0.01</td>\n",
       "      <td>0.015</td>\n",
       "      <td>0.02</td>\n",
       "      <td>0.025</td>\n",
       "      <td>0.03</td>\n",
       "    </tr>\n",
       "    <tr>\n",
       "      <th>plan_name</th>\n",
       "      <td>2</td>\n",
       "      <td>2</td>\n",
       "      <td>ultimate</td>\n",
       "      <td>1</td>\n",
       "      <td>NaN</td>\n",
       "      <td>NaN</td>\n",
       "      <td>NaN</td>\n",
       "      <td>NaN</td>\n",
       "      <td>NaN</td>\n",
       "      <td>NaN</td>\n",
       "      <td>NaN</td>\n",
       "    </tr>\n",
       "  </tbody>\n",
       "</table>\n",
       "</div>"
      ],
      "text/plain": [
       "                      count unique       top freq     mean           std  \\\n",
       "messages_included       2.0    NaN       NaN  NaN    525.0    671.751442   \n",
       "mb_per_month_included   2.0    NaN       NaN  NaN  23040.0  10861.160159   \n",
       "minutes_included        2.0    NaN       NaN  NaN   1750.0   1767.766953   \n",
       "usd_monthly_pay         2.0    NaN       NaN  NaN     45.0     35.355339   \n",
       "usd_per_gb              2.0    NaN       NaN  NaN      8.5       2.12132   \n",
       "usd_per_message         2.0    NaN       NaN  NaN     0.02      0.014142   \n",
       "usd_per_minute          2.0    NaN       NaN  NaN     0.02      0.014142   \n",
       "plan_name                 2      2  ultimate    1      NaN           NaN   \n",
       "\n",
       "                           min      25%      50%      75%      max  \n",
       "messages_included         50.0    287.5    525.0    762.5   1000.0  \n",
       "mb_per_month_included  15360.0  19200.0  23040.0  26880.0  30720.0  \n",
       "minutes_included         500.0   1125.0   1750.0   2375.0   3000.0  \n",
       "usd_monthly_pay           20.0     32.5     45.0     57.5     70.0  \n",
       "usd_per_gb                 7.0     7.75      8.5     9.25     10.0  \n",
       "usd_per_message           0.01    0.015     0.02    0.025     0.03  \n",
       "usd_per_minute            0.01    0.015     0.02    0.025     0.03  \n",
       "plan_name                  NaN      NaN      NaN      NaN      NaN  "
      ]
     },
     "execution_count": 10,
     "metadata": {},
     "output_type": "execute_result"
    }
   ],
   "source": [
    "df_plans.describe(include='all').transpose()"
   ]
  },
  {
   "cell_type": "markdown",
   "id": "b4204e19",
   "metadata": {},
   "source": [
    "### Users"
   ]
  },
  {
   "cell_type": "code",
   "execution_count": 11,
   "id": "5f99735f",
   "metadata": {},
   "outputs": [
    {
     "data": {
      "text/html": [
       "<div>\n",
       "<style scoped>\n",
       "    .dataframe tbody tr th:only-of-type {\n",
       "        vertical-align: middle;\n",
       "    }\n",
       "\n",
       "    .dataframe tbody tr th {\n",
       "        vertical-align: top;\n",
       "    }\n",
       "\n",
       "    .dataframe thead th {\n",
       "        text-align: right;\n",
       "    }\n",
       "</style>\n",
       "<table border=\"1\" class=\"dataframe\">\n",
       "  <thead>\n",
       "    <tr style=\"text-align: right;\">\n",
       "      <th></th>\n",
       "      <th>user_id</th>\n",
       "      <th>first_name</th>\n",
       "      <th>last_name</th>\n",
       "      <th>age</th>\n",
       "      <th>city</th>\n",
       "      <th>reg_date</th>\n",
       "      <th>plan</th>\n",
       "      <th>churn_date</th>\n",
       "    </tr>\n",
       "  </thead>\n",
       "  <tbody>\n",
       "    <tr>\n",
       "      <th>0</th>\n",
       "      <td>1000</td>\n",
       "      <td>Anamaria</td>\n",
       "      <td>Bauer</td>\n",
       "      <td>45</td>\n",
       "      <td>Atlanta-Sandy Springs-Roswell, GA MSA</td>\n",
       "      <td>2018-12-24</td>\n",
       "      <td>ultimate</td>\n",
       "      <td>NaN</td>\n",
       "    </tr>\n",
       "    <tr>\n",
       "      <th>1</th>\n",
       "      <td>1001</td>\n",
       "      <td>Mickey</td>\n",
       "      <td>Wilkerson</td>\n",
       "      <td>28</td>\n",
       "      <td>Seattle-Tacoma-Bellevue, WA MSA</td>\n",
       "      <td>2018-08-13</td>\n",
       "      <td>surf</td>\n",
       "      <td>NaN</td>\n",
       "    </tr>\n",
       "    <tr>\n",
       "      <th>2</th>\n",
       "      <td>1002</td>\n",
       "      <td>Carlee</td>\n",
       "      <td>Hoffman</td>\n",
       "      <td>36</td>\n",
       "      <td>Las Vegas-Henderson-Paradise, NV MSA</td>\n",
       "      <td>2018-10-21</td>\n",
       "      <td>surf</td>\n",
       "      <td>NaN</td>\n",
       "    </tr>\n",
       "    <tr>\n",
       "      <th>3</th>\n",
       "      <td>1003</td>\n",
       "      <td>Reynaldo</td>\n",
       "      <td>Jenkins</td>\n",
       "      <td>52</td>\n",
       "      <td>Tulsa, OK MSA</td>\n",
       "      <td>2018-01-28</td>\n",
       "      <td>surf</td>\n",
       "      <td>NaN</td>\n",
       "    </tr>\n",
       "    <tr>\n",
       "      <th>4</th>\n",
       "      <td>1004</td>\n",
       "      <td>Leonila</td>\n",
       "      <td>Thompson</td>\n",
       "      <td>40</td>\n",
       "      <td>Seattle-Tacoma-Bellevue, WA MSA</td>\n",
       "      <td>2018-05-23</td>\n",
       "      <td>surf</td>\n",
       "      <td>NaN</td>\n",
       "    </tr>\n",
       "  </tbody>\n",
       "</table>\n",
       "</div>"
      ],
      "text/plain": [
       "   user_id first_name  last_name  age                                   city  \\\n",
       "0     1000   Anamaria      Bauer   45  Atlanta-Sandy Springs-Roswell, GA MSA   \n",
       "1     1001     Mickey  Wilkerson   28        Seattle-Tacoma-Bellevue, WA MSA   \n",
       "2     1002     Carlee    Hoffman   36   Las Vegas-Henderson-Paradise, NV MSA   \n",
       "3     1003   Reynaldo    Jenkins   52                          Tulsa, OK MSA   \n",
       "4     1004    Leonila   Thompson   40        Seattle-Tacoma-Bellevue, WA MSA   \n",
       "\n",
       "     reg_date      plan churn_date  \n",
       "0  2018-12-24  ultimate        NaN  \n",
       "1  2018-08-13      surf        NaN  \n",
       "2  2018-10-21      surf        NaN  \n",
       "3  2018-01-28      surf        NaN  \n",
       "4  2018-05-23      surf        NaN  "
      ]
     },
     "execution_count": 11,
     "metadata": {},
     "output_type": "execute_result"
    }
   ],
   "source": [
    "df_users.head()"
   ]
  },
  {
   "cell_type": "code",
   "execution_count": 12,
   "id": "47b08268",
   "metadata": {},
   "outputs": [
    {
     "data": {
      "text/html": [
       "<div>\n",
       "<style scoped>\n",
       "    .dataframe tbody tr th:only-of-type {\n",
       "        vertical-align: middle;\n",
       "    }\n",
       "\n",
       "    .dataframe tbody tr th {\n",
       "        vertical-align: top;\n",
       "    }\n",
       "\n",
       "    .dataframe thead th {\n",
       "        text-align: right;\n",
       "    }\n",
       "</style>\n",
       "<table border=\"1\" class=\"dataframe\">\n",
       "  <thead>\n",
       "    <tr style=\"text-align: right;\">\n",
       "      <th></th>\n",
       "      <th>user_id</th>\n",
       "      <th>first_name</th>\n",
       "      <th>last_name</th>\n",
       "      <th>age</th>\n",
       "      <th>city</th>\n",
       "      <th>reg_date</th>\n",
       "      <th>plan</th>\n",
       "      <th>churn_date</th>\n",
       "    </tr>\n",
       "  </thead>\n",
       "  <tbody>\n",
       "    <tr>\n",
       "      <th>count</th>\n",
       "      <td>500.000000</td>\n",
       "      <td>500</td>\n",
       "      <td>500</td>\n",
       "      <td>500.000000</td>\n",
       "      <td>500</td>\n",
       "      <td>500</td>\n",
       "      <td>500</td>\n",
       "      <td>34</td>\n",
       "    </tr>\n",
       "    <tr>\n",
       "      <th>unique</th>\n",
       "      <td>NaN</td>\n",
       "      <td>458</td>\n",
       "      <td>399</td>\n",
       "      <td>NaN</td>\n",
       "      <td>73</td>\n",
       "      <td>266</td>\n",
       "      <td>2</td>\n",
       "      <td>29</td>\n",
       "    </tr>\n",
       "    <tr>\n",
       "      <th>top</th>\n",
       "      <td>NaN</td>\n",
       "      <td>Jasper</td>\n",
       "      <td>David</td>\n",
       "      <td>NaN</td>\n",
       "      <td>New York-Newark-Jersey City, NY-NJ-PA MSA</td>\n",
       "      <td>2018-11-29</td>\n",
       "      <td>surf</td>\n",
       "      <td>2018-12-18</td>\n",
       "    </tr>\n",
       "    <tr>\n",
       "      <th>freq</th>\n",
       "      <td>NaN</td>\n",
       "      <td>3</td>\n",
       "      <td>3</td>\n",
       "      <td>NaN</td>\n",
       "      <td>80</td>\n",
       "      <td>5</td>\n",
       "      <td>339</td>\n",
       "      <td>3</td>\n",
       "    </tr>\n",
       "    <tr>\n",
       "      <th>mean</th>\n",
       "      <td>1249.500000</td>\n",
       "      <td>NaN</td>\n",
       "      <td>NaN</td>\n",
       "      <td>45.486000</td>\n",
       "      <td>NaN</td>\n",
       "      <td>NaN</td>\n",
       "      <td>NaN</td>\n",
       "      <td>NaN</td>\n",
       "    </tr>\n",
       "    <tr>\n",
       "      <th>std</th>\n",
       "      <td>144.481833</td>\n",
       "      <td>NaN</td>\n",
       "      <td>NaN</td>\n",
       "      <td>16.972269</td>\n",
       "      <td>NaN</td>\n",
       "      <td>NaN</td>\n",
       "      <td>NaN</td>\n",
       "      <td>NaN</td>\n",
       "    </tr>\n",
       "    <tr>\n",
       "      <th>min</th>\n",
       "      <td>1000.000000</td>\n",
       "      <td>NaN</td>\n",
       "      <td>NaN</td>\n",
       "      <td>18.000000</td>\n",
       "      <td>NaN</td>\n",
       "      <td>NaN</td>\n",
       "      <td>NaN</td>\n",
       "      <td>NaN</td>\n",
       "    </tr>\n",
       "    <tr>\n",
       "      <th>25%</th>\n",
       "      <td>1124.750000</td>\n",
       "      <td>NaN</td>\n",
       "      <td>NaN</td>\n",
       "      <td>30.000000</td>\n",
       "      <td>NaN</td>\n",
       "      <td>NaN</td>\n",
       "      <td>NaN</td>\n",
       "      <td>NaN</td>\n",
       "    </tr>\n",
       "    <tr>\n",
       "      <th>50%</th>\n",
       "      <td>1249.500000</td>\n",
       "      <td>NaN</td>\n",
       "      <td>NaN</td>\n",
       "      <td>46.000000</td>\n",
       "      <td>NaN</td>\n",
       "      <td>NaN</td>\n",
       "      <td>NaN</td>\n",
       "      <td>NaN</td>\n",
       "    </tr>\n",
       "    <tr>\n",
       "      <th>75%</th>\n",
       "      <td>1374.250000</td>\n",
       "      <td>NaN</td>\n",
       "      <td>NaN</td>\n",
       "      <td>61.000000</td>\n",
       "      <td>NaN</td>\n",
       "      <td>NaN</td>\n",
       "      <td>NaN</td>\n",
       "      <td>NaN</td>\n",
       "    </tr>\n",
       "    <tr>\n",
       "      <th>max</th>\n",
       "      <td>1499.000000</td>\n",
       "      <td>NaN</td>\n",
       "      <td>NaN</td>\n",
       "      <td>75.000000</td>\n",
       "      <td>NaN</td>\n",
       "      <td>NaN</td>\n",
       "      <td>NaN</td>\n",
       "      <td>NaN</td>\n",
       "    </tr>\n",
       "  </tbody>\n",
       "</table>\n",
       "</div>"
      ],
      "text/plain": [
       "            user_id first_name last_name         age  \\\n",
       "count    500.000000        500       500  500.000000   \n",
       "unique          NaN        458       399         NaN   \n",
       "top             NaN     Jasper     David         NaN   \n",
       "freq            NaN          3         3         NaN   \n",
       "mean    1249.500000        NaN       NaN   45.486000   \n",
       "std      144.481833        NaN       NaN   16.972269   \n",
       "min     1000.000000        NaN       NaN   18.000000   \n",
       "25%     1124.750000        NaN       NaN   30.000000   \n",
       "50%     1249.500000        NaN       NaN   46.000000   \n",
       "75%     1374.250000        NaN       NaN   61.000000   \n",
       "max     1499.000000        NaN       NaN   75.000000   \n",
       "\n",
       "                                             city    reg_date  plan  \\\n",
       "count                                         500         500   500   \n",
       "unique                                         73         266     2   \n",
       "top     New York-Newark-Jersey City, NY-NJ-PA MSA  2018-11-29  surf   \n",
       "freq                                           80           5   339   \n",
       "mean                                          NaN         NaN   NaN   \n",
       "std                                           NaN         NaN   NaN   \n",
       "min                                           NaN         NaN   NaN   \n",
       "25%                                           NaN         NaN   NaN   \n",
       "50%                                           NaN         NaN   NaN   \n",
       "75%                                           NaN         NaN   NaN   \n",
       "max                                           NaN         NaN   NaN   \n",
       "\n",
       "        churn_date  \n",
       "count           34  \n",
       "unique          29  \n",
       "top     2018-12-18  \n",
       "freq             3  \n",
       "mean           NaN  \n",
       "std            NaN  \n",
       "min            NaN  \n",
       "25%            NaN  \n",
       "50%            NaN  \n",
       "75%            NaN  \n",
       "max            NaN  "
      ]
     },
     "execution_count": 12,
     "metadata": {},
     "output_type": "execute_result"
    }
   ],
   "source": [
    "df_users.describe(include='all')"
   ]
  },
  {
   "cell_type": "markdown",
   "id": "11e6a32e",
   "metadata": {},
   "source": [
    "<div class=\"alert alert-success\">\n",
    "<b>Reviewer's comment v1:</b>\n",
    "    \n",
    "Good start and first view on data! "
   ]
  },
  {
   "cell_type": "markdown",
   "id": "27fa23e8",
   "metadata": {},
   "source": [
    "## Step 2. Prepare the data\n",
    "## Inspecting Data Types"
   ]
  },
  {
   "cell_type": "markdown",
   "id": "ef622427",
   "metadata": {},
   "source": [
    "## Let's Inspect *df_calls* Data Types"
   ]
  },
  {
   "cell_type": "code",
   "execution_count": 13,
   "id": "a6d12e73",
   "metadata": {
    "scrolled": true
   },
   "outputs": [
    {
     "name": "stdout",
     "output_type": "stream",
     "text": [
      "<class 'pandas.core.frame.DataFrame'>\n",
      "RangeIndex: 137735 entries, 0 to 137734\n",
      "Data columns (total 4 columns):\n",
      " #   Column     Non-Null Count   Dtype  \n",
      "---  ------     --------------   -----  \n",
      " 0   id         137735 non-null  object \n",
      " 1   user_id    137735 non-null  int64  \n",
      " 2   call_date  137735 non-null  object \n",
      " 3   duration   137735 non-null  float64\n",
      "dtypes: float64(1), int64(1), object(2)\n",
      "memory usage: 4.2+ MB\n"
     ]
    }
   ],
   "source": [
    "df_calls.info() "
   ]
  },
  {
   "cell_type": "markdown",
   "id": "15b191ea",
   "metadata": {},
   "source": [
    "### Let's Convert *'call_date'* from *object* to *datetime64[ns]* and Extract *'call_month'* to its own column"
   ]
  },
  {
   "cell_type": "code",
   "execution_count": 14,
   "id": "a9e16cc6",
   "metadata": {},
   "outputs": [
    {
     "name": "stdout",
     "output_type": "stream",
     "text": [
      "<class 'pandas.core.frame.DataFrame'>\n",
      "RangeIndex: 137735 entries, 0 to 137734\n",
      "Data columns (total 5 columns):\n",
      " #   Column     Non-Null Count   Dtype         \n",
      "---  ------     --------------   -----         \n",
      " 0   id         137735 non-null  object        \n",
      " 1   user_id    137735 non-null  int64         \n",
      " 2   call_date  137735 non-null  datetime64[ns]\n",
      " 3   duration   137735 non-null  float64       \n",
      " 4   month      137735 non-null  int64         \n",
      "dtypes: datetime64[ns](1), float64(1), int64(2), object(1)\n",
      "memory usage: 5.3+ MB\n"
     ]
    }
   ],
   "source": [
    "df_calls['call_date'] = pd.to_datetime(df_calls['call_date']) # Note to correct to datetime[M]\n",
    "df_calls['month'] = df_calls['call_date'].dt.month\n",
    "df_calls.info()"
   ]
  },
  {
   "cell_type": "markdown",
   "id": "9386d5ea",
   "metadata": {},
   "source": [
    "<div class=\"alert alert-warning\">\n",
    "<b>Reviewer's comment v1:</b>\n",
    "    \n",
    "Everything is correct here but usually, it is always helpful to double-check whether we indeed have data within one year/time period. If not then selecting and aggregating data by the month number will cause an issue. So here it is safer to use datetime64[M] which provides a complete date. "
   ]
  },
  {
   "cell_type": "markdown",
   "id": "e0cbed70",
   "metadata": {},
   "source": [
    "\n",
    "<div class=\"alert alert-info\"> <b>⬆How do I do this⬆?</b>\n",
    "\n",
    "\n",
    "Note to self: search \"# Note to correct to datetime[M]\"</div>   "
   ]
  },
  {
   "cell_type": "markdown",
   "id": "a1bb7937",
   "metadata": {},
   "source": [
    "## Let's Inspect *'df_internet'* Data Types"
   ]
  },
  {
   "cell_type": "code",
   "execution_count": 15,
   "id": "e0b4cf01",
   "metadata": {
    "scrolled": true
   },
   "outputs": [
    {
     "name": "stdout",
     "output_type": "stream",
     "text": [
      "<class 'pandas.core.frame.DataFrame'>\n",
      "RangeIndex: 104825 entries, 0 to 104824\n",
      "Data columns (total 4 columns):\n",
      " #   Column        Non-Null Count   Dtype  \n",
      "---  ------        --------------   -----  \n",
      " 0   id            104825 non-null  object \n",
      " 1   user_id       104825 non-null  int64  \n",
      " 2   session_date  104825 non-null  object \n",
      " 3   mb_used       104825 non-null  float64\n",
      "dtypes: float64(1), int64(1), object(2)\n",
      "memory usage: 3.2+ MB\n"
     ]
    }
   ],
   "source": [
    "df_internet.info()"
   ]
  },
  {
   "cell_type": "markdown",
   "id": "3ce93ff1",
   "metadata": {},
   "source": [
    "### Let's Convert *'session_date'* from *object* to *datetime64[ns]* and Extract 'session_month' to its own column¶"
   ]
  },
  {
   "cell_type": "code",
   "execution_count": 16,
   "id": "1236f871",
   "metadata": {},
   "outputs": [
    {
     "name": "stdout",
     "output_type": "stream",
     "text": [
      "<class 'pandas.core.frame.DataFrame'>\n",
      "RangeIndex: 104825 entries, 0 to 104824\n",
      "Data columns (total 5 columns):\n",
      " #   Column        Non-Null Count   Dtype         \n",
      "---  ------        --------------   -----         \n",
      " 0   id            104825 non-null  object        \n",
      " 1   user_id       104825 non-null  int64         \n",
      " 2   session_date  104825 non-null  datetime64[ns]\n",
      " 3   mb_used       104825 non-null  float64       \n",
      " 4   month         104825 non-null  int64         \n",
      "dtypes: datetime64[ns](1), float64(1), int64(2), object(1)\n",
      "memory usage: 4.0+ MB\n"
     ]
    }
   ],
   "source": [
    "# Note to correct to datetime[M]\n",
    "df_internet['session_date'] = pd.to_datetime(df_internet['session_date']) # Note to correct to datetime[M]\n",
    "df_internet['month'] = df_internet['session_date'].dt.month\n",
    "df_internet.info()"
   ]
  },
  {
   "cell_type": "markdown",
   "id": "d262e47f",
   "metadata": {},
   "source": [
    "### Done!\n",
    "## Let's Inspect *df_messages* Data Types"
   ]
  },
  {
   "cell_type": "code",
   "execution_count": 17,
   "id": "10a2ea02",
   "metadata": {
    "scrolled": true
   },
   "outputs": [
    {
     "name": "stdout",
     "output_type": "stream",
     "text": [
      "<class 'pandas.core.frame.DataFrame'>\n",
      "RangeIndex: 76051 entries, 0 to 76050\n",
      "Data columns (total 3 columns):\n",
      " #   Column        Non-Null Count  Dtype \n",
      "---  ------        --------------  ----- \n",
      " 0   id            76051 non-null  object\n",
      " 1   user_id       76051 non-null  int64 \n",
      " 2   message_date  76051 non-null  object\n",
      "dtypes: int64(1), object(2)\n",
      "memory usage: 1.7+ MB\n"
     ]
    }
   ],
   "source": [
    "df_messages.info()"
   ]
  },
  {
   "cell_type": "markdown",
   "id": "06db9f4a",
   "metadata": {},
   "source": [
    "### Let's Convert *'message_date'* from *object* to *datetime64[ns]* and Extract 'message_month' to its own column¶"
   ]
  },
  {
   "cell_type": "code",
   "execution_count": 18,
   "id": "44724e86",
   "metadata": {},
   "outputs": [
    {
     "name": "stdout",
     "output_type": "stream",
     "text": [
      "<class 'pandas.core.frame.DataFrame'>\n",
      "RangeIndex: 76051 entries, 0 to 76050\n",
      "Data columns (total 4 columns):\n",
      " #   Column        Non-Null Count  Dtype         \n",
      "---  ------        --------------  -----         \n",
      " 0   id            76051 non-null  object        \n",
      " 1   user_id       76051 non-null  int64         \n",
      " 2   message_date  76051 non-null  datetime64[ns]\n",
      " 3   month         76051 non-null  int64         \n",
      "dtypes: datetime64[ns](1), int64(2), object(1)\n",
      "memory usage: 2.3+ MB\n"
     ]
    }
   ],
   "source": [
    "# Note to correct to datetime[M]\n",
    "df_messages['message_date'] = pd.to_datetime(df_messages['message_date']) # Note to correct to datetime[M]\n",
    "df_messages['month'] = df_messages['message_date'].dt.month\n",
    "df_messages.info()"
   ]
  },
  {
   "cell_type": "markdown",
   "id": "44c3d779",
   "metadata": {},
   "source": [
    "### Converted *'message_date'* from *object* to *datetime64[ns]*\n",
    "## Let's Inspect *df_plans* Data Types"
   ]
  },
  {
   "cell_type": "code",
   "execution_count": 19,
   "id": "bc67dd45",
   "metadata": {
    "scrolled": true
   },
   "outputs": [
    {
     "name": "stdout",
     "output_type": "stream",
     "text": [
      "<class 'pandas.core.frame.DataFrame'>\n",
      "RangeIndex: 2 entries, 0 to 1\n",
      "Data columns (total 8 columns):\n",
      " #   Column                 Non-Null Count  Dtype  \n",
      "---  ------                 --------------  -----  \n",
      " 0   messages_included      2 non-null      int64  \n",
      " 1   mb_per_month_included  2 non-null      int64  \n",
      " 2   minutes_included       2 non-null      int64  \n",
      " 3   usd_monthly_pay        2 non-null      int64  \n",
      " 4   usd_per_gb             2 non-null      int64  \n",
      " 5   usd_per_message        2 non-null      float64\n",
      " 6   usd_per_minute         2 non-null      float64\n",
      " 7   plan_name              2 non-null      object \n",
      "dtypes: float64(2), int64(5), object(1)\n",
      "memory usage: 256.0+ bytes\n"
     ]
    }
   ],
   "source": [
    "df_plans.info()"
   ]
  },
  {
   "cell_type": "markdown",
   "id": "0a7aebd5",
   "metadata": {},
   "source": [
    "### All Datatypes in *df_plans* Look Good!\n",
    "## Let's Inspect *df_users* Data Types"
   ]
  },
  {
   "cell_type": "code",
   "execution_count": 20,
   "id": "2f6e7be3",
   "metadata": {
    "scrolled": true
   },
   "outputs": [
    {
     "name": "stdout",
     "output_type": "stream",
     "text": [
      "<class 'pandas.core.frame.DataFrame'>\n",
      "RangeIndex: 500 entries, 0 to 499\n",
      "Data columns (total 8 columns):\n",
      " #   Column      Non-Null Count  Dtype \n",
      "---  ------      --------------  ----- \n",
      " 0   user_id     500 non-null    int64 \n",
      " 1   first_name  500 non-null    object\n",
      " 2   last_name   500 non-null    object\n",
      " 3   age         500 non-null    int64 \n",
      " 4   city        500 non-null    object\n",
      " 5   reg_date    500 non-null    object\n",
      " 6   plan        500 non-null    object\n",
      " 7   churn_date  34 non-null     object\n",
      "dtypes: int64(2), object(6)\n",
      "memory usage: 31.4+ KB\n"
     ]
    }
   ],
   "source": [
    "df_users.info()"
   ]
  },
  {
   "cell_type": "markdown",
   "id": "90bf2b6e",
   "metadata": {},
   "source": [
    "### Let's Convert *'reg_date'* and *'churn_date'* from *object* to *datetime64[ns]* and Extract their monthly columns"
   ]
  },
  {
   "cell_type": "code",
   "execution_count": 21,
   "id": "9401a55d",
   "metadata": {},
   "outputs": [
    {
     "name": "stdout",
     "output_type": "stream",
     "text": [
      "<class 'pandas.core.frame.DataFrame'>\n",
      "RangeIndex: 500 entries, 0 to 499\n",
      "Data columns (total 10 columns):\n",
      " #   Column       Non-Null Count  Dtype         \n",
      "---  ------       --------------  -----         \n",
      " 0   user_id      500 non-null    int64         \n",
      " 1   first_name   500 non-null    object        \n",
      " 2   last_name    500 non-null    object        \n",
      " 3   age          500 non-null    int64         \n",
      " 4   city         500 non-null    object        \n",
      " 5   reg_date     500 non-null    datetime64[ns]\n",
      " 6   plan         500 non-null    object        \n",
      " 7   churn_date   34 non-null     datetime64[ns]\n",
      " 8   reg_month    500 non-null    int64         \n",
      " 9   churn_month  34 non-null     float64       \n",
      "dtypes: datetime64[ns](2), float64(1), int64(3), object(4)\n",
      "memory usage: 39.2+ KB\n"
     ]
    }
   ],
   "source": [
    "df_users['reg_date'] = pd.to_datetime(df_users['reg_date']) # Note to correct to datetime[M]\n",
    "df_users['reg_month'] = df_users['reg_date'].dt.month\n",
    "\n",
    "df_users['churn_date'] = pd.to_datetime(df_users['churn_date']) # only 34 churn dates out of 500 records.\n",
    "df_users['churn_month'] = df_users['churn_date'].dt.month\n",
    "\n",
    "df_users.info(50)"
   ]
  },
  {
   "cell_type": "markdown",
   "id": "63c5ee9c",
   "metadata": {},
   "source": [
    "### Examine Zero Minute Calls"
   ]
  },
  {
   "cell_type": "code",
   "execution_count": 22,
   "id": "b821090c",
   "metadata": {},
   "outputs": [
    {
     "data": {
      "text/plain": [
       "0.00     26834\n",
       "8.37       102\n",
       "4.02       102\n",
       "3.91       101\n",
       "7.61       100\n",
       "         ...  \n",
       "32.53        1\n",
       "24.74        1\n",
       "29.31        1\n",
       "29.30        1\n",
       "23.29        1\n",
       "Name: duration, Length: 2802, dtype: int64"
      ]
     },
     "execution_count": 22,
     "metadata": {},
     "output_type": "execute_result"
    }
   ],
   "source": [
    "df_calls['duration'].value_counts()"
   ]
  },
  {
   "cell_type": "markdown",
   "id": "356ac9a1",
   "metadata": {},
   "source": [
    "### Wow that's a lot of calls that last zero seconds!"
   ]
  },
  {
   "cell_type": "code",
   "execution_count": 23,
   "id": "922732e5",
   "metadata": {},
   "outputs": [
    {
     "name": "stderr",
     "output_type": "stream",
     "text": [
      "<ipython-input-23-2414e9fcf7fa>:2: FutureWarning: Treating datetime data as categorical rather than numeric in `.describe` is deprecated and will be removed in a future version of pandas. Specify `datetime_is_numeric=True` to silence this warning and adopt the future behavior now.\n",
      "  df_calls.describe(include='all').transpose()\n"
     ]
    },
    {
     "data": {
      "text/html": [
       "<div>\n",
       "<style scoped>\n",
       "    .dataframe tbody tr th:only-of-type {\n",
       "        vertical-align: middle;\n",
       "    }\n",
       "\n",
       "    .dataframe tbody tr th {\n",
       "        vertical-align: top;\n",
       "    }\n",
       "\n",
       "    .dataframe thead th {\n",
       "        text-align: right;\n",
       "    }\n",
       "</style>\n",
       "<table border=\"1\" class=\"dataframe\">\n",
       "  <thead>\n",
       "    <tr style=\"text-align: right;\">\n",
       "      <th></th>\n",
       "      <th>count</th>\n",
       "      <th>unique</th>\n",
       "      <th>top</th>\n",
       "      <th>freq</th>\n",
       "      <th>first</th>\n",
       "      <th>last</th>\n",
       "      <th>mean</th>\n",
       "      <th>std</th>\n",
       "      <th>min</th>\n",
       "      <th>25%</th>\n",
       "      <th>50%</th>\n",
       "      <th>75%</th>\n",
       "      <th>max</th>\n",
       "    </tr>\n",
       "  </thead>\n",
       "  <tbody>\n",
       "    <tr>\n",
       "      <th>id</th>\n",
       "      <td>137735</td>\n",
       "      <td>137735</td>\n",
       "      <td>1328_615</td>\n",
       "      <td>1</td>\n",
       "      <td>NaT</td>\n",
       "      <td>NaT</td>\n",
       "      <td>NaN</td>\n",
       "      <td>NaN</td>\n",
       "      <td>NaN</td>\n",
       "      <td>NaN</td>\n",
       "      <td>NaN</td>\n",
       "      <td>NaN</td>\n",
       "      <td>NaN</td>\n",
       "    </tr>\n",
       "    <tr>\n",
       "      <th>user_id</th>\n",
       "      <td>137735.0</td>\n",
       "      <td>NaN</td>\n",
       "      <td>NaN</td>\n",
       "      <td>NaN</td>\n",
       "      <td>NaT</td>\n",
       "      <td>NaT</td>\n",
       "      <td>1247.658046</td>\n",
       "      <td>139.416268</td>\n",
       "      <td>1000.0</td>\n",
       "      <td>1128.0</td>\n",
       "      <td>1247.0</td>\n",
       "      <td>1365.0</td>\n",
       "      <td>1499.0</td>\n",
       "    </tr>\n",
       "    <tr>\n",
       "      <th>call_date</th>\n",
       "      <td>137735</td>\n",
       "      <td>351</td>\n",
       "      <td>2018-12-27 00:00:00</td>\n",
       "      <td>1091</td>\n",
       "      <td>2018-01-15</td>\n",
       "      <td>2018-12-31</td>\n",
       "      <td>NaN</td>\n",
       "      <td>NaN</td>\n",
       "      <td>NaN</td>\n",
       "      <td>NaN</td>\n",
       "      <td>NaN</td>\n",
       "      <td>NaN</td>\n",
       "      <td>NaN</td>\n",
       "    </tr>\n",
       "    <tr>\n",
       "      <th>duration</th>\n",
       "      <td>110901.0</td>\n",
       "      <td>NaN</td>\n",
       "      <td>NaN</td>\n",
       "      <td>NaN</td>\n",
       "      <td>NaT</td>\n",
       "      <td>NaT</td>\n",
       "      <td>8.378196</td>\n",
       "      <td>5.354567</td>\n",
       "      <td>0.01</td>\n",
       "      <td>4.15</td>\n",
       "      <td>7.71</td>\n",
       "      <td>11.82</td>\n",
       "      <td>37.6</td>\n",
       "    </tr>\n",
       "    <tr>\n",
       "      <th>month</th>\n",
       "      <td>137735.0</td>\n",
       "      <td>NaN</td>\n",
       "      <td>NaN</td>\n",
       "      <td>NaN</td>\n",
       "      <td>NaT</td>\n",
       "      <td>NaT</td>\n",
       "      <td>9.320797</td>\n",
       "      <td>2.41255</td>\n",
       "      <td>1.0</td>\n",
       "      <td>8.0</td>\n",
       "      <td>10.0</td>\n",
       "      <td>11.0</td>\n",
       "      <td>12.0</td>\n",
       "    </tr>\n",
       "  </tbody>\n",
       "</table>\n",
       "</div>"
      ],
      "text/plain": [
       "              count  unique                  top  freq      first       last  \\\n",
       "id           137735  137735             1328_615     1        NaT        NaT   \n",
       "user_id    137735.0     NaN                  NaN   NaN        NaT        NaT   \n",
       "call_date    137735     351  2018-12-27 00:00:00  1091 2018-01-15 2018-12-31   \n",
       "duration   110901.0     NaN                  NaN   NaN        NaT        NaT   \n",
       "month      137735.0     NaN                  NaN   NaN        NaT        NaT   \n",
       "\n",
       "                  mean         std     min     25%     50%     75%     max  \n",
       "id                 NaN         NaN     NaN     NaN     NaN     NaN     NaN  \n",
       "user_id    1247.658046  139.416268  1000.0  1128.0  1247.0  1365.0  1499.0  \n",
       "call_date          NaN         NaN     NaN     NaN     NaN     NaN     NaN  \n",
       "duration      8.378196    5.354567    0.01    4.15    7.71   11.82    37.6  \n",
       "month         9.320797     2.41255     1.0     8.0    10.0    11.0    12.0  "
      ]
     },
     "execution_count": 23,
     "metadata": {},
     "output_type": "execute_result"
    }
   ],
   "source": [
    "df_calls = df_calls[df_calls !=0]\n",
    "df_calls.describe(include='all').transpose()"
   ]
  },
  {
   "cell_type": "markdown",
   "id": "a5d0c82a",
   "metadata": {},
   "source": [
    "### Let's get rid of the decimal minute values by rounding up."
   ]
  },
  {
   "cell_type": "code",
   "execution_count": 24,
   "id": "a6856cf5",
   "metadata": {},
   "outputs": [
    {
     "data": {
      "text/plain": [
       "0          9.0\n",
       "1         14.0\n",
       "2         15.0\n",
       "3          6.0\n",
       "4          5.0\n",
       "          ... \n",
       "137730     9.0\n",
       "137731    11.0\n",
       "137732     9.0\n",
       "137733     1.0\n",
       "137734    14.0\n",
       "Name: duration, Length: 137735, dtype: float64"
      ]
     },
     "execution_count": 24,
     "metadata": {},
     "output_type": "execute_result"
    }
   ],
   "source": [
    "df_calls['duration'].apply(np.ceil)"
   ]
  },
  {
   "cell_type": "markdown",
   "id": "7dca13ac",
   "metadata": {},
   "source": [
    "<div class=\"alert alert-danger\">\n",
    "<b>Reviewer's comment v1:</b>\n",
    "    \n",
    "Please note that the telecom operator rounds up all traffic values already after data aggregation.\n",
    "\n",
    "`Note: Megaline rounds seconds up to minutes, and megabytes to gigabytes. For web traffic, individual web sessions are not rounded up. Instead, the total for the month is rounded up. If someone uses 1025 megabytes this month, they will be charged for 2 gigabytes.`\n",
    "\n",
    "Can you please update that?    "
   ]
  },
  {
   "cell_type": "markdown",
   "id": "a7fb6bff",
   "metadata": {},
   "source": [
    "<div class=\"alert alert-info\"> <b>UPDATED</b></div>   "
   ]
  },
  {
   "cell_type": "markdown",
   "id": "f7b5355b",
   "metadata": {},
   "source": [
    "<div class=\"alert alert-success\">\n",
    "<b>Reviewer's comment v2:</b>\n",
    "    \n",
    "- Ok, rounding is now correct.\n",
    "\n",
    "- This function by the way also works without `apply` which makes code shorter and faster.\n",
    "\n",
    "```\n",
    "calls['duration'] = np.ceil(calls['duration'])\n",
    "```"
   ]
  },
  {
   "cell_type": "markdown",
   "id": "3abc32bc",
   "metadata": {},
   "source": [
    "### That *min* value of *'duration'* looks much better."
   ]
  },
  {
   "cell_type": "markdown",
   "id": "bb9f7dea",
   "metadata": {},
   "source": [
    "<div class=\"alert alert-success\">\n",
    "<b>Reviewer's comment v1:</b>\n",
    "    \n",
    "Great that you've added a solution for zero-based sessions.\n",
    "\n",
    "On a real project, of course, you can always find out the reason for such zeros. But in this case, it is enough to consider the alternatives and the impact of each decision.\n",
    "    \n",
    "But overall it is very useful to always check the numerical data. Sometimes it is difficult due to a large amount of data, but after that, we have an idea of the data quality and existent issues with the data. You can easily check this data, for example, by creating histograms."
   ]
  },
  {
   "cell_type": "markdown",
   "id": "42c5b793",
   "metadata": {},
   "source": [
    "### Call Count and Minute Total by User per Month"
   ]
  },
  {
   "cell_type": "code",
   "execution_count": 25,
   "id": "537dd9d1",
   "metadata": {
    "scrolled": true
   },
   "outputs": [
    {
     "data": {
      "text/html": [
       "<div>\n",
       "<style scoped>\n",
       "    .dataframe tbody tr th:only-of-type {\n",
       "        vertical-align: middle;\n",
       "    }\n",
       "\n",
       "    .dataframe tbody tr th {\n",
       "        vertical-align: top;\n",
       "    }\n",
       "\n",
       "    .dataframe thead th {\n",
       "        text-align: right;\n",
       "    }\n",
       "</style>\n",
       "<table border=\"1\" class=\"dataframe\">\n",
       "  <thead>\n",
       "    <tr style=\"text-align: right;\">\n",
       "      <th></th>\n",
       "      <th>user_id</th>\n",
       "      <th>month</th>\n",
       "      <th>call_count</th>\n",
       "      <th>duration</th>\n",
       "    </tr>\n",
       "  </thead>\n",
       "  <tbody>\n",
       "    <tr>\n",
       "      <th>0</th>\n",
       "      <td>1000</td>\n",
       "      <td>12</td>\n",
       "      <td>16</td>\n",
       "      <td>116.83</td>\n",
       "    </tr>\n",
       "    <tr>\n",
       "      <th>1</th>\n",
       "      <td>1001</td>\n",
       "      <td>8</td>\n",
       "      <td>27</td>\n",
       "      <td>171.14</td>\n",
       "    </tr>\n",
       "    <tr>\n",
       "      <th>2</th>\n",
       "      <td>1001</td>\n",
       "      <td>9</td>\n",
       "      <td>49</td>\n",
       "      <td>297.69</td>\n",
       "    </tr>\n",
       "    <tr>\n",
       "      <th>3</th>\n",
       "      <td>1001</td>\n",
       "      <td>10</td>\n",
       "      <td>65</td>\n",
       "      <td>374.11</td>\n",
       "    </tr>\n",
       "    <tr>\n",
       "      <th>4</th>\n",
       "      <td>1001</td>\n",
       "      <td>11</td>\n",
       "      <td>64</td>\n",
       "      <td>404.59</td>\n",
       "    </tr>\n",
       "  </tbody>\n",
       "</table>\n",
       "</div>"
      ],
      "text/plain": [
       "   user_id  month  call_count  duration\n",
       "0     1000     12          16    116.83\n",
       "1     1001      8          27    171.14\n",
       "2     1001      9          49    297.69\n",
       "3     1001     10          65    374.11\n",
       "4     1001     11          64    404.59"
      ]
     },
     "execution_count": 25,
     "metadata": {},
     "output_type": "execute_result"
    }
   ],
   "source": [
    "df_calls_and_minutes = df_calls.groupby(['user_id', 'month']).agg({'user_id': 'count', 'duration': 'sum'})\n",
    "df_calls_and_minutes.columns = ['call_count', 'duration']\n",
    "df_calls_and_minutes.reset_index(inplace=True)\n",
    "df_calls_and_minutes.head()"
   ]
  },
  {
   "cell_type": "markdown",
   "id": "9beeb057",
   "metadata": {},
   "source": [
    "### Text Messages Monthly by User"
   ]
  },
  {
   "cell_type": "code",
   "execution_count": 26,
   "id": "5ecde46a",
   "metadata": {
    "scrolled": true
   },
   "outputs": [
    {
     "data": {
      "text/html": [
       "<div>\n",
       "<style scoped>\n",
       "    .dataframe tbody tr th:only-of-type {\n",
       "        vertical-align: middle;\n",
       "    }\n",
       "\n",
       "    .dataframe tbody tr th {\n",
       "        vertical-align: top;\n",
       "    }\n",
       "\n",
       "    .dataframe thead th {\n",
       "        text-align: right;\n",
       "    }\n",
       "</style>\n",
       "<table border=\"1\" class=\"dataframe\">\n",
       "  <thead>\n",
       "    <tr style=\"text-align: right;\">\n",
       "      <th></th>\n",
       "      <th>user_id</th>\n",
       "      <th>month</th>\n",
       "      <th>message_count</th>\n",
       "    </tr>\n",
       "  </thead>\n",
       "  <tbody>\n",
       "    <tr>\n",
       "      <th>0</th>\n",
       "      <td>1000</td>\n",
       "      <td>12</td>\n",
       "      <td>11</td>\n",
       "    </tr>\n",
       "    <tr>\n",
       "      <th>1</th>\n",
       "      <td>1001</td>\n",
       "      <td>8</td>\n",
       "      <td>30</td>\n",
       "    </tr>\n",
       "    <tr>\n",
       "      <th>2</th>\n",
       "      <td>1001</td>\n",
       "      <td>9</td>\n",
       "      <td>44</td>\n",
       "    </tr>\n",
       "    <tr>\n",
       "      <th>3</th>\n",
       "      <td>1001</td>\n",
       "      <td>10</td>\n",
       "      <td>53</td>\n",
       "    </tr>\n",
       "    <tr>\n",
       "      <th>4</th>\n",
       "      <td>1001</td>\n",
       "      <td>11</td>\n",
       "      <td>36</td>\n",
       "    </tr>\n",
       "  </tbody>\n",
       "</table>\n",
       "</div>"
      ],
      "text/plain": [
       "   user_id  month  message_count\n",
       "0     1000     12             11\n",
       "1     1001      8             30\n",
       "2     1001      9             44\n",
       "3     1001     10             53\n",
       "4     1001     11             36"
      ]
     },
     "execution_count": 26,
     "metadata": {},
     "output_type": "execute_result"
    }
   ],
   "source": [
    "df_sms_count = df_messages.groupby(['user_id', 'month']).count()\n",
    "df_sms_count.columns = ['message_count', 'duration_count']\n",
    "del df_sms_count['duration_count']\n",
    "df_sms_count.reset_index(inplace = True)\n",
    "df_sms_count.head()"
   ]
  },
  {
   "cell_type": "code",
   "execution_count": 27,
   "id": "104df990",
   "metadata": {},
   "outputs": [
    {
     "data": {
      "text/html": [
       "<div>\n",
       "<style scoped>\n",
       "    .dataframe tbody tr th:only-of-type {\n",
       "        vertical-align: middle;\n",
       "    }\n",
       "\n",
       "    .dataframe tbody tr th {\n",
       "        vertical-align: top;\n",
       "    }\n",
       "\n",
       "    .dataframe thead th {\n",
       "        text-align: right;\n",
       "    }\n",
       "</style>\n",
       "<table border=\"1\" class=\"dataframe\">\n",
       "  <thead>\n",
       "    <tr style=\"text-align: right;\">\n",
       "      <th></th>\n",
       "      <th>user_id</th>\n",
       "      <th>month</th>\n",
       "      <th>call_count</th>\n",
       "      <th>duration</th>\n",
       "      <th>message_count</th>\n",
       "    </tr>\n",
       "  </thead>\n",
       "  <tbody>\n",
       "    <tr>\n",
       "      <th>0</th>\n",
       "      <td>1000</td>\n",
       "      <td>12</td>\n",
       "      <td>16.0</td>\n",
       "      <td>116.83</td>\n",
       "      <td>11.0</td>\n",
       "    </tr>\n",
       "    <tr>\n",
       "      <th>1</th>\n",
       "      <td>1001</td>\n",
       "      <td>8</td>\n",
       "      <td>27.0</td>\n",
       "      <td>171.14</td>\n",
       "      <td>30.0</td>\n",
       "    </tr>\n",
       "    <tr>\n",
       "      <th>2</th>\n",
       "      <td>1001</td>\n",
       "      <td>9</td>\n",
       "      <td>49.0</td>\n",
       "      <td>297.69</td>\n",
       "      <td>44.0</td>\n",
       "    </tr>\n",
       "    <tr>\n",
       "      <th>3</th>\n",
       "      <td>1001</td>\n",
       "      <td>10</td>\n",
       "      <td>65.0</td>\n",
       "      <td>374.11</td>\n",
       "      <td>53.0</td>\n",
       "    </tr>\n",
       "    <tr>\n",
       "      <th>4</th>\n",
       "      <td>1001</td>\n",
       "      <td>11</td>\n",
       "      <td>64.0</td>\n",
       "      <td>404.59</td>\n",
       "      <td>36.0</td>\n",
       "    </tr>\n",
       "  </tbody>\n",
       "</table>\n",
       "</div>"
      ],
      "text/plain": [
       "   user_id  month  call_count  duration  message_count\n",
       "0     1000     12        16.0    116.83           11.0\n",
       "1     1001      8        27.0    171.14           30.0\n",
       "2     1001      9        49.0    297.69           44.0\n",
       "3     1001     10        65.0    374.11           53.0\n",
       "4     1001     11        64.0    404.59           36.0"
      ]
     },
     "execution_count": 27,
     "metadata": {},
     "output_type": "execute_result"
    }
   ],
   "source": [
    "df_users_by_month = pd.merge(left = df_calls_and_minutes , \n",
    "                right = df_sms_count, how='outer',on=['user_id', 'month']).fillna(0)\n",
    "df_users_by_month.head()"
   ]
  },
  {
   "cell_type": "markdown",
   "id": "0ce13f96",
   "metadata": {},
   "source": [
    "### Data Volume per User\n",
    "### Note: I have a lot of difficulty splitting my lines of code.  Please, advise."
   ]
  },
  {
   "cell_type": "code",
   "execution_count": 28,
   "id": "9232e36e",
   "metadata": {
    "scrolled": true
   },
   "outputs": [
    {
     "data": {
      "text/html": [
       "<div>\n",
       "<style scoped>\n",
       "    .dataframe tbody tr th:only-of-type {\n",
       "        vertical-align: middle;\n",
       "    }\n",
       "\n",
       "    .dataframe tbody tr th {\n",
       "        vertical-align: top;\n",
       "    }\n",
       "\n",
       "    .dataframe thead th {\n",
       "        text-align: right;\n",
       "    }\n",
       "</style>\n",
       "<table border=\"1\" class=\"dataframe\">\n",
       "  <thead>\n",
       "    <tr style=\"text-align: right;\">\n",
       "      <th></th>\n",
       "      <th>user_id</th>\n",
       "      <th>month</th>\n",
       "      <th>mb_used</th>\n",
       "    </tr>\n",
       "  </thead>\n",
       "  <tbody>\n",
       "    <tr>\n",
       "      <th>0</th>\n",
       "      <td>1000</td>\n",
       "      <td>12</td>\n",
       "      <td>1901.47</td>\n",
       "    </tr>\n",
       "    <tr>\n",
       "      <th>1</th>\n",
       "      <td>1001</td>\n",
       "      <td>8</td>\n",
       "      <td>6919.15</td>\n",
       "    </tr>\n",
       "    <tr>\n",
       "      <th>2</th>\n",
       "      <td>1001</td>\n",
       "      <td>9</td>\n",
       "      <td>13314.82</td>\n",
       "    </tr>\n",
       "    <tr>\n",
       "      <th>3</th>\n",
       "      <td>1001</td>\n",
       "      <td>10</td>\n",
       "      <td>22330.49</td>\n",
       "    </tr>\n",
       "    <tr>\n",
       "      <th>4</th>\n",
       "      <td>1001</td>\n",
       "      <td>11</td>\n",
       "      <td>18504.30</td>\n",
       "    </tr>\n",
       "  </tbody>\n",
       "</table>\n",
       "</div>"
      ],
      "text/plain": [
       "   user_id  month   mb_used\n",
       "0     1000     12   1901.47\n",
       "1     1001      8   6919.15\n",
       "2     1001      9  13314.82\n",
       "3     1001     10  22330.49\n",
       "4     1001     11  18504.30"
      ]
     },
     "execution_count": 28,
     "metadata": {},
     "output_type": "execute_result"
    }
   ],
   "source": [
    "df_internet_volume = df_internet.groupby(['user_id', 'month']).agg({'mb_used': 'sum'})\n",
    "df_users_by_month = pd.merge(left = df_users_by_month , \n",
    "                right = df_internet_volume, how='outer',on=['user_id', 'month']).fillna(0)\n",
    "\n",
    "df_internet_volume.reset_index(inplace = True)\n",
    "df_internet_volume.head()"
   ]
  },
  {
   "cell_type": "code",
   "execution_count": 29,
   "id": "3640be0f",
   "metadata": {},
   "outputs": [
    {
     "data": {
      "text/html": [
       "<div>\n",
       "<style scoped>\n",
       "    .dataframe tbody tr th:only-of-type {\n",
       "        vertical-align: middle;\n",
       "    }\n",
       "\n",
       "    .dataframe tbody tr th {\n",
       "        vertical-align: top;\n",
       "    }\n",
       "\n",
       "    .dataframe thead th {\n",
       "        text-align: right;\n",
       "    }\n",
       "</style>\n",
       "<table border=\"1\" class=\"dataframe\">\n",
       "  <thead>\n",
       "    <tr style=\"text-align: right;\">\n",
       "      <th></th>\n",
       "      <th>user_id</th>\n",
       "      <th>month</th>\n",
       "      <th>call_count</th>\n",
       "      <th>duration</th>\n",
       "      <th>message_count</th>\n",
       "      <th>mb_used</th>\n",
       "      <th>plan</th>\n",
       "      <th>city</th>\n",
       "    </tr>\n",
       "  </thead>\n",
       "  <tbody>\n",
       "    <tr>\n",
       "      <th>0</th>\n",
       "      <td>1000</td>\n",
       "      <td>12.0</td>\n",
       "      <td>16.0</td>\n",
       "      <td>116.83</td>\n",
       "      <td>11.0</td>\n",
       "      <td>1901.47</td>\n",
       "      <td>ultimate</td>\n",
       "      <td>Atlanta-Sandy Springs-Roswell, GA MSA</td>\n",
       "    </tr>\n",
       "    <tr>\n",
       "      <th>1</th>\n",
       "      <td>1001</td>\n",
       "      <td>8.0</td>\n",
       "      <td>27.0</td>\n",
       "      <td>171.14</td>\n",
       "      <td>30.0</td>\n",
       "      <td>6919.15</td>\n",
       "      <td>surf</td>\n",
       "      <td>Seattle-Tacoma-Bellevue, WA MSA</td>\n",
       "    </tr>\n",
       "    <tr>\n",
       "      <th>2</th>\n",
       "      <td>1001</td>\n",
       "      <td>9.0</td>\n",
       "      <td>49.0</td>\n",
       "      <td>297.69</td>\n",
       "      <td>44.0</td>\n",
       "      <td>13314.82</td>\n",
       "      <td>surf</td>\n",
       "      <td>Seattle-Tacoma-Bellevue, WA MSA</td>\n",
       "    </tr>\n",
       "    <tr>\n",
       "      <th>3</th>\n",
       "      <td>1001</td>\n",
       "      <td>10.0</td>\n",
       "      <td>65.0</td>\n",
       "      <td>374.11</td>\n",
       "      <td>53.0</td>\n",
       "      <td>22330.49</td>\n",
       "      <td>surf</td>\n",
       "      <td>Seattle-Tacoma-Bellevue, WA MSA</td>\n",
       "    </tr>\n",
       "    <tr>\n",
       "      <th>4</th>\n",
       "      <td>1001</td>\n",
       "      <td>11.0</td>\n",
       "      <td>64.0</td>\n",
       "      <td>404.59</td>\n",
       "      <td>36.0</td>\n",
       "      <td>18504.30</td>\n",
       "      <td>surf</td>\n",
       "      <td>Seattle-Tacoma-Bellevue, WA MSA</td>\n",
       "    </tr>\n",
       "  </tbody>\n",
       "</table>\n",
       "</div>"
      ],
      "text/plain": [
       "   user_id  month  call_count  duration  message_count   mb_used      plan  \\\n",
       "0     1000   12.0        16.0    116.83           11.0   1901.47  ultimate   \n",
       "1     1001    8.0        27.0    171.14           30.0   6919.15      surf   \n",
       "2     1001    9.0        49.0    297.69           44.0  13314.82      surf   \n",
       "3     1001   10.0        65.0    374.11           53.0  22330.49      surf   \n",
       "4     1001   11.0        64.0    404.59           36.0  18504.30      surf   \n",
       "\n",
       "                                    city  \n",
       "0  Atlanta-Sandy Springs-Roswell, GA MSA  \n",
       "1        Seattle-Tacoma-Bellevue, WA MSA  \n",
       "2        Seattle-Tacoma-Bellevue, WA MSA  \n",
       "3        Seattle-Tacoma-Bellevue, WA MSA  \n",
       "4        Seattle-Tacoma-Bellevue, WA MSA  "
      ]
     },
     "execution_count": 29,
     "metadata": {},
     "output_type": "execute_result"
    }
   ],
   "source": [
    "df_user_temp = df_users[['user_id', 'plan','city']].copy()\n",
    "df_users_by_month = pd.merge(left = df_users_by_month, right = df_user_temp, how='outer',on=['user_id']).fillna(0)\n",
    "df_users_by_month.head()"
   ]
  },
  {
   "cell_type": "code",
   "execution_count": 30,
   "id": "46223cb7",
   "metadata": {},
   "outputs": [
    {
     "data": {
      "text/html": [
       "<div>\n",
       "<style scoped>\n",
       "    .dataframe tbody tr th:only-of-type {\n",
       "        vertical-align: middle;\n",
       "    }\n",
       "\n",
       "    .dataframe tbody tr th {\n",
       "        vertical-align: top;\n",
       "    }\n",
       "\n",
       "    .dataframe thead th {\n",
       "        text-align: right;\n",
       "    }\n",
       "</style>\n",
       "<table border=\"1\" class=\"dataframe\">\n",
       "  <thead>\n",
       "    <tr style=\"text-align: right;\">\n",
       "      <th></th>\n",
       "      <th>messages_included</th>\n",
       "      <th>mb_per_month_included</th>\n",
       "      <th>minutes_included</th>\n",
       "      <th>usd_monthly_pay</th>\n",
       "      <th>usd_per_gb</th>\n",
       "      <th>usd_per_message</th>\n",
       "      <th>usd_per_minute</th>\n",
       "      <th>plan</th>\n",
       "    </tr>\n",
       "  </thead>\n",
       "  <tbody>\n",
       "    <tr>\n",
       "      <th>0</th>\n",
       "      <td>50</td>\n",
       "      <td>15360</td>\n",
       "      <td>500</td>\n",
       "      <td>20</td>\n",
       "      <td>10</td>\n",
       "      <td>0.03</td>\n",
       "      <td>0.03</td>\n",
       "      <td>surf</td>\n",
       "    </tr>\n",
       "    <tr>\n",
       "      <th>1</th>\n",
       "      <td>1000</td>\n",
       "      <td>30720</td>\n",
       "      <td>3000</td>\n",
       "      <td>70</td>\n",
       "      <td>7</td>\n",
       "      <td>0.01</td>\n",
       "      <td>0.01</td>\n",
       "      <td>ultimate</td>\n",
       "    </tr>\n",
       "  </tbody>\n",
       "</table>\n",
       "</div>"
      ],
      "text/plain": [
       "   messages_included  mb_per_month_included  minutes_included  \\\n",
       "0                 50                  15360               500   \n",
       "1               1000                  30720              3000   \n",
       "\n",
       "   usd_monthly_pay  usd_per_gb  usd_per_message  usd_per_minute      plan  \n",
       "0               20          10             0.03            0.03      surf  \n",
       "1               70           7             0.01            0.01  ultimate  "
      ]
     },
     "execution_count": 30,
     "metadata": {},
     "output_type": "execute_result"
    }
   ],
   "source": [
    "df_plans.rename(columns={\"plan_name\": \"plan\"},inplace=True)\n",
    "df_plans.head()"
   ]
  },
  {
   "cell_type": "code",
   "execution_count": 31,
   "id": "7510d880",
   "metadata": {},
   "outputs": [
    {
     "data": {
      "text/html": [
       "<div>\n",
       "<style scoped>\n",
       "    .dataframe tbody tr th:only-of-type {\n",
       "        vertical-align: middle;\n",
       "    }\n",
       "\n",
       "    .dataframe tbody tr th {\n",
       "        vertical-align: top;\n",
       "    }\n",
       "\n",
       "    .dataframe thead th {\n",
       "        text-align: right;\n",
       "    }\n",
       "</style>\n",
       "<table border=\"1\" class=\"dataframe\">\n",
       "  <thead>\n",
       "    <tr style=\"text-align: right;\">\n",
       "      <th></th>\n",
       "      <th>user_id</th>\n",
       "      <th>month</th>\n",
       "      <th>call_count</th>\n",
       "      <th>duration</th>\n",
       "      <th>message_count</th>\n",
       "      <th>mb_used</th>\n",
       "      <th>plan</th>\n",
       "      <th>city</th>\n",
       "      <th>messages_included</th>\n",
       "      <th>mb_per_month_included</th>\n",
       "      <th>minutes_included</th>\n",
       "      <th>usd_monthly_pay</th>\n",
       "      <th>usd_per_gb</th>\n",
       "      <th>usd_per_message</th>\n",
       "      <th>usd_per_minute</th>\n",
       "    </tr>\n",
       "  </thead>\n",
       "  <tbody>\n",
       "    <tr>\n",
       "      <th>0</th>\n",
       "      <td>1000</td>\n",
       "      <td>12.0</td>\n",
       "      <td>16.0</td>\n",
       "      <td>116.83</td>\n",
       "      <td>11.0</td>\n",
       "      <td>1901.47</td>\n",
       "      <td>ultimate</td>\n",
       "      <td>Atlanta-Sandy Springs-Roswell, GA MSA</td>\n",
       "      <td>1000</td>\n",
       "      <td>30720</td>\n",
       "      <td>3000</td>\n",
       "      <td>70</td>\n",
       "      <td>7</td>\n",
       "      <td>0.01</td>\n",
       "      <td>0.01</td>\n",
       "    </tr>\n",
       "    <tr>\n",
       "      <th>1</th>\n",
       "      <td>1001</td>\n",
       "      <td>8.0</td>\n",
       "      <td>27.0</td>\n",
       "      <td>171.14</td>\n",
       "      <td>30.0</td>\n",
       "      <td>6919.15</td>\n",
       "      <td>surf</td>\n",
       "      <td>Seattle-Tacoma-Bellevue, WA MSA</td>\n",
       "      <td>50</td>\n",
       "      <td>15360</td>\n",
       "      <td>500</td>\n",
       "      <td>20</td>\n",
       "      <td>10</td>\n",
       "      <td>0.03</td>\n",
       "      <td>0.03</td>\n",
       "    </tr>\n",
       "  </tbody>\n",
       "</table>\n",
       "</div>"
      ],
      "text/plain": [
       "   user_id  month  call_count  duration  message_count  mb_used      plan  \\\n",
       "0     1000   12.0        16.0    116.83           11.0  1901.47  ultimate   \n",
       "1     1001    8.0        27.0    171.14           30.0  6919.15      surf   \n",
       "\n",
       "                                    city  messages_included  \\\n",
       "0  Atlanta-Sandy Springs-Roswell, GA MSA               1000   \n",
       "1        Seattle-Tacoma-Bellevue, WA MSA                 50   \n",
       "\n",
       "   mb_per_month_included  minutes_included  usd_monthly_pay  usd_per_gb  \\\n",
       "0                  30720              3000               70           7   \n",
       "1                  15360               500               20          10   \n",
       "\n",
       "   usd_per_message  usd_per_minute  \n",
       "0             0.01            0.01  \n",
       "1             0.03            0.03  "
      ]
     },
     "execution_count": 31,
     "metadata": {},
     "output_type": "execute_result"
    }
   ],
   "source": [
    "df_users_by_month = pd.merge(left = df_users_by_month , \n",
    "                right = df_plans, how='left',on=['plan']).fillna(0)\n",
    "df_users_by_month.head(2)"
   ]
  },
  {
   "cell_type": "markdown",
   "id": "4f2a1479",
   "metadata": {},
   "source": [
    "<div class=\"alert alert-success\">\n",
    "<b>Reviewer's comment v1:</b>\n",
    "    \n",
    "- Awesome! `how = 'outer' can be used here to prevent data loss.\n",
    "\n",
    "- By the way, it is also possible to group 3 tables at once using reduce. You can read about it here: [https://www.codegrepper.com/code-examples/python/merge+more+than+2+dataframes+in+pandas](https://www.codegrepper.com/code-examples/python/merge+more+than+2+dataframes+in+pandas)"
   ]
  },
  {
   "cell_type": "markdown",
   "id": "d6f5c0c6",
   "metadata": {},
   "source": [
    "### Revenue per User"
   ]
  },
  {
   "cell_type": "code",
   "execution_count": 32,
   "id": "b0032159",
   "metadata": {
    "scrolled": true
   },
   "outputs": [],
   "source": [
    "def revenue(row):\n",
    "\n",
    "    plan = row['plan']\n",
    "    minutes_used = row['duration']\n",
    "    minutes_included = row['minutes_included']\n",
    "    message_count = row['message_count']\n",
    "    messages_included = row['messages_included']\n",
    "    mb_used = row['mb_used']\n",
    "    gb_used = mb_used /1024\n",
    "    mb_per_month_included = row['mb_per_month_included']\n",
    "    gb_included = mb_per_month_included/1024\n",
    "    usd_monthly_pay = row['usd_monthly_pay']\n",
    "    usd_per_gb = row['usd_per_gb']\n",
    "    usd_per_message = row['usd_per_message']\n",
    "    usd_per_minute = row['usd_per_minute']\n",
    "                                                # Note to correct    \n",
    "    extra_mb = mb_per_month_included - mb_used\n",
    "    extra_gb = (extra_mb/1024) / gb_included\n",
    "    extra_gb_rounded = np.round(extra_gb,0)\n",
    "    extra_gb_cost = abs(extra_gb_rounded * usd_per_gb)\n",
    "        \n",
    "    extra_minutes = minutes_included - minutes_used\n",
    "    if extra_minutes <= 0:\n",
    "        extra_minutes_cost = abs(extra_minutes * usd_per_minute)\n",
    "    else:\n",
    "        extra_minutes_cost = 0\n",
    "    \n",
    "    extra_sms = messages_included - message_count\n",
    "    if extra_sms <= 0:\n",
    "        extra_sms_cost = abs(extra_sms * usd_per_message)\n",
    "    else:\n",
    "        extra_sms_cost = 0\n",
    "    \n",
    "    monthly_total = usd_monthly_pay + extra_minutes_cost + extra_sms_cost + extra_gb_cost\n",
    "    \n",
    "    return monthly_total"
   ]
  },
  {
   "cell_type": "code",
   "execution_count": 33,
   "id": "4864f8f2",
   "metadata": {},
   "outputs": [
    {
     "data": {
      "text/html": [
       "<div>\n",
       "<style scoped>\n",
       "    .dataframe tbody tr th:only-of-type {\n",
       "        vertical-align: middle;\n",
       "    }\n",
       "\n",
       "    .dataframe tbody tr th {\n",
       "        vertical-align: top;\n",
       "    }\n",
       "\n",
       "    .dataframe thead th {\n",
       "        text-align: right;\n",
       "    }\n",
       "</style>\n",
       "<table border=\"1\" class=\"dataframe\">\n",
       "  <thead>\n",
       "    <tr style=\"text-align: right;\">\n",
       "      <th></th>\n",
       "      <th>user_id</th>\n",
       "      <th>month</th>\n",
       "      <th>revenue</th>\n",
       "    </tr>\n",
       "  </thead>\n",
       "  <tbody>\n",
       "    <tr>\n",
       "      <th>0</th>\n",
       "      <td>1000</td>\n",
       "      <td>12.0</td>\n",
       "      <td>77.0000</td>\n",
       "    </tr>\n",
       "    <tr>\n",
       "      <th>1</th>\n",
       "      <td>1001</td>\n",
       "      <td>8.0</td>\n",
       "      <td>30.0000</td>\n",
       "    </tr>\n",
       "    <tr>\n",
       "      <th>2</th>\n",
       "      <td>1001</td>\n",
       "      <td>9.0</td>\n",
       "      <td>20.0000</td>\n",
       "    </tr>\n",
       "    <tr>\n",
       "      <th>3</th>\n",
       "      <td>1001</td>\n",
       "      <td>10.0</td>\n",
       "      <td>20.0900</td>\n",
       "    </tr>\n",
       "    <tr>\n",
       "      <th>4</th>\n",
       "      <td>1001</td>\n",
       "      <td>11.0</td>\n",
       "      <td>20.0000</td>\n",
       "    </tr>\n",
       "    <tr>\n",
       "      <th>5</th>\n",
       "      <td>1001</td>\n",
       "      <td>12.0</td>\n",
       "      <td>20.0000</td>\n",
       "    </tr>\n",
       "    <tr>\n",
       "      <th>6</th>\n",
       "      <td>1002</td>\n",
       "      <td>10.0</td>\n",
       "      <td>30.0000</td>\n",
       "    </tr>\n",
       "    <tr>\n",
       "      <th>7</th>\n",
       "      <td>1002</td>\n",
       "      <td>11.0</td>\n",
       "      <td>20.0000</td>\n",
       "    </tr>\n",
       "    <tr>\n",
       "      <th>8</th>\n",
       "      <td>1002</td>\n",
       "      <td>12.0</td>\n",
       "      <td>20.0000</td>\n",
       "    </tr>\n",
       "    <tr>\n",
       "      <th>9</th>\n",
       "      <td>1003</td>\n",
       "      <td>12.0</td>\n",
       "      <td>46.2300</td>\n",
       "    </tr>\n",
       "    <tr>\n",
       "      <th>10</th>\n",
       "      <td>1004</td>\n",
       "      <td>5.0</td>\n",
       "      <td>30.0000</td>\n",
       "    </tr>\n",
       "    <tr>\n",
       "      <th>11</th>\n",
       "      <td>1004</td>\n",
       "      <td>6.0</td>\n",
       "      <td>20.0000</td>\n",
       "    </tr>\n",
       "    <tr>\n",
       "      <th>12</th>\n",
       "      <td>1004</td>\n",
       "      <td>7.0</td>\n",
       "      <td>30.0000</td>\n",
       "    </tr>\n",
       "    <tr>\n",
       "      <th>13</th>\n",
       "      <td>1004</td>\n",
       "      <td>8.0</td>\n",
       "      <td>30.0000</td>\n",
       "    </tr>\n",
       "    <tr>\n",
       "      <th>14</th>\n",
       "      <td>1004</td>\n",
       "      <td>9.0</td>\n",
       "      <td>20.0000</td>\n",
       "    </tr>\n",
       "    <tr>\n",
       "      <th>15</th>\n",
       "      <td>1004</td>\n",
       "      <td>10.0</td>\n",
       "      <td>20.0000</td>\n",
       "    </tr>\n",
       "    <tr>\n",
       "      <th>16</th>\n",
       "      <td>1004</td>\n",
       "      <td>11.0</td>\n",
       "      <td>20.0000</td>\n",
       "    </tr>\n",
       "    <tr>\n",
       "      <th>17</th>\n",
       "      <td>1004</td>\n",
       "      <td>12.0</td>\n",
       "      <td>20.0000</td>\n",
       "    </tr>\n",
       "    <tr>\n",
       "      <th>18</th>\n",
       "      <td>1005</td>\n",
       "      <td>12.0</td>\n",
       "      <td>20.0000</td>\n",
       "    </tr>\n",
       "    <tr>\n",
       "      <th>19</th>\n",
       "      <td>1006</td>\n",
       "      <td>11.0</td>\n",
       "      <td>77.0000</td>\n",
       "    </tr>\n",
       "    <tr>\n",
       "      <th>20</th>\n",
       "      <td>1006</td>\n",
       "      <td>12.0</td>\n",
       "      <td>70.0000</td>\n",
       "    </tr>\n",
       "    <tr>\n",
       "      <th>21</th>\n",
       "      <td>1007</td>\n",
       "      <td>8.0</td>\n",
       "      <td>30.0300</td>\n",
       "    </tr>\n",
       "    <tr>\n",
       "      <th>22</th>\n",
       "      <td>1007</td>\n",
       "      <td>9.0</td>\n",
       "      <td>30.0000</td>\n",
       "    </tr>\n",
       "    <tr>\n",
       "      <th>23</th>\n",
       "      <td>1007</td>\n",
       "      <td>10.0</td>\n",
       "      <td>33.5895</td>\n",
       "    </tr>\n",
       "    <tr>\n",
       "      <th>24</th>\n",
       "      <td>1007</td>\n",
       "      <td>11.0</td>\n",
       "      <td>30.0000</td>\n",
       "    </tr>\n",
       "    <tr>\n",
       "      <th>25</th>\n",
       "      <td>1007</td>\n",
       "      <td>12.0</td>\n",
       "      <td>32.3829</td>\n",
       "    </tr>\n",
       "    <tr>\n",
       "      <th>26</th>\n",
       "      <td>1008</td>\n",
       "      <td>10.0</td>\n",
       "      <td>70.0000</td>\n",
       "    </tr>\n",
       "    <tr>\n",
       "      <th>27</th>\n",
       "      <td>1008</td>\n",
       "      <td>11.0</td>\n",
       "      <td>70.0000</td>\n",
       "    </tr>\n",
       "    <tr>\n",
       "      <th>28</th>\n",
       "      <td>1008</td>\n",
       "      <td>12.0</td>\n",
       "      <td>77.0000</td>\n",
       "    </tr>\n",
       "    <tr>\n",
       "      <th>29</th>\n",
       "      <td>1009</td>\n",
       "      <td>5.0</td>\n",
       "      <td>20.0000</td>\n",
       "    </tr>\n",
       "    <tr>\n",
       "      <th>30</th>\n",
       "      <td>1009</td>\n",
       "      <td>6.0</td>\n",
       "      <td>28.2656</td>\n",
       "    </tr>\n",
       "    <tr>\n",
       "      <th>31</th>\n",
       "      <td>1009</td>\n",
       "      <td>7.0</td>\n",
       "      <td>39.8022</td>\n",
       "    </tr>\n",
       "    <tr>\n",
       "      <th>32</th>\n",
       "      <td>1009</td>\n",
       "      <td>8.0</td>\n",
       "      <td>35.4117</td>\n",
       "    </tr>\n",
       "    <tr>\n",
       "      <th>33</th>\n",
       "      <td>1009</td>\n",
       "      <td>9.0</td>\n",
       "      <td>26.9141</td>\n",
       "    </tr>\n",
       "    <tr>\n",
       "      <th>34</th>\n",
       "      <td>1009</td>\n",
       "      <td>10.0</td>\n",
       "      <td>25.8905</td>\n",
       "    </tr>\n",
       "    <tr>\n",
       "      <th>35</th>\n",
       "      <td>1009</td>\n",
       "      <td>11.0</td>\n",
       "      <td>35.0571</td>\n",
       "    </tr>\n",
       "    <tr>\n",
       "      <th>36</th>\n",
       "      <td>1009</td>\n",
       "      <td>12.0</td>\n",
       "      <td>36.3813</td>\n",
       "    </tr>\n",
       "    <tr>\n",
       "      <th>37</th>\n",
       "      <td>1010</td>\n",
       "      <td>3.0</td>\n",
       "      <td>20.0000</td>\n",
       "    </tr>\n",
       "    <tr>\n",
       "      <th>38</th>\n",
       "      <td>1010</td>\n",
       "      <td>4.0</td>\n",
       "      <td>23.5529</td>\n",
       "    </tr>\n",
       "    <tr>\n",
       "      <th>39</th>\n",
       "      <td>1010</td>\n",
       "      <td>5.0</td>\n",
       "      <td>20.0000</td>\n",
       "    </tr>\n",
       "    <tr>\n",
       "      <th>40</th>\n",
       "      <td>1010</td>\n",
       "      <td>6.0</td>\n",
       "      <td>20.7242</td>\n",
       "    </tr>\n",
       "    <tr>\n",
       "      <th>41</th>\n",
       "      <td>1010</td>\n",
       "      <td>7.0</td>\n",
       "      <td>24.7472</td>\n",
       "    </tr>\n",
       "    <tr>\n",
       "      <th>42</th>\n",
       "      <td>1010</td>\n",
       "      <td>8.0</td>\n",
       "      <td>22.9682</td>\n",
       "    </tr>\n",
       "    <tr>\n",
       "      <th>43</th>\n",
       "      <td>1010</td>\n",
       "      <td>9.0</td>\n",
       "      <td>22.0625</td>\n",
       "    </tr>\n",
       "    <tr>\n",
       "      <th>44</th>\n",
       "      <td>1010</td>\n",
       "      <td>10.0</td>\n",
       "      <td>25.0589</td>\n",
       "    </tr>\n",
       "    <tr>\n",
       "      <th>45</th>\n",
       "      <td>1010</td>\n",
       "      <td>11.0</td>\n",
       "      <td>20.0000</td>\n",
       "    </tr>\n",
       "    <tr>\n",
       "      <th>46</th>\n",
       "      <td>1011</td>\n",
       "      <td>6.0</td>\n",
       "      <td>77.0000</td>\n",
       "    </tr>\n",
       "    <tr>\n",
       "      <th>47</th>\n",
       "      <td>1011</td>\n",
       "      <td>7.0</td>\n",
       "      <td>70.0000</td>\n",
       "    </tr>\n",
       "    <tr>\n",
       "      <th>48</th>\n",
       "      <td>1011</td>\n",
       "      <td>8.0</td>\n",
       "      <td>70.0000</td>\n",
       "    </tr>\n",
       "    <tr>\n",
       "      <th>49</th>\n",
       "      <td>1011</td>\n",
       "      <td>9.0</td>\n",
       "      <td>70.0000</td>\n",
       "    </tr>\n",
       "  </tbody>\n",
       "</table>\n",
       "</div>"
      ],
      "text/plain": [
       "    user_id  month  revenue\n",
       "0      1000   12.0  77.0000\n",
       "1      1001    8.0  30.0000\n",
       "2      1001    9.0  20.0000\n",
       "3      1001   10.0  20.0900\n",
       "4      1001   11.0  20.0000\n",
       "5      1001   12.0  20.0000\n",
       "6      1002   10.0  30.0000\n",
       "7      1002   11.0  20.0000\n",
       "8      1002   12.0  20.0000\n",
       "9      1003   12.0  46.2300\n",
       "10     1004    5.0  30.0000\n",
       "11     1004    6.0  20.0000\n",
       "12     1004    7.0  30.0000\n",
       "13     1004    8.0  30.0000\n",
       "14     1004    9.0  20.0000\n",
       "15     1004   10.0  20.0000\n",
       "16     1004   11.0  20.0000\n",
       "17     1004   12.0  20.0000\n",
       "18     1005   12.0  20.0000\n",
       "19     1006   11.0  77.0000\n",
       "20     1006   12.0  70.0000\n",
       "21     1007    8.0  30.0300\n",
       "22     1007    9.0  30.0000\n",
       "23     1007   10.0  33.5895\n",
       "24     1007   11.0  30.0000\n",
       "25     1007   12.0  32.3829\n",
       "26     1008   10.0  70.0000\n",
       "27     1008   11.0  70.0000\n",
       "28     1008   12.0  77.0000\n",
       "29     1009    5.0  20.0000\n",
       "30     1009    6.0  28.2656\n",
       "31     1009    7.0  39.8022\n",
       "32     1009    8.0  35.4117\n",
       "33     1009    9.0  26.9141\n",
       "34     1009   10.0  25.8905\n",
       "35     1009   11.0  35.0571\n",
       "36     1009   12.0  36.3813\n",
       "37     1010    3.0  20.0000\n",
       "38     1010    4.0  23.5529\n",
       "39     1010    5.0  20.0000\n",
       "40     1010    6.0  20.7242\n",
       "41     1010    7.0  24.7472\n",
       "42     1010    8.0  22.9682\n",
       "43     1010    9.0  22.0625\n",
       "44     1010   10.0  25.0589\n",
       "45     1010   11.0  20.0000\n",
       "46     1011    6.0  77.0000\n",
       "47     1011    7.0  70.0000\n",
       "48     1011    8.0  70.0000\n",
       "49     1011    9.0  70.0000"
      ]
     },
     "execution_count": 33,
     "metadata": {},
     "output_type": "execute_result"
    }
   ],
   "source": [
    "df_users_by_month['revenue']=df_users_by_month.apply(revenue,axis=1)\n",
    "df_users_by_month[['user_id','month','revenue']].head(50)\n",
    "#df_users_by_month.head(50)"
   ]
  },
  {
   "cell_type": "markdown",
   "id": "4c21b5bd",
   "metadata": {},
   "source": [
    "<div class=\"alert alert-success\">\n",
    "<b>Reviewer's comment v1:</b>\n",
    "    \n",
    "Great! Revenue has been calculated correctly and good that you created function for it but results will be a little bit different after adding data rounding.\n",
    "    \n",
    "Btw it is also possible to make the calculation of revenue a little bit differently using np.where - [https://numpy.org/doc/stable/reference/generated/numpy.where.html](https://numpy.org/doc/stable/reference/generated/numpy.where.html)\n",
    "\n",
    "```\n",
    "  np.where ('condition: if exceeding the package limit', 'multiply the difference by the price of additional services', '0')\n",
    "```\n"
   ]
  },
  {
   "cell_type": "markdown",
   "id": "c8a9b8ff",
   "metadata": {},
   "source": [
    "## Step 3: Analyze the Data"
   ]
  },
  {
   "cell_type": "markdown",
   "id": "f6da0316",
   "metadata": {},
   "source": [
    "### Monthly Minutes"
   ]
  },
  {
   "cell_type": "code",
   "execution_count": 34,
   "id": "bb7c5825",
   "metadata": {},
   "outputs": [
    {
     "data": {
      "image/png": "[encoded data removed]",
      "text/plain": [
       "<Figure size 432x288 with 1 Axes>"
      ]
     },
     "metadata": {
      "needs_background": "light"
     },
     "output_type": "display_data"
    }
   ],
   "source": [
    "duration_surf = df_users_by_month['duration'].where(df_users_by_month['plan']=='surf')\n",
    "duration_ultimate = df_users_by_month['duration'].where(df_users_by_month['plan']=='ultimate')\n",
    "\n",
    "plt.hist(duration_surf, bins=15, label='surf')\n",
    "plt.hist(duration_ultimate, bins=12, label='ultimate')\n",
    "plt.legend(loc='upper right')\n",
    "plt.ylabel(\"Monthly Data\", size=14)\n",
    "plt.xlabel(\"Plan\", size=14)\n",
    "plt.title(\"Monthly Minutes by Plan\", size=16)\n",
    "plt.show()"
   ]
  },
  {
   "cell_type": "code",
   "execution_count": 35,
   "id": "28198615",
   "metadata": {},
   "outputs": [
    {
     "name": "stdout",
     "output_type": "stream",
     "text": [
      "surf\n",
      "mean: 403.224344521849 variance: 49537.457368838885 std dev: 222.64062955214231\n",
      "\n",
      "ultimate\n",
      "mean: 403.948922651933 variance: 52190.86114883934 std dev: 228.6111276355165\n"
     ]
    }
   ],
   "source": [
    "print('surf')\n",
    "print('mean:',duration_surf.mean(), 'variance:',np.var(duration_surf), 'std dev:',duration_surf.std())\n",
    "print()\n",
    "print('ultimate')\n",
    "print('mean:',duration_ultimate.mean(), 'variance:',np.var(duration_ultimate), 'std dev:',duration_ultimate.std())"
   ]
  },
  {
   "cell_type": "markdown",
   "id": "29fc0d65",
   "metadata": {},
   "source": [
    "<div class=\"alert alert-warning\">\n",
    "<b>Reviewer's comment v1:</b>\n",
    " \n",
    "In order not to show auxiliary python outputs like \"matplotlib.axes._subplots.AxesSubplot at 0x7f5feaf7fc90 ', you can add a semicolon or plt.show () at the end of the line."
   ]
  },
  {
   "cell_type": "markdown",
   "id": "e1b74469",
   "metadata": {},
   "source": [
    "<div class=\"alert alert-info\"> <b>THANK YOU</b></div>   "
   ]
  },
  {
   "cell_type": "code",
   "execution_count": 36,
   "id": "99b58a9a",
   "metadata": {},
   "outputs": [
    {
     "data": {
      "image/png": "[encoded data removed]",
      "text/plain": [
       "<Figure size 432x288 with 1 Axes>"
      ]
     },
     "metadata": {
      "needs_background": "light"
     },
     "output_type": "display_data"
    }
   ],
   "source": [
    "sns.boxplot(x=\"plan\", y=\"duration\", data=df_users_by_month)\n",
    "plt.ylabel(\"Monthly Call Duration\", size=14)\n",
    "plt.xlabel(\"Plan\", size=14)\n",
    "plt.title(\"Monthly Call Duration by Plan\", size=16)\n",
    "plt.show()"
   ]
  },
  {
   "cell_type": "markdown",
   "id": "1c671fa1",
   "metadata": {},
   "source": [
    "### Monthly Text Messages"
   ]
  },
  {
   "cell_type": "code",
   "execution_count": 37,
   "id": "118d6ba9",
   "metadata": {},
   "outputs": [
    {
     "data": {
      "image/png": "[encoded data removed]",
      "text/plain": [
       "<Figure size 432x288 with 1 Axes>"
      ]
     },
     "metadata": {
      "needs_background": "light"
     },
     "output_type": "display_data"
    }
   ],
   "source": [
    "message_count_surf = df_users_by_month['message_count'].where(df_users_by_month['plan']=='surf')\n",
    "message_count_ultimate = df_users_by_month['message_count'].where(df_users_by_month['plan']=='ultimate')\n",
    "\n",
    "plt.hist(message_count_surf, bins=10, label='surf')\n",
    "plt.hist(message_count_ultimate, bins=6, label='ultimate')\n",
    "plt.legend(loc='upper right')\n",
    "plt.ylabel(\"Monthly Texts\", size=14)\n",
    "plt.xlabel(\"Plan\", size=14)\n",
    "plt.title(\"Monthly Texts by Plan\", size=16)\n",
    "plt.show()"
   ]
  },
  {
   "cell_type": "code",
   "execution_count": 38,
   "id": "93a27f74",
   "metadata": {},
   "outputs": [
    {
     "name": "stdout",
     "output_type": "stream",
     "text": [
      "surf\n",
      "mean: 31.041165294490185 variance: 1125.4048918656451 std dev: 33.55768281940464\n",
      "\n",
      "ultimate\n",
      "mean: 37.3439226519337 variance: 1208.1565790879347 std dev: 34.7825762660097\n"
     ]
    }
   ],
   "source": [
    "print('surf')\n",
    "print('mean:',message_count_surf.mean(), 'variance:',np.var(message_count_surf), 'std dev:',message_count_surf.std())\n",
    "print()\n",
    "print('ultimate')\n",
    "print('mean:',message_count_ultimate.mean(), 'variance:',np.var(message_count_ultimate), 'std dev:',message_count_ultimate.std())"
   ]
  },
  {
   "cell_type": "code",
   "execution_count": 39,
   "id": "8dea4227",
   "metadata": {
    "scrolled": true
   },
   "outputs": [
    {
     "data": {
      "image/png": "[encoded data removed]",
      "text/plain": [
       "<Figure size 432x288 with 1 Axes>"
      ]
     },
     "metadata": {
      "needs_background": "light"
     },
     "output_type": "display_data"
    }
   ],
   "source": [
    "sns.boxplot(x=\"plan\", y=\"message_count\", data=df_users_by_month)\n",
    "plt.ylabel(\"Monthly Text Messages\", size=14)\n",
    "plt.xlabel(\"Plan\", size=14)\n",
    "plt.title(\"Monthly Text Messages by Plan\", size=16)\n",
    "plt.show()"
   ]
  },
  {
   "cell_type": "markdown",
   "id": "732a588b",
   "metadata": {},
   "source": [
    "<div class=\"alert alert-success\">\n",
    "<b>Reviewer's comment v2:</b>\n",
    "    \n",
    "That looks great! \n",
    "    "
   ]
  },
  {
   "cell_type": "markdown",
   "id": "d2982e09",
   "metadata": {},
   "source": [
    "### Monthly Internet Data"
   ]
  },
  {
   "cell_type": "code",
   "execution_count": 40,
   "id": "c4d4e1b2",
   "metadata": {},
   "outputs": [
    {
     "data": {
      "image/png": "[encoded data removed]",
      "text/plain": [
       "<Figure size 432x288 with 1 Axes>"
      ]
     },
     "metadata": {
      "needs_background": "light"
     },
     "output_type": "display_data"
    }
   ],
   "source": [
    "duration_surf = df_users_by_month['duration'].where(df_users_by_month['plan']=='surf')\n",
    "duration_ultimate = df_users_by_month['duration'].where(df_users_by_month['plan']=='ultimate')\n",
    "\n",
    "plt.hist(duration_surf, bins=40, label='surf')\n",
    "plt.hist(duration_ultimate, bins=40, label='ultimate')\n",
    "plt.legend(loc='upper right')\n",
    "plt.ylabel(\"Monthly Data\", size=14)\n",
    "plt.xlabel(\"Plan\", size=14)\n",
    "plt.title(\"Monthly Data by Plan\", size=16)\n",
    "plt.show()"
   ]
  },
  {
   "cell_type": "code",
   "execution_count": 41,
   "id": "b7a51031",
   "metadata": {},
   "outputs": [
    {
     "name": "stdout",
     "output_type": "stream",
     "text": [
      "surf\n",
      "mean: 403.224344521849 variance: 49537.457368838885 std dev: 222.64062955214231\n",
      "\n",
      "ultimate\n",
      "mean: 403.948922651933 variance: 49537.457368838885 std dev: 228.6111276355165\n"
     ]
    }
   ],
   "source": [
    "print('surf')\n",
    "print('mean:',duration_surf.mean(), 'variance:',np.var(duration_surf), 'std dev:',duration_surf.std())\n",
    "print()\n",
    "print('ultimate')\n",
    "print('mean:',duration_ultimate.mean(), 'variance:',np.var(duration_surf), 'std dev:',duration_ultimate.std())"
   ]
  },
  {
   "cell_type": "code",
   "execution_count": 42,
   "id": "03a785bd",
   "metadata": {},
   "outputs": [
    {
     "data": {
      "image/png": "[encoded data removed]",
      "text/plain": [
       "<Figure size 432x288 with 1 Axes>"
      ]
     },
     "metadata": {
      "needs_background": "light"
     },
     "output_type": "display_data"
    }
   ],
   "source": [
    "sns.boxplot(x=\"plan\", y=\"mb_used\", data=df_users_by_month)\n",
    "plt.ylabel(\"Megabytes\", size=14)\n",
    "plt.xlabel(\"Plan\", size=14)\n",
    "plt.title(\"Monthly Internet Usage by Plan\", size=16)\n",
    "plt.show()"
   ]
  },
  {
   "cell_type": "markdown",
   "id": "31d34526",
   "metadata": {},
   "source": [
    "<div class=\"alert alert-warning\">\n",
    "<b>Reviewer's comment v1:</b>\n",
    "    \n",
    "- I will write overall thoughts about the data analysis section:\n",
    "- Nice visualisation of the data. Great that you combined both plans on one graph for the comparison.\n",
    "- But what conclusion can you make based on your data analysis? \n",
    "- It's a matter of taste, but sometimes it is easier to analyze the data (spread, averages, etc.) for each feature using a boxplot in addition to histograms. If you have time and willing to practice, you can display two charts (histogram and a boxplot) using a two-column subplot.\n",
    "\n",
    "```\n",
    "    # Create one row with 2 columns\n",
    "\t  fig, axes = plt.subplots(1, 2, figsize=(16, 5))\n",
    "\n",
    "\t  # Create a histogram for the surf plan\n",
    "\t  sns.distplot(... ax=axes[0])\n",
    "\t  # Create a histogram for the second plan\n",
    "\t  sns.distplot(... ax=axes[0])\n",
    "\t\n",
    "\t  # Create a boxplot for both plans\n",
    "\t  sns.boxplot(... ax=axes[1])\n",
    "```"
   ]
  },
  {
   "cell_type": "markdown",
   "id": "52e81bac",
   "metadata": {},
   "source": [
    "## Step 4. Test the hypotheses\n",
    "### The average revenue from users of Ultimate and Surf calling plans differs."
   ]
  },
  {
   "cell_type": "code",
   "execution_count": 43,
   "id": "d8295d7a",
   "metadata": {},
   "outputs": [],
   "source": [
    "surf_totals = df_users_by_month[df_users_by_month['plan']=='surf']\n",
    "surf_no_additions = surf_totals[surf_totals['revenue']==20]\n",
    "surf_additions  = surf_totals[surf_totals['revenue']!=20]\n",
    "ultimate_totals = df_users_by_month[df_users_by_month['plan']=='ultimate']\n",
    "ultimate_no_additions = ultimate_totals[ultimate_totals['revenue']==70]\n",
    "ultimate_additions  = ultimate_totals[ultimate_totals['revenue']!=70]"
   ]
  },
  {
   "cell_type": "code",
   "execution_count": 44,
   "id": "dc4683ca",
   "metadata": {
    "scrolled": true
   },
   "outputs": [
    {
     "name": "stdout",
     "output_type": "stream",
     "text": [
      "surf mean: 24 surf variance: 38 surf std dev: 6\n",
      "\n"
     ]
    },
    {
     "data": {
      "image/png": "[encoded data removed]",
      "text/plain": [
       "<Figure size 432x288 with 1 Axes>"
      ]
     },
     "metadata": {
      "needs_background": "light"
     },
     "output_type": "display_data"
    }
   ],
   "source": [
    "print('surf mean:',int(surf_totals['revenue'].mean()), 'surf variance:',int(np.var(surf_totals['revenue'])), 'surf std dev:',int(surf_totals['revenue'].std()))\n",
    "print()\n",
    "plt.ylabel(\"Monthly Revenue\", size=14)\n",
    "plt.xlabel(\"Surf Plan Customers\", size=14)\n",
    "plt.title(\"Monthly Revenue for Surf Customers\", size=16)\n",
    "surf_additions['revenue'].hist(bins=32)\n",
    "plt.show()"
   ]
  },
  {
   "cell_type": "code",
   "execution_count": 45,
   "id": "e54a412a",
   "metadata": {
    "scrolled": true
   },
   "outputs": [
    {
     "name": "stdout",
     "output_type": "stream",
     "text": [
      "ultimate mean: 72 ultimate variance: 11 ultimate std dev: 3\n"
     ]
    },
    {
     "data": {
      "image/png": "[encoded data removed]",
      "text/plain": [
       "<Figure size 432x288 with 1 Axes>"
      ]
     },
     "metadata": {
      "needs_background": "light"
     },
     "output_type": "display_data"
    }
   ],
   "source": [
    "print('ultimate mean:',int(ultimate_totals['revenue'].mean()), 'ultimate variance:',int(np.var(ultimate_totals['revenue'])), 'ultimate std dev:',int(ultimate_totals['revenue'].std()))\n",
    "plt.ylabel(\"Monthly Revenue\", size=14)\n",
    "plt.xlabel(\"Ultimate Plan Customers\", size=14)\n",
    "plt.title(\"Monthly Revenue for Ultimate Customers\", size=16)\n",
    "ultimate_additions['revenue'].hist(bins=10)\n",
    "plt.show()\n",
    "### What did I do wrong here?"
   ]
  },
  {
   "cell_type": "code",
   "execution_count": 46,
   "id": "da05b39b",
   "metadata": {
    "scrolled": true
   },
   "outputs": [
    {
     "name": "stdout",
     "output_type": "stream",
     "text": [
      "The percent of surf plans that go over the $20 minimum charge is: 60%\n",
      "The percent of ultimate plans that go over the $70 minimum charge is: 40%\n"
     ]
    },
    {
     "data": {
      "image/png": "[encoded data removed]",
      "text/plain": [
       "<Figure size 432x288 with 1 Axes>"
      ]
     },
     "metadata": {
      "needs_background": "light"
     },
     "output_type": "display_data"
    }
   ],
   "source": [
    "sns.boxplot(x=\"plan\", y=\"revenue\", data=df_users_by_month)\n",
    "plt.ylabel(\"Monthly Revenue\", size=14)\n",
    "plt.xlabel(\"Plan\", size=14)\n",
    "plt.title(\"Monthly Revenue by Plan\", size=16)\n",
    "\n",
    "print('The percent of surf plans that go over the $20 minimum charge is: {}%'\n",
    "      .format(int(len(surf_additions) / len(surf_totals)*100)))\n",
    "print('The percent of ultimate plans that go over the $70 minimum charge is: {}%'\n",
    "      .format(int(len(ultimate_additions) / len(ultimate_totals)*100)))\n",
    "plt.show()"
   ]
  },
  {
   "cell_type": "markdown",
   "id": "609089d9",
   "metadata": {},
   "source": [
    "### These two plans seem to illustrate very different behavior between the two populations.\n",
    "#### $H_0$: The average revenue from users of Ultimate and Surf calling plans are the same.\n",
    "#### $H_1$: The average revenue from users of Ultimate and Surf calling plans differs."
   ]
  },
  {
   "cell_type": "code",
   "execution_count": 47,
   "id": "f65cd834",
   "metadata": {},
   "outputs": [
    {
     "name": "stdout",
     "output_type": "stream",
     "text": [
      "We reject the null hypothesis\n"
     ]
    }
   ],
   "source": [
    "alpha = 0.01  \n",
    "results = st.ttest_ind(ultimate_totals['revenue'], surf_totals['revenue'])\n",
    "\n",
    "if results.pvalue < alpha:\n",
    "    print(\"We reject the null hypothesis\")\n",
    "else:\n",
    "    print(\"We can't reject the null hypothesis\")"
   ]
  },
  {
   "cell_type": "markdown",
   "id": "85760e34",
   "metadata": {},
   "source": [
    "### The average revenue from *surf* users is different than *ultimate* users."
   ]
  },
  {
   "cell_type": "code",
   "execution_count": 48,
   "id": "f944d308",
   "metadata": {},
   "outputs": [],
   "source": [
    "df_users_by_month['is_ny_nj'] = df_users_by_month['city'].str.contains('NY-NJ')"
   ]
  },
  {
   "cell_type": "code",
   "execution_count": 49,
   "id": "445973b6",
   "metadata": {},
   "outputs": [],
   "source": [
    "ny_nj_totals = df_users_by_month[df_users_by_month['is_ny_nj']==True]\n",
    "other_totals = df_users_by_month[df_users_by_month['is_ny_nj']==False]"
   ]
  },
  {
   "cell_type": "code",
   "execution_count": 50,
   "id": "0300eb83",
   "metadata": {},
   "outputs": [
    {
     "name": "stdout",
     "output_type": "stream",
     "text": [
      "NY-NJ mean: 32 surf variance: 374 surf std dev: 19\n",
      "\n"
     ]
    },
    {
     "data": {
      "image/png": "[encoded data removed]",
      "text/plain": [
       "<Figure size 432x288 with 1 Axes>"
      ]
     },
     "metadata": {
      "needs_background": "light"
     },
     "output_type": "display_data"
    }
   ],
   "source": [
    "print('NY-NJ mean:',int(ny_nj_totals['revenue'].mean()), 'surf variance:',int(np.var(ny_nj_totals['revenue'])), 'surf std dev:',int(ny_nj_totals['revenue'].std()))\n",
    "print()\n",
    "plt.ylabel(\"Monthly Revenue\", size=14)\n",
    "plt.xlabel(\"From NY-NJ\", size=14)\n",
    "plt.title(\"Monthly NY-NJ Revenue\", size=16)\n",
    "ny_nj_totals['revenue'].hist(bins=32)\n",
    "plt.show()"
   ]
  },
  {
   "cell_type": "code",
   "execution_count": 51,
   "id": "dca26c8d",
   "metadata": {
    "scrolled": true
   },
   "outputs": [
    {
     "name": "stdout",
     "output_type": "stream",
     "text": [
      "non-NY-NJ mean: 41 non-NY-NJ variance: 544 non-NY-NJ std dev: 23\n"
     ]
    },
    {
     "data": {
      "image/png": "[encoded data removed]",
      "text/plain": [
       "<Figure size 432x288 with 1 Axes>"
      ]
     },
     "metadata": {
      "needs_background": "light"
     },
     "output_type": "display_data"
    }
   ],
   "source": [
    "print('non-NY-NJ mean:',int(other_totals['revenue'].mean()), 'non-NY-NJ variance:',int(np.var(other_totals['revenue'])), 'non-NY-NJ std dev:',int(other_totals['revenue'].std()))\n",
    "plt.ylabel(\"Monthly Revenue not from NY-NJ\", size=12)\n",
    "plt.xlabel(\"Not From NY-NJ\", size=12)\n",
    "plt.title(\"Monthly Non-NY and Non-NJ Revenue\", size=14)\n",
    "other_totals['revenue'].hist(bins=10)\n",
    "plt.show()"
   ]
  },
  {
   "cell_type": "code",
   "execution_count": 52,
   "id": "400dc770",
   "metadata": {
    "scrolled": true
   },
   "outputs": [
    {
     "data": {
      "image/png": "[encoded data removed]",
      "text/plain": [
       "<Figure size 432x288 with 1 Axes>"
      ]
     },
     "metadata": {
      "needs_background": "light"
     },
     "output_type": "display_data"
    }
   ],
   "source": [
    "sns.boxplot(x=\"is_ny_nj\", y=\"revenue\", data=df_users_by_month)\n",
    "plt.ylabel(\"Monthly Revenue\", size=14)\n",
    "plt.xlabel(\"From NY-NJ\", size=14)\n",
    "plt.title(\"Monthly Revenue by Region\", size=16)\n",
    "plt.show()"
   ]
  },
  {
   "cell_type": "markdown",
   "id": "6339535a",
   "metadata": {},
   "source": [
    "### These two plans seem to illustrate very different behavior between the two populations.\n",
    "#### $H_0$: The average revenue from users in NY-NJ area is the same as that of the users from other regions.\n",
    "#### $H_1$: The average revenue from users in NY-NJ area is different from that of the users from other regions."
   ]
  },
  {
   "cell_type": "code",
   "execution_count": 53,
   "id": "3e3f64bb",
   "metadata": {},
   "outputs": [
    {
     "name": "stdout",
     "output_type": "stream",
     "text": [
      "We reject the null hypothesis\n"
     ]
    }
   ],
   "source": [
    "alpha = 0.05\n",
    "results = st.ttest_ind(other_totals['revenue'], ny_nj_totals['revenue'])\n",
    "\n",
    "if results.pvalue < alpha:\n",
    "    print(\"We reject the null hypothesis\")\n",
    "else:\n",
    "    print(\"We can't reject the null hypothesis\")"
   ]
  },
  {
   "cell_type": "markdown",
   "id": "6bd8336f",
   "metadata": {},
   "source": [
    "### The average revenue from NY-NJ customers are significantly distinct from customers not from NY-NJ."
   ]
  },
  {
   "cell_type": "markdown",
   "id": "b9cb1846",
   "metadata": {},
   "source": [
    "<div class=\"alert alert-success\">\n",
    "<b>Reviewer's comment v1:</b>\n",
    "    \n",
    "- Overall job! Hypotheses have been formulated and tested correctly. Great that you additionally checked data that has been used for the test. \n",
    "- You conclusions based on the results are also correct.\n",
    "- You can also additionally compare the variances of the samples before testing hypotheses in order to understand with which equal_var parameter to use the ttest_ind test method (by default, True). In work, you accept it as True, while you do not justify your choice in any way. Here you can manually calculate variances, or use Levene's statistic test (https://docs.scipy.org/doc/scipy/reference/generated/scipy.stats.levene.html) or Barlett's test (https://docs.scipy.org/doc/scipy/reference/generated/scipy.stats.bartlett.html # scipy.stats.bartlett)"
   ]
  },
  {
   "cell_type": "markdown",
   "id": "93b82109",
   "metadata": {},
   "source": [
    "## Step 5. Write an overall conclusion"
   ]
  },
  {
   "cell_type": "markdown",
   "id": "28e728e4",
   "metadata": {},
   "source": [
    "### The calling, texting and internet behavior between *surf* and *ultimate* customers is simialr.  \n",
    "### As expected, more *surf* customers go over thier limits than *ultimate* customers go over their limits in these three categories.  The monthly total of our *ultimate* customers have more stable (has less variance) revenues  than our *surf* customers.\n",
    "### Most *surf* customers go over their phone, text, and data limits, while it is unlikely *ultimate* customers will ever pay extra fees on phone minutes or texts.  There are a lot of people in both plans using extra data.  Strangely, there are more instances of outliers amont *surf* customers, and *surf* customers outliers have higher data values that *ultimate* customers.  We could easily upsell these high data *surf* customers. \n",
    "### Even though the *surf* customers pay more additional fees every month, *ultimate* customers' average revenue is only \\\\$48 more, whereas the *ultimate* plan costs \\\\$50 more. "
   ]
  },
  {
   "cell_type": "markdown",
   "id": "2e2e886c",
   "metadata": {},
   "source": [
    "<div class=\"alert alert-danger\">\n",
    "<b>Reviewer's comment v1:</b>\n",
    " \n",
    "Overall you conducted great research with correct interim findings, clean code and nice visualisation.\n",
    "Nevertheless, general conclusions represent the overall work progress that you achieved. On a real project, this is probably the only thing the business stakeholders will read. Therefore, it is crucial to indicate in a structured way all conclusions that you made on each step in the project. It is also important to provide explanations and interpretations that will be interesting for business based on your analysis (a detailed description of the average user per each plan, which client group brings more additional revenue, which group brings more revenue in the total revenue)."
   ]
  },
  {
   "cell_type": "markdown",
   "id": "9eb947a9",
   "metadata": {},
   "source": [
    "<div class=\"alert alert-block alert-success\">\n",
    "<b>Reviewer's comment v2</b>\n",
    " \n",
    "Thank you for extending your conclusions and adding valuable insights and recommendations. That is indeed very important in the data analyst role."
   ]
  }
 ],
 "metadata": {
  "ExecuteTimeLog": [
   {
    "duration": 1562,
    "start_time": "2021-11-22T17:21:59.401Z"
   },
   {
    "duration": 644,
    "start_time": "2021-11-22T17:22:00.966Z"
   },
   {
    "duration": 16,
    "start_time": "2021-11-22T17:22:01.614Z"
   },
   {
    "duration": 239,
    "start_time": "2021-11-22T17:22:01.633Z"
   },
   {
    "duration": 13,
    "start_time": "2021-11-22T17:22:01.874Z"
   },
   {
    "duration": 216,
    "start_time": "2021-11-22T17:22:01.890Z"
   },
   {
    "duration": 11,
    "start_time": "2021-11-22T17:22:02.109Z"
   },
   {
    "duration": 191,
    "start_time": "2021-11-22T17:22:02.125Z"
   },
   {
    "duration": 17,
    "start_time": "2021-11-22T17:22:02.320Z"
   },
   {
    "duration": 66,
    "start_time": "2021-11-22T17:22:02.340Z"
   },
   {
    "duration": 16,
    "start_time": "2021-11-22T17:22:02.409Z"
   },
   {
    "duration": 97,
    "start_time": "2021-11-22T17:22:02.428Z"
   },
   {
    "duration": 33,
    "start_time": "2021-11-22T17:22:02.528Z"
   },
   {
    "duration": 100,
    "start_time": "2021-11-22T17:22:02.583Z"
   },
   {
    "duration": 27,
    "start_time": "2021-11-22T17:22:02.686Z"
   },
   {
    "duration": 91,
    "start_time": "2021-11-22T17:22:02.716Z"
   },
   {
    "duration": 21,
    "start_time": "2021-11-22T17:22:02.811Z"
   },
   {
    "duration": 76,
    "start_time": "2021-11-22T17:22:02.835Z"
   },
   {
    "duration": 11,
    "start_time": "2021-11-22T17:22:02.914Z"
   },
   {
    "duration": 21,
    "start_time": "2021-11-22T17:22:02.928Z"
   },
   {
    "duration": 39,
    "start_time": "2021-11-22T17:22:02.951Z"
   },
   {
    "duration": 15,
    "start_time": "2021-11-22T17:22:02.992Z"
   },
   {
    "duration": 264,
    "start_time": "2021-11-22T17:22:03.012Z"
   },
   {
    "duration": 25,
    "start_time": "2021-11-22T17:22:03.283Z"
   },
   {
    "duration": 25,
    "start_time": "2021-11-22T17:22:03.311Z"
   },
   {
    "duration": 54,
    "start_time": "2021-11-22T17:22:03.339Z"
   },
   {
    "duration": 29,
    "start_time": "2021-11-22T17:22:03.396Z"
   },
   {
    "duration": 27,
    "start_time": "2021-11-22T17:22:03.427Z"
   },
   {
    "duration": 15,
    "start_time": "2021-11-22T17:22:03.483Z"
   },
   {
    "duration": 32,
    "start_time": "2021-11-22T17:22:03.500Z"
   },
   {
    "duration": 8,
    "start_time": "2021-11-22T17:22:03.535Z"
   },
   {
    "duration": 315,
    "start_time": "2021-11-22T17:22:03.545Z"
   },
   {
    "duration": 400,
    "start_time": "2021-11-22T17:22:03.862Z"
   },
   {
    "duration": 378,
    "start_time": "2021-11-22T17:22:04.265Z"
   },
   {
    "duration": 539,
    "start_time": "2021-11-22T17:22:04.646Z"
   },
   {
    "duration": 13,
    "start_time": "2021-11-22T17:22:05.188Z"
   },
   {
    "duration": 420,
    "start_time": "2021-11-22T17:22:05.204Z"
   },
   {
    "duration": 358,
    "start_time": "2021-11-22T17:22:05.626Z"
   },
   {
    "duration": 331,
    "start_time": "2021-11-22T17:22:05.987Z"
   },
   {
    "duration": 7,
    "start_time": "2021-11-22T17:22:06.320Z"
   },
   {
    "duration": 10,
    "start_time": "2021-11-22T17:22:06.330Z"
   },
   {
    "duration": 40,
    "start_time": "2021-11-22T17:22:06.342Z"
   },
   {
    "duration": 405,
    "start_time": "2021-11-22T17:22:06.384Z"
   },
   {
    "duration": 360,
    "start_time": "2021-11-22T17:22:06.791Z"
   },
   {
    "duration": 272,
    "start_time": "2021-11-22T17:22:07.153Z"
   },
   {
    "duration": 6,
    "start_time": "2021-11-22T17:22:07.427Z"
   },
   {
    "duration": 73,
    "start_time": "2021-11-22T17:27:47.513Z"
   },
   {
    "duration": 1062,
    "start_time": "2021-11-24T16:38:33.666Z"
   },
   {
    "duration": 445,
    "start_time": "2021-11-24T16:38:34.730Z"
   },
   {
    "duration": 11,
    "start_time": "2021-11-24T16:38:35.177Z"
   },
   {
    "duration": 133,
    "start_time": "2021-11-24T16:38:35.190Z"
   },
   {
    "duration": 7,
    "start_time": "2021-11-24T16:38:35.324Z"
   },
   {
    "duration": 114,
    "start_time": "2021-11-24T16:38:35.333Z"
   },
   {
    "duration": 6,
    "start_time": "2021-11-24T16:38:35.449Z"
   },
   {
    "duration": 77,
    "start_time": "2021-11-24T16:38:35.457Z"
   },
   {
    "duration": 8,
    "start_time": "2021-11-24T16:38:35.536Z"
   },
   {
    "duration": 42,
    "start_time": "2021-11-24T16:38:35.546Z"
   },
   {
    "duration": 8,
    "start_time": "2021-11-24T16:38:35.589Z"
   },
   {
    "duration": 31,
    "start_time": "2021-11-24T16:38:35.599Z"
   },
   {
    "duration": 13,
    "start_time": "2021-11-24T16:38:35.632Z"
   },
   {
    "duration": 58,
    "start_time": "2021-11-24T16:38:35.647Z"
   },
   {
    "duration": 12,
    "start_time": "2021-11-24T16:38:35.707Z"
   },
   {
    "duration": 34,
    "start_time": "2021-11-24T16:38:35.720Z"
   },
   {
    "duration": 34,
    "start_time": "2021-11-24T16:38:35.755Z"
   },
   {
    "duration": 26,
    "start_time": "2021-11-24T16:38:35.791Z"
   },
   {
    "duration": 5,
    "start_time": "2021-11-24T16:38:35.818Z"
   },
   {
    "duration": 14,
    "start_time": "2021-11-24T16:38:35.824Z"
   },
   {
    "duration": 16,
    "start_time": "2021-11-24T16:38:35.839Z"
   },
   {
    "duration": 16,
    "start_time": "2021-11-24T16:38:35.857Z"
   },
   {
    "duration": 146,
    "start_time": "2021-11-24T16:38:35.876Z"
   },
   {
    "duration": 5,
    "start_time": "2021-11-24T16:38:36.024Z"
   },
   {
    "duration": 33,
    "start_time": "2021-11-24T16:38:36.030Z"
   },
   {
    "duration": 17,
    "start_time": "2021-11-24T16:38:36.064Z"
   },
   {
    "duration": 17,
    "start_time": "2021-11-24T16:38:36.082Z"
   },
   {
    "duration": 19,
    "start_time": "2021-11-24T16:38:36.100Z"
   },
   {
    "duration": 14,
    "start_time": "2021-11-24T16:38:36.121Z"
   },
   {
    "duration": 8,
    "start_time": "2021-11-24T16:38:36.136Z"
   },
   {
    "duration": 43,
    "start_time": "2021-11-24T16:38:36.146Z"
   },
   {
    "duration": 5,
    "start_time": "2021-11-24T16:38:36.190Z"
   },
   {
    "duration": 182,
    "start_time": "2021-11-24T16:38:36.196Z"
   },
   {
    "duration": 210,
    "start_time": "2021-11-24T16:38:36.379Z"
   },
   {
    "duration": 7,
    "start_time": "2021-11-24T16:38:36.591Z"
   },
   {
    "duration": 153,
    "start_time": "2021-11-24T16:38:36.600Z"
   },
   {
    "duration": 194,
    "start_time": "2021-11-24T16:38:36.755Z"
   },
   {
    "duration": 7,
    "start_time": "2021-11-24T16:38:36.950Z"
   },
   {
    "duration": 149,
    "start_time": "2021-11-24T16:38:36.958Z"
   },
   {
    "duration": 283,
    "start_time": "2021-11-24T16:38:37.109Z"
   },
   {
    "duration": 8,
    "start_time": "2021-11-24T16:38:37.393Z"
   },
   {
    "duration": 218,
    "start_time": "2021-11-24T16:38:37.402Z"
   },
   {
    "duration": 8,
    "start_time": "2021-11-24T16:38:37.622Z"
   },
   {
    "duration": 217,
    "start_time": "2021-11-24T16:38:37.632Z"
   },
   {
    "duration": 192,
    "start_time": "2021-11-24T16:38:37.851Z"
   },
   {
    "duration": 145,
    "start_time": "2021-11-24T16:38:38.044Z"
   },
   {
    "duration": 4,
    "start_time": "2021-11-24T16:38:38.191Z"
   },
   {
    "duration": 7,
    "start_time": "2021-11-24T16:38:38.196Z"
   },
   {
    "duration": 9,
    "start_time": "2021-11-24T16:38:38.204Z"
   },
   {
    "duration": 209,
    "start_time": "2021-11-24T16:38:38.214Z"
   },
   {
    "duration": 187,
    "start_time": "2021-11-24T16:38:38.425Z"
   },
   {
    "duration": 152,
    "start_time": "2021-11-24T16:38:38.613Z"
   },
   {
    "duration": 4,
    "start_time": "2021-11-24T16:38:38.767Z"
   },
   {
    "duration": 498,
    "start_time": "2021-11-24T16:40:33.602Z"
   },
   {
    "duration": 371,
    "start_time": "2021-11-24T16:40:40.564Z"
   },
   {
    "duration": 371,
    "start_time": "2021-11-24T16:41:10.029Z"
   },
   {
    "duration": 358,
    "start_time": "2021-11-24T16:41:19.349Z"
   },
   {
    "duration": 203,
    "start_time": "2021-11-24T16:41:23.962Z"
   },
   {
    "duration": 365,
    "start_time": "2021-11-24T16:42:33.608Z"
   },
   {
    "duration": 80,
    "start_time": "2021-11-24T16:43:43.745Z"
   },
   {
    "duration": 375,
    "start_time": "2021-11-24T16:43:49.688Z"
   },
   {
    "duration": 135,
    "start_time": "2021-11-24T16:43:55.733Z"
   }
  ],
  "kernelspec": {
   "display_name": "Python 3",
   "language": "python",
   "name": "python3"
  },
  "language_info": {
   "codemirror_mode": {
    "name": "ipython",
    "version": 3
   },
   "file_extension": ".py",
   "mimetype": "text/x-python",
   "name": "python",
   "nbconvert_exporter": "python",
   "pygments_lexer": "ipython3",
   "version": "3.8.8"
  },
  "toc": {
   "base_numbering": 1,
   "nav_menu": {},
   "number_sections": true,
   "sideBar": true,
   "skip_h1_title": true,
   "title_cell": "Table of Contents",
   "title_sidebar": "Contents",
   "toc_cell": false,
   "toc_position": {},
   "toc_section_display": true,
   "toc_window_display": false
  }
 },
 "nbformat": 4,
 "nbformat_minor": 5
}
